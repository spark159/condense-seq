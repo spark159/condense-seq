{
 "cells": [
  {
   "cell_type": "markdown",
   "id": "07b7d8bb-3d4c-47a3-bd00-d3f3ebc00247",
   "metadata": {
    "collapsed": false
   },
   "source": [
    "plot data by domainHMM"
   ]
  },
  {
   "cell_type": "code",
   "execution_count": 53,
   "id": "228df2db-1805-4797-af7f-424f3dba8b2d",
   "metadata": {
    "collapsed": false
   },
   "outputs": [],
   "source": [
    "# python modules\n",
    "import sys\n",
    "import copy\n",
    "import re\n",
    "import random\n",
    "import glob\n",
    "import numpy as np\n",
    "import matplotlib as mpl\n",
    "import matplotlib.pyplot as plt\n",
    "import scipy\n",
    "from scipy import stats\n"
   ]
  },
  {
   "cell_type": "code",
   "execution_count": 54,
   "id": "ef14c6d6-6b26-4161-9eec-bc549d110c39",
   "metadata": {
    "collapsed": false
   },
   "outputs": [],
   "source": [
    "# custom modules\n",
    "sys.path.append('/Users/sangwoopark/Projects/condense-seq/postpro_scripts')\n",
    "import graphics_edit as graphics\n",
    "import load_file_edit as load_file\n",
    "import Interval_dict\n",
    "import statis_edit as statis"
   ]
  },
  {
   "cell_type": "code",
   "execution_count": 55,
   "id": "6757d7c5-23ef-4318-b49c-1ad6b296e548",
   "metadata": {
    "collapsed": false
   },
   "outputs": [],
   "source": [
    "# matplotlib setting\n",
    "%matplotlib inline\n",
    "mpl.rcParams[\"figure.facecolor\"] = \"white\"\n",
    "mpl.rcParams[\"axes.facecolor\"] = \"white\"\n",
    "mpl.rcParams[\"savefig.facecolor\"] = \"white\""
   ]
  },
  {
   "cell_type": "code",
   "execution_count": 56,
   "id": "b6858773-00a0-40e4-ac0c-96a4a5ba5fa5",
   "metadata": {
    "collapsed": false
   },
   "outputs": [],
   "source": [
    "### parameters\n",
    "cell_org = {'H1':'human',\n",
    "            'GM':'human',\n",
    "            'mCD8T:WT':'mouse',\n",
    "            'mCD8T:DFMO':'mouse',\n",
    "            'mCD8T:ODCKO':'mouse'}\n",
    "\n",
    "cell_chrnames = {'H1':['chr%s' % (i) for i in range(1, 23)] + ['chrX', 'chrY'],\n",
    "                 'GM':['chr%s' % (i) for i in range(1, 23)] + ['chrX'],\n",
    "                 'mCD8T:WT':['chr%s' % (i) for i in range(1, 20)] + ['chrX'],\n",
    "                 'mCD8T:DFMO':['chr%s' % (i) for i in range(1, 20)] + ['chrX'],\n",
    "                 'mCD8T:ODCKO':['chr%s' % (i) for i in range(1, 20)] + ['chrX']}\n",
    "\n",
    "agent_fullname = {'sp':'Spermine(4+)',\n",
    "                  'spd':'Spermidine(3+)',\n",
    "                  'CoH':'Cobalt Hexammine(3+)',\n",
    "                  'PEG':'PEG 8000',\n",
    "                  'HP1a':'HP1$\\\\alpha$',\n",
    "                  'HP1bSUV':'HP1$\\\\beta$+tSUV',\n",
    "                  'LKH':'Linker histone1',\n",
    "                  'Ki67':'Ki67',\n",
    "                  'FUS':'FUS',\n",
    "                  'Mg':'Magnesium',\n",
    "                  'Ca':'Calcium'}\n",
    "\n",
    "agent_charge = {'sp':'4+',\n",
    "                'spd':'3+',\n",
    "                'CoH':'3+',\n",
    "                'PEG':'',\n",
    "                'Ca':'2+',\n",
    "                'Mg':'2+',\n",
    "                'HP1a':'',\n",
    "                'HP1bSUV':'',\n",
    "                'LKH':'',\n",
    "                'Ki67':'',\n",
    "                'FUS':''}\n",
    "\n",
    "agent_symbol = {'sp':'sp$^{4+}$',\n",
    "                'spd':'spd$^{3+}$',\n",
    "                'CoH':'CoH$^{3+}$',\n",
    "                'PEG':'PEG',\n",
    "                'Ca':'Ca$^{2+}$',\n",
    "                'Mg':'Mg$^{2+}$',\n",
    "                'HP1a':'HP1$\\\\alpha$',\n",
    "                'HP1bSUV':'HP1$\\\\beta$\\n+tSUV'}"
   ]
  },
  {
   "cell_type": "code",
   "execution_count": 57,
   "id": "a7f6e57f-33f2-494f-8111-92b563efd842",
   "metadata": {
    "collapsed": false
   },
   "outputs": [],
   "source": [
    "### domain HMM information\n",
    "# domain HMM files\n",
    "domain_path = './data/domain_files/'\n",
    "domain_HMMfname = {\"SPAD (NSpeckle)\":\"SPAD_Gaussian_2.bed\",\n",
    "                   \"NAD (Nucleolus)\":\"NAD_Gaussian_2.bed\",\n",
    "                   \"LAD (Lamin)\":\"LAD_Gaussian_2.bed\",\n",
    "                   \"ChromHMM\":\"H1_12_segments.bed\"}\n",
    "\n",
    "# set domain HMM state name\n",
    "domain_state_name = {\"SPAD (NSpeckle)\":{'E1':'SPAD',\n",
    "                                        'E2':0},\n",
    "                     \"NAD (Nucleolus)\":{'E1':0,\n",
    "                                        'E2':'NAD'},\n",
    "                     \"LAD (Lamin)\":{'E1':0,\n",
    "                                    'E2':'LAD'}\n",
    "                     }\n",
    "\n",
    "domain_state_name['ChromHMM'] = {\"E1\":0,\n",
    "                                 \"E2\":\"Promoter/Enhancer\",\n",
    "                                 \"E3\":\"Promoter/Enhancer\",\n",
    "                                 \"E4\":\"Promoter/Enhancer\",\n",
    "                                 \"E5\":\"Promoter/Enhancer\",\n",
    "                                 \"E6\":\"Promoter/Enhancer\",\n",
    "                                 \"E7\":0,\n",
    "                                 \"E8\":0,\n",
    "                                 \"E9\":\"H3K9me3 enriched\",\n",
    "                                 \"E10\":\"Tx elongation\",\n",
    "                                 \"E11\":\"Tx elongation\",\n",
    "                                 \"E12\":0}\n",
    "\n",
    "domains =['ChromHMM', \"SPAD (NSpeckle)\", \"NAD (Nucleolus)\", \"LAD (Lamin)\"]"
   ]
  },
  {
   "cell_type": "code",
   "execution_count": 58,
   "id": "b236b78d-dc0f-46bb-8c96-5b5fe8388fba",
   "metadata": {
    "collapsed": false
   },
   "outputs": [],
   "source": [
    "### set target cell and target chromosomes\n",
    "cell = 'H1'\n",
    "chr_choices = cell_chrnames['H1']"
   ]
  },
  {
   "cell_type": "code",
   "execution_count": 59,
   "id": "823e3d02-01ac-4a04-a8d2-730d24551cb3",
   "metadata": {
    "collapsed": false
   },
   "outputs": [
    {
     "name": "stdout",
     "output_type": "stream",
     "text": [
      "loading H1_NCP_sp_1rep_deep_1kb_zscore.gtab.gz\n"
     ]
    },
    {
     "name": "stdout",
     "output_type": "stream",
     "text": [
      "loading H1_NCP_HP1a_1rep_deep_1kb_zscore.gtab.gz\n"
     ]
    },
    {
     "name": "stdout",
     "output_type": "stream",
     "text": [
      "Done\n"
     ]
    }
   ],
   "source": [
    "### load gtab files\n",
    "gtab_path = \"/Users/sangwoopark/jhu_rockfish/2024_01_05_GEO/processed_files/\"\n",
    "dinfo_dkey = {'H1_NCP_sp_1rep_deep_1kb_zscore.gtab.gz':\n",
    "              {'H1_NCP_sp_8_1rep_deep':(1, 'H1', 'NCP', 'sp', 8)},\n",
    "              'H1_NCP_HP1a_1rep_deep_1kb_zscore.gtab.gz':\n",
    "              {'H1_NCP_HP1a_3_1rep_deep':(1, 'H1', 'NCP', 'HP1a', 3)}}\n",
    "\n",
    "dkey_chr_ID_value = load_file.read_gtab_batch (dinfo_dkey,\n",
    "                                               data_path=gtab_path,\n",
    "                                               chr_choices=chr_choices,\n",
    "                                               by_chr=True)\n",
    "\n",
    "dkey_list = [(1, 'H1', 'NCP', 'sp', 8),\n",
    "             (1, 'H1', 'NCP', 'HP1a', 3)]\n"
   ]
  },
  {
   "cell_type": "code",
   "execution_count": 60,
   "id": "97e9923b-9986-4f9f-b7cf-3ae66f830340",
   "metadata": {
    "collapsed": false
   },
   "outputs": [],
   "source": [
    "### load domainHMM files\n",
    "domain_chr_state_intervals = {}\n",
    "for domain in domains:\n",
    "    chr_state_intervals = load_file.read_chromHMM(domain_path + domain_HMMfname[domain],\n",
    "                                                  state_name=domain_state_name[domain],\n",
    "                                                  chr_choices=chr_choices)\n",
    "    domain_chr_state_intervals[domain] = chr_state_intervals"
   ]
  },
  {
   "cell_type": "code",
   "execution_count": 61,
   "id": "7ef326a9-4c3c-422e-a0a3-d8679b5bf375",
   "metadata": {
    "collapsed": false
   },
   "outputs": [],
   "source": [
    "### find common target IDs\n",
    "chr_target_IDs = {}\n",
    "for chr in chr_choices:\n",
    "    target_IDs = set([])\n",
    "    for i in range(len(dkey_list)):\n",
    "        dkey = dkey_list[i]\n",
    "        IDs = set(dkey_chr_ID_value[dkey][chr].keys())\n",
    "        if i == 0:\n",
    "            target_IDs |= IDs\n",
    "        else:\n",
    "            target_IDs &= IDs\n",
    "    chr_target_IDs[chr] = sorted(list(target_IDs))"
   ]
  },
  {
   "cell_type": "code",
   "execution_count": 62,
   "id": "c912d287-55d2-4d4c-a723-423946a66233",
   "metadata": {
    "collapsed": false
   },
   "outputs": [
    {
     "name": "stdout",
     "output_type": "stream",
     "text": [
      "ChromHMM\n"
     ]
    },
    {
     "name": "stdout",
     "output_type": "stream",
     "text": [
      "SPAD (NSpeckle)\n"
     ]
    },
    {
     "name": "stdout",
     "output_type": "stream",
     "text": [
      "NAD (Nucleolus)\n"
     ]
    },
    {
     "name": "stdout",
     "output_type": "stream",
     "text": [
      "LAD (Lamin)\n"
     ]
    }
   ],
   "source": [
    "### categorize by combined domainHMM\n",
    "ID_states = {}\n",
    "for i in range(len(domains)):\n",
    "    domain = domains[i]\n",
    "    print domain\n",
    "    state_IDs = {}\n",
    "    chr_state_intervals = domain_chr_state_intervals[domain]\n",
    "    for chr in chr_target_IDs:\n",
    "        ID_interval = {ID:(ID[1], ID[2]) for ID in chr_target_IDs[chr]}\n",
    "        state_IDs_temp = statis.categorize_rbin (chr_state_intervals[chr],\n",
    "                                                 bin_size=1000,\n",
    "                                                 bin_step=1000,\n",
    "                                                 binID_interval=ID_interval,\n",
    "                                                 unique=True,\n",
    "                                                 silent=True)\n",
    "        find_IDs = set([])\n",
    "        for state in state_IDs_temp:\n",
    "            if state not in state_IDs:\n",
    "                state_IDs[state] = []\n",
    "            state_IDs[state] +=state_IDs_temp[state]\n",
    "            find_IDs |= set(state_IDs_temp[state])\n",
    "\n",
    "        # add missing IDs\n",
    "        if 0 not in state_IDs:\n",
    "            state_IDs[0] = []\n",
    "        state_IDs[0] += list(set(chr_target_IDs[chr]) - set(find_IDs))\n",
    "        \n",
    "    for state, IDs in state_IDs.items():\n",
    "        for ID in IDs:\n",
    "            if ID not in ID_states:\n",
    "                ID_states[ID] = []\n",
    "            ID_states[ID].append(state)\n",
    "\n",
    "states_IDs = {}\n",
    "for ID, states in ID_states.items():\n",
    "    assert len(states) == len(domains)\n",
    "    states = tuple(states)\n",
    "    if states not in states_IDs:\n",
    "        states_IDs[states] = []\n",
    "    states_IDs[states].append(ID)\n",
    "    "
   ]
  },
  {
   "cell_type": "code",
   "execution_count": 63,
   "id": "e8744805-3de6-4321-903b-f75483ca5707",
   "metadata": {
    "collapsed": false
   },
   "outputs": [
    {
     "name": "stdout",
     "output_type": "stream",
     "text": [
      "2936885\n",
      "2936885\n"
     ]
    }
   ],
   "source": [
    "### sanity check\n",
    "print len(ID_states)\n",
    "count = 0\n",
    "for chr in chr_choices:\n",
    "    count += len(chr_target_IDs[chr])\n",
    "print count"
   ]
  },
  {
   "cell_type": "code",
   "execution_count": 64,
   "id": "2d5d8de2-16fc-4cf2-ab90-b65001977605",
   "metadata": {
    "collapsed": false
   },
   "outputs": [],
   "source": [
    "### get values for each state\n",
    "dkey_states_values = {}\n",
    "for dkey in dkey_list:    \n",
    "    chr_ID_value = dkey_chr_ID_value[dkey]\n",
    "    states_values = {}\n",
    "    for states, IDs in states_IDs.items():\n",
    "        values = [chr_ID_value[ID[0]][ID] for ID in IDs]\n",
    "        if states not in states_values:\n",
    "            states_values[states] = []\n",
    "        states_values[states] += values\n",
    "\n",
    "    dkey_states_values[dkey] = states_values"
   ]
  },
  {
   "cell_type": "code",
   "execution_count": 65,
   "id": "95da14ae-27c3-4011-94d6-7fae6e717839",
   "metadata": {
    "collapsed": false
   },
   "outputs": [],
   "source": [
    "### get mean value for each state\n",
    "dkey_states_mvalue = {}\n",
    "for dkey in dkey_states_values:    \n",
    "    states_values = dkey_states_values[dkey]\n",
    "    states_mvalue = {}\n",
    "    for states, values in states_values.items():\n",
    "        mvalue = np.mean(values)\n",
    "        states_mvalue[states] = mvalue\n",
    "    dkey_states_mvalue[dkey] = states_mvalue"
   ]
  },
  {
   "cell_type": "code",
   "execution_count": 66,
   "id": "2fb7f4d0-4e30-41e5-b5e8-6894efa30826",
   "metadata": {
    "collapsed": false
   },
   "outputs": [],
   "source": [
    "### define target states by descending order of sample-size\n",
    "size_states = [(len(IDs), states) for states, IDs in states_IDs.items()]\n",
    "size_states = sorted(size_states, reverse=True)\n",
    "cutoff = int(size_states[0][0]*0.01)\n",
    "#cutoff = 0\n",
    "states_list = []\n",
    "for size, states in size_states:\n",
    "    if size > cutoff:\n",
    "        states_list.append(states)"
   ]
  },
  {
   "cell_type": "code",
   "execution_count": 67,
   "id": "505710a2-128f-44c4-b9a6-2b7561b05316",
   "metadata": {
    "collapsed": false
   },
   "outputs": [
    {
     "data": {
      "image/png": "[encoded data removed]",
      "text/plain": [
       "<Figure size 72x720 with 2 Axes>"
      ]
     },
     "metadata": {},
     "output_type": "display_data"
    }
   ],
   "source": [
    "### plot sample size for each states as heatmap\n",
    "img = []\n",
    "for states in states_list:\n",
    "    row = [np.log10(len(states_IDs[states]))]\n",
    "    img.append(row)\n",
    "\n",
    "yticklabels = []\n",
    "for states in states_list:\n",
    "    label = []\n",
    "    for state in states:\n",
    "        if state == 0:\n",
    "            continue\n",
    "        label.append(state)\n",
    "    label = '+'.join(label)\n",
    "    yticklabels.append(label)\n",
    "\n",
    "fig = plt.figure(figsize=(1,10))\n",
    "plt.imshow(img, cmap='jet', aspect='auto')\n",
    "plt.yticks(range(len(yticklabels)), yticklabels)\n",
    "plt.colorbar(shrink=0.25)\n",
    "plt.savefig(\"./data/\" + \"domainHMM_size.svg\", format=\"svg\", bbox_inches='tight')\n",
    "plt.show()\n",
    "plt.close()"
   ]
  },
  {
   "cell_type": "code",
   "execution_count": 68,
   "id": "15370120-1ea8-49da-a73d-a3c780e86c60",
   "metadata": {
    "collapsed": false
   },
   "outputs": [
    {
     "data": {
      "image/png": "[encoded data removed]",
      "text/plain": [
       "<Figure size 144x720 with 2 Axes>"
      ]
     },
     "metadata": {},
     "output_type": "display_data"
    }
   ],
   "source": [
    "### plot mean value for each states as heatmap [Extended Data Fig.8c]\n",
    "img = []\n",
    "for states in states_list:\n",
    "    row = []\n",
    "    for dkey in dkey_list:\n",
    "        mvalue = dkey_states_mvalue[dkey][states]\n",
    "        row.append(mvalue)\n",
    "    img.append(row)\n",
    "\n",
    "xticklabels = [dkey[3] for dkey in dkey_list]\n",
    "\n",
    "yticklabels = []\n",
    "for states in states_list:\n",
    "    label = []\n",
    "    for state in states:\n",
    "        if state == 0:\n",
    "            continue\n",
    "        label.append(state)\n",
    "    label = '+'.join(label)\n",
    "    yticklabels.append(label)\n",
    "\n",
    "fig = plt.figure(figsize=(2,10))\n",
    "plt.imshow(img, cmap='bwr_r', vmin=-2.5, vmax=2.5, aspect='auto')\n",
    "plt.xticks(range(len(xticklabels)), xticklabels)\n",
    "plt.yticks(range(len(yticklabels)), yticklabels)\n",
    "plt.colorbar(shrink=0.25)\n",
    "plt.savefig(\"./data/\" + \"domainHMM_mvalue.svg\", format=\"svg\", bbox_inches='tight')\n",
    "plt.show()\n",
    "plt.close()"
   ]
  }
 ],
 "metadata": {
  "kernelspec": {
   "argv": [
    "/Library/Frameworks/Python.framework/Versions/2.7/Resources/Python.app/Contents/MacOS/Python",
    "-m",
    "ipykernel_launcher",
    "-f",
    "{connection_file}"
   ],
   "display_name": "Python 2",
   "env": null,
   "interrupt_mode": "signal",
   "language": "python",
   "metadata": null,
   "name": "python2"
  },
  "language_info": {
   "codemirror_mode": {
    "name": "ipython",
    "version": 2
   },
   "file_extension": ".py",
   "mimetype": "text/x-python",
   "name": "python",
   "nbconvert_exporter": "python",
   "pygments_lexer": "ipython2",
   "version": "2.7.18"
  },
  "name": "[Extended Data Fig.8c]H1_NCP_agent_domainHMM_plot.ipynb"
 },
 "nbformat": 4,
 "nbformat_minor": 2
}
