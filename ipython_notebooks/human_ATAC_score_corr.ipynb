{
 "cells": [
  {
   "cell_type": "markdown",
   "id": "027ab086-726f-4a5d-b232-5aa96d978f35",
   "metadata": {
    "collapsed": false
   },
   "source": [
    "plot scatter between ATAC-seq score and Condensability"
   ]
  },
  {
   "cell_type": "code",
   "execution_count": 1,
   "id": "4048c6ae-9956-448a-b68d-bbf66979decf",
   "metadata": {
    "collapsed": false
   },
   "outputs": [],
   "source": [
    "# python modules\n",
    "import sys\n",
    "import copy\n",
    "import re\n",
    "import random\n",
    "import glob\n",
    "import numpy as np\n",
    "import matplotlib as mpl\n",
    "import matplotlib.pyplot as plt\n",
    "import scipy\n",
    "from scipy import stats"
   ]
  },
  {
   "cell_type": "code",
   "execution_count": 2,
   "id": "b29f24b4-8f56-4602-bbf3-834409779ac1",
   "metadata": {
    "collapsed": false
   },
   "outputs": [],
   "source": [
    "# custom modules\n",
    "sys.path.append('/Users/sangwoopark/Projects/condense-seq/postpro_scripts')\n",
    "import graphics_edit as graphics\n",
    "import load_file_edit as load_file\n",
    "import Interval_dict\n",
    "import statis_edit as statis"
   ]
  },
  {
   "cell_type": "code",
   "execution_count": 3,
   "id": "dc1b4874-d649-4209-8092-337698a6db63",
   "metadata": {
    "collapsed": false
   },
   "outputs": [],
   "source": [
    "# matplotlib setting\n",
    "%matplotlib inline\n",
    "mpl.rcParams[\"figure.facecolor\"] = \"white\"\n",
    "mpl.rcParams[\"axes.facecolor\"] = \"white\"\n",
    "mpl.rcParams[\"savefig.facecolor\"] = \"white\""
   ]
  },
  {
   "cell_type": "code",
   "execution_count": 4,
   "id": "cd772696-e849-4505-b9ae-16cf63b17e4d",
   "metadata": {
    "collapsed": false
   },
   "outputs": [],
   "source": [
    "### parameters\n",
    "cell_org = {'H1':'human',\n",
    "            'GM':'human',\n",
    "            'mCD8T:WT':'mouse',\n",
    "            'mCD8T:DFMO':'mouse',\n",
    "            'mCD8T:ODCKO':'mouse'}\n",
    "\n",
    "cell_chrnames = {'H1':['chr%s' % (i) for i in range(1, 23)] + ['chrX', 'chrY'],\n",
    "                 'GM':['chr%s' % (i) for i in range(1, 23)] + ['chrX'],\n",
    "                 'mCD8T:WT':['chr%s' % (i) for i in range(1, 20)] + ['chrX'],\n",
    "                 'mCD8T:DFMO':['chr%s' % (i) for i in range(1, 20)] + ['chrX'],\n",
    "                 'mCD8T:ODCKO':['chr%s' % (i) for i in range(1, 20)] + ['chrX']}\n"
   ]
  },
  {
   "cell_type": "code",
   "execution_count": 5,
   "id": "283f889f-26a9-41f7-b33c-4ad13bff2483",
   "metadata": {
    "collapsed": false
   },
   "outputs": [],
   "source": [
    "agent_fullname = {'sp':'Spermine(4+)',\n",
    "                  'spd':'Spermidine(3+)',\n",
    "                  'CoH':'Cobalt Hexammine(3+)',\n",
    "                  'PEG':'PEG 8000',\n",
    "                  'HP1a':'HP1$\\\\alpha$',\n",
    "                  'HP1bSUV':'HP1$\\\\beta$+tSUV',\n",
    "                  'LKH':'Linker histone1',\n",
    "                  'Ki67':'Ki67',\n",
    "                  'FUS':'FUS',\n",
    "                  'Mg':'Magnesium',\n",
    "                  'Ca':'Calcium'}\n"
   ]
  },
  {
   "cell_type": "code",
   "execution_count": 6,
   "id": "a9e49d25-f27e-49b1-bf6e-59891a4c065f",
   "metadata": {
    "collapsed": false
   },
   "outputs": [],
   "source": [
    "### chromosome choices\n",
    "chr_choices = ['chr1']"
   ]
  },
  {
   "cell_type": "code",
   "execution_count": 7,
   "id": "e82f2106-ecd5-4a43-a392-5cc8be2ae615",
   "metadata": {
    "collapsed": false
   },
   "outputs": [],
   "source": [
    "### load gtab file\n",
    "path = '/Users/sangwoopark/jhu_rockfish/2024_01_05_GEO/processed_files/'\n",
    "gtab_fname = 'H1_NCP_sp_8_1rep_deep_1kb_score.gtab.gz'\n",
    "\n",
    "ID_score = load_file.read_gtab(path + gtab_fname,\n",
    "                               field_choices=['H1_NCP_sp_8_1rep_deep'],\n",
    "                               mode='col',\n",
    "                               chr_choices=chr_choices)['H1_NCP_sp_8_1rep_deep']"
   ]
  },
  {
   "cell_type": "code",
   "execution_count": 8,
   "id": "9d8c1d5d-c70e-40bb-82ed-eb52df0764e0",
   "metadata": {
    "collapsed": false
   },
   "outputs": [],
   "source": [
    "### load ATAC-seq bedgraph file\n",
    "ATAC_path = '/Users/sangwoopark/jhu_rockfish/HumanEpigeneticData/ATACseq/'\n",
    "ATAC_fname = '4DNFICPNO4M5.bedGraph'\n",
    "\n",
    "ID_ATAC = load_file.read_bedgraph (ATAC_path + ATAC_fname,\n",
    "                                   chr_choices=chr_choices)"
   ]
  },
  {
   "cell_type": "code",
   "execution_count": 9,
   "id": "5052464f-76f8-4ef3-a025-8fc14e08100d",
   "metadata": {
    "collapsed": false
   },
   "outputs": [],
   "source": [
    "### change to log scale\n",
    "for ID, ATAC in ID_ATAC.items():\n",
    "    ID_ATAC[ID] = np.log2(1.0 + ATAC)"
   ]
  },
  {
   "cell_type": "code",
   "execution_count": 10,
   "id": "212eda15-01d7-4406-82f0-78ca32f79f76",
   "metadata": {
    "collapsed": false
   },
   "outputs": [
    {
     "name": "stderr",
     "output_type": "stream",
     "text": [
      "hash function is built\n"
     ]
    }
   ],
   "source": [
    "### binning ATAC-seq values into 1kb bins\n",
    "binID_interval = {ID:(ID[1], ID[2]) for ID in ID_score}\n",
    "ID_interval = {ID:(ID[1], ID[2]) for ID in ID_ATAC}\n",
    "\n",
    "ID_ATAC = statis.rbin_data_mean (bin_size=1000,\n",
    "                                 bin_step=1000,\n",
    "                                 ID_loc=ID_interval,\n",
    "                                 ID_value=ID_ATAC,\n",
    "                                 binID_interval=binID_interval)"
   ]
  },
  {
   "cell_type": "code",
   "execution_count": 12,
   "id": "e28c14e9-2a1c-41f7-b409-48f8fe7a2590",
   "metadata": {
    "collapsed": false
   },
   "outputs": [
    {
     "data": {
      "image/png": "[encoded data removed]",
      "text/plain": [
       "<Figure size 288x216 with 2 Axes>"
      ]
     },
     "metadata": {},
     "output_type": "display_data"
    },
    {
     "data": {
      "text/plain": [
       "<matplotlib.axes._subplots.AxesSubplot at 0x7faf59591410>"
      ]
     },
     "execution_count": 12,
     "metadata": {},
     "output_type": "execute_result"
    }
   ],
   "source": [
    "### scatter plot for condensability VS ATAC-seq fold change\n",
    "IDs = ID_score.keys()\n",
    "X = [ID_score[ID] for ID in IDs]\n",
    "Y = [ID_ATAC[ID] for ID in IDs]\n",
    "\n",
    "graphics.density_scatter(X,\n",
    "                         Y,\n",
    "                         xlabel='Condensability(A.U.)',\n",
    "                         ylabel='log2 ATAC fold-change',\n",
    "                         fig_width=4,\n",
    "                         fig_height=3,\n",
    "                         cbar=True)"
   ]
  }
 ],
 "metadata": {
  "kernelspec": {
   "argv": [
    "python",
    "-m",
    "ipykernel_launcher",
    "-f",
    "{connection_file}"
   ],
   "display_name": "Python 2",
   "env": null,
   "interrupt_mode": "signal",
   "language": "python",
   "metadata": null,
   "name": "python2"
  },
  "name": "human_ATAC_score_corr.ipynb"
 },
 "nbformat": 4,
 "nbformat_minor": 2
}
