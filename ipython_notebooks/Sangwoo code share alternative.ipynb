{
 "cells": [
  {
   "cell_type": "code",
   "execution_count": 1,
   "id": "5298fdc2-4bd3-43ac-84cc-439fb094d3e1",
   "metadata": {
    "colab": {
     "base_uri": "https://localhost:8080/"
    },
    "collapsed": false,
    "executionInfo": {
     "elapsed": 378046,
     "status": "ok",
     "timestamp": 1724828514778,
     "user": {
      "displayName": "Jonghan Park",
      "userId": "07963685680096273500"
     },
     "user_tz": -540
    },
    "id": "SD24P6_uWjVh",
    "outputId": "32b79588-a0c6-4515-d500-0750a162bafb"
   },
   "outputs": [
    {
     "name": "stdout",
     "output_type": "stream",
     "text": [
      "1521325 1521325\n",
      "1538381 1538381\n"
     ]
    },
    {
     "name": "stderr",
     "output_type": "stream",
     "text": [
      "100%|██████████| 1521325/1521325 [01:15<00:00, 20074.02it/s]\n",
      "100%|██████████| 150/150 [01:01<00:00,  2.44it/s]\n"
     ]
    },
    {
     "name": "stdout",
     "output_type": "stream",
     "text": [
      "53903\n"
     ]
    },
    {
     "name": "stderr",
     "output_type": "stream",
     "text": [
      "100%|██████████| 1538381/1538381 [01:13<00:00, 20861.99it/s]\n",
      "100%|██████████| 150/150 [01:04<00:00,  2.33it/s]\n"
     ]
    },
    {
     "name": "stdout",
     "output_type": "stream",
     "text": [
      "52608\n",
      "53903 52608\n"
     ]
    },
    {
     "name": "stderr",
     "output_type": "stream",
     "text": [
      "100%|██████████| 1521325/1521325 [01:13<00:00, 20694.54it/s]\n"
     ]
    }
   ],
   "source": [
    "import pandas as pd\n",
    "a1 = pd.read_csv('/content/drive/Shareddrives/Jonghan_Park_Projects/(3)condense-seq/H1/H1_NCP_sp_0_1rep_deep_chr1_Ncov.gtab', sep='\\t')\n",
    "b1 = pd.read_csv('/content/drive/Shareddrives/Jonghan_Park_Projects/(3)condense-seq/H1/H1_NCP_sp_8_1rep_deep_chr1_Ncov.gtab', sep='\\t')\n",
    "a2 = pd.read_csv('/content/drive/Shareddrives/Jonghan_Park_Projects/(3)condense-seq/H1/H1_NCP_sp_0_2rep_deep_chr1_Ncov.gtab', sep='\\t')\n",
    "b2 = pd.read_csv('/content/drive/Shareddrives/Jonghan_Park_Projects/(3)condense-seq/H1/H1_NCP_sp_8_2rep_deep_chr1_Ncov.gtab', sep='\\t')\n",
    "data1 = pd.read_csv('/content/drive/Shareddrives/Jonghan_Park_Projects/(3)condense-seq/data/H1_NCP_sp_1rep_deep_chr1_score_table.gtab', sep='\\t')\n",
    "\n",
    "print(len(a1), len(b1))\n",
    "print(len(a2), len(b2))\n",
    "\n",
    "from tqdm import tqdm\n",
    "import numpy as np\n",
    "\n",
    "# generate list of err & condensability (ans)\n",
    "err1, ans1 = [], []\n",
    "for i in tqdm(range(len(a1))):\n",
    "    if(a1['H1_NCP_sp_0_1rep_deep'][i]*b1['H1_NCP_sp_8_1rep_deep'][i] == 0):\n",
    "        err1.append(100)\n",
    "        ans1.append(0)\n",
    "        continue\n",
    "    temp = np.sqrt(b1['H1_NCP_sp_8_1rep_deep'][i]/a1['H1_NCP_sp_0_1rep_deep'][i]**2)\n",
    "    err1.append(temp)\n",
    "    ans1.append(np.log(a1['H1_NCP_sp_0_1rep_deep'][i]/b1['H1_NCP_sp_8_1rep_deep'][i]))\n",
    "\n",
    "# in each division either select top 2000 (if there are >20000 data in the group)\n",
    "# or top 10% (when <20000 data)\n",
    "idx1 = []\n",
    "for i in tqdm(np.arange(-5, 10, 0.1)):\n",
    "    temp = []\n",
    "    for j in range(len(err1)):\n",
    "        if(ans1[j] < i or ans1[j] > i+0.1): continue\n",
    "        temp.append((err1[j], j))\n",
    "    if(len(temp) == 0): continue\n",
    "    temp = sorted(temp, key=lambda x:x[0])\n",
    "    if(len(temp) > 20000):\n",
    "        idx1 += [temp[_][1] for _ in range(2000)]\n",
    "    else:\n",
    "        idx1 += [temp[_][1] for _ in range(len(temp)//10)]\n",
    "print(len(idx1))\n",
    "\n",
    "from tqdm import tqdm\n",
    "import numpy as np\n",
    "\n",
    "# generate list of err & condensability (ans)\n",
    "err2, ans2 = [], []\n",
    "for i in tqdm(range(len(a2))):\n",
    "    if(a2['H1_NCP_sp_0_2rep_deep'][i]*b2['H1_NCP_sp_8_2rep_deep'][i] == 0):\n",
    "        err2.append(100)\n",
    "        ans2.append(0)\n",
    "        continue\n",
    "    temp = np.sqrt(b2['H1_NCP_sp_8_2rep_deep'][i]/a2['H1_NCP_sp_0_2rep_deep'][i]**2)\n",
    "    err2.append(temp)\n",
    "    ans2.append(np.log(a2['H1_NCP_sp_0_2rep_deep'][i]/b2['H1_NCP_sp_8_2rep_deep'][i]))\n",
    "\n",
    "# in each division either select top 2000 (if there are >20000 data in the group)\n",
    "# or top 10% (when <20000 data)\n",
    "idx2 = []\n",
    "for i in tqdm(np.arange(-5, 10, 0.1)):\n",
    "    temp = []\n",
    "    for j in range(len(err1)):\n",
    "        if(ans2[j] < i or ans2[j] > i+0.1): continue\n",
    "        temp.append((err2[j], j))\n",
    "    if(len(temp) == 0): continue\n",
    "    temp = sorted(temp, key=lambda x:x[0])\n",
    "    if(len(temp) > 20000):\n",
    "        idx2 += [temp[_][1] for _ in range(2000)]\n",
    "    else:\n",
    "        idx2 += [temp[_][1] for _ in range(len(temp)//10)]\n",
    "print(len(idx2))\n",
    "\n",
    "idx1check = [0 for i in range(len(a1))]\n",
    "idx2check = [0 for i in range(len(a2))]\n",
    "for i in idx1:\n",
    "    idx1check[i] = 1\n",
    "for i in idx2:\n",
    "    idx2check[i] = 1\n",
    "print(sum(idx1check), sum(idx2check))\n",
    "\n",
    "import numpy as np\n",
    "\n",
    "thres, diff = 0.02, 36\n",
    "rep1, rep2 = [], []\n",
    "\n",
    "pos = 0\n",
    "from tqdm import tqdm\n",
    "for i in tqdm(range(len(a1))):\n",
    "    while(a1['Position'][i]-diff > a2['Position'][pos]): pos += 1\n",
    "    if(np.abs(a1['Position'][i]-a2['Position'][pos]) >= diff): continue\n",
    "    if(idx1check[i] == 0 or idx2check[pos] == 0): continue\n",
    "    rep1.append(ans1[i])\n",
    "    rep2.append(ans2[pos])"
   ]
  },
  {
   "cell_type": "code",
   "execution_count": 2,
   "id": "97ec97a9-64b2-4e8b-be41-f78a710de033",
   "metadata": {
    "colab": {
     "base_uri": "https://localhost:8080/",
     "height": 251
    },
    "collapsed": false,
    "executionInfo": {
     "elapsed": 2210,
     "status": "ok",
     "timestamp": 1724828516983,
     "user": {
      "displayName": "Jonghan Park",
      "userId": "07963685680096273500"
     },
     "user_tz": -540
    },
    "id": "gEceNg_HpmwO",
    "outputId": "27b49c5f-2eeb-4d49-9d10-041f830eb64f"
   },
   "outputs": [
    {
     "name": "stdout",
     "output_type": "stream",
     "text": [
      "14715 14715\n",
      "PearsonRResult(statistic=0.9512498398040004, pvalue=0.0)\n"
     ]
    },
    {
     "data": {
      "image/png": "[encoded data removed]",
      "text/plain": [
       "<Figure size 200x200 with 1 Axes>"
      ]
     },
     "metadata": {},
     "output_type": "display_data"
    }
   ],
   "source": [
    "import scipy\n",
    "print(len(rep1), len(rep2))\n",
    "print(scipy.stats.pearsonr(rep1, rep2))\n",
    "\n",
    "import matplotlib.pyplot as plt\n",
    "plt.figure(figsize=(2, 2))\n",
    "plt.gca().spines['top'].set_visible(False)\n",
    "plt.gca().spines['right'].set_visible(False)\n",
    "plt.scatter(rep1, rep2, c='k', s=0.1)\n",
    "_ = plt.xticks([-4, 0, 4])\n",
    "_ = plt.yticks([-4, 0, 4])\n",
    "\n",
    "plt.plot([-4, 6], [-4, 6], c='gray', linestyle=':')\n",
    "\n",
    "plt.savefig('./fig2.png', format='png', dpi=1200, transparent=True)"
   ]
  },
  {
   "cell_type": "code",
   "execution_count": null,
   "id": "d68643d3-ab94-4b85-838f-de05032024c3",
   "metadata": {
    "colab": {
     "base_uri": "https://localhost:8080/",
     "height": 270
    },
    "collapsed": false,
    "executionInfo": {
     "elapsed": 49622,
     "status": "ok",
     "timestamp": 1724761132921,
     "user": {
      "displayName": "Jonghan Park",
      "userId": "07963685680096273500"
     },
     "user_tz": -540
    },
    "id": "NQygyl5un0c3",
    "outputId": "ad3a1d2e-ef4b-472f-dfd5-00bef4a5622a"
   },
   "outputs": [
    {
     "name": "stderr",
     "output_type": "stream",
     "text": [
      "100%|██████████| 1521325/1521325 [00:36<00:00, 41755.95it/s]\n"
     ]
    },
    {
     "name": "stdout",
     "output_type": "stream",
     "text": [
      "PearsonRResult(statistic=0.12054862407952151, pvalue=0.0)\n"
     ]
    },
    {
     "data": {
      "text/plain": [
       "<matplotlib.collections.PathCollection at 0x7e130148edd0>"
      ]
     },
     "execution_count": 10,
     "metadata": {},
     "output_type": "execute_result"
    },
    {
     "data": {
      "image/png": "[encoded data removed]",
      "text/plain": [
       "<Figure size 200x200 with 1 Axes>"
      ]
     },
     "metadata": {},
     "output_type": "display_data"
    }
   ],
   "source": [
    "thres = 0.1\n",
    "x, y = [], []\n",
    "for i in tqdm(range(len(a1))):\n",
    "    if(a1['H1_NCP_sp_0_1rep_deep'][i]==0 or a1['H1_NCP_sp_0_1rep_deep'][i]>15000): continue\n",
    "    if(err1[i] > thres): continue\n",
    "    x.append(a1['H1_NCP_sp_0_1rep_deep'][i])\n",
    "    y.append(ans1[i])\n",
    "\n",
    "print(scipy.stats.pearsonr(x, y))\n",
    "\n",
    "plt.figure(figsize=(2, 2))\n",
    "plt.gca().spines['top'].set_visible(False)\n",
    "plt.gca().spines['right'].set_visible(False)\n",
    "plt.scatter(x, y, c='k', s=0.1)"
   ]
  },
  {
   "cell_type": "code",
   "execution_count": null,
   "id": "a609cf2e-d98b-42e0-967d-b5f4f3c5d8d1",
   "metadata": {
    "colab": {
     "base_uri": "https://localhost:8080/",
     "height": 270
    },
    "collapsed": false,
    "executionInfo": {
     "elapsed": 50749,
     "status": "ok",
     "timestamp": 1724761230141,
     "user": {
      "displayName": "Jonghan Park",
      "userId": "07963685680096273500"
     },
     "user_tz": -540
    },
    "id": "Wyt7YbTGu55l",
    "outputId": "2e830aac-63a9-42ae-d90f-62fd962ae404"
   },
   "outputs": [
    {
     "name": "stderr",
     "output_type": "stream",
     "text": [
      "100%|██████████| 1521325/1521325 [00:37<00:00, 40504.67it/s]\n"
     ]
    },
    {
     "name": "stdout",
     "output_type": "stream",
     "text": [
      "PearsonRResult(statistic=0.07651885258056584, pvalue=0.0)\n"
     ]
    },
    {
     "data": {
      "text/plain": [
       "<matplotlib.collections.PathCollection at 0x7e12f5292560>"
      ]
     },
     "execution_count": 11,
     "metadata": {},
     "output_type": "execute_result"
    },
    {
     "data": {
      "image/png": "[encoded data removed]",
      "text/plain": [
       "<Figure size 200x200 with 1 Axes>"
      ]
     },
     "metadata": {},
     "output_type": "display_data"
    }
   ],
   "source": [
    "thres = 0.05\n",
    "x, y = [], []\n",
    "for i in tqdm(range(len(a1))):\n",
    "    if(a1['H1_NCP_sp_0_1rep_deep'][i]==0 or a1['H1_NCP_sp_0_1rep_deep'][i]>15000): continue\n",
    "    if(err1[i] > thres): continue\n",
    "    x.append(a1['H1_NCP_sp_0_1rep_deep'][i])\n",
    "    y.append(ans1[i])\n",
    "\n",
    "print(scipy.stats.pearsonr(x, y))\n",
    "\n",
    "plt.figure(figsize=(2, 2))\n",
    "plt.gca().spines['top'].set_visible(False)\n",
    "plt.gca().spines['right'].set_visible(False)\n",
    "plt.scatter(x, y, c='k', s=0.1)"
   ]
  },
  {
   "cell_type": "code",
   "execution_count": null,
   "id": "9eeb1a70-4bef-4e3b-893b-04fce86837ed",
   "metadata": {
    "colab": {
     "base_uri": "https://localhost:8080/",
     "height": 270
    },
    "collapsed": false,
    "executionInfo": {
     "elapsed": 42328,
     "status": "ok",
     "timestamp": 1724762149879,
     "user": {
      "displayName": "Jonghan Park",
      "userId": "07963685680096273500"
     },
     "user_tz": -540
    },
    "id": "-60mfKJHxwA6",
    "outputId": "0eed7ff7-4b4d-4d7a-8bc6-71ed012ba1f5"
   },
   "outputs": [
    {
     "name": "stderr",
     "output_type": "stream",
     "text": [
      "100%|██████████| 1521325/1521325 [00:31<00:00, 49064.59it/s]\n"
     ]
    },
    {
     "name": "stdout",
     "output_type": "stream",
     "text": [
      "PearsonRResult(statistic=0.09191580309600934, pvalue=0.0)\n"
     ]
    },
    {
     "data": {
      "text/plain": [
       "<matplotlib.collections.PathCollection at 0x7e1303d058a0>"
      ]
     },
     "execution_count": 13,
     "metadata": {},
     "output_type": "execute_result"
    },
    {
     "data": {
      "image/png": "[encoded data removed]",
      "text/plain": [
       "<Figure size 200x200 with 1 Axes>"
      ]
     },
     "metadata": {},
     "output_type": "display_data"
    }
   ],
   "source": [
    "thres = 0.1\n",
    "x, y = [], []\n",
    "for i in tqdm(range(len(a1))):\n",
    "    if(a1['H1_NCP_sp_0_1rep_deep'][i]<2000 or a1['H1_NCP_sp_0_1rep_deep'][i]>15000): continue\n",
    "    if(err1[i] > thres): continue\n",
    "    x.append(a1['H1_NCP_sp_0_1rep_deep'][i])\n",
    "    y.append(ans1[i])\n",
    "\n",
    "print(scipy.stats.pearsonr(x, y))\n",
    "\n",
    "plt.figure(figsize=(2, 2))\n",
    "plt.gca().spines['top'].set_visible(False)\n",
    "plt.gca().spines['right'].set_visible(False)\n",
    "plt.scatter(x, y, c='k', s=0.1)"
   ]
  },
  {
   "cell_type": "markdown",
   "id": "6889c371-df49-483d-add4-9752ad054d40",
   "metadata": {
    "collapsed": false,
    "id": "S8T4p8Wyw9_j"
   },
   "source": [
    "# model training"
   ]
  },
  {
   "cell_type": "code",
   "execution_count": 3,
   "id": "fb8dccc7-fb46-4780-a559-880076c4432d",
   "metadata": {
    "colab": {
     "base_uri": "https://localhost:8080/"
    },
    "collapsed": false,
    "executionInfo": {
     "elapsed": 14143,
     "status": "ok",
     "timestamp": 1724828547495,
     "user": {
      "displayName": "Jonghan Park",
      "userId": "07963685680096273500"
     },
     "user_tz": -540
    },
    "id": "I0s0Eb-605Ll",
    "outputId": "cc599330-58fa-40a2-bd04-fc4d342c2c3d"
   },
   "outputs": [
    {
     "name": "stderr",
     "output_type": "stream",
     "text": [
      "100%|██████████| 1521325/1521325 [00:14<00:00, 108498.69it/s]"
     ]
    },
    {
     "name": "stdout",
     "output_type": "stream",
     "text": [
      "(51983,)\n"
     ]
    },
    {
     "name": "stderr",
     "output_type": "stream",
     "text": [
      "\n"
     ]
    }
   ],
   "source": [
    "import re\n",
    "def is_valid_dna_sequence(sequence):\n",
    "    pattern = re.compile(\"^[atgcATGC]+$\")\n",
    "    return bool(pattern.match(sequence))\n",
    "\n",
    "S, C = [], []\n",
    "Q = []\n",
    "from tqdm import tqdm\n",
    "for i in tqdm(range(len(data1))):\n",
    "    if(idx1check[i] == 0): continue\n",
    "    if(a1['H1_NCP_sp_0_1rep_deep'][i] > 15000): continue\n",
    "    if(is_valid_dna_sequence(data1['Sequence'][i]) == False): continue\n",
    "    S.append(data1['Sequence'][i])\n",
    "    C.append(ans1[i])\n",
    "    Q.append(list(data1.loc[i,'ATcontent':]))\n",
    "C = np.array(C)\n",
    "print(C.shape)"
   ]
  },
  {
   "cell_type": "code",
   "execution_count": 4,
   "id": "39a5ea1a-a3ce-4f62-9fc5-3f9dfd2cd52a",
   "metadata": {
    "colab": {
     "base_uri": "https://localhost:8080/"
    },
    "collapsed": false,
    "executionInfo": {
     "elapsed": 469,
     "status": "ok",
     "timestamp": 1724828557471,
     "user": {
      "displayName": "Jonghan Park",
      "userId": "07963685680096273500"
     },
     "user_tz": -540
    },
    "id": "cBahS26-xBdv",
    "outputId": "a355c8c6-90fc-46b8-94d0-035a070d17d6"
   },
   "outputs": [
    {
     "name": "stderr",
     "output_type": "stream",
     "text": [
      "100%|██████████| 51983/51983 [00:00<00:00, 247885.90it/s]"
     ]
    },
    {
     "name": "stdout",
     "output_type": "stream",
     "text": [
      "(51983, 34)\n"
     ]
    },
    {
     "name": "stderr",
     "output_type": "stream",
     "text": [
      "\n"
     ]
    }
   ],
   "source": [
    "def one_hot(base):\n",
    "    return np.array({'a':[1,0,0,0], 't':[0,1,0,0], 'g':[0,0,1,0], 'c':[0,0,0,1]}[base.lower()])\n",
    "\n",
    "def Hot(seq):\n",
    "    seq_one_hot = np.zeros((len(seq)*4, ))\n",
    "    for i in range(len(seq)): seq_one_hot[4*i : 4*i+4] = one_hot(seq[i])\n",
    "    return seq_one_hot\n",
    "\n",
    "input = []\n",
    "for i in tqdm(range(len(Q))):\n",
    "    input.append(np.array(Q[i]))\n",
    "input = np.array(input)\n",
    "print(input.shape)"
   ]
  },
  {
   "cell_type": "code",
   "execution_count": 5,
   "id": "2a9a067f-13ac-4315-b66a-24128e3abb77",
   "metadata": {
    "collapsed": false,
    "executionInfo": {
     "elapsed": 920,
     "status": "ok",
     "timestamp": 1724828561826,
     "user": {
      "displayName": "Jonghan Park",
      "userId": "07963685680096273500"
     },
     "user_tz": -540
    },
    "id": "rMMOzpeCxB7t"
   },
   "outputs": [],
   "source": [
    "from sklearn.model_selection import train_test_split\n",
    "\n",
    "sample_size = input.shape[0] # number of samples in train set\n",
    "time_steps  = input.shape[1] # number of features in train set\n",
    "input_dimension = 1               # each feature is represented by 1 number\n",
    "re_input = input.reshape(sample_size,time_steps,input_dimension)\n",
    "\n",
    "x_train, x_test, y_train, y_test = train_test_split(re_input, np.array(C), test_size=0.1)"
   ]
  },
  {
   "cell_type": "code",
   "execution_count": 6,
   "id": "e3a57df8-bf59-41d7-b2f8-7be96773359f",
   "metadata": {
    "colab": {
     "base_uri": "https://localhost:8080/"
    },
    "collapsed": false,
    "executionInfo": {
     "elapsed": 9,
     "status": "ok",
     "timestamp": 1724828563119,
     "user": {
      "displayName": "Jonghan Park",
      "userId": "07963685680096273500"
     },
     "user_tz": -540
    },
    "id": "paHgA52txECv",
    "outputId": "22c38a87-c2fb-4e23-aa35-2533c6956487"
   },
   "outputs": [
    {
     "name": "stdout",
     "output_type": "stream",
     "text": [
      "(46784, 34, 1) (46784,)\n"
     ]
    }
   ],
   "source": [
    "print(x_train.shape, y_train.shape)"
   ]
  },
  {
   "cell_type": "code",
   "execution_count": 7,
   "id": "ba71856f-3d0e-4a96-bb22-7726a727f625",
   "metadata": {
    "colab": {
     "base_uri": "https://localhost:8080/",
     "height": 247
    },
    "collapsed": false,
    "executionInfo": {
     "elapsed": 4420,
     "status": "ok",
     "timestamp": 1724828569132,
     "user": {
      "displayName": "Jonghan Park",
      "userId": "07963685680096273500"
     },
     "user_tz": -540
    },
    "id": "JecgaAnoxE5P",
    "outputId": "47901057-4205-4cc6-df92-68b7a4e88b58"
   },
   "outputs": [
    {
     "data": {
      "text/html": [
       "<style>#sk-container-id-1 {color: black;}#sk-container-id-1 pre{padding: 0;}#sk-container-id-1 div.sk-toggleable {background-color: white;}#sk-container-id-1 label.sk-toggleable__label {cursor: pointer;display: block;width: 100%;margin-bottom: 0;padding: 0.3em;box-sizing: border-box;text-align: center;}#sk-container-id-1 label.sk-toggleable__label-arrow:before {content: \"▸\";float: left;margin-right: 0.25em;color: #696969;}#sk-container-id-1 label.sk-toggleable__label-arrow:hover:before {color: black;}#sk-container-id-1 div.sk-estimator:hover label.sk-toggleable__label-arrow:before {color: black;}#sk-container-id-1 div.sk-toggleable__content {max-height: 0;max-width: 0;overflow: hidden;text-align: left;background-color: #f0f8ff;}#sk-container-id-1 div.sk-toggleable__content pre {margin: 0.2em;color: black;border-radius: 0.25em;background-color: #f0f8ff;}#sk-container-id-1 input.sk-toggleable__control:checked~div.sk-toggleable__content {max-height: 200px;max-width: 100%;overflow: auto;}#sk-container-id-1 input.sk-toggleable__control:checked~label.sk-toggleable__label-arrow:before {content: \"▾\";}#sk-container-id-1 div.sk-estimator input.sk-toggleable__control:checked~label.sk-toggleable__label {background-color: #d4ebff;}#sk-container-id-1 div.sk-label input.sk-toggleable__control:checked~label.sk-toggleable__label {background-color: #d4ebff;}#sk-container-id-1 input.sk-hidden--visually {border: 0;clip: rect(1px 1px 1px 1px);clip: rect(1px, 1px, 1px, 1px);height: 1px;margin: -1px;overflow: hidden;padding: 0;position: absolute;width: 1px;}#sk-container-id-1 div.sk-estimator {font-family: monospace;background-color: #f0f8ff;border: 1px dotted black;border-radius: 0.25em;box-sizing: border-box;margin-bottom: 0.5em;}#sk-container-id-1 div.sk-estimator:hover {background-color: #d4ebff;}#sk-container-id-1 div.sk-parallel-item::after {content: \"\";width: 100%;border-bottom: 1px solid gray;flex-grow: 1;}#sk-container-id-1 div.sk-label:hover label.sk-toggleable__label {background-color: #d4ebff;}#sk-container-id-1 div.sk-serial::before {content: \"\";position: absolute;border-left: 1px solid gray;box-sizing: border-box;top: 0;bottom: 0;left: 50%;z-index: 0;}#sk-container-id-1 div.sk-serial {display: flex;flex-direction: column;align-items: center;background-color: white;padding-right: 0.2em;padding-left: 0.2em;position: relative;}#sk-container-id-1 div.sk-item {position: relative;z-index: 1;}#sk-container-id-1 div.sk-parallel {display: flex;align-items: stretch;justify-content: center;background-color: white;position: relative;}#sk-container-id-1 div.sk-item::before, #sk-container-id-1 div.sk-parallel-item::before {content: \"\";position: absolute;border-left: 1px solid gray;box-sizing: border-box;top: 0;bottom: 0;left: 50%;z-index: -1;}#sk-container-id-1 div.sk-parallel-item {display: flex;flex-direction: column;z-index: 1;position: relative;background-color: white;}#sk-container-id-1 div.sk-parallel-item:first-child::after {align-self: flex-end;width: 50%;}#sk-container-id-1 div.sk-parallel-item:last-child::after {align-self: flex-start;width: 50%;}#sk-container-id-1 div.sk-parallel-item:only-child::after {width: 0;}#sk-container-id-1 div.sk-dashed-wrapped {border: 1px dashed gray;margin: 0 0.4em 0.5em 0.4em;box-sizing: border-box;padding-bottom: 0.4em;background-color: white;}#sk-container-id-1 div.sk-label label {font-family: monospace;font-weight: bold;display: inline-block;line-height: 1.2em;}#sk-container-id-1 div.sk-label-container {text-align: center;}#sk-container-id-1 div.sk-container {/* jupyter's `normalize.less` sets `[hidden] { display: none; }` but bootstrap.min.css set `[hidden] { display: none !important; }` so we also need the `!important` here to be able to override the default hidden behavior on the sphinx rendered scikit-learn.org. See: https://github.com/scikit-learn/scikit-learn/issues/21755 */display: inline-block !important;position: relative;}#sk-container-id-1 div.sk-text-repr-fallback {display: none;}</style><div id=\"sk-container-id-1\" class=\"sk-top-container\"><div class=\"sk-text-repr-fallback\"><pre>XGBRegressor(base_score=None, booster=None, callbacks=None,\n",
       "             colsample_bylevel=None, colsample_bynode=None,\n",
       "             colsample_bytree=None, device=None, early_stopping_rounds=None,\n",
       "             enable_categorical=False, eval_metric=None, feature_types=None,\n",
       "             gamma=None, grow_policy=None, importance_type=None,\n",
       "             interaction_constraints=None, learning_rate=0.1, max_bin=None,\n",
       "             max_cat_threshold=None, max_cat_to_onehot=None,\n",
       "             max_delta_step=None, max_depth=5, max_leaves=None,\n",
       "             min_child_weight=None, missing=nan, monotone_constraints=None,\n",
       "             multi_strategy=None, n_estimators=200, n_jobs=None,\n",
       "             num_parallel_tree=None, random_state=None, ...)</pre><b>In a Jupyter environment, please rerun this cell to show the HTML representation or trust the notebook. <br />On GitHub, the HTML representation is unable to render, please try loading this page with nbviewer.org.</b></div><div class=\"sk-container\" hidden><div class=\"sk-item\"><div class=\"sk-estimator sk-toggleable\"><input class=\"sk-toggleable__control sk-hidden--visually\" id=\"sk-estimator-id-1\" type=\"checkbox\" checked><label for=\"sk-estimator-id-1\" class=\"sk-toggleable__label sk-toggleable__label-arrow\">XGBRegressor</label><div class=\"sk-toggleable__content\"><pre>XGBRegressor(base_score=None, booster=None, callbacks=None,\n",
       "             colsample_bylevel=None, colsample_bynode=None,\n",
       "             colsample_bytree=None, device=None, early_stopping_rounds=None,\n",
       "             enable_categorical=False, eval_metric=None, feature_types=None,\n",
       "             gamma=None, grow_policy=None, importance_type=None,\n",
       "             interaction_constraints=None, learning_rate=0.1, max_bin=None,\n",
       "             max_cat_threshold=None, max_cat_to_onehot=None,\n",
       "             max_delta_step=None, max_depth=5, max_leaves=None,\n",
       "             min_child_weight=None, missing=nan, monotone_constraints=None,\n",
       "             multi_strategy=None, n_estimators=200, n_jobs=None,\n",
       "             num_parallel_tree=None, random_state=None, ...)</pre></div></div></div></div></div>"
      ],
      "text/plain": [
       "XGBRegressor(base_score=None, booster=None, callbacks=None,\n",
       "             colsample_bylevel=None, colsample_bynode=None,\n",
       "             colsample_bytree=None, device=None, early_stopping_rounds=None,\n",
       "             enable_categorical=False, eval_metric=None, feature_types=None,\n",
       "             gamma=None, grow_policy=None, importance_type=None,\n",
       "             interaction_constraints=None, learning_rate=0.1, max_bin=None,\n",
       "             max_cat_threshold=None, max_cat_to_onehot=None,\n",
       "             max_delta_step=None, max_depth=5, max_leaves=None,\n",
       "             min_child_weight=None, missing=nan, monotone_constraints=None,\n",
       "             multi_strategy=None, n_estimators=200, n_jobs=None,\n",
       "             num_parallel_tree=None, random_state=None, ...)"
      ]
     },
     "execution_count": 7,
     "metadata": {},
     "output_type": "execute_result"
    }
   ],
   "source": [
    "from xgboost import plot_importance\n",
    "from xgboost import XGBRegressor\n",
    "\n",
    "xgb = XGBRegressor(n_estimators=200, learning_rate=0.1, max_depth=5)\n",
    "xgb.fit(x_train.reshape(-1, 34), y_train)"
   ]
  },
  {
   "cell_type": "code",
   "execution_count": 8,
   "id": "2eb952a3-00c2-4112-8e2f-fc9b45f95147",
   "metadata": {
    "colab": {
     "base_uri": "https://localhost:8080/"
    },
    "collapsed": false,
    "executionInfo": {
     "elapsed": 465,
     "status": "ok",
     "timestamp": 1724828598222,
     "user": {
      "displayName": "Jonghan Park",
      "userId": "07963685680096273500"
     },
     "user_tz": -540
    },
    "id": "mDHSeHOExHBh",
    "outputId": "c5279dfb-1ba9-402d-9e3b-b35c896f4a28"
   },
   "outputs": [
    {
     "name": "stdout",
     "output_type": "stream",
     "text": [
      "PearsonRResult(statistic=0.8156737399091238, pvalue=0.0)\n",
      "5199\n"
     ]
    }
   ],
   "source": [
    "xgb_pred = xgb.predict(x_test.reshape(-1, 34))\n",
    "import scipy\n",
    "print(scipy.stats.pearsonr(y_test, xgb_pred))\n",
    "print(len(y_test))"
   ]
  },
  {
   "cell_type": "code",
   "execution_count": 10,
   "id": "01db0a10-576a-452e-af7b-e011b0cd66be",
   "metadata": {
    "colab": {
     "base_uri": "https://localhost:8080/",
     "height": 214
    },
    "collapsed": false,
    "executionInfo": {
     "elapsed": 1156,
     "status": "ok",
     "timestamp": 1724828605812,
     "user": {
      "displayName": "Jonghan Park",
      "userId": "07963685680096273500"
     },
     "user_tz": -540
    },
    "id": "jPtiO4mcMPav",
    "outputId": "6b0b6f5a-f261-4da0-cdf2-2648938aa0ed"
   },
   "outputs": [
    {
     "data": {
      "image/png": "[encoded data removed]",
      "text/plain": [
       "<Figure size 200x200 with 1 Axes>"
      ]
     },
     "metadata": {},
     "output_type": "display_data"
    }
   ],
   "source": [
    "import matplotlib.pyplot as plt\n",
    "plt.figure(figsize=(2, 2))\n",
    "plt.gca().spines['top'].set_visible(False)\n",
    "plt.gca().spines['right'].set_visible(False)\n",
    "\n",
    "plt.scatter(y_test, xgb_pred, c='k', s=0.1)\n",
    "_ = plt.xticks([-4, 0, 4])\n",
    "_ = plt.yticks([-4, 0, 4])\n",
    "\n",
    "plt.plot([-4, 6], [-4, 6], c='gray', linestyle=':')\n",
    "plt.savefig('./fig3.png', format='png', dpi=1200, transparent=True)"
   ]
  },
  {
   "cell_type": "code",
   "execution_count": 11,
   "id": "0465f42e-9c9a-4970-9719-c7c8570e3e38",
   "metadata": {
    "colab": {
     "base_uri": "https://localhost:8080/",
     "height": 199
    },
    "collapsed": false,
    "executionInfo": {
     "elapsed": 907,
     "status": "ok",
     "timestamp": 1724828609688,
     "user": {
      "displayName": "Jonghan Park",
      "userId": "07963685680096273500"
     },
     "user_tz": -540
    },
    "id": "F8B78odnVY05",
    "outputId": "e0b16029-504d-4386-90aa-4797965bc999"
   },
   "outputs": [
    {
     "data": {
      "image/png": "[encoded data removed]",
      "text/plain": [
       "<Figure size 600x200 with 1 Axes>"
      ]
     },
     "metadata": {},
     "output_type": "display_data"
    }
   ],
   "source": [
    "imp = list(xgb.get_booster().get_score(importance_type=\"gain\").values())\n",
    "imp = np.array(imp)/sum(imp)\n",
    "\n",
    "plt.figure(figsize=(6, 2))\n",
    "plt.gca().spines['top'].set_visible(False)\n",
    "plt.gca().spines['right'].set_visible(False)\n",
    "plt.bar(range(len(imp)), imp, facecolor='lightsteelblue')\n",
    "_ = plt.xticks(range(len(imp)), visible=False)\n",
    "\n",
    "plt.savefig('./fig4.svg', format='svg', dpi=1200, transparent=True)"
   ]
  }
 ],
 "metadata": {
  "colab": {
   "authorship_tag": "ABX9TyPBoSRZLA/jTOKYM2XV2Nz+",
   "mount_file_id": "1BPiErhYv9Kk4bMljApeeeIoZwzx7MmFa",
   "provenance": []
  },
  "kernelspec": {
   "display_name": "Python 3",
   "name": "python3"
  },
  "language_info": {
   "name": "python"
  },
  "name": "Sangwoo code share alternative.ipynb"
 },
 "nbformat": 4,
 "nbformat_minor": 0
}
