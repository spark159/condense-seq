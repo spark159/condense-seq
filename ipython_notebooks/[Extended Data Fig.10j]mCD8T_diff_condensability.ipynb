{
 "cells": [
  {
   "cell_type": "markdown",
   "id": "2f1b9fa7-9dc9-4fa2-a822-fd38bfff9416",
   "metadata": {
    "collapsed": false
   },
   "source": [
    "Differential condensability analysis and plots"
   ]
  },
  {
   "cell_type": "code",
   "execution_count": 1,
   "id": "d2cdc331-13f3-4950-9355-4e9d7dc51329",
   "metadata": {
    "collapsed": false
   },
   "outputs": [],
   "source": [
    "# python modules\n",
    "import sys\n",
    "import copy\n",
    "import re\n",
    "import random\n",
    "import pickle\n",
    "import numpy as np\n",
    "import glob\n",
    "import matplotlib as mpl\n",
    "import matplotlib.pyplot as plt\n",
    "from matplotlib.colors import LinearSegmentedColormap\n",
    "import scipy\n",
    "from scipy import stats"
   ]
  },
  {
   "cell_type": "code",
   "execution_count": 2,
   "id": "15bdcb92-f668-4507-85cf-fc335f5494ad",
   "metadata": {
    "collapsed": false
   },
   "outputs": [],
   "source": [
    "# custom modules\n",
    "sys.path.append('/Users/sangwoopark/Projects/condense-seq/postpro_scripts')\n",
    "import graphics_edit as graphics\n",
    "import load_file_edit as load_file\n",
    "import Interval_dict\n",
    "import statis_edit as statis"
   ]
  },
  {
   "cell_type": "code",
   "execution_count": 3,
   "id": "09461206-1339-4786-b37b-abb111b1654b",
   "metadata": {
    "collapsed": false
   },
   "outputs": [],
   "source": [
    "# matplotlib setting\n",
    "%matplotlib inline\n",
    "mpl.rcParams[\"figure.facecolor\"] = \"white\"\n",
    "mpl.rcParams[\"axes.facecolor\"] = \"white\"\n",
    "mpl.rcParams[\"savefig.facecolor\"] = \"white\""
   ]
  },
  {
   "cell_type": "code",
   "execution_count": 4,
   "id": "cc3ea77c-82ec-425c-8d41-fa6db7a52a75",
   "metadata": {
    "collapsed": false
   },
   "outputs": [],
   "source": [
    "### parameters\n",
    "cell_org = {'H1':'human',\n",
    "            'GM':'human',\n",
    "            'mCD8T:WT':'mouse',\n",
    "            'mCD8T:DFMO':'mouse',\n",
    "            'mCD8T:ODCKO':'mouse'}\n",
    "\n",
    "cell_chrnames = {'H1':['chr%s' % (i) for i in range(1, 23)] + ['chrX', 'chrY'],\n",
    "                 'GM':['chr%s' % (i) for i in range(1, 23)] + ['chrX'],\n",
    "                 'mCD8T:WT':['chr%s' % (i) for i in range(1, 20)] + ['chrX'],\n",
    "                 'mCD8T:DFMO':['chr%s' % (i) for i in range(1, 20)] + ['chrX'],\n",
    "                 'mCD8T:ODCKO':['chr%s' % (i) for i in range(1, 20)] + ['chrX']}"
   ]
  },
  {
   "cell_type": "code",
   "execution_count": 5,
   "id": "93f6bf4b-b53a-4f79-af16-1c566539e327",
   "metadata": {
    "collapsed": false
   },
   "outputs": [],
   "source": [
    "def plot_score_scatter (ID_score1,\n",
    "                        ID_score2,\n",
    "                        ID_color,\n",
    "                        IDs=None,\n",
    "                        standardize_color=True,\n",
    "                        ID_text={},\n",
    "                        fig_width=None,\n",
    "                        fig_height=None,\n",
    "                        vmin=-5,\n",
    "                        vmax=5,\n",
    "                        alpha=0.3,\n",
    "                        size=2,\n",
    "                        draw_eqline=True,\n",
    "                        xlim=[None,None],\n",
    "                        ylim=[None,None],\n",
    "                        xlabel='',\n",
    "                        ylabel='',\n",
    "                        title=None,\n",
    "                        cbar_ylabel='',\n",
    "                        save=False,\n",
    "                        note=''):\n",
    "\n",
    "    # custom diverging colormap with white background\n",
    "    pastel_jet = LinearSegmentedColormap.from_list('white_viridis',\n",
    "                                                   [(0, 'darkblue'),\n",
    "                                                    (0.1, 'blue'),\n",
    "                                                    (0.2, 'tab:blue'),\n",
    "                                                    (0.4, 'tab:cyan'),\n",
    "                                                    (0.5, 'ivory'),\n",
    "                                                    (0.6, 'tab:orange'),\n",
    "                                                    (0.8, 'tab:red'),\n",
    "                                                    (0.9, 'red'),\n",
    "                                                    (1, 'darkred')\n",
    "                                                    ], N=256)\n",
    "\n",
    "    all_IDs = set(ID_score1.keys()) & set(ID_score2.keys())\n",
    "\n",
    "    if IDs == None:\n",
    "        IDs = all_IDs\n",
    "    else:\n",
    "        IDs = all_IDs & set(IDs)\n",
    "\n",
    "    out_IDs = IDs & set(ID_text.keys())\n",
    "    IDs -= out_IDs\n",
    "\n",
    "    IDs = sorted(list(IDs))\n",
    "    out_IDs = sorted(list(out_IDs))\n",
    "    \n",
    "    X, Y = [], []\n",
    "    C = []\n",
    "    for ID in IDs:\n",
    "        X.append(ID_score1[ID])\n",
    "        Y.append(ID_score2[ID])\n",
    "        C.append(ID_color[ID])\n",
    "\n",
    "    if standardize_color:\n",
    "        C = stats.zscore(C)\n",
    "\n",
    "    # draw all genes\n",
    "    if fig_width==None or fig_height==None:\n",
    "        fig = plt.figure()\n",
    "    else:\n",
    "        fig = plt.figure(figsize=(fig_width,\n",
    "                                  fig_height))\n",
    "    \n",
    "    plt.scatter(X,\n",
    "                Y,\n",
    "                c=C,\n",
    "                cmap=pastel_jet,\n",
    "                vmin=vmin,\n",
    "                vmax=vmax,\n",
    "                alpha=alpha,\n",
    "                s=size)\n",
    "\n",
    "    for ID in out_IDs:\n",
    "        text = ID_text[ID]\n",
    "        x, y = ID_score1[ID], ID_score2[ID]\n",
    "        \n",
    "        plt.plot(x,\n",
    "                 y,\n",
    "                 'kx',\n",
    "                 markersize=6,\n",
    "                 alpha=1,\n",
    "                 zorder=10,\n",
    "                 mew=2)\n",
    "        \n",
    "        plt.annotate(text,\n",
    "                     (x+0.05, y+0.05),\n",
    "                     color='black',\n",
    "                     zorder=40,\n",
    "                     size=10,\n",
    "                     weight='bold')\n",
    "        \n",
    "    if draw_eqline:\n",
    "        plt.plot([min(X), max(X)],\n",
    "                 [min(Y), max(Y)],\n",
    "                 'k--',\n",
    "                 alpha=0.7)\n",
    "    \n",
    "    plt.xlim(xlim)\n",
    "    plt.ylim(ylim)\n",
    "\n",
    "    plt.xlabel(xlabel, fontsize=13)\n",
    "    plt.ylabel(ylabel, fontsize=13)\n",
    "\n",
    "    if title!=None:\n",
    "        plt.title(title, fontsize=15)\n",
    "\n",
    "    cbar = plt.colorbar()\n",
    "    cbar.ax.set_ylabel(cbar_ylabel,\n",
    "                       rotation=-90,\n",
    "                       va=\"bottom\")\n",
    "\n",
    "    if save:\n",
    "        plt.savefig(\"score_scatter_%s.png\" % (note),\n",
    "                    bbox_inches='tight',\n",
    "                    dpi=300)\n",
    "\n",
    "    plt.tight_layout()\n",
    "    plt.show()\n",
    "    plt.close()\n"
   ]
  },
  {
   "cell_type": "code",
   "execution_count": 6,
   "id": "6152b439-22ad-4b67-8317-9a2f8c7401dd",
   "metadata": {
    "collapsed": false
   },
   "outputs": [],
   "source": [
    "### set target chromosome\n",
    "chr_choices = cell_chrnames['mCD8T:WT']"
   ]
  },
  {
   "cell_type": "code",
   "execution_count": 7,
   "id": "ab1ce1b8-a145-4fd8-a462-b7369db63f45",
   "metadata": {
    "collapsed": false
   },
   "outputs": [],
   "source": [
    "### read GTF file\n",
    "GTF_path = '/Users/sangwoopark/jhu_rockfish/MouseEpigeneticData/GTF/'\n",
    "GTF_fname = 'ENCFF871VGR.gtf'\n",
    "geneID_field_value = load_file.read_GTF (GTF_path + GTF_fname,\n",
    "                                         chr_list=cell_chrnames['mCD8T:WT'])"
   ]
  },
  {
   "cell_type": "code",
   "execution_count": 8,
   "id": "2194fc92-15ae-476d-86f7-b9415581545c",
   "metadata": {
    "collapsed": false
   },
   "outputs": [],
   "source": [
    "### get near TSS interval for each genes\n",
    "chr_geneID_interval = {}\n",
    "for geneID in geneID_field_value:\n",
    "    try:\n",
    "        chr = geneID_field_value[geneID]['chr']\n",
    "        pos = geneID_field_value[geneID]['TSS']\n",
    "    except:\n",
    "        continue\n",
    "    interval = (pos-2500, pos+2500)\n",
    "\n",
    "    if chr not in chr_geneID_interval:\n",
    "        chr_geneID_interval[chr] = {}\n",
    "    chr_geneID_interval[chr][geneID] = interval"
   ]
  },
  {
   "cell_type": "code",
   "execution_count": 9,
   "id": "5a6f18f2-5a32-46c0-96ce-3bdb9df648ef",
   "metadata": {
    "collapsed": false
   },
   "outputs": [],
   "source": [
    "### set target gtab file\n",
    "gtab_path = '/Users/sangwoopark/jhu_rockfish/2024_01_05_GEO/processed_files/'\n",
    "\n",
    "dinfo_dkey = {'mCD8T:WT_NCP_sp_1rep_deep_chr(\\d+|[XY])_score.gtab.gz':\n",
    "              {'mCD8T:WT_NCP_sp_8_1rep_deep': (1, 'mCD8T:WT', 'score', 8)},\n",
    "              'mCD8T:DFMO_NCP_sp_1rep_deep_chr(\\d+|[XY])_score.gtab.gz':\n",
    "              {'mCD8T:DFMO_NCP_sp_8_1rep_deep': (1, 'mCD8T:DFMO', 'score', 8)},\n",
    "              'mCD8T:ODCKO_NCP_sp_1rep_deep_chr(\\d+|[XY])_score.gtab.gz':\n",
    "              {'mCD8T:ODCKO_NCP_sp_8_1rep_deep': (1, 'mCD8T:ODCKO', 'score', 8)}\n",
    "              }"
   ]
  },
  {
   "cell_type": "code",
   "execution_count": 10,
   "id": "b268f745-3a0e-4722-b871-8faa9cceeefc",
   "metadata": {
    "collapsed": false
   },
   "outputs": [
    {
     "name": "stdout",
     "output_type": "stream",
     "text": [
      "loading mCD8T:WT_NCP_sp_1rep_deep_chr10_score.gtab.gz\n"
     ]
    },
    {
     "name": "stdout",
     "output_type": "stream",
     "text": [
      "loading mCD8T:WT_NCP_sp_1rep_deep_chr11_score.gtab.gz\n"
     ]
    },
    {
     "name": "stdout",
     "output_type": "stream",
     "text": [
      "loading mCD8T:WT_NCP_sp_1rep_deep_chr12_score.gtab.gz\n"
     ]
    },
    {
     "name": "stdout",
     "output_type": "stream",
     "text": [
      "loading mCD8T:WT_NCP_sp_1rep_deep_chr13_score.gtab.gz\n"
     ]
    },
    {
     "name": "stdout",
     "output_type": "stream",
     "text": [
      "loading mCD8T:WT_NCP_sp_1rep_deep_chr14_score.gtab.gz\n"
     ]
    },
    {
     "name": "stdout",
     "output_type": "stream",
     "text": [
      "loading mCD8T:WT_NCP_sp_1rep_deep_chr15_score.gtab.gz\n"
     ]
    },
    {
     "name": "stdout",
     "output_type": "stream",
     "text": [
      "loading mCD8T:WT_NCP_sp_1rep_deep_chr16_score.gtab.gz\n"
     ]
    },
    {
     "name": "stdout",
     "output_type": "stream",
     "text": [
      "loading mCD8T:WT_NCP_sp_1rep_deep_chr17_score.gtab.gz\n"
     ]
    },
    {
     "name": "stdout",
     "output_type": "stream",
     "text": [
      "loading mCD8T:WT_NCP_sp_1rep_deep_chr18_score.gtab.gz\n"
     ]
    },
    {
     "name": "stdout",
     "output_type": "stream",
     "text": [
      "loading mCD8T:WT_NCP_sp_1rep_deep_chr19_score.gtab.gz\n"
     ]
    },
    {
     "name": "stdout",
     "output_type": "stream",
     "text": [
      "loading mCD8T:WT_NCP_sp_1rep_deep_chr1_score.gtab.gz\n"
     ]
    },
    {
     "name": "stdout",
     "output_type": "stream",
     "text": [
      "loading mCD8T:WT_NCP_sp_1rep_deep_chr2_score.gtab.gz\n"
     ]
    },
    {
     "name": "stdout",
     "output_type": "stream",
     "text": [
      "loading mCD8T:WT_NCP_sp_1rep_deep_chr3_score.gtab.gz\n"
     ]
    },
    {
     "name": "stdout",
     "output_type": "stream",
     "text": [
      "loading mCD8T:WT_NCP_sp_1rep_deep_chr4_score.gtab.gz\n"
     ]
    },
    {
     "name": "stdout",
     "output_type": "stream",
     "text": [
      "loading mCD8T:WT_NCP_sp_1rep_deep_chr5_score.gtab.gz\n"
     ]
    },
    {
     "name": "stdout",
     "output_type": "stream",
     "text": [
      "loading mCD8T:WT_NCP_sp_1rep_deep_chr6_score.gtab.gz\n"
     ]
    },
    {
     "name": "stdout",
     "output_type": "stream",
     "text": [
      "loading mCD8T:WT_NCP_sp_1rep_deep_chr7_score.gtab.gz\n"
     ]
    },
    {
     "name": "stdout",
     "output_type": "stream",
     "text": [
      "loading mCD8T:WT_NCP_sp_1rep_deep_chr8_score.gtab.gz\n"
     ]
    },
    {
     "name": "stdout",
     "output_type": "stream",
     "text": [
      "loading mCD8T:WT_NCP_sp_1rep_deep_chr9_score.gtab.gz\n"
     ]
    },
    {
     "name": "stdout",
     "output_type": "stream",
     "text": [
      "loading mCD8T:WT_NCP_sp_1rep_deep_chrX_score.gtab.gz\n"
     ]
    },
    {
     "name": "stdout",
     "output_type": "stream",
     "text": [
      "loading mCD8T:DFMO_NCP_sp_1rep_deep_chr10_score.gtab.gz\n"
     ]
    },
    {
     "name": "stdout",
     "output_type": "stream",
     "text": [
      "loading mCD8T:DFMO_NCP_sp_1rep_deep_chr11_score.gtab.gz\n"
     ]
    },
    {
     "name": "stdout",
     "output_type": "stream",
     "text": [
      "loading mCD8T:DFMO_NCP_sp_1rep_deep_chr12_score.gtab.gz\n"
     ]
    },
    {
     "name": "stdout",
     "output_type": "stream",
     "text": [
      "loading mCD8T:DFMO_NCP_sp_1rep_deep_chr13_score.gtab.gz\n"
     ]
    },
    {
     "name": "stdout",
     "output_type": "stream",
     "text": [
      "loading mCD8T:DFMO_NCP_sp_1rep_deep_chr14_score.gtab.gz\n"
     ]
    },
    {
     "name": "stdout",
     "output_type": "stream",
     "text": [
      "loading mCD8T:DFMO_NCP_sp_1rep_deep_chr15_score.gtab.gz\n"
     ]
    },
    {
     "name": "stdout",
     "output_type": "stream",
     "text": [
      "loading mCD8T:DFMO_NCP_sp_1rep_deep_chr16_score.gtab.gz\n"
     ]
    },
    {
     "name": "stdout",
     "output_type": "stream",
     "text": [
      "loading mCD8T:DFMO_NCP_sp_1rep_deep_chr17_score.gtab.gz\n"
     ]
    },
    {
     "name": "stdout",
     "output_type": "stream",
     "text": [
      "loading mCD8T:DFMO_NCP_sp_1rep_deep_chr18_score.gtab.gz\n"
     ]
    },
    {
     "name": "stdout",
     "output_type": "stream",
     "text": [
      "loading mCD8T:DFMO_NCP_sp_1rep_deep_chr19_score.gtab.gz\n"
     ]
    },
    {
     "name": "stdout",
     "output_type": "stream",
     "text": [
      "loading mCD8T:DFMO_NCP_sp_1rep_deep_chr1_score.gtab.gz\n"
     ]
    },
    {
     "name": "stdout",
     "output_type": "stream",
     "text": [
      "loading mCD8T:DFMO_NCP_sp_1rep_deep_chr2_score.gtab.gz\n"
     ]
    },
    {
     "name": "stdout",
     "output_type": "stream",
     "text": [
      "loading mCD8T:DFMO_NCP_sp_1rep_deep_chr3_score.gtab.gz\n"
     ]
    },
    {
     "name": "stdout",
     "output_type": "stream",
     "text": [
      "loading mCD8T:DFMO_NCP_sp_1rep_deep_chr4_score.gtab.gz\n"
     ]
    },
    {
     "name": "stdout",
     "output_type": "stream",
     "text": [
      "loading mCD8T:DFMO_NCP_sp_1rep_deep_chr5_score.gtab.gz\n"
     ]
    },
    {
     "name": "stdout",
     "output_type": "stream",
     "text": [
      "loading mCD8T:DFMO_NCP_sp_1rep_deep_chr6_score.gtab.gz\n"
     ]
    },
    {
     "name": "stdout",
     "output_type": "stream",
     "text": [
      "loading mCD8T:DFMO_NCP_sp_1rep_deep_chr7_score.gtab.gz\n"
     ]
    },
    {
     "name": "stdout",
     "output_type": "stream",
     "text": [
      "loading mCD8T:DFMO_NCP_sp_1rep_deep_chr8_score.gtab.gz\n"
     ]
    },
    {
     "name": "stdout",
     "output_type": "stream",
     "text": [
      "loading mCD8T:DFMO_NCP_sp_1rep_deep_chr9_score.gtab.gz\n"
     ]
    },
    {
     "name": "stdout",
     "output_type": "stream",
     "text": [
      "loading mCD8T:DFMO_NCP_sp_1rep_deep_chrX_score.gtab.gz\n"
     ]
    },
    {
     "name": "stdout",
     "output_type": "stream",
     "text": [
      "loading mCD8T:ODCKO_NCP_sp_1rep_deep_chr10_score.gtab.gz\n"
     ]
    },
    {
     "name": "stdout",
     "output_type": "stream",
     "text": [
      "loading mCD8T:ODCKO_NCP_sp_1rep_deep_chr11_score.gtab.gz\n"
     ]
    },
    {
     "name": "stdout",
     "output_type": "stream",
     "text": [
      "loading mCD8T:ODCKO_NCP_sp_1rep_deep_chr12_score.gtab.gz\n"
     ]
    },
    {
     "name": "stdout",
     "output_type": "stream",
     "text": [
      "loading mCD8T:ODCKO_NCP_sp_1rep_deep_chr13_score.gtab.gz\n"
     ]
    },
    {
     "name": "stdout",
     "output_type": "stream",
     "text": [
      "loading mCD8T:ODCKO_NCP_sp_1rep_deep_chr14_score.gtab.gz\n"
     ]
    },
    {
     "name": "stdout",
     "output_type": "stream",
     "text": [
      "loading mCD8T:ODCKO_NCP_sp_1rep_deep_chr15_score.gtab.gz\n"
     ]
    },
    {
     "name": "stdout",
     "output_type": "stream",
     "text": [
      "loading mCD8T:ODCKO_NCP_sp_1rep_deep_chr16_score.gtab.gz\n"
     ]
    },
    {
     "name": "stdout",
     "output_type": "stream",
     "text": [
      "loading mCD8T:ODCKO_NCP_sp_1rep_deep_chr17_score.gtab.gz\n"
     ]
    },
    {
     "name": "stdout",
     "output_type": "stream",
     "text": [
      "loading mCD8T:ODCKO_NCP_sp_1rep_deep_chr18_score.gtab.gz\n"
     ]
    },
    {
     "name": "stdout",
     "output_type": "stream",
     "text": [
      "loading mCD8T:ODCKO_NCP_sp_1rep_deep_chr19_score.gtab.gz\n"
     ]
    },
    {
     "name": "stdout",
     "output_type": "stream",
     "text": [
      "loading mCD8T:ODCKO_NCP_sp_1rep_deep_chr1_score.gtab.gz\n"
     ]
    },
    {
     "name": "stdout",
     "output_type": "stream",
     "text": [
      "loading mCD8T:ODCKO_NCP_sp_1rep_deep_chr2_score.gtab.gz\n"
     ]
    },
    {
     "name": "stdout",
     "output_type": "stream",
     "text": [
      "loading mCD8T:ODCKO_NCP_sp_1rep_deep_chr3_score.gtab.gz\n"
     ]
    },
    {
     "name": "stdout",
     "output_type": "stream",
     "text": [
      "loading mCD8T:ODCKO_NCP_sp_1rep_deep_chr4_score.gtab.gz\n"
     ]
    },
    {
     "name": "stdout",
     "output_type": "stream",
     "text": [
      "loading mCD8T:ODCKO_NCP_sp_1rep_deep_chr5_score.gtab.gz\n"
     ]
    },
    {
     "name": "stdout",
     "output_type": "stream",
     "text": [
      "loading mCD8T:ODCKO_NCP_sp_1rep_deep_chr6_score.gtab.gz\n"
     ]
    },
    {
     "name": "stdout",
     "output_type": "stream",
     "text": [
      "loading mCD8T:ODCKO_NCP_sp_1rep_deep_chr7_score.gtab.gz\n"
     ]
    },
    {
     "name": "stdout",
     "output_type": "stream",
     "text": [
      "loading mCD8T:ODCKO_NCP_sp_1rep_deep_chr8_score.gtab.gz\n"
     ]
    },
    {
     "name": "stdout",
     "output_type": "stream",
     "text": [
      "loading mCD8T:ODCKO_NCP_sp_1rep_deep_chr9_score.gtab.gz\n"
     ]
    },
    {
     "name": "stdout",
     "output_type": "stream",
     "text": [
      "loading mCD8T:ODCKO_NCP_sp_1rep_deep_chrX_score.gtab.gz\n"
     ]
    }
   ],
   "source": [
    "### load condense-seq data and get mean score near TSS of genes\n",
    "dkey_geneID_mscore = {}\n",
    "for fkey in dinfo_dkey:\n",
    "    field_dkey = dinfo_dkey[fkey]\n",
    "\n",
    "    if not field_dkey:\n",
    "        field_choices = None\n",
    "    else:\n",
    "        field_choices = field_dkey.keys()\n",
    "\n",
    "    for fname in glob.glob(gtab_path + '*'):\n",
    "        if not re.match(fkey, fname.rsplit('/')[-1]):\n",
    "            continue\n",
    "\n",
    "        print \"loading %s\" % (fname.rsplit('/')[-1])\n",
    "\n",
    "        field_chr_ID_value = load_file.read_gtab(fname,\n",
    "                                                 mode='col',\n",
    "                                                 field_choices=field_choices,\n",
    "                                                 chr_choices=chr_choices,\n",
    "                                                 skip_nan=True,\n",
    "                                                 by_chr=True)\n",
    "\n",
    "        for field, chr_ID_value in field_chr_ID_value.items():\n",
    "            try:\n",
    "                dkey = field_dkey[field]\n",
    "            except:\n",
    "                dkey = field\n",
    "\n",
    "            for chr, ID_value in chr_ID_value.items():\n",
    "                ID_loc = {}\n",
    "                for ID in ID_value:\n",
    "                    if len(ID) == 2:\n",
    "                        ID_loc[ID] = ID[1]\n",
    "                    else:\n",
    "                        ID_loc[ID] = ID[1:]\n",
    "                \n",
    "                geneID_interval = chr_geneID_interval[chr]\n",
    "\n",
    "                geneID_mscore = statis.bin_data_mean(geneID_interval,\n",
    "                                                     ID_loc,\n",
    "                                                     ID_value,\n",
    "                                                     min_sample_size=10,\n",
    "                                                     skip_nan=True,\n",
    "                                                     silent=True)\n",
    "\n",
    "                if dkey not in dkey_geneID_mscore:\n",
    "                    dkey_geneID_mscore[dkey] = {}\n",
    "                dkey_geneID_mscore[dkey].update(geneID_mscore)\n",
    "                "
   ]
  },
  {
   "cell_type": "code",
   "execution_count": 11,
   "id": "64a960d2-c5f9-4bc7-8040-b8f79d10b31e",
   "metadata": {
    "collapsed": false
   },
   "outputs": [],
   "source": [
    "### save the data as pickle\n",
    "fname = './data/' + 'mCD8T_geneID_mscore'\n",
    "pickle.dump(dkey_geneID_mscore, open(fname + \".pickle\", \"wb\"))"
   ]
  },
  {
   "cell_type": "code",
   "execution_count": 12,
   "id": "ac9c9078-4b87-4ded-b022-c6f88374593e",
   "metadata": {
    "collapsed": false
   },
   "outputs": [],
   "source": [
    "### read RNA-seq data and compute FPKM\n",
    "RNAseq_path = '/Users/sangwoopark/jhu_rockfish/MouseEpigeneticData/ODC_mouse_RNAseq/30-916504364/hit-counts/'\n",
    "\n",
    "rep_cell_RNAseq_fname = {1:{'mCD8T:WT':'WT-1.counts.txt',\n",
    "                            'mCD8T:DFMO':'I-1.counts.txt',\n",
    "                            'mCD8T:ODCKO':'KO-1.counts.txt'},\n",
    "                         2:{'mCD8T:WT':'WT-2.counts.txt',\n",
    "                            'mCD8T:DFMO':'I-2.counts.txt',\n",
    "                            'mCD8T:ODCKO':'KO-2.counts.txt'},\n",
    "                         3:{'mCD8T:WT':'WT-3.counts.txt',\n",
    "                            'mCD8T:DFMO':'I-3.counts.txt',\n",
    "                            'mCD8T:ODCKO':'KO-3.counts.txt'}}\n",
    "\n",
    "## compute exon lengths\n",
    "geneID_exonlen = {}\n",
    "for geneID in geneID_field_value:\n",
    "    exons = geneID_field_value[geneID]['exons']\n",
    "    length = 0\n",
    "    for start, end in exons:\n",
    "        length +=  end - start + 1\n",
    "    geneID_exonlen[geneID] = length\n",
    "\n",
    "## read read counts\n",
    "cell_geneID_FPKMs = {}\n",
    "for rep in sorted(rep_cell_RNAseq_fname):\n",
    "    cell_RNAseq_fname = rep_cell_RNAseq_fname[rep]\n",
    "    for cell in sorted(cell_RNAseq_fname):\n",
    "        RNAseq_fname = cell_RNAseq_fname[cell]\n",
    "        field = RNAseq_fname.split('.')[0]\n",
    "\n",
    "        ## get read counts\n",
    "        geneID_count = load_file.read_tabular_file (RNAseq_path + RNAseq_fname,\n",
    "                                                    mode=\"col\")[field]\n",
    "\n",
    "        total_count = 0\n",
    "        for geneID in geneID_count:\n",
    "            count = geneID_count[geneID]\n",
    "            #if count <=0:\n",
    "            #    continue\n",
    "            geneID_count[geneID] +=1 # add pseudocount\n",
    "            total_count += geneID_count[geneID]\n",
    "\n",
    "        ## compute FPKM\n",
    "        #geneID_FPKM = {}\n",
    "        for geneID in geneID_count:\n",
    "            try:\n",
    "                FPM = (float(geneID_count[geneID]) / total_count)*(10**6)\n",
    "                FPKM = float(FPM)/(geneID_exonlen[geneID]/1000.0)\n",
    "            except:\n",
    "                continue\n",
    "            #geneID_FPKM[geneID] = FPKM\n",
    "\n",
    "            if cell not in cell_geneID_FPKMs:\n",
    "                cell_geneID_FPKMs[cell] = {}\n",
    "            if geneID not in cell_geneID_FPKMs[cell]:\n",
    "                cell_geneID_FPKMs[cell][geneID] = []\n",
    "            cell_geneID_FPKMs[cell][geneID].append(FPKM)\n",
    "            #cell_geneID_FPKMs[cell][geneID].append(geneID_count[geneID])"
   ]
  },
  {
   "cell_type": "code",
   "execution_count": 13,
   "id": "aefb7c29-9b67-4743-8eaa-236a0ea1214f",
   "metadata": {
    "collapsed": false
   },
   "outputs": [
    {
     "name": "stdout",
     "output_type": "stream",
     "text": [
      "Total gene count:53831\n"
     ]
    }
   ],
   "source": [
    "### define common geneIDs\n",
    "dkeys = [(1, 'mCD8T:WT', 'score', 8),\n",
    "         (1, 'mCD8T:DFMO', 'score', 8),\n",
    "         (1, 'mCD8T:ODCKO', 'score', 8)]\n",
    "target_geneIDs = set([])         \n",
    "for i in range(len(dkeys)):\n",
    "    dkey = dkeys[i]\n",
    "    geneID_mscore = dkey_geneID_mscore[dkey]\n",
    "    geneIDs = set(geneID_mscore.keys())\n",
    "    if i == 0:\n",
    "        target_geneIDs |= geneIDs\n",
    "        continue\n",
    "    target_geneIDs &= geneIDs\n",
    "target_geneIDs = sorted(list(target_geneIDs))\n",
    "print 'Total gene count:' + str(len(target_geneIDs))"
   ]
  },
  {
   "cell_type": "code",
   "execution_count": 14,
   "id": "fe9e7bb0-9d14-4b96-9009-ff7ee019c1cc",
   "metadata": {
    "collapsed": false
   },
   "outputs": [],
   "source": [
    "### standardize the condensability scores\n",
    "dkey_geneID_zscore = {}\n",
    "for dkey in dkeys:\n",
    "    geneID_mscore = dkey_geneID_mscore[dkey]\n",
    "    geneID_zscore = statis.standardize_dict(geneID_mscore,\n",
    "                                            keys=target_geneIDs)\n",
    "    dkey_geneID_zscore[dkey] = geneID_zscore"
   ]
  },
  {
   "cell_type": "code",
   "execution_count": null,
   "id": "5241e0f1-9603-4eb1-ae53-315636c25596",
   "metadata": {
    "collapsed": false
   },
   "outputs": [],
   "source": [
    "### plot condensability with gene expression differences\n",
    "for i in range(len(dkey)-1):\n",
    "    for j in range(i+1, len(dkeys)):\n",
    "        dkey1 = dkeys[i]\n",
    "        dkey2 = dkeys[j]\n",
    "        \n",
    "        geneID_zscore1 = dkey_geneID_zscore[dkey1]\n",
    "        geneID_zscore2 = dkey_geneID_zscore[dkey2]\n",
    "\n",
    "        cell1 = dkey1[1]\n",
    "        cell2 = dkey2[1]\n",
    "        \n",
    "        ## compute gene expression differences\n",
    "        geneID_dlogFPKM = {}\n",
    "        for geneID in target_geneIDs:\n",
    "            try:\n",
    "                FPKM1 = np.nanmean(cell_geneID_FPKMs[cell1][geneID])\n",
    "                FPKM2 = np.nanmean(cell_geneID_FPKMs[cell2][geneID])\n",
    "            except:\n",
    "                continue\n",
    "            dlogFPKM = np.log2(1+FPKM2) - np.log2(1+FPKM1)\n",
    "            geneID_dlogFPKM[geneID] = dlogFPKM\n",
    "\n",
    "        \n",
    "        ## plot scatter plot\n",
    "        #plot_score_scatter (geneID_zscore1,\n",
    "        #                    geneID_zscore2,\n",
    "        #                    geneID_dlogFPKM,\n",
    "        #                    IDs=list(set(target_geneIDs) & set(geneID_dlogFPKM.keys())),\n",
    "        #                    standardize_color=True,\n",
    "        #                    #ID_text=geneID_text,\n",
    "        #                    fig_width=7.8,\n",
    "        #                    fig_height=6,\n",
    "        #                    vmin=-3,\n",
    "        #                    vmax=3,\n",
    "        #                    alpha=0.3,\n",
    "        #                    size=2,\n",
    "        #                    xlim=[None, None],\n",
    "        #                    ylim=[None, None],\n",
    "        #                    xlabel='%s (z-score)' % (cell1),\n",
    "        #                    ylabel='%s (z-score)' % (cell2),\n",
    "        #                    title='Condensability near TSS (5kb)',\n",
    "        #                    cbar_ylabel='$\\\\Delta$ logFPKM (%s - %s)' % (cell2, cell1),\n",
    "        #                    save=False,\n",
    "        #                    note='%svs%s' % (cell1, cell2))\n",
    "        print"
   ]
  },
  {
   "cell_type": "code",
   "execution_count": 16,
   "id": "b74d26bb-413e-4d06-bcca-64b21fd0d03f",
   "metadata": {
    "collapsed": false
   },
   "outputs": [],
   "source": [
    "### compute delta z score compared to WT\n",
    "dkey0 = (1, 'mCD8T:WT', 'score', 8)\n",
    "dkey1 = (1, 'mCD8T:DFMO', 'score', 8)\n",
    "dkey2 = (1, 'mCD8T:ODCKO', 'score', 8)\n",
    "\n",
    "geneID_dzscore1 = {}\n",
    "geneID_dzscore2 = {}\n",
    "\n",
    "for geneID in target_geneIDs:\n",
    "    dzscore1 = dkey_geneID_zscore[dkey1][geneID] - dkey_geneID_zscore[dkey0][geneID]\n",
    "    dzscore2 = dkey_geneID_zscore[dkey2][geneID] - dkey_geneID_zscore[dkey0][geneID]\n",
    "    geneID_dzscore1[geneID] = dzscore1\n",
    "    geneID_dzscore2[geneID] = dzscore2"
   ]
  },
  {
   "cell_type": "code",
   "execution_count": 17,
   "id": "c0dc4150-caf6-41ca-8222-8b37f3e3e3b2",
   "metadata": {
    "collapsed": false
   },
   "outputs": [
    {
     "name": "stdout",
     "output_type": "stream",
     "text": [
      "\n",
      "Spearman correlation\n",
      "0.5905226027023683\n",
      "\n"
     ]
    },
    {
     "data": {
      "image/png": "[encoded data removed]",
      "text/plain": [
       "<Figure size 288x216 with 2 Axes>"
      ]
     },
     "metadata": {},
     "output_type": "display_data"
    }
   ],
   "source": [
    "### plot dzscore vs dzscore plot [Extended Data Fig.10j]\n",
    "X, Y = [], []\n",
    "for geneID in target_geneIDs:\n",
    "    X.append(geneID_dzscore1[geneID])\n",
    "    Y.append(geneID_dzscore2[geneID])\n",
    "\n",
    "print\n",
    "print \"Spearman correlation\"\n",
    "print statis.get_spearman_corr(X, Y)\n",
    "print\n",
    "\n",
    "fig = plt.figure(figsize=(4,3))\n",
    "graphics.density_scatter(X, Y,\n",
    "                         ax=plt.gca())\n",
    "plt.plot([-1.5, 1.5], [-1.5, 1.5], 'k--', ms=2, alpha=0.7)\n",
    "plt.xlim([-2,2])\n",
    "plt.ylim([-2,2])\n",
    "plt.xlabel(\"$\\Delta$z-score (DFMO-WT)\", fontsize=10)\n",
    "plt.ylabel(\"$\\Delta$z-score (ODC KO-WT)\", fontsize=10)\n",
    "plt.title(\"Condensability near TSS (5kb)\", fontsize=12)\n",
    "plt.savefig(\"zdscoreVSzdscore.png\", dpi=500, bbox_inches='tight')\n",
    "plt.show()\n",
    "plt.close()"
   ]
  },
  {
   "cell_type": "code",
   "execution_count": 18,
   "id": "41d8b5a8-3760-4a5a-a961-d5e51a7dae82",
   "metadata": {
    "collapsed": false
   },
   "outputs": [],
   "source": [
    "### save dzscore as rnk file (by Ensemble ID)\n",
    "dzscore_geneID1 = [(dzscore, geneID) for geneID, dzscore in geneID_dzscore1.items()]\n",
    "dzscore_geneID1 = sorted(dzscore_geneID1, reverse=True)\n",
    "dzscore_geneID2 = [(dzscore, geneID) for geneID, dzscore in geneID_dzscore2.items()]\n",
    "dzscore_geneID2 = sorted(dzscore_geneID2, reverse=True)\n",
    "fname1 = './data/mCD8T_DFMOvsWT_geneID.rnk'\n",
    "fname2 = './data/mCD8T_ODCKOvsWT_geneID.rnk'\n",
    "\n",
    "for fname, dzscore_geneID in zip([fname1, fname2],\n",
    "                                 [dzscore_geneID1, dzscore_geneID2]):\n",
    "    f = open(fname, 'w')\n",
    "    for dzscore, geneID in dzscore_geneID:\n",
    "        print >> f, '%s\\t%f' % (geneID, dzscore)\n",
    "    f.close()"
   ]
  },
  {
   "cell_type": "code",
   "execution_count": 19,
   "id": "e5a538f8-dbaa-4ce8-918c-d369931ba7a2",
   "metadata": {
    "collapsed": false
   },
   "outputs": [],
   "source": [
    "### reorganize dzscores by gene name\n",
    "gname_dzscores1 = {}\n",
    "for geneID, dzscore in geneID_dzscore1.items():\n",
    "    try:\n",
    "        gname = geneID_field_value[geneID]['geneName']\n",
    "    except:\n",
    "        continue\n",
    "    if gname not in gname_dzscores1:\n",
    "        gname_dzscores1[gname] = []\n",
    "    gname_dzscores1[gname].append(dzscore)\n",
    "    \n",
    "gname_dzscores2 = {}\n",
    "for geneID, dzscore in geneID_dzscore2.items():\n",
    "    try:\n",
    "        gname = geneID_field_value[geneID]['geneName']\n",
    "    except:\n",
    "        continue\n",
    "    if gname not in gname_dzscores2:\n",
    "        gname_dzscores2[gname] = []\n",
    "    gname_dzscores2[gname].append(dzscore)"
   ]
  },
  {
   "cell_type": "code",
   "execution_count": 20,
   "id": "696b7105-66eb-47ed-90fb-7b7c1f5d3634",
   "metadata": {
    "collapsed": false
   },
   "outputs": [],
   "source": [
    "### save dzscore as rnk file (by gene name)\n",
    "dzscore_gname1 = [(np.mean(dzscores), gname) for gname, dzscores in gname_dzscores1.items()]\n",
    "dzscore_gname1 = sorted(dzscore_gname1, reverse=True)\n",
    "dzscore_gname2 = [(np.mean(dzscores), gname) for gname, dzscores in gname_dzscores2.items()]\n",
    "dzscore_gname2 = sorted(dzscore_gname2, reverse=True)\n",
    "fname1 = './data/mCD8T_DFMOvsWT_gname.rnk'\n",
    "fname2 = './data/mCD8T_ODCKOvsWT_gname.rnk'\n",
    "\n",
    "for fname, dzscore_gname in zip([fname1, fname2],\n",
    "                                [dzscore_gname1, dzscore_gname2]):\n",
    "    f = open(fname, 'w')\n",
    "    for dzscore, gname in dzscore_gname:\n",
    "        print >> f, '%s\\t%f' % (gname, dzscore)\n",
    "    f.close()"
   ]
  }
 ],
 "metadata": {
  "kernelspec": {
   "argv": [
    "/Library/Frameworks/Python.framework/Versions/2.7/Resources/Python.app/Contents/MacOS/Python",
    "-m",
    "ipykernel_launcher",
    "-f",
    "{connection_file}"
   ],
   "display_name": "Python 2",
   "env": null,
   "interrupt_mode": "signal",
   "language": "python",
   "metadata": null,
   "name": "python2"
  },
  "name": "mCD8T_diff_condensability.ipynb"
 },
 "nbformat": 4,
 "nbformat_minor": 2
}
