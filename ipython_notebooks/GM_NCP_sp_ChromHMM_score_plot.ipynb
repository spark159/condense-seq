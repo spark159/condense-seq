{
 "cells": [
  {
   "cell_type": "markdown",
   "id": "027ab086-726f-4a5d-b232-5aa96d978f35",
   "metadata": {
    "collapsed": false
   },
   "source": [
    "plot chromHMM"
   ]
  },
  {
   "cell_type": "code",
   "execution_count": 21,
   "id": "4048c6ae-9956-448a-b68d-bbf66979decf",
   "metadata": {
    "collapsed": false
   },
   "outputs": [],
   "source": [
    "# python modules\n",
    "import sys\n",
    "import copy\n",
    "import re\n",
    "import random\n",
    "import glob\n",
    "import numpy as np\n",
    "import matplotlib as mpl\n",
    "import matplotlib.pyplot as plt\n",
    "import scipy\n",
    "from scipy import stats\n"
   ]
  },
  {
   "cell_type": "code",
   "execution_count": 22,
   "id": "b29f24b4-8f56-4602-bbf3-834409779ac1",
   "metadata": {
    "collapsed": false
   },
   "outputs": [],
   "source": [
    "# custom modules\n",
    "sys.path.append('/Users/sangwoopark/Projects/condense-seq/postpro_scripts')\n",
    "import graphics_edit as graphics\n",
    "import load_file_edit as load_file\n",
    "import Interval_dict\n",
    "import statis_edit as statis\n"
   ]
  },
  {
   "cell_type": "code",
   "execution_count": 23,
   "id": "dc1b4874-d649-4209-8092-337698a6db63",
   "metadata": {
    "collapsed": false
   },
   "outputs": [],
   "source": [
    "# matplotlib setting\n",
    "%matplotlib inline\n",
    "mpl.rcParams[\"figure.facecolor\"] = \"white\"\n",
    "mpl.rcParams[\"axes.facecolor\"] = \"white\"\n",
    "mpl.rcParams[\"savefig.facecolor\"] = \"white\"\n"
   ]
  },
  {
   "cell_type": "code",
   "execution_count": 24,
   "id": "cd772696-e849-4505-b9ae-16cf63b17e4d",
   "metadata": {
    "collapsed": false
   },
   "outputs": [],
   "source": [
    "### parameters\n",
    "cell_org = {'H1':'human',\n",
    "            'GM':'human',\n",
    "            'mCD8T:WT':'mouse',\n",
    "            'mCD8T:DFMO':'mouse',\n",
    "            'mCD8T:ODCKO':'mouse'}\n",
    "\n",
    "cell_chrnames = {'H1':['chr%s' % (i) for i in range(1, 23)] + ['chrX', 'chrY'],\n",
    "                 'GM':['chr%s' % (i) for i in range(1, 23)] + ['chrX'],\n",
    "                 'mCD8T:WT':['chr%s' % (i) for i in range(1, 20)] + ['chrX'],\n",
    "                 'mCD8T:DFMO':['chr%s' % (i) for i in range(1, 20)] + ['chrX'],\n",
    "                 'mCD8T:ODCKO':['chr%s' % (i) for i in range(1, 20)] + ['chrX']}\n"
   ]
  },
  {
   "cell_type": "code",
   "execution_count": 25,
   "id": "283f889f-26a9-41f7-b33c-4ad13bff2483",
   "metadata": {
    "collapsed": false
   },
   "outputs": [],
   "source": [
    "agent_fullname = {'sp':'Spermine(4+)',\n",
    "                  'spd':'Spermidine(3+)',\n",
    "                  'CoH':'Cobalt Hexammine(3+)',\n",
    "                  'PEG':'PEG 8000',\n",
    "                  'HP1a':'HP1$\\\\alpha$',\n",
    "                  'HP1bSUV':'HP1$\\\\beta$+tSUV',\n",
    "                  'LKH':'Linker histone1',\n",
    "                  'Ki67':'Ki67',\n",
    "                  'FUS':'FUS',\n",
    "                  'Mg':'Magnesium',\n",
    "                  'Ca':'Calcium'}\n"
   ]
  },
  {
   "cell_type": "code",
   "execution_count": 26,
   "id": "f4cccea3-81c9-4c92-a89d-58710f7b2f01",
   "metadata": {
    "collapsed": false
   },
   "outputs": [],
   "source": [
    "## for H1\n",
    "H1_name_dict = {\"E1\":\"Polycomb repressed\",\n",
    "                \"E2\":\"Poised promoter\",\n",
    "                \"E3\":\"Weak promoter\",\n",
    "                \"E4\":\"Strong enhancer\",\n",
    "                \"E5\":\"Active promoter\",\n",
    "                \"E6\":\"Weak enhancer\",\n",
    "                \"E7\":\"Quiescence1\",\n",
    "                \"E8\":\"Quiescence2\",\n",
    "                \"E9\":\"Heterochromatin\",\n",
    "                \"E10\":\"Tx elongation\",\n",
    "                \"E11\":\"Weak Tx\",\n",
    "                \"E12\":\"Insulator\"}\n",
    "\n",
    "# state for H1\n",
    "H1_states = [\"Active promoter\", \"Weak promoter\", \"Poised promoter\", \"Strong enhancer\", \"Weak enhancer\", \"Tx elongation\", \"Weak Tx\", \"Insulator\", \"Polycomb repressed\", \"Heterochromatin\", \"Quiescence1\", \"Quiescence2\"]\n",
    "\n",
    "H1_HMM_fname = \"H1_12_segments.bed\"\n"
   ]
  },
  {
   "cell_type": "code",
   "execution_count": 27,
   "id": "c8135cec-1ec3-49f2-9c5e-8040a628e4e0",
   "metadata": {
    "collapsed": false
   },
   "outputs": [],
   "source": [
    "# for GM12878\n",
    "GM_name_dict = {\"E1\":\"Polycomb repressed\",\n",
    "                \"E2\":\"Quiescence\",\n",
    "                \"E3\":\"Heterochromatin\",\n",
    "                \"E4\":\"Weak Tx\",\n",
    "                \"E5\":\"Tx elongation\",\n",
    "                \"E6\":\"Weak enhancer\",\n",
    "                \"E7\":\"Active enhancer\",\n",
    "                \"E8\":\"Strong enhancer\",\n",
    "                \"E9\":\"Active promoter\",\n",
    "                \"E10\":\"Weak promoter\",\n",
    "                \"E11\":\"Poised promoter\",\n",
    "                \"E12\":\"Insulator\"}\n",
    "\n",
    "# state for GM\n",
    "GM_states = [\"Active promoter\", \"Weak promoter\", \"Poised promoter\", \"Strong enhancer\", \"Active enhancer\", \"Weak enhancer\", \"Tx elongation\", \"Weak Tx\", \"Insulator\", \"Polycomb repressed\", \"Heterochromatin\", \"Quiescence\"]\n",
    "\n",
    "GM_HMM_fname = \"GM12878_12_segments.bed\"\n"
   ]
  },
  {
   "cell_type": "code",
   "execution_count": 28,
   "id": "4e48968d-4f79-439f-b3d3-e8a530d9fdf6",
   "metadata": {
    "collapsed": false
   },
   "outputs": [],
   "source": [
    "# for mouse CD8 T cell\n",
    "mCD8T_name_dict = {\"E1\":\"Weak Tx\",\n",
    "                   \"E2\":\"Tx elongation\",\n",
    "                   \"E3\":\"Weak enhancer2\",\n",
    "                   \"E4\":\"Strong enhancer2\",\n",
    "                   \"E5\":\"Strong enhancer1\",\n",
    "                   \"E6\":\"Weak enhancer1\",\n",
    "                   \"E7\":\"Active promoter\",\n",
    "                   \"E8\":\"Poised promoter\",\n",
    "                   \"E9\":\"Polycomb repressed1\",\n",
    "                   \"E10\":\"Polycomb repressed2\",\n",
    "                   \"E11\":\"Quiescence\",\n",
    "                   \"E12\":\"Heterochromatin\"}\n",
    "\n",
    "# state for mouse CD8 T cell\n",
    "mCD8T_states = [\"Active promoter\", \"Poised promoter\", \"Strong enhancer1\", \"Strong enhancer2\", \"Weak enhancer1\", \"Weak enhancer2\", \"Tx elongation\", \"Weak Tx\", \"Polycomb repressed1\", \"Polycomb repressed2\", \"Heterochromatin\", \"Quiescence\"]\n",
    "\n",
    "mCD8T_HMM_fname = \"Mouse CD8 T cell (invitro activated)_12_segments.bed\"\n"
   ]
  },
  {
   "cell_type": "code",
   "execution_count": 29,
   "id": "0d0b11e6-9e89-4b84-974e-338db98eeaed",
   "metadata": {
    "collapsed": false
   },
   "outputs": [],
   "source": [
    "# data path\n",
    "#path = './data/'\n",
    "path = '/Users/sangwoopark/jhu_rockfish/2024_01_05_GEO/processed_files/'\n",
    "chromHMM_path = '/Users/sangwoopark/jhu_rockfish/chromHMM_data/'"
   ]
  },
  {
   "cell_type": "code",
   "execution_count": 30,
   "id": "cb67fe58-ba8d-425b-8802-2f1e99b28135",
   "metadata": {
    "collapsed": false
   },
   "outputs": [],
   "source": [
    "# chromHMM data set\n",
    "cell_chromHMM = {'H1':[H1_HMM_fname, H1_name_dict, H1_states],\n",
    "                 'GM':[GM_HMM_fname, GM_name_dict, GM_states],\n",
    "                 'mCD8T':[mCD8T_HMM_fname, mCD8T_name_dict, mCD8T_states]}\n"
   ]
  },
  {
   "cell_type": "code",
   "execution_count": 31,
   "id": "70e08ba4-4d39-46c3-ad93-273b46709755",
   "metadata": {
    "collapsed": false
   },
   "outputs": [],
   "source": [
    "### set target cell\n",
    "cell = 'GM'"
   ]
  },
  {
   "cell_type": "code",
   "execution_count": 32,
   "id": "47a49eb1-3aff-4a61-aa10-2ed945459149",
   "metadata": {
    "collapsed": false
   },
   "outputs": [],
   "source": [
    "### set target chromosomesx\n",
    "#chr_choices = cell_chromHMM['GM']\n",
    "chr_choices = ['chr1']"
   ]
  },
  {
   "cell_type": "code",
   "execution_count": 33,
   "id": "d20e6528-a604-4d45-aa1a-87018ee9488c",
   "metadata": {
    "collapsed": false
   },
   "outputs": [
    {
     "name": "stdout",
     "output_type": "stream",
     "text": [
      "loading GM_NCP_sp_1rep_deep_chr1_score.gtab.gz\n"
     ]
    },
    {
     "name": "stdout",
     "output_type": "stream",
     "text": [
      "Done\n"
     ]
    }
   ],
   "source": [
    "### load gtab file\n",
    "gtab_path = '/Users/sangwoopark/jhu_rockfish/2024_01_05_GEO/processed_files/'\n",
    "\n",
    "dinfo_dkey = {'GM_NCP_sp_1rep_deep_chr1_score.gtab.gz':\n",
    "              {'GM_NCP_sp_8_1rep_deep': ('GM', 'score', 8)}}\n",
    "\n",
    "dkey_chr_ID_value = load_file.read_gtab_batch(dinfo_dkey,\n",
    "                                              data_path=gtab_path,\n",
    "                                              chr_choices=chr_choices,\n",
    "                                              by_chr=True)"
   ]
  },
  {
   "cell_type": "code",
   "execution_count": 34,
   "id": "4ec8c2ac-5536-41e2-a52b-5c20533f4d48",
   "metadata": {
    "collapsed": false
   },
   "outputs": [],
   "source": [
    "### loading the chromHMM data\n",
    "chromHMM_path = '/Users/sangwoopark/jhu_rockfish/chromHMM_data/'\n",
    "\n",
    "HMM_fname, name_dict, states = cell_chromHMM[cell]\n",
    "chr_state_intervals = load_file.read_chromHMM(chromHMM_path + HMM_fname,\n",
    "                                              state_name=name_dict,\n",
    "                                              chr_choices=chr_choices)"
   ]
  },
  {
   "cell_type": "code",
   "execution_count": 35,
   "id": "9288b17f-8e53-4536-bae0-3369e4dac8fd",
   "metadata": {
    "collapsed": false
   },
   "outputs": [
    {
     "name": "stdout",
     "output_type": "stream",
     "text": [
      "hash fucntion is built\n"
     ]
    }
   ],
   "source": [
    "### make chromHMM interval dictionary\n",
    "chr_state_dict = {}\n",
    "for chr in chr_choices:\n",
    "    state_intervals = chr_state_intervals[chr]\n",
    "    dID_interval = {}\n",
    "    for state in state_intervals:        \n",
    "        intervals = state_intervals[state]\n",
    "        for i in range(len(intervals)):\n",
    "            dID = state + ':' + str(i)\n",
    "            assert dID not in dID_interval\n",
    "            dID_interval[dID] = intervals[i]\n",
    "\n",
    "    state_dict = Interval_dict.double_hash(dID_interval)\n",
    "    chr_state_dict[chr] = state_dict"
   ]
  },
  {
   "cell_type": "code",
   "execution_count": 36,
   "id": "59286d92-29c6-4e98-a32f-e52e964d8721",
   "metadata": {
    "collapsed": false
   },
   "outputs": [],
   "source": [
    "### categorize by chromHMM\n",
    "dkey_state_IDs = {}\n",
    "for dkey in dkey_chr_ID_value:\n",
    "    chr_ID_value = dkey_chr_ID_value[dkey]\n",
    "    state_IDs = {}\n",
    "    for chr in chr_ID_value:\n",
    "        try:\n",
    "            ID_pos = {ID:ID[1] for ID in chr_ID_value[chr]}        \n",
    "            state_IDs_temp = statis.categorize(chr_state_intervals[chr],\n",
    "                                               ID_pos,\n",
    "                                               hash_func=chr_state_dict[chr])\n",
    "        except:\n",
    "            ID_interval = {ID:(ID[1], ID[2]) for ID in chr_ID_value[chr]}        \n",
    "            state_IDs_temp = statis.categorize_bin(chr_state_intervals[chr],\n",
    "                                                   ID_interval,\n",
    "                                                   hash_func=chr_state_dict[chr])\n",
    "\n",
    "        for state in state_IDs_temp:\n",
    "            if state not in state_IDs:\n",
    "                state_IDs[state] = []\n",
    "            state_IDs[state] +=state_IDs_temp[state]\n",
    "    dkey_state_IDs[dkey] = state_IDs\n",
    "    "
   ]
  },
  {
   "cell_type": "code",
   "execution_count": 37,
   "id": "d7f1479c-298c-4d37-b57e-2933f272d5d2",
   "metadata": {
    "collapsed": false
   },
   "outputs": [],
   "source": [
    "### get values for each state\n",
    "dkey_state_values = {}\n",
    "for dkey in dkey_state_IDs:    \n",
    "    state_IDs = dkey_state_IDs[dkey]\n",
    "    chr_ID_value = dkey_chr_ID_value[dkey]\n",
    "    \n",
    "    state_values = {}\n",
    "    for state, IDs in state_IDs.items():\n",
    "        values = [chr_ID_value[ID[0]][ID] for ID in IDs]\n",
    "        if state not in state_values:\n",
    "            state_values[state] = []\n",
    "        state_values[state] += values\n",
    "\n",
    "    dkey_state_values[dkey] = state_values"
   ]
  },
  {
   "cell_type": "code",
   "execution_count": 38,
   "id": "1670938c-b197-4255-89b1-008460d1ffa5",
   "metadata": {
    "collapsed": false
   },
   "outputs": [
    {
     "data": {
      "image/png": "[encoded data removed]",
      "text/plain": [
       "<Figure size 576x432 with 1 Axes>"
      ]
     },
     "metadata": {},
     "output_type": "display_data"
    }
   ],
   "source": [
    "### plot the chromHMM\n",
    "for dkey in dkey_state_IDs:\n",
    "    state_IDs = dkey_state_IDs[dkey]\n",
    "    chr_ID_value = dkey_chr_ID_value[dkey]\n",
    "    \n",
    "    state_values = {}\n",
    "    for state, IDs in state_IDs.items():\n",
    "        values = [chr_ID_value[ID[0]][ID] for ID in IDs]\n",
    "        if state not in state_values:\n",
    "            state_values[state] = []\n",
    "        state_values[state] += values\n",
    "\n",
    "    graphics.plot_boxplot (state_values,\n",
    "                           keys = states,\n",
    "                           ylabel='Condensability (A.U.)',\n",
    "                           rotation=75)\n",
    "    "
   ]
  },
  {
   "cell_type": "code",
   "execution_count": 39,
   "id": "fc89301b-c662-4ac3-872a-0d8cf267b9d7",
   "metadata": {
    "collapsed": false
   },
   "outputs": [],
   "source": [
    "### statistical testing\n",
    "testings = ['ttest', 'mannwhitneyu', 'kruskal']\n",
    "dkey_testing_pair_pvalue = {}\n",
    "for dkey in dkey_state_IDs:\n",
    "    state_IDs = dkey_state_IDs[dkey]\n",
    "    chr_ID_value = dkey_chr_ID_value[dkey]\n",
    "    \n",
    "    state_values = {}\n",
    "    for state, IDs in state_IDs.items():\n",
    "        values = [chr_ID_value[ID[0]][ID] for ID in IDs]\n",
    "        if state not in state_values:\n",
    "            state_values[state] = []\n",
    "        state_values[state] += values\n",
    "\n",
    "    testing_pair_pvalue = {}\n",
    "    for i in range(len(states)-1):\n",
    "        for j in range(i+1, len(states)):\n",
    "            \n",
    "            state1 = states[i]\n",
    "            state2 = states[j]\n",
    "            values1 = state_values[state1]\n",
    "            values2 = state_values[state2]\n",
    "            \n",
    "            pair = (state1, state2)\n",
    "            for testing in testings:\n",
    "                if testing == 'ttest':\n",
    "                    pvalue = stats.ttest_ind(values1, values2, equal_var=False)[1]\n",
    "                elif testing == 'mannwhitneyu':\n",
    "                    pvalue = stats.mannwhitneyu(values1, values2)[1]\n",
    "                elif testing == 'kruskal':\n",
    "                    pvalue = stats.kruskal(values1, values2)[1]\n",
    "\n",
    "                if testing not in testing_pair_pvalue:\n",
    "                    testing_pair_pvalue[testing] = {}\n",
    "                \n",
    "                assert pair not in testing_pair_pvalue[testing]\n",
    "                testing_pair_pvalue[testing][pair] = pvalue\n",
    "\n",
    "    dkey_testing_pair_pvalue[dkey] = testing_pair_pvalue"
   ]
  },
  {
   "cell_type": "code",
   "execution_count": 40,
   "id": "25009e24-78de-4261-a290-5fb7574571b0",
   "metadata": {
    "collapsed": false
   },
   "outputs": [
    {
     "name": "stdout",
     "output_type": "stream",
     "text": [
      "ttest\n",
      "('Active promoter', 'Weak promoter') 2.966444285676536\n",
      "('Active promoter', 'Poised promoter') 10.0\n",
      "('Active promoter', 'Strong enhancer') 10.0\n",
      "('Active promoter', 'Active enhancer') 10.0\n",
      "('Active promoter', 'Weak enhancer') 10.0\n",
      "('Active promoter', 'Tx elongation') 10.0\n",
      "('Active promoter', 'Weak Tx') 10.0\n",
      "('Active promoter', 'Insulator') 10.0\n",
      "('Active promoter', 'Polycomb repressed') 10.0\n",
      "('Active promoter', 'Heterochromatin') 10.0\n",
      "('Active promoter', 'Quiescence') 10.0\n",
      "('Weak promoter', 'Poised promoter') 10.0\n",
      "('Weak promoter', 'Strong enhancer') 10.0\n",
      "('Weak promoter', 'Active enhancer') 10.0\n",
      "('Weak promoter', 'Weak enhancer') 10.0\n",
      "('Weak promoter', 'Tx elongation') 10.0\n",
      "('Weak promoter', 'Weak Tx') 10.0\n",
      "('Weak promoter', 'Insulator') 10.0\n",
      "('Weak promoter', 'Polycomb repressed') 10.0\n",
      "('Weak promoter', 'Heterochromatin') 10.0\n",
      "('Weak promoter', 'Quiescence') 10.0\n",
      "('Poised promoter', 'Strong enhancer') 10.0\n",
      "('Poised promoter', 'Active enhancer') 10.0\n",
      "('Poised promoter', 'Weak enhancer') 10.0\n",
      "('Poised promoter', 'Tx elongation') 10.0\n",
      "('Poised promoter', 'Weak Tx') 10.0\n",
      "('Poised promoter', 'Insulator') 10.0\n",
      "('Poised promoter', 'Polycomb repressed') 10.0\n",
      "('Poised promoter', 'Heterochromatin') 10.0\n",
      "('Poised promoter', 'Quiescence') 10.0\n",
      "('Strong enhancer', 'Active enhancer') 10.0\n",
      "('Strong enhancer', 'Weak enhancer') 10.0\n",
      "('Strong enhancer', 'Tx elongation') 10.0\n",
      "('Strong enhancer', 'Weak Tx') 10.0\n",
      "('Strong enhancer', 'Insulator') 10.0\n",
      "('Strong enhancer', 'Polycomb repressed') 10.0\n",
      "('Strong enhancer', 'Heterochromatin') 10.0\n",
      "('Strong enhancer', 'Quiescence') 10.0\n",
      "('Active enhancer', 'Weak enhancer') 10.0\n",
      "('Active enhancer', 'Tx elongation') 10.0\n",
      "('Active enhancer', 'Weak Tx') 10.0\n",
      "('Active enhancer', 'Insulator') 10.0\n",
      "('Active enhancer', 'Polycomb repressed') 10.0\n",
      "('Active enhancer', 'Heterochromatin') 10.0\n",
      "('Active enhancer', 'Quiescence') 10.0\n",
      "('Weak enhancer', 'Tx elongation') 9.999998227568062\n",
      "('Weak enhancer', 'Weak Tx') 10.0\n",
      "('Weak enhancer', 'Insulator') 10.0\n",
      "('Weak enhancer', 'Polycomb repressed') 10.0\n",
      "('Weak enhancer', 'Heterochromatin') 10.0\n",
      "('Weak enhancer', 'Quiescence') 10.0\n",
      "('Tx elongation', 'Weak Tx') 10.0\n",
      "('Tx elongation', 'Insulator') 10.0\n",
      "('Tx elongation', 'Polycomb repressed') 10.0\n",
      "('Tx elongation', 'Heterochromatin') 10.0\n",
      "('Tx elongation', 'Quiescence') 10.0\n",
      "('Weak Tx', 'Insulator') 4.712396722919133\n",
      "('Weak Tx', 'Polycomb repressed') 10.0\n",
      "('Weak Tx', 'Heterochromatin') 10.0\n",
      "('Weak Tx', 'Quiescence') 10.0\n",
      "('Insulator', 'Polycomb repressed') 10.0\n",
      "('Insulator', 'Heterochromatin') 10.0\n",
      "('Insulator', 'Quiescence') 10.0\n",
      "('Polycomb repressed', 'Heterochromatin') 10.0\n",
      "('Polycomb repressed', 'Quiescence') 10.0\n",
      "('Heterochromatin', 'Quiescence') 10.0\n"
     ]
    },
    {
     "data": {
      "image/png": "[encoded data removed]",
      "text/plain": [
       "<Figure size 432x288 with 2 Axes>"
      ]
     },
     "metadata": {},
     "output_type": "display_data"
    },
    {
     "name": "stdout",
     "output_type": "stream",
     "text": [
      "\n",
      "mannwhitneyu\n",
      "('Active promoter', 'Weak promoter') 9.900985421316152\n",
      "('Active promoter', 'Poised promoter') 10.0\n",
      "('Active promoter', 'Strong enhancer') 10.0\n",
      "('Active promoter', 'Active enhancer') 10.0\n",
      "('Active promoter', 'Weak enhancer') 10.0\n",
      "('Active promoter', 'Tx elongation') 10.0\n",
      "('Active promoter', 'Weak Tx') 10.0\n",
      "('Active promoter', 'Insulator') 10.0\n",
      "('Active promoter', 'Polycomb repressed') 10.0\n",
      "('Active promoter', 'Heterochromatin') 10.0\n",
      "('Active promoter', 'Quiescence') 10.0\n",
      "('Weak promoter', 'Poised promoter') 10.0\n",
      "('Weak promoter', 'Strong enhancer') 10.0\n",
      "('Weak promoter', 'Active enhancer') 10.0\n",
      "('Weak promoter', 'Weak enhancer') 10.0\n",
      "('Weak promoter', 'Tx elongation') 10.0\n",
      "('Weak promoter', 'Weak Tx') 10.0\n",
      "('Weak promoter', 'Insulator') 10.0\n",
      "('Weak promoter', 'Polycomb repressed') 10.0\n",
      "('Weak promoter', 'Heterochromatin') 10.0\n",
      "('Weak promoter', 'Quiescence') 10.0\n",
      "('Poised promoter', 'Strong enhancer') 10.0\n",
      "('Poised promoter', 'Active enhancer') 10.0\n",
      "('Poised promoter', 'Weak enhancer') 10.0\n",
      "('Poised promoter', 'Tx elongation') 10.0\n",
      "('Poised promoter', 'Weak Tx') 10.0\n",
      "('Poised promoter', 'Insulator') 10.0\n",
      "('Poised promoter', 'Polycomb repressed') 10.0\n",
      "('Poised promoter', 'Heterochromatin') 10.0\n",
      "('Poised promoter', 'Quiescence') 10.0\n",
      "('Strong enhancer', 'Active enhancer') 10.0\n",
      "('Strong enhancer', 'Weak enhancer') 10.0\n",
      "('Strong enhancer', 'Tx elongation') 10.0\n",
      "('Strong enhancer', 'Weak Tx') 10.0\n",
      "('Strong enhancer', 'Insulator') 10.0\n",
      "('Strong enhancer', 'Polycomb repressed') 10.0\n",
      "('Strong enhancer', 'Heterochromatin') 10.0\n",
      "('Strong enhancer', 'Quiescence') 10.0\n",
      "('Active enhancer', 'Weak enhancer') 10.0\n",
      "('Active enhancer', 'Tx elongation') 10.0\n",
      "('Active enhancer', 'Weak Tx') 10.0\n",
      "('Active enhancer', 'Insulator') 10.0\n",
      "('Active enhancer', 'Polycomb repressed') 10.0\n",
      "('Active enhancer', 'Heterochromatin') 10.0\n",
      "('Active enhancer', 'Quiescence') 10.0\n",
      "('Weak enhancer', 'Tx elongation') 9.999999999999998\n",
      "('Weak enhancer', 'Weak Tx') 10.0\n",
      "('Weak enhancer', 'Insulator') 10.0\n",
      "('Weak enhancer', 'Polycomb repressed') 10.0\n",
      "('Weak enhancer', 'Heterochromatin') 10.0\n",
      "('Weak enhancer', 'Quiescence') 10.0\n",
      "('Tx elongation', 'Weak Tx') 10.0\n",
      "('Tx elongation', 'Insulator') 10.0\n",
      "('Tx elongation', 'Polycomb repressed') 10.0\n",
      "('Tx elongation', 'Heterochromatin') 10.0\n",
      "('Tx elongation', 'Quiescence') 10.0\n",
      "('Weak Tx', 'Insulator') 1.7470259808650033\n",
      "('Weak Tx', 'Polycomb repressed') 10.0\n",
      "('Weak Tx', 'Heterochromatin') 10.0\n",
      "('Weak Tx', 'Quiescence') 10.0\n",
      "('Insulator', 'Polycomb repressed') 10.0\n",
      "('Insulator', 'Heterochromatin') 10.0\n",
      "('Insulator', 'Quiescence') 10.0\n",
      "('Polycomb repressed', 'Heterochromatin') 10.0\n",
      "('Polycomb repressed', 'Quiescence') 10.0\n",
      "('Heterochromatin', 'Quiescence') 10.0\n"
     ]
    },
    {
     "data": {
      "image/png": "[encoded data removed]",
      "text/plain": [
       "<Figure size 432x288 with 2 Axes>"
      ]
     },
     "metadata": {},
     "output_type": "display_data"
    },
    {
     "name": "stdout",
     "output_type": "stream",
     "text": [
      "\n",
      "kruskal\n",
      "('Active promoter', 'Weak promoter') 9.82040942589525\n",
      "('Active promoter', 'Poised promoter') 10.0\n",
      "('Active promoter', 'Strong enhancer') 10.0\n",
      "('Active promoter', 'Active enhancer') 10.0\n",
      "('Active promoter', 'Weak enhancer') 10.0\n",
      "('Active promoter', 'Tx elongation') 10.0\n",
      "('Active promoter', 'Weak Tx') 10.0\n",
      "('Active promoter', 'Insulator') 10.0\n",
      "('Active promoter', 'Polycomb repressed') 10.0\n",
      "('Active promoter', 'Heterochromatin') 10.0\n",
      "('Active promoter', 'Quiescence') 10.0\n",
      "('Weak promoter', 'Poised promoter') 10.0\n",
      "('Weak promoter', 'Strong enhancer') 10.0\n",
      "('Weak promoter', 'Active enhancer') 10.0\n",
      "('Weak promoter', 'Weak enhancer') 10.0\n",
      "('Weak promoter', 'Tx elongation') 10.0\n",
      "('Weak promoter', 'Weak Tx') 10.0\n",
      "('Weak promoter', 'Insulator') 10.0\n",
      "('Weak promoter', 'Polycomb repressed') 10.0\n",
      "('Weak promoter', 'Heterochromatin') 10.0\n",
      "('Weak promoter', 'Quiescence') 10.0\n",
      "('Poised promoter', 'Strong enhancer') 10.0\n",
      "('Poised promoter', 'Active enhancer') 10.0\n",
      "('Poised promoter', 'Weak enhancer') 10.0\n",
      "('Poised promoter', 'Tx elongation') 10.0\n",
      "('Poised promoter', 'Weak Tx') 10.0\n",
      "('Poised promoter', 'Insulator') 10.0\n",
      "('Poised promoter', 'Polycomb repressed') 10.0\n",
      "('Poised promoter', 'Heterochromatin') 10.0\n",
      "('Poised promoter', 'Quiescence') 10.0\n",
      "('Strong enhancer', 'Active enhancer') 10.0\n",
      "('Strong enhancer', 'Weak enhancer') 10.0\n",
      "('Strong enhancer', 'Tx elongation') 10.0\n",
      "('Strong enhancer', 'Weak Tx') 10.0\n",
      "('Strong enhancer', 'Insulator') 10.0\n",
      "('Strong enhancer', 'Polycomb repressed') 10.0\n",
      "('Strong enhancer', 'Heterochromatin') 10.0\n",
      "('Strong enhancer', 'Quiescence') 10.0\n",
      "('Active enhancer', 'Weak enhancer') 10.0\n",
      "('Active enhancer', 'Tx elongation') 10.0\n",
      "('Active enhancer', 'Weak Tx') 10.0\n",
      "('Active enhancer', 'Insulator') 10.0\n",
      "('Active enhancer', 'Polycomb repressed') 10.0\n",
      "('Active enhancer', 'Heterochromatin') 10.0\n",
      "('Active enhancer', 'Quiescence') 10.0\n",
      "('Weak enhancer', 'Tx elongation') 9.999999999999995\n",
      "('Weak enhancer', 'Weak Tx') 10.0\n",
      "('Weak enhancer', 'Insulator') 10.0\n",
      "('Weak enhancer', 'Polycomb repressed') 10.0\n",
      "('Weak enhancer', 'Heterochromatin') 10.0\n",
      "('Weak enhancer', 'Quiescence') 10.0\n",
      "('Tx elongation', 'Weak Tx') 10.0\n",
      "('Tx elongation', 'Insulator') 10.0\n",
      "('Tx elongation', 'Polycomb repressed') 10.0\n",
      "('Tx elongation', 'Heterochromatin') 10.0\n",
      "('Tx elongation', 'Quiescence') 10.0\n",
      "('Weak Tx', 'Insulator') 1.4459961121950633\n",
      "('Weak Tx', 'Polycomb repressed') 10.0\n",
      "('Weak Tx', 'Heterochromatin') 10.0\n",
      "('Weak Tx', 'Quiescence') 10.0\n",
      "('Insulator', 'Polycomb repressed') 10.0\n",
      "('Insulator', 'Heterochromatin') 10.0\n",
      "('Insulator', 'Quiescence') 10.0\n",
      "('Polycomb repressed', 'Heterochromatin') 10.0\n",
      "('Polycomb repressed', 'Quiescence') 10.0\n",
      "('Heterochromatin', 'Quiescence') 10.0\n"
     ]
    },
    {
     "data": {
      "image/png": "[encoded data removed]",
      "text/plain": [
       "<Figure size 432x288 with 2 Axes>"
      ]
     },
     "metadata": {},
     "output_type": "display_data"
    },
    {
     "name": "stdout",
     "output_type": "stream",
     "text": [
      "\n"
     ]
    }
   ],
   "source": [
    "for dkey in dkey_testing_pair_pvalue:\n",
    "    for testing in testings:\n",
    "        print testing\n",
    "        \n",
    "        pair_pvalue = dkey_testing_pair_pvalue[dkey][testing]\n",
    "\n",
    "        img = []\n",
    "        for i in range(len(states)):\n",
    "            row = []\n",
    "            for j in range(len(states)):\n",
    "                try:\n",
    "                    pair = (states[i], states[j])\n",
    "                    pvalue = pair_pvalue[pair] + 10**-10\n",
    "                    logpvalue = -np.log10(pvalue)\n",
    "                    print pair, logpvalue\n",
    "                except:\n",
    "                    logpvalue = np.nan\n",
    "                row.append(logpvalue)\n",
    "            img.append(row)\n",
    "\n",
    "        fig = plt.figure()\n",
    "        plt.imshow(img)\n",
    "        plt.colorbar()\n",
    "        plt.show()\n",
    "        plt.close()\n",
    "\n",
    "        print        "
   ]
  }
 ],
 "metadata": {
  "kernelspec": {
   "argv": [
    "python",
    "-m",
    "ipykernel_launcher",
    "-f",
    "{connection_file}"
   ],
   "display_name": "Python 2",
   "env": null,
   "interrupt_mode": "signal",
   "language": "python",
   "metadata": null,
   "name": "python2"
  },
  "name": "GM_chromHMM_score_plot.ipynb"
 },
 "nbformat": 4,
 "nbformat_minor": 2
}
