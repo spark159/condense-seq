{
 "cells": [
  {
   "cell_type": "markdown",
   "id": "5a1d15e8-dbd4-4cdc-923c-ff9a74205d61",
   "metadata": {
    "collapsed": false
   },
   "source": [
    "Conditional correlation analysis"
   ]
  },
  {
   "cell_type": "code",
   "execution_count": 22,
   "id": "5cade31f-3fca-495b-b0c2-2c33a57c4139",
   "metadata": {
    "collapsed": false
   },
   "outputs": [],
   "source": [
    "# python modules\n",
    "import copy\n",
    "import random\n",
    "import re\n",
    "import glob\n",
    "import numpy as np\n",
    "import matplotlib as mpl\n",
    "import matplotlib.pyplot as plt\n",
    "import scipy\n",
    "from scipy import stats"
   ]
  },
  {
   "cell_type": "code",
   "execution_count": 23,
   "id": "6188cd4d-9e08-4e96-9745-6e48ca19602f",
   "metadata": {
    "collapsed": false
   },
   "outputs": [],
   "source": [
    "# custom modules\n",
    "import graphics_edit as graphics\n",
    "import load_file_edit as load_file\n",
    "import Interval_dict\n",
    "import statis_edit as statis"
   ]
  },
  {
   "cell_type": "code",
   "execution_count": 24,
   "id": "3f861176-fde5-4909-9666-be50242fc744",
   "metadata": {
    "collapsed": false
   },
   "outputs": [],
   "source": [
    "# matplotlib setting\n",
    "%matplotlib inline\n",
    "mpl.rcParams[\"figure.facecolor\"] = \"white\"\n",
    "mpl.rcParams[\"axes.facecolor\"] = \"white\"\n",
    "mpl.rcParams[\"savefig.facecolor\"] = \"white\""
   ]
  },
  {
   "cell_type": "code",
   "execution_count": 25,
   "id": "1fee66c1-ba6d-4659-b206-d8543a3a63a4",
   "metadata": {
    "collapsed": false
   },
   "outputs": [],
   "source": [
    "### parameters\n",
    "cell_org = {'H1':'human',\n",
    "            'GM':'human',\n",
    "            'mCD8T:WT':'mouse',\n",
    "            'mCD8T:DFMO':'mouse',\n",
    "            'mCD8T:ODCKO':'mouse'}\n",
    "\n",
    "cell_chrnames = {'H1':['chr%s' % (i) for i in range(1, 23)] + ['chrX', 'chrY'],\n",
    "                 'GM':['chr%s' % (i) for i in range(1, 23)] + ['chrX'],\n",
    "                 'mCD8T:WT':['chr%s' % (i) for i in range(1, 20)] + ['chrX'],\n",
    "                 'mCD8T:DFMO':['chr%s' % (i) for i in range(1, 20)] + ['chrX'],\n",
    "                 'mCD8T:ODCKO':['chr%s' % (i) for i in range(1, 20)] + ['chrX']}"
   ]
  },
  {
   "cell_type": "code",
   "execution_count": 27,
   "id": "ea27be33-61f8-4584-ad2f-83c31d1bc987",
   "metadata": {
    "collapsed": false
   },
   "outputs": [],
   "source": [
    "### set data information (fname/field) and key\n",
    "path = '/Users/sangwoopark/jhu_rockfish/2024_01_05_GEO/processed_files/'\n",
    "\n",
    "dinfo_dkey = {'H1_NCP_sp_1rep_deep_chr1_score_table.gtab.gz':None}"
   ]
  },
  {
   "cell_type": "code",
   "execution_count": 28,
   "id": "d49cf920-9348-41fb-99a0-4a547c5be777",
   "metadata": {
    "collapsed": false
   },
   "outputs": [
    {
     "name": "stdout",
     "output_type": "stream",
     "text": [
      "loading H1_NCP_sp_1rep_deep_chr1_score_table.gtab.gz\n"
     ]
    }
   ],
   "source": [
    "### load gtab file\n",
    "dkey_ID_value = {}\n",
    "for fkey in dinfo_dkey:\n",
    "    field_dkey = dinfo_dkey[fkey]\n",
    "\n",
    "    if field_dkey == None:\n",
    "        field_choices = None\n",
    "    else:\n",
    "        field_choices = field_dkey.keys()\n",
    "    \n",
    "    for fname in glob.glob(path + '*'):\n",
    "        if not re.match(fkey, fname.rsplit('/')[-1]):\n",
    "            continue\n",
    "        print \"loading %s\" % (fname.rsplit('/')[-1])\n",
    "\n",
    "        field_ID_value = load_file.read_gtab(fname,\n",
    "                                             mode='col',\n",
    "                                             field_choices=field_choices)\n",
    "\n",
    "        if field_dkey == None:\n",
    "            field_dkey = {field:field for field in field_ID_value.keys()}\n",
    "\n",
    "        for field, dkey in field_dkey.items():\n",
    "            ID_value = field_ID_value[field]\n",
    "            if dkey not in dkey_ID_value:\n",
    "                dkey_ID_value[dkey] = {}\n",
    "            dkey_ID_value[dkey].update(ID_value)\n",
    "            "
   ]
  },
  {
   "cell_type": "code",
   "execution_count": 29,
   "id": "8f448c45-a1cf-47f0-b5ce-82784579305c",
   "metadata": {
    "collapsed": false
   },
   "outputs": [],
   "source": [
    "# change dkey name\n",
    "dkey_ID_value['AT content'] = copy.deepcopy(dkey_ID_value['ATcontent'])\n",
    "del dkey_ID_value['ATcontent']"
   ]
  },
  {
   "cell_type": "code",
   "execution_count": 30,
   "id": "9ee37bee-013e-4629-9fae-32cd89d77e19",
   "metadata": {
    "collapsed": false
   },
   "outputs": [],
   "source": [
    "### compute sequence features\n",
    "# methylation density\n",
    "dkey_ID_value['meCpG density'] = statis.get_fract_dict(dkey_ID_value['CNumber(CpG)'],\n",
    "                                                       dkey_ID_value['meCNumber(CpG)'])\n",
    "dkey_ID_value['meCHG density'] = statis.get_fract_dict(dkey_ID_value['CNumber(CHG)'],\n",
    "                                                       dkey_ID_value['meCNumber(CHG)'])\n",
    "dkey_ID_value['meCHH density'] = statis.get_fract_dict(dkey_ID_value['CNumber(CHH)'],\n",
    "                                                       dkey_ID_value['meCNumber(CHH)'])\n"
   ]
  },
  {
   "cell_type": "code",
   "execution_count": 31,
   "id": "c41f1d65-4144-4c4f-a119-759232ef63c3",
   "metadata": {
    "collapsed": false
   },
   "outputs": [],
   "source": [
    "### compute sequence features\n",
    "# mean poly GC length\n",
    "ID_polyGC = {}\n",
    "for ID, seq in dkey_ID_value['Sequence'].items():\n",
    "    num_pos = statis.polynt_count(seq.upper(), nts='GC', pos=True)\n",
    "    mean_len, count = 0.0, 0.0\n",
    "    for num, pos in num_pos.items():\n",
    "        mean_len += len(pos)*num\n",
    "        count += len(pos)\n",
    "    ID_polyGC[ID] = mean_len/count\n",
    "\n",
    "dkey_ID_value['poly-G/C length'] = ID_polyGC\n",
    "\n",
    "del dkey_ID_value['Sequence']\n",
    "del ID_polyGC\n"
   ]
  },
  {
   "cell_type": "code",
   "execution_count": 32,
   "id": "b52f5032-457c-4358-b63c-6ab55b92d8c1",
   "metadata": {
    "collapsed": false
   },
   "outputs": [],
   "source": [
    "### select feature set and target for analysis\n",
    "seq_features = ['AT content', 'poly-G/C length']\n",
    "seq_features = []\n",
    "\n",
    "epigenetic_features = ['meCpG density', 'meCHG density', 'meCHH density', 'H2AFZ', 'H2AK5ac', 'H2BK120ac', 'H2BK12ac', 'H2BK15ac', 'H2BK20ac', 'H2BK5ac', 'H3K14ac', 'H3K18ac', 'H3K23ac', 'H3K23me2', 'H3K27ac', 'H3K27me3', 'H3K36me3', 'H3K4ac', 'H3K4me1', 'H3K4me2', 'H3K4me3', 'H3K56ac', 'H3K79me1', 'H3K79me2', 'H3K9ac', 'H3K9me3', 'H4K20me1', 'H4K5ac', 'H4K8ac', 'H4K91ac']\n",
    "\n",
    "features = seq_features + epigenetic_features"
   ]
  },
  {
   "cell_type": "code",
   "execution_count": 33,
   "id": "f987892d-d889-4e05-91bf-1565aaa9d9bd",
   "metadata": {
    "collapsed": false
   },
   "outputs": [],
   "source": [
    "### set target for analysis\n",
    "target = 'H1_NCP_sp_8_1rep_deep'"
   ]
  },
  {
   "cell_type": "code",
   "execution_count": null,
   "id": "bf535829-0ee9-4836-9500-65c8f720ade0",
   "metadata": {
    "collapsed": false
   },
   "outputs": [],
   "source": [
    "### binning the features and get state\n",
    "ID_score = dkey_ID_value[target]\n",
    "IDs = ID_score.keys()\n",
    "\n",
    "X = [[] for i in range(len(IDs))]\n",
    "for feature in features:\n",
    "    values = [dkey_ID_value[feature][ID] for ID in IDs]\n",
    "    min_value = min(values)\n",
    "    max_value = max(values)\n",
    "    for i in range(len(IDs)):\n",
    "        value = values[i]\n",
    "        re_value = float(value-min_value)/max_value\n",
    "        X[i].append(re_value)\n",
    "X = sparse.csr_matrix(X)\n",
    "del dkey_ID_value"
   ]
  },
  {
   "cell_type": "code",
   "execution_count": null,
   "id": "af83d9c8-ac66-4658-9d39-2d44a6725f0b",
   "metadata": {
    "collapsed": false
   },
   "outputs": [],
   "source": [
    "# None-negative matrix factorization\n",
    "class_num = 10\n",
    "\n",
    "try:\n",
    "    with open(\"W.pickle\", \"rb\") as f:\n",
    "        W = pickle.load(f)\n",
    "    with open(\"H.pickle\", \"rb\") as f:\n",
    "        H = pickle.load(f)\n",
    "\n",
    "except:\n",
    "    print \"NMF start\"\n",
    "    model = NMF(n_components=class_num, init='random', random_state=0, verbose=True)\n",
    "    W = model.fit_transform(X)\n",
    "    H = model.components_\n",
    "    print \"NMF is done\"\n",
    "\n",
    "    with open(\"W.pickle\", \"wb\") as f:\n",
    "        pickle.dump(W, f)\n",
    "    with open(\"H.pickle\", \"wb\") as f:\n",
    "        pickle.dump(H, f)"
   ]
  },
  {
   "cell_type": "code",
   "execution_count": null,
   "id": "ebfcdc2d-17ca-4295-89c6-26a6354f7c0f",
   "metadata": {
    "collapsed": false
   },
   "outputs": [],
   "source": [
    "# post-analysis of NMF\n",
    "cID_prog = []\n",
    "for i in range(class_num):\n",
    "    cID_prog.append(H[i])\n",
    "\n",
    "ID_cID = {}\n",
    "cID_IDs = [[] for i in range(class_num)]\n",
    "for i in range(len(IDs)):\n",
    "    ID = IDs[i]\n",
    "    cID = np.argmax(W[i])\n",
    "    ID_cID[ID] = cID\n",
    "    cID_IDs[cID].append(ID)\n",
    "\n",
    "cID_scores = [[] for i in range(class_num)]\n",
    "for i in range(len(cID_IDs)):\n",
    "    for ID in cID_IDs[i]:\n",
    "        score = ID_score[ID]\n",
    "        cID_scores[i].append(score)x"
   ]
  },
  {
   "cell_type": "code",
   "execution_count": null,
   "id": "35097098-2778-4c00-bd7b-125208c4157b",
   "metadata": {
    "collapsed": false
   },
   "outputs": [],
   "source": [
    "# sort according to condensability\n",
    "score_cID = sorted([(np.median(cID_scores[cID]), cID) for cID in range(len(cID_scores))])\n",
    "cID_list = [cID for score, cID in score_cID]\n",
    "cID_newcID = {cID_list[i]:i for i in range(len(cID_list))}\n",
    "ID_newcID = {}\n",
    "for ID in IDs:\n",
    "    cID = ID_cID[ID]\n",
    "    newcID = cID_newcID[cID]\n",
    "    ID_newcID[ID] = newcID\n",
    "    \n",
    "with open(\"NMF_sorted_cID.pickle\", \"wb\") as f:\n",
    "    pickle.dump(ID_newcID, f)"
   ]
  },
  {
   "cell_type": "code",
   "execution_count": null,
   "id": "3ea631a4-b110-4d0c-a494-7e5a3eb974f9",
   "metadata": {
    "collapsed": false
   },
   "outputs": [],
   "source": [
    "# plot property matrix\n",
    "def plot_NMF_basis_matrix (basis_matrix,\n",
    "                           basis_idxs,\n",
    "                           features,\n",
    "                           feature_cmaps=None,\n",
    "                           xlabel='Property class',\n",
    "                           title=None,\n",
    "                           fig_width=5,\n",
    "                           fig_height=6,\n",
    "                           ax=None,\n",
    "                           save=False,\n",
    "                           note=''):\n",
    "\n",
    "    if not ax:\n",
    "        fig, ax = plt.subplots(nrows=1,\n",
    "                               ncols=1,\n",
    "                               figsize=(fig_width, fig_height))\n",
    "        make_fig = True\n",
    "    else:\n",
    "        make_fig = False\n",
    "\n",
    "    assert len(basis_idxs) == len(basis_matrix)\n",
    "    assert len(features) == len(basis_matrix[0])\n",
    "\n",
    "    if not feature_cmaps:\n",
    "        feature_cmaps = ['Greys'] * len(features)\n",
    "        \n",
    "    elif type(feature_cmaps) == list:\n",
    "        if len(feature_cmaps) < len(features):\n",
    "            repeat = float(len(features)) / len(feature_cmaps)\n",
    "            repeat = int(math.ceil(repeat))\n",
    "            feature_cmaps = feature_cmaps * repeat\n",
    "            feature_cmaps = feature_cmaps[:len(features)]\n",
    "\n",
    "    elif type(feature_cmaps) == str:\n",
    "        feature_cmaps = [feature_cmaps] * len(features)\n",
    "        \n",
    "    imgs = []\n",
    "    for i in range(len(features)):\n",
    "        img = np.zeros((len(features), len(basis_idxs)))\n",
    "        img[:] = np.nan\n",
    "        for j in range(len(basis_idxs)):\n",
    "            idx = basis_idxs[j]\n",
    "            img[i][j] = basis_matrix[idx][i]\n",
    "        imgs.append(img)\n",
    "\n",
    "    for img, cmap in zip(imgs, feature_cmaps):\n",
    "        plt.imshow(img, cmap=cmap, aspect='auto')\n",
    "\n",
    "    for i in range(len(basis_idxs)):\n",
    "        idx = basis_idxs[i]\n",
    "        for j in range(len(features)):\n",
    "            mean = np.mean(basis_matrix[:,j])\n",
    "            std = np.std(bais_matrix[:,j])\n",
    "            value = basis_matrix[idx][j]\n",
    "            if value > mean + std:\n",
    "                color = 'white'\n",
    "            else:\n",
    "                color = 'black'\n",
    "            ax.text(i,\n",
    "                    j,\n",
    "                    str(round(value, 2)),\n",
    "                    ha=\"center\",\n",
    "                    va=\"center\",\n",
    "                    fontsize=8,\n",
    "                    color=color)\n",
    "\n",
    "    ax.set_xticks(range(len(basis_idxs)))\n",
    "    ax.set_xticklabels(range(1, len(basis_idxs)+1),\n",
    "                       fontsize=8)\n",
    "\n",
    "    ax.set_yticks(range(len(features)))\n",
    "    ax.set_yticklabels(features,\n",
    "                       fontsize=8)\n",
    "\n",
    "    if xlabel:\n",
    "        ax.set_xlabel(xlabel, fontsize=10)\n",
    "\n",
    "    if title:\n",
    "        ax.set_title(title, fontsize=12)\n",
    "\n",
    "    if make_fig:\n",
    "        if save:\n",
    "            plt.savefig(\"NMF_basis_matrix_%s.svg\" % (note),\n",
    "                        format='svg',\n",
    "                        bbox_inches='tight')\n",
    "        else:\n",
    "            plt.tight_layout()\n",
    "            plt.show()    \n",
    "        plt.close()\n",
    "\n",
    "    return ax"
   ]
  },
  {
   "cell_type": "code",
   "execution_count": null,
   "id": "8becba52-8b5f-4cbf-82af-39c34b1238c2",
   "metadata": {
    "collapsed": false
   },
   "outputs": [],
   "source": [
    "# plot property matrix\n",
    "cmaps = ['Reds', 'Blues', 'Greens', 'Purples', 'Oranges',  'Greys']\n",
    "plot_NMF_basis_matrix (H,\n",
    "                       cID_list,\n",
    "                       features,\n",
    "                       feature_cmaps=cmaps,\n",
    "                       xlabel='Property class',\n",
    "                       title=None,\n",
    "                       fig_width=5,\n",
    "                       fig_height=6,\n",
    "                       ax=None,\n",
    "                       save=False,\n",
    "                       note='H1_NCP')"
   ]
  },
  {
   "cell_type": "code",
   "execution_count": null,
   "id": "d6c6b1e5-2080-4d1c-a775-1ac79cf686e9",
   "metadata": {
    "collapsed": false
   },
   "outputs": [],
   "source": [
    "# plot condensability of each property class\n",
    "fig = plt.figure(figsize=(5,3))\n",
    "plt.boxplot([cID_scores[cID] for cID in cID_list], 0, \"\")\n",
    "plt.title(\"Condensability by property class\", fontsize=12)\n",
    "#plt.xlabel('Property class', fontsize=10)\n",
    "plt.ylabel('Condensability (A.U.)', fontsize=10)\n",
    "plt.gca().tick_params(axis='both', which='major', labelsize=8)\n",
    "plt.gca().tick_params(axis='both', which='minor', labelsize=8)\n",
    "plt.savefig(\"condensability_by_class.svg\", format='svg', bbox_inches='tight')\n",
    "#plt.xticks(range(1, len(cID_scores)+1), range(1, len(cID_scores)+1))\n",
    "#plt.tight_layout()\n",
    "#plt.savefig(\"anatomy_pbox.png\")\n",
    "#plt.show()\n",
    "plt.close()"
   ]
  },
  {
   "cell_type": "code",
   "execution_count": null,
   "id": "ab1084e7-0506-48b4-be45-a0d13e88db0b",
   "metadata": {
    "collapsed": false
   },
   "outputs": [],
   "source": [
    "# print NMF result\n",
    "f = open(\"NMF_property_class.txt\", 'w')\n",
    "print >> f, \"Class#\" + \"\\t\" + \"\\t\".join(names)\n",
    "for i in range(len(cID_prog)):\n",
    "    print >> f, str(i+1) + \"\\t\" + \"\\t\".join([str(value) for value in cID_prog[i]])\n",
    "f.close()\n",
    "\n",
    "f = open(\"NMF_NCPClass.txt\", 'w')\n",
    "print >> f, \"ID\" + \"\\t\" + \"Class#\"\n",
    "for ID in ID_cID:\n",
    "    print >> f, str(ID) + \"\\t\" + str(ID_cID[ID]+1)\n",
    "f.close()"
   ]
  }
 ],
 "metadata": {
  "kernelspec": {
   "argv": [
    "python",
    "-m",
    "ipykernel_launcher",
    "-f",
    "{connection_file}"
   ],
   "display_name": "Python 2",
   "env": null,
   "interrupt_mode": "signal",
   "language": "python",
   "metadata": null,
   "name": "python2"
  },
  "name": "human_NMF.ipynb"
 },
 "nbformat": 4,
 "nbformat_minor": 2
}
