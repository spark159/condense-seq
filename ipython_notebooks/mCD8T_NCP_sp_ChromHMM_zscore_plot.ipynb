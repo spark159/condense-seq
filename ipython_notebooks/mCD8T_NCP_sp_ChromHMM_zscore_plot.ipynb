{
 "cells": [
  {
   "cell_type": "markdown",
   "id": "027ab086-726f-4a5d-b232-5aa96d978f35",
   "metadata": {
    "collapsed": false
   },
   "source": [
    "plot chromHMM"
   ]
  },
  {
   "cell_type": "code",
   "execution_count": 1,
   "id": "4048c6ae-9956-448a-b68d-bbf66979decf",
   "metadata": {
    "collapsed": false
   },
   "outputs": [],
   "source": [
    "# python modules\n",
    "import sys\n",
    "import copy\n",
    "import re\n",
    "import random\n",
    "import glob\n",
    "import numpy as np\n",
    "import matplotlib as mpl\n",
    "import matplotlib.pyplot as plt\n",
    "import scipy\n",
    "from scipy import stats\n"
   ]
  },
  {
   "cell_type": "code",
   "execution_count": 2,
   "id": "b29f24b4-8f56-4602-bbf3-834409779ac1",
   "metadata": {
    "collapsed": false
   },
   "outputs": [],
   "source": [
    "# custom modules\n",
    "sys.path.append('/Users/sangwoopark/Projects/condense-seq/postpro_scripts')\n",
    "import graphics_edit as graphics\n",
    "import load_file_edit as load_file\n",
    "import Interval_dict\n",
    "import statis_edit as statis\n"
   ]
  },
  {
   "cell_type": "code",
   "execution_count": 3,
   "id": "dc1b4874-d649-4209-8092-337698a6db63",
   "metadata": {
    "collapsed": false
   },
   "outputs": [],
   "source": [
    "# matplotlib setting\n",
    "%matplotlib inline\n",
    "mpl.rcParams[\"figure.facecolor\"] = \"white\"\n",
    "mpl.rcParams[\"axes.facecolor\"] = \"white\"\n",
    "mpl.rcParams[\"savefig.facecolor\"] = \"white\"\n"
   ]
  },
  {
   "cell_type": "code",
   "execution_count": 4,
   "id": "cd772696-e849-4505-b9ae-16cf63b17e4d",
   "metadata": {
    "collapsed": false
   },
   "outputs": [],
   "source": [
    "### parameters\n",
    "cell_org = {'H1':'human',\n",
    "            'GM':'human',\n",
    "            'mCD8T:WT':'mouse',\n",
    "            'mCD8T:DFMO':'mouse',\n",
    "            'mCD8T:ODCKO':'mouse'}\n",
    "\n",
    "cell_chrnames = {'H1':['chr%s' % (i) for i in range(1, 23)] + ['chrX', 'chrY'],\n",
    "                 'GM':['chr%s' % (i) for i in range(1, 23)] + ['chrX'],\n",
    "                 'mCD8T:WT':['chr%s' % (i) for i in range(1, 20)] + ['chrX'],\n",
    "                 'mCD8T:DFMO':['chr%s' % (i) for i in range(1, 20)] + ['chrX'],\n",
    "                 'mCD8T:ODCKO':['chr%s' % (i) for i in range(1, 20)] + ['chrX']}\n"
   ]
  },
  {
   "cell_type": "code",
   "execution_count": 5,
   "id": "283f889f-26a9-41f7-b33c-4ad13bff2483",
   "metadata": {
    "collapsed": false
   },
   "outputs": [],
   "source": [
    "agent_fullname = {'sp':'Spermine(4+)',\n",
    "                  'spd':'Spermidine(3+)',\n",
    "                  'CoH':'Cobalt Hexammine(3+)',\n",
    "                  'PEG':'PEG 8000',\n",
    "                  'HP1a':'HP1$\\\\alpha$',\n",
    "                  'HP1bSUV':'HP1$\\\\beta$+tSUV',\n",
    "                  'LKH':'Linker histone1',\n",
    "                  'Ki67':'Ki67',\n",
    "                  'FUS':'FUS',\n",
    "                  'Mg':'Magnesium',\n",
    "                  'Ca':'Calcium'}\n"
   ]
  },
  {
   "cell_type": "code",
   "execution_count": 6,
   "id": "f4cccea3-81c9-4c92-a89d-58710f7b2f01",
   "metadata": {
    "collapsed": false
   },
   "outputs": [],
   "source": [
    "## for H1\n",
    "H1_name_dict = {\"E1\":\"Polycomb repressed\",\n",
    "                \"E2\":\"Poised promoter\",\n",
    "                \"E3\":\"Weak promoter\",\n",
    "                \"E4\":\"Strong enhancer\",\n",
    "                \"E5\":\"Active promoter\",\n",
    "                \"E6\":\"Weak enhancer\",\n",
    "                \"E7\":\"Quiescence1\",\n",
    "                \"E8\":\"Quiescence2\",\n",
    "                \"E9\":\"Heterochromatin\",\n",
    "                \"E10\":\"Tx elongation\",\n",
    "                \"E11\":\"Weak Tx\",\n",
    "                \"E12\":\"Insulator\"}\n",
    "\n",
    "# state for H1\n",
    "H1_states = [\"Active promoter\", \"Weak promoter\", \"Poised promoter\", \"Strong enhancer\", \"Weak enhancer\", \"Tx elongation\", \"Weak Tx\", \"Insulator\", \"Polycomb repressed\", \"Heterochromatin\", \"Quiescence1\", \"Quiescence2\"]\n",
    "\n",
    "H1_HMM_fname = \"H1_12_segments.bed\"\n"
   ]
  },
  {
   "cell_type": "code",
   "execution_count": 7,
   "id": "c8135cec-1ec3-49f2-9c5e-8040a628e4e0",
   "metadata": {
    "collapsed": false
   },
   "outputs": [],
   "source": [
    "# for GM12878\n",
    "GM_name_dict = {\"E1\":\"Polycomb repressed\",\n",
    "                \"E2\":\"Quiescence\",\n",
    "                \"E3\":\"Heterochromatin\",\n",
    "                \"E4\":\"Weak Tx\",\n",
    "                \"E5\":\"Tx elongation\",\n",
    "                \"E6\":\"Weak enhancer\",\n",
    "                \"E7\":\"Active enhancer\",\n",
    "                \"E8\":\"Strong enhancer\",\n",
    "                \"E9\":\"Active promoter\",\n",
    "                \"E10\":\"Weak promoter\",\n",
    "                \"E11\":\"Poised promoter\",\n",
    "                \"E12\":\"Insulator\"}\n",
    "\n",
    "# state for GM\n",
    "GM_states = [\"Active promoter\", \"Weak promoter\", \"Poised promoter\", \"Strong enhancer\", \"Active enhancer\", \"Weak enhancer\", \"Tx elongation\", \"Weak Tx\", \"Insulator\", \"Polycomb repressed\", \"Heterochromatin\", \"Quiescence\"]\n",
    "\n",
    "GM_HMM_fname = \"GM12878_12_segments.bed\"\n"
   ]
  },
  {
   "cell_type": "code",
   "execution_count": 8,
   "id": "4e48968d-4f79-439f-b3d3-e8a530d9fdf6",
   "metadata": {
    "collapsed": false
   },
   "outputs": [],
   "source": [
    "# for mouse CD8 T cell\n",
    "mCD8T_name_dict = {\"E1\":\"Weak Tx\",\n",
    "                   \"E2\":\"Tx elongation\",\n",
    "                   \"E3\":\"Weak enhancer2\",\n",
    "                   \"E4\":\"Strong enhancer2\",\n",
    "                   \"E5\":\"Strong enhancer1\",\n",
    "                   \"E6\":\"Weak enhancer1\",\n",
    "                   \"E7\":\"Active promoter\",\n",
    "                   \"E8\":\"Poised promoter\",\n",
    "                   \"E9\":\"Polycomb repressed1\",\n",
    "                   \"E10\":\"Polycomb repressed2\",\n",
    "                   \"E11\":\"Quiescence\",\n",
    "                   \"E12\":\"Heterochromatin\"}\n",
    "\n",
    "# state for mouse CD8 T cell\n",
    "mCD8T_states = [\"Active promoter\", \"Poised promoter\", \"Strong enhancer1\", \"Strong enhancer2\", \"Weak enhancer1\", \"Weak enhancer2\", \"Tx elongation\", \"Weak Tx\", \"Polycomb repressed1\", \"Polycomb repressed2\", \"Heterochromatin\", \"Quiescence\"]\n",
    "\n",
    "mCD8T_HMM_fname = \"Mouse CD8 T cell (invitro activated)_12_segments.bed\"\n"
   ]
  },
  {
   "cell_type": "code",
   "execution_count": 9,
   "id": "0d0b11e6-9e89-4b84-974e-338db98eeaed",
   "metadata": {
    "collapsed": false
   },
   "outputs": [],
   "source": [
    "# data path\n",
    "#path = './data/'\n",
    "path = '/Users/sangwoopark/jhu_rockfish/2024_01_05_GEO/processed_files/'\n",
    "chromHMM_path = '/Users/sangwoopark/jhu_rockfish/chromHMM_data/'"
   ]
  },
  {
   "cell_type": "code",
   "execution_count": 10,
   "id": "cb67fe58-ba8d-425b-8802-2f1e99b28135",
   "metadata": {
    "collapsed": false
   },
   "outputs": [],
   "source": [
    "# chromHMM data set\n",
    "cell_chromHMM = {'H1':[H1_HMM_fname, H1_name_dict, H1_states],\n",
    "                 'GM':[GM_HMM_fname, GM_name_dict, GM_states],\n",
    "                 'mCD8T':[mCD8T_HMM_fname, mCD8T_name_dict, mCD8T_states]}\n"
   ]
  },
  {
   "cell_type": "code",
   "execution_count": 11,
   "id": "70e08ba4-4d39-46c3-ad93-273b46709755",
   "metadata": {
    "collapsed": false
   },
   "outputs": [],
   "source": [
    "### set target cell\n",
    "cell = 'mCD8T'"
   ]
  },
  {
   "cell_type": "code",
   "execution_count": 12,
   "id": "47a49eb1-3aff-4a61-aa10-2ed945459149",
   "metadata": {
    "collapsed": false
   },
   "outputs": [],
   "source": [
    "### set target chromosomesx\n",
    "#chr_choices = cell_chromHMM['H1']\n",
    "chr_choices = ['chr1']"
   ]
  },
  {
   "cell_type": "code",
   "execution_count": 13,
   "id": "d20e6528-a604-4d45-aa1a-87018ee9488c",
   "metadata": {
    "collapsed": false
   },
   "outputs": [
    {
     "name": "stdout",
     "output_type": "stream",
     "text": [
      "loading mCD8T:ODCKO_NCP_sp_1rep_deep_1kb_zscore.gtab.gz\n"
     ]
    },
    {
     "name": "stdout",
     "output_type": "stream",
     "text": [
      "loading mCD8T:WT_NCP_sp_1rep_deep_1kb_zscore.gtab.gz\n"
     ]
    },
    {
     "name": "stdout",
     "output_type": "stream",
     "text": [
      "loading mCD8T:DFMO_NCP_sp_1rep_deep_1kb_zscore.gtab.gz\n"
     ]
    },
    {
     "name": "stdout",
     "output_type": "stream",
     "text": [
      "Done\n"
     ]
    }
   ],
   "source": [
    "### load gtab file\n",
    "gtab_path = '/Users/sangwoopark/jhu_rockfish/2024_01_05_GEO/processed_files/'\n",
    "\n",
    "#dinfo_dkey = {'mCD8T:WT_NCP_sp_1rep_deep_chr1_zscore.gtab.gz':\n",
    "#              {'mCD8T:WT_NCP_sp_8_1rep_deep': ('mCD8T:WT', 'zscore', 8)},\n",
    "#              'mCD8T:DFMO_NCP_sp_1rep_deep_chr1_zscore.gtab.gz' :\n",
    "#              {'mCD8T:DFMO_NCP_sp_8_1rep_deep': ('mCD8T:DFMO', 'zscore', 8)},\n",
    "#              'mCD8T:ODCKO_NCP_sp_1rep_deep_chr1_zscore.gtab.gz' :\n",
    "#              {'mCD8T:ODCKO_NCP_sp_8_1rep_deep': ('mCD8T:ODCKO', 'zscore', 8)}\n",
    "#              }\n",
    "\n",
    "dinfo_dkey = {'mCD8T:WT_NCP_sp_1rep_deep_1kb_zscore.gtab.gz':\n",
    "              {'mCD8T:WT_NCP_sp_8_1rep_deep': ('mCD8T:WT', 'zscore', 8)},\n",
    "              'mCD8T:DFMO_NCP_sp_1rep_deep_1kb_zscore.gtab.gz' :\n",
    "              {'mCD8T:DFMO_NCP_sp_8_1rep_deep': ('mCD8T:DFMO', 'zscore', 8)},\n",
    "              'mCD8T:ODCKO_NCP_sp_1rep_deep_1kb_zscore.gtab.gz' :\n",
    "              {'mCD8T:ODCKO_NCP_sp_8_1rep_deep': ('mCD8T:ODCKO', 'zscore', 8)}\n",
    "              }\n",
    "\n",
    "dkey_chr_ID_value = load_file.read_gtab_batch(dinfo_dkey,\n",
    "                                              data_path=gtab_path,\n",
    "                                              chr_choices=chr_choices,\n",
    "                                              by_chr=True)"
   ]
  },
  {
   "cell_type": "code",
   "execution_count": 14,
   "id": "4b7a0a75-edbe-4a4e-85fb-78c4eff9c195",
   "metadata": {
    "collapsed": false
   },
   "outputs": [],
   "source": [
    "### compute the delta zscore compared to WT\n",
    "dkey0 = ('mCD8T:WT', 'zscore', 8)\n",
    "dkey1 = ('mCD8T:DFMO', 'zscore', 8)\n",
    "dkey2 = ('mCD8T:ODCKO', 'zscore', 8)\n",
    "\n",
    "new_dkey1 = ('mCD8T:DFMO', 'dzscore', 8)\n",
    "new_dkey2 = ('mCD8T:ODCKO', 'dzscore', 8)\n",
    "\n",
    "for chr in chr_choices:\n",
    "    ID_value0 = dkey_chr_ID_value[dkey0][chr]\n",
    "    ID_value1 = dkey_chr_ID_value[dkey1][chr]\n",
    "    ID_value2 = dkey_chr_ID_value[dkey2][chr]\n",
    "\n",
    "    ID_dvalue1 = {}\n",
    "    ID_dvalue2 = {}\n",
    "    for ID in ID_value0:\n",
    "        try:\n",
    "            dvalue1 = ID_value1[ID] - ID_value0[ID]\n",
    "            dvalue2 = ID_value2[ID] - ID_value0[ID]\n",
    "        except:\n",
    "            continue\n",
    "        ID_dvalue1[ID] = dvalue1\n",
    "        ID_dvalue2[ID] = dvalue2\n",
    "\n",
    "    if new_dkey1 not in dkey_chr_ID_value:\n",
    "        dkey_chr_ID_value[new_dkey1] = {}\n",
    "    dkey_chr_ID_value[new_dkey1][chr] = ID_dvalue1\n",
    "\n",
    "    if new_dkey2 not in dkey_chr_ID_value:\n",
    "        dkey_chr_ID_value[new_dkey2] = {}\n",
    "    dkey_chr_ID_value[new_dkey2][chr] = ID_dvalue2\n",
    "\n",
    "del dkey_chr_ID_value[dkey0]\n",
    "del dkey_chr_ID_value[dkey1]\n",
    "del dkey_chr_ID_value[dkey2]"
   ]
  },
  {
   "cell_type": "code",
   "execution_count": 15,
   "id": "4ec8c2ac-5536-41e2-a52b-5c20533f4d48",
   "metadata": {
    "collapsed": false
   },
   "outputs": [],
   "source": [
    "### loading the chromHMM data\n",
    "chromHMM_path = '/Users/sangwoopark/jhu_rockfish/chromHMM_data/'\n",
    "\n",
    "HMM_fname, name_dict, states = cell_chromHMM[cell]\n",
    "chr_state_intervals = load_file.read_chromHMM(chromHMM_path + HMM_fname,\n",
    "                                              state_name=name_dict,\n",
    "                                              chr_choices=chr_choices)"
   ]
  },
  {
   "cell_type": "code",
   "execution_count": 16,
   "id": "9288b17f-8e53-4536-bae0-3369e4dac8fd",
   "metadata": {
    "collapsed": false
   },
   "outputs": [
    {
     "name": "stdout",
     "output_type": "stream",
     "text": [
      "hash fucntion is built\n"
     ]
    }
   ],
   "source": [
    "### make chromHMM interval dictionary\n",
    "chr_state_dict = {}\n",
    "for chr in chr_choices:\n",
    "    state_intervals = chr_state_intervals[chr]\n",
    "    dID_interval = {}\n",
    "    for state in state_intervals:        \n",
    "        intervals = state_intervals[state]\n",
    "        for i in range(len(intervals)):\n",
    "            dID = state + ':' + str(i)\n",
    "            assert dID not in dID_interval\n",
    "            dID_interval[dID] = intervals[i]\n",
    "\n",
    "    state_dict = Interval_dict.double_hash(dID_interval)\n",
    "    chr_state_dict[chr] = state_dict"
   ]
  },
  {
   "cell_type": "code",
   "execution_count": 17,
   "id": "59286d92-29c6-4e98-a32f-e52e964d8721",
   "metadata": {
    "collapsed": false
   },
   "outputs": [],
   "source": [
    "### categorize by chromHMM\n",
    "dkey_state_IDs = {}\n",
    "for dkey in dkey_chr_ID_value:\n",
    "    chr_ID_value = dkey_chr_ID_value[dkey]\n",
    "    state_IDs = {}\n",
    "    for chr in chr_ID_value:\n",
    "        try:\n",
    "            ID_pos = {ID:ID[1] for ID in chr_ID_value[chr]}        \n",
    "            state_IDs_temp = statis.categorize(chr_state_intervals[chr],\n",
    "                                               ID_pos,\n",
    "                                               hash_func=chr_state_dict[chr])\n",
    "        except:\n",
    "            ID_interval = {ID:(ID[1], ID[2]) for ID in chr_ID_value[chr]}        \n",
    "            state_IDs_temp = statis.categorize_bin(chr_state_intervals[chr],\n",
    "                                                   ID_interval,\n",
    "                                                   hash_func=chr_state_dict[chr])\n",
    "\n",
    "        for state in state_IDs_temp:\n",
    "            if state not in state_IDs:\n",
    "                state_IDs[state] = []\n",
    "            state_IDs[state] +=state_IDs_temp[state]\n",
    "    dkey_state_IDs[dkey] = state_IDs\n",
    "    "
   ]
  },
  {
   "cell_type": "code",
   "execution_count": 18,
   "id": "d7f1479c-298c-4d37-b57e-2933f272d5d2",
   "metadata": {
    "collapsed": false
   },
   "outputs": [],
   "source": [
    "### get values for each state\n",
    "dkey_state_values = {}\n",
    "for dkey in dkey_state_IDs:    \n",
    "    state_IDs = dkey_state_IDs[dkey]\n",
    "    chr_ID_value = dkey_chr_ID_value[dkey]\n",
    "    \n",
    "    state_values = {}\n",
    "    for state, IDs in state_IDs.items():\n",
    "        values = [chr_ID_value[ID[0]][ID] for ID in IDs]\n",
    "        if state not in state_values:\n",
    "            state_values[state] = []\n",
    "        state_values[state] += values\n",
    "\n",
    "    dkey_state_values[dkey] = state_values"
   ]
  },
  {
   "cell_type": "code",
   "execution_count": 19,
   "id": "1670938c-b197-4255-89b1-008460d1ffa5",
   "metadata": {
    "collapsed": false
   },
   "outputs": [
    {
     "name": "stdout",
     "output_type": "stream",
     "text": [
      "('mCD8T:ODCKO', 'dzscore', 8)\n"
     ]
    },
    {
     "data": {
      "image/png": "[encoded data removed]",
      "text/plain": [
       "<Figure size 576x432 with 1 Axes>"
      ]
     },
     "metadata": {},
     "output_type": "display_data"
    },
    {
     "name": "stdout",
     "output_type": "stream",
     "text": [
      "('mCD8T:DFMO', 'dzscore', 8)\n"
     ]
    },
    {
     "data": {
      "image/png": "[encoded data removed]",
      "text/plain": [
       "<Figure size 576x432 with 1 Axes>"
      ]
     },
     "metadata": {},
     "output_type": "display_data"
    }
   ],
   "source": [
    "### plot the chromHMM (single)\n",
    "for dkey in dkey_state_IDs:\n",
    "    print dkey\n",
    "    state_values = dkey_state_values[dkey]\n",
    "    graphics.plot_boxplot (state_values,\n",
    "                           keys = states,\n",
    "                           ylabel='Condensability (A.U.)',\n",
    "                           rotation=75)\n",
    "    "
   ]
  },
  {
   "cell_type": "code",
   "execution_count": 20,
   "id": "3a7f0736-746b-4d78-8e59-51c98d0c0c4b",
   "metadata": {
    "collapsed": false
   },
   "outputs": [
    {
     "data": {
      "image/png": "[encoded data removed]",
      "text/plain": [
       "<Figure size 432x288 with 1 Axes>"
      ]
     },
     "metadata": {},
     "output_type": "display_data"
    },
    {
     "data": {
      "text/plain": [
       "<matplotlib.axes._subplots.AxesSubplot at 0x7feba0510710>"
      ]
     },
     "execution_count": 20,
     "metadata": {},
     "output_type": "execute_result"
    }
   ],
   "source": [
    "### plot the chromHMM (multiple)\n",
    "dkeys = [('mCD8T:DFMO', 'dzscore', 8),\n",
    "         ('mCD8T:ODCKO', 'dzscore', 8)]\n",
    "colors = ['tab:orange', 'tab:green']\n",
    "labels = ['+DFMO', 'ODC KO']\n",
    "\n",
    "graphics.plot_boxplot_multiple ([dkey_state_values[dkey] for dkey in dkeys],\n",
    "                                keys=states,\n",
    "                                axhline=0,\n",
    "                                ylabel='$\\\\Delta$z-score',\n",
    "                                rotation=75,\n",
    "                                colors=colors,\n",
    "                                labels=labels,\n",
    "                                legend_loc='best',\n",
    "                                note=\"mCD8T_score\")\n",
    "\n"
   ]
  },
  {
   "cell_type": "code",
   "execution_count": 21,
   "id": "fc89301b-c662-4ac3-872a-0d8cf267b9d7",
   "metadata": {
    "collapsed": false
   },
   "outputs": [],
   "source": [
    "### statistical testing\n",
    "testings = ['ttest', 'mannwhitneyu', 'kruskal']\n",
    "dkey_testing_pair_pvalue = {}\n",
    "for dkey in dkey_state_IDs:\n",
    "    state_IDs = dkey_state_IDs[dkey]\n",
    "    chr_ID_value = dkey_chr_ID_value[dkey]\n",
    "    \n",
    "    state_values = {}\n",
    "    for state, IDs in state_IDs.items():\n",
    "        values = [chr_ID_value[ID[0]][ID] for ID in IDs]\n",
    "        if state not in state_values:\n",
    "            state_values[state] = []\n",
    "        state_values[state] += values\n",
    "\n",
    "    testing_pair_pvalue = {}\n",
    "    for i in range(len(states)-1):\n",
    "        for j in range(i+1, len(states)):\n",
    "            \n",
    "            state1 = states[i]\n",
    "            state2 = states[j]\n",
    "            values1 = state_values[state1]\n",
    "            values2 = state_values[state2]\n",
    "            \n",
    "            pair = (state1, state2)\n",
    "            for testing in testings:\n",
    "                if testing == 'ttest':\n",
    "                    pvalue = stats.ttest_ind(values1, values2, equal_var=False)[1]\n",
    "                elif testing == 'mannwhitneyu':\n",
    "                    pvalue = stats.mannwhitneyu(values1, values2)[1]\n",
    "                elif testing == 'kruskal':\n",
    "                    pvalue = stats.kruskal(values1, values2)[1]\n",
    "\n",
    "                if testing not in testing_pair_pvalue:\n",
    "                    testing_pair_pvalue[testing] = {}\n",
    "                \n",
    "                assert pair not in testing_pair_pvalue[testing]\n",
    "                testing_pair_pvalue[testing][pair] = pvalue\n",
    "\n",
    "    dkey_testing_pair_pvalue[dkey] = testing_pair_pvalue"
   ]
  },
  {
   "cell_type": "code",
   "execution_count": 22,
   "id": "25009e24-78de-4261-a290-5fb7574571b0",
   "metadata": {
    "collapsed": false
   },
   "outputs": [
    {
     "name": "stdout",
     "output_type": "stream",
     "text": [
      "ttest\n",
      "('Active promoter', 'Poised promoter') 10.0\n",
      "('Active promoter', 'Strong enhancer1') 10.0\n",
      "('Active promoter', 'Strong enhancer2') 10.0\n",
      "('Active promoter', 'Weak enhancer1') 10.0\n",
      "('Active promoter', 'Weak enhancer2') 10.0\n",
      "('Active promoter', 'Tx elongation') 10.0\n",
      "('Active promoter', 'Weak Tx') 10.0\n",
      "('Active promoter', 'Polycomb repressed1') 10.0\n",
      "('Active promoter', 'Polycomb repressed2') 10.0\n",
      "('Active promoter', 'Heterochromatin') 10.0\n",
      "('Active promoter', 'Quiescence') 10.0\n",
      "('Poised promoter', 'Strong enhancer1') 10.0\n",
      "('Poised promoter', 'Strong enhancer2') 2.733948846707062\n",
      "('Poised promoter', 'Weak enhancer1') 9.299906139400578\n",
      "('Poised promoter', 'Weak enhancer2') 5.379456356483341\n",
      "('Poised promoter', 'Tx elongation') 9.999999977073841\n",
      "('Poised promoter', 'Weak Tx') 9.998894550023168\n",
      "('Poised promoter', 'Polycomb repressed1') 1.9208828129508067\n",
      "('Poised promoter', 'Polycomb repressed2') 9.99998624660199\n",
      "('Poised promoter', 'Heterochromatin') 9.99999999999999\n",
      "('Poised promoter', 'Quiescence') 10.0\n",
      "('Strong enhancer1', 'Strong enhancer2') 9.999999999988628\n",
      "('Strong enhancer1', 'Weak enhancer1') 10.0\n",
      "('Strong enhancer1', 'Weak enhancer2') 10.0\n",
      "('Strong enhancer1', 'Tx elongation') 9.999845268968976\n",
      "('Strong enhancer1', 'Weak Tx') 10.0\n",
      "('Strong enhancer1', 'Polycomb repressed1') 10.0\n",
      "('Strong enhancer1', 'Polycomb repressed2') 10.0\n",
      "('Strong enhancer1', 'Heterochromatin') 0.15439983626184497\n",
      "('Strong enhancer1', 'Quiescence') 7.204922777904613\n",
      "('Strong enhancer2', 'Weak enhancer1') 3.1287562134296945\n",
      "('Strong enhancer2', 'Weak enhancer2') 0.7051811165984488\n",
      "('Strong enhancer2', 'Tx elongation') 9.947669839979385\n",
      "('Strong enhancer2', 'Weak Tx') 5.91518169560017\n",
      "('Strong enhancer2', 'Polycomb repressed1') 1.0819370315130385\n",
      "('Strong enhancer2', 'Polycomb repressed2') 7.8507825322942635\n",
      "('Strong enhancer2', 'Heterochromatin') 9.999999993089803\n",
      "('Strong enhancer2', 'Quiescence') 10.0\n",
      "('Weak enhancer1', 'Weak enhancer2') 3.134720870147941\n",
      "('Weak enhancer1', 'Tx elongation') 9.999999999998941\n",
      "('Weak enhancer1', 'Weak Tx') 4.686611168344067\n",
      "('Weak enhancer1', 'Polycomb repressed1') 10.0\n",
      "('Weak enhancer1', 'Polycomb repressed2') 9.992144017148282\n",
      "('Weak enhancer1', 'Heterochromatin') 9.99999999999999\n",
      "('Weak enhancer1', 'Quiescence') 10.0\n",
      "('Weak enhancer2', 'Tx elongation') 9.999999999998929\n",
      "('Weak enhancer2', 'Weak Tx') 9.438389767174451\n",
      "('Weak enhancer2', 'Polycomb repressed1') 7.450034905234974\n",
      "('Weak enhancer2', 'Polycomb repressed2') 9.999988611316375\n",
      "('Weak enhancer2', 'Heterochromatin') 10.0\n",
      "('Weak enhancer2', 'Quiescence') 10.0\n",
      "('Tx elongation', 'Weak Tx') 9.999999999952665\n",
      "('Tx elongation', 'Polycomb repressed1') 10.0\n",
      "('Tx elongation', 'Polycomb repressed2') 8.752110664393596\n",
      "('Tx elongation', 'Heterochromatin') 7.274731022640595\n",
      "('Tx elongation', 'Quiescence') 10.0\n",
      "('Weak Tx', 'Polycomb repressed1') 10.0\n",
      "('Weak Tx', 'Polycomb repressed2') 7.726819471794726\n",
      "('Weak Tx', 'Heterochromatin') 9.99999999817762\n",
      "('Weak Tx', 'Quiescence') 10.0\n",
      "('Polycomb repressed1', 'Polycomb repressed2') 10.0\n",
      "('Polycomb repressed1', 'Heterochromatin') 10.0\n",
      "('Polycomb repressed1', 'Quiescence') 10.0\n",
      "('Polycomb repressed2', 'Heterochromatin') 9.999927187231977\n",
      "('Polycomb repressed2', 'Quiescence') 10.0\n",
      "('Heterochromatin', 'Quiescence') 5.297198035652751\n"
     ]
    },
    {
     "data": {
      "image/png": "[encoded data removed]",
      "text/plain": [
       "<Figure size 432x288 with 2 Axes>"
      ]
     },
     "metadata": {},
     "output_type": "display_data"
    },
    {
     "name": "stdout",
     "output_type": "stream",
     "text": [
      "\n",
      "mannwhitneyu\n",
      "('Active promoter', 'Poised promoter') 10.0\n",
      "('Active promoter', 'Strong enhancer1') 10.0\n",
      "('Active promoter', 'Strong enhancer2') 10.0\n",
      "('Active promoter', 'Weak enhancer1') 10.0\n",
      "('Active promoter', 'Weak enhancer2') 10.0\n",
      "('Active promoter', 'Tx elongation') 10.0\n",
      "('Active promoter', 'Weak Tx') 10.0\n",
      "('Active promoter', 'Polycomb repressed1') 10.0\n",
      "('Active promoter', 'Polycomb repressed2') 10.0\n",
      "('Active promoter', 'Heterochromatin') 10.0\n",
      "('Active promoter', 'Quiescence') 10.0\n",
      "('Poised promoter', 'Strong enhancer1') 9.999999999999998\n",
      "('Poised promoter', 'Strong enhancer2') 2.669555717100309\n",
      "('Poised promoter', 'Weak enhancer1') 9.558191051077566\n",
      "('Poised promoter', 'Weak enhancer2') 6.436708101697598\n",
      "('Poised promoter', 'Tx elongation') 9.999999999999968\n",
      "('Poised promoter', 'Weak Tx') 9.999999914421096\n",
      "('Poised promoter', 'Polycomb repressed1') 2.6069591086373527\n",
      "('Poised promoter', 'Polycomb repressed2') 9.999999999802371\n",
      "('Poised promoter', 'Heterochromatin') 10.0\n",
      "('Poised promoter', 'Quiescence') 10.0\n",
      "('Strong enhancer1', 'Strong enhancer2') 9.999999997217152\n",
      "('Strong enhancer1', 'Weak enhancer1') 10.0\n",
      "('Strong enhancer1', 'Weak enhancer2') 10.0\n",
      "('Strong enhancer1', 'Tx elongation') 9.278892068903279\n",
      "('Strong enhancer1', 'Weak Tx') 10.0\n",
      "('Strong enhancer1', 'Polycomb repressed1') 10.0\n",
      "('Strong enhancer1', 'Polycomb repressed2') 9.999999999999968\n",
      "('Strong enhancer1', 'Heterochromatin') 0.925710261310865\n",
      "('Strong enhancer1', 'Quiescence') 9.999996681275974\n",
      "('Strong enhancer2', 'Weak enhancer1') 3.62210671984205\n",
      "('Strong enhancer2', 'Weak enhancer2') 1.6078952948705547\n",
      "('Strong enhancer2', 'Tx elongation') 9.99999899152893\n",
      "('Strong enhancer2', 'Weak Tx') 9.085010864229254\n",
      "('Strong enhancer2', 'Polycomb repressed1') 0.912687775117893\n",
      "('Strong enhancer2', 'Polycomb repressed2') 9.991007406463547\n",
      "('Strong enhancer2', 'Heterochromatin') 9.99999999999989\n",
      "('Strong enhancer2', 'Quiescence') 10.0\n",
      "('Weak enhancer1', 'Weak enhancer2') 2.051410767805122\n",
      "('Weak enhancer1', 'Tx elongation') 10.0\n",
      "('Weak enhancer1', 'Weak Tx') 9.955106241860802\n",
      "('Weak enhancer1', 'Polycomb repressed1') 10.0\n",
      "('Weak enhancer1', 'Polycomb repressed2') 9.999999999999806\n",
      "('Weak enhancer1', 'Heterochromatin') 10.0\n",
      "('Weak enhancer1', 'Quiescence') 10.0\n",
      "('Weak enhancer2', 'Tx elongation') 9.99999999999994\n",
      "('Weak enhancer2', 'Weak Tx') 9.846054593502544\n",
      "('Weak enhancer2', 'Polycomb repressed1') 8.24177893630828\n",
      "('Weak enhancer2', 'Polycomb repressed2') 9.999998498609937\n",
      "('Weak enhancer2', 'Heterochromatin') 10.0\n",
      "('Weak enhancer2', 'Quiescence') 10.0\n",
      "('Tx elongation', 'Weak Tx') 9.99999999876497\n",
      "('Tx elongation', 'Polycomb repressed1') 10.0\n",
      "('Tx elongation', 'Polycomb repressed2') 8.818485449611552\n",
      "('Tx elongation', 'Heterochromatin') 9.835340382344887\n",
      "('Tx elongation', 'Quiescence') 10.0\n",
      "('Weak Tx', 'Polycomb repressed1') 10.0\n",
      "('Weak Tx', 'Polycomb repressed2') 6.921507133380692\n",
      "('Weak Tx', 'Heterochromatin') 9.99999999999997\n",
      "('Weak Tx', 'Quiescence') 10.0\n",
      "('Polycomb repressed1', 'Polycomb repressed2') 10.0\n",
      "('Polycomb repressed1', 'Heterochromatin') 10.0\n",
      "('Polycomb repressed1', 'Quiescence') 10.0\n",
      "('Polycomb repressed2', 'Heterochromatin') 9.999999997950297\n",
      "('Polycomb repressed2', 'Quiescence') 10.0\n",
      "('Heterochromatin', 'Quiescence') 4.216620405252799\n"
     ]
    },
    {
     "data": {
      "image/png": "[encoded data removed]",
      "text/plain": [
       "<Figure size 432x288 with 2 Axes>"
      ]
     },
     "metadata": {},
     "output_type": "display_data"
    },
    {
     "name": "stdout",
     "output_type": "stream",
     "text": [
      "\n",
      "kruskal\n",
      "('Active promoter', 'Poised promoter') 10.0\n",
      "('Active promoter', 'Strong enhancer1') 10.0\n",
      "('Active promoter', 'Strong enhancer2') 10.0\n",
      "('Active promoter', 'Weak enhancer1') 10.0\n",
      "('Active promoter', 'Weak enhancer2') 10.0\n",
      "('Active promoter', 'Tx elongation') 10.0\n",
      "('Active promoter', 'Weak Tx') 10.0\n",
      "('Active promoter', 'Polycomb repressed1') 10.0\n",
      "('Active promoter', 'Polycomb repressed2') 10.0\n",
      "('Active promoter', 'Heterochromatin') 10.0\n",
      "('Active promoter', 'Quiescence') 10.0\n",
      "('Poised promoter', 'Strong enhancer1') 9.999999999999996\n",
      "('Poised promoter', 'Strong enhancer2') 2.3687622245505513\n",
      "('Poised promoter', 'Weak enhancer1') 9.343802222567517\n",
      "('Poised promoter', 'Weak enhancer2') 6.135898303607403\n",
      "('Poised promoter', 'Tx elongation') 9.999999999999934\n",
      "('Poised promoter', 'Weak Tx') 9.999999828849061\n",
      "('Poised promoter', 'Polycomb repressed1') 2.3059530688343655\n",
      "('Poised promoter', 'Polycomb repressed2') 9.999999999604752\n",
      "('Poised promoter', 'Heterochromatin') 10.0\n",
      "('Poised promoter', 'Quiescence') 10.0\n",
      "('Strong enhancer1', 'Strong enhancer2') 9.999999994435562\n",
      "('Strong enhancer1', 'Weak enhancer1') 10.0\n",
      "('Strong enhancer1', 'Weak enhancer2') 10.0\n",
      "('Strong enhancer1', 'Tx elongation') 9.02123611598222\n",
      "('Strong enhancer1', 'Weak Tx') 10.0\n",
      "('Strong enhancer1', 'Polycomb repressed1') 10.0\n",
      "('Strong enhancer1', 'Polycomb repressed2') 9.999999999999934\n",
      "('Strong enhancer1', 'Heterochromatin') 0.6246917931685659\n",
      "('Strong enhancer1', 'Quiescence') 9.999993362593093\n",
      "('Strong enhancer2', 'Weak enhancer1') 3.3211012464395395\n",
      "('Strong enhancer2', 'Weak enhancer2') 1.3069244088520628\n",
      "('Strong enhancer2', 'Tx elongation') 9.999997983226502\n",
      "('Strong enhancer2', 'Weak Tx') 8.811237694844708\n",
      "('Strong enhancer2', 'Polycomb repressed1') 0.6116683850702581\n",
      "('Strong enhancer2', 'Polycomb repressed2') 9.982197498790688\n",
      "('Strong enhancer2', 'Heterochromatin') 9.999999999999782\n",
      "('Strong enhancer2', 'Quiescence') 10.0\n",
      "('Weak enhancer1', 'Weak enhancer2') 1.7503906631230481\n",
      "('Weak enhancer1', 'Tx elongation') 10.0\n",
      "('Weak enhancer1', 'Weak Tx') 9.914422067341096\n",
      "('Weak enhancer1', 'Polycomb repressed1') 10.0\n",
      "('Weak enhancer1', 'Polycomb repressed2') 9.999999999999611\n",
      "('Weak enhancer1', 'Heterochromatin') 10.0\n",
      "('Weak enhancer1', 'Quiescence') 10.0\n",
      "('Weak enhancer2', 'Tx elongation') 9.999999999999877\n",
      "('Weak enhancer2', 'Weak Tx') 9.732630238060558\n",
      "('Weak enhancer2', 'Polycomb repressed1') 7.944575544550308\n",
      "('Weak enhancer2', 'Polycomb repressed2') 9.999996997255097\n",
      "('Weak enhancer2', 'Heterochromatin') 10.0\n",
      "('Weak enhancer2', 'Quiescence') 10.0\n",
      "('Tx elongation', 'Weak Tx') 9.999999997529958\n",
      "('Tx elongation', 'Polycomb repressed1') 10.0\n",
      "('Tx elongation', 'Polycomb repressed2') 8.531994030525434\n",
      "('Tx elongation', 'Heterochromatin') 9.716241334248672\n",
      "('Tx elongation', 'Quiescence') 10.0\n",
      "('Weak Tx', 'Polycomb repressed1') 10.0\n",
      "('Weak Tx', 'Polycomb repressed2') 6.620658983273088\n",
      "('Weak Tx', 'Heterochromatin') 9.99999999999994\n",
      "('Weak Tx', 'Quiescence') 10.0\n",
      "('Polycomb repressed1', 'Polycomb repressed2') 10.0\n",
      "('Polycomb repressed1', 'Heterochromatin') 10.0\n",
      "('Polycomb repressed1', 'Quiescence') 10.0\n",
      "('Polycomb repressed2', 'Heterochromatin') 9.999999995900644\n",
      "('Polycomb repressed2', 'Quiescence') 10.0\n",
      "('Heterochromatin', 'Quiescence') 3.915591701251317\n"
     ]
    },
    {
     "data": {
      "image/png": "[encoded data removed]",
      "text/plain": [
       "<Figure size 432x288 with 2 Axes>"
      ]
     },
     "metadata": {},
     "output_type": "display_data"
    },
    {
     "name": "stdout",
     "output_type": "stream",
     "text": [
      "\n",
      "ttest\n",
      "('Active promoter', 'Poised promoter') 10.0\n",
      "('Active promoter', 'Strong enhancer1') 10.0\n",
      "('Active promoter', 'Strong enhancer2') 10.0\n",
      "('Active promoter', 'Weak enhancer1') 10.0\n",
      "('Active promoter', 'Weak enhancer2') 10.0\n",
      "('Active promoter', 'Tx elongation') 10.0\n",
      "('Active promoter', 'Weak Tx') 10.0\n",
      "('Active promoter', 'Polycomb repressed1') 10.0\n",
      "('Active promoter', 'Polycomb repressed2') 10.0\n",
      "('Active promoter', 'Heterochromatin') 10.0\n",
      "('Active promoter', 'Quiescence') 10.0\n",
      "('Poised promoter', 'Strong enhancer1') 2.3773191867943173\n",
      "('Poised promoter', 'Strong enhancer2') 9.9999999842038\n",
      "('Poised promoter', 'Weak enhancer1') 2.8614818252918175\n",
      "('Poised promoter', 'Weak enhancer2') 5.802813543478022\n",
      "('Poised promoter', 'Tx elongation') 1.075847692316129\n",
      "('Poised promoter', 'Weak Tx') 0.5351556965252312\n",
      "('Poised promoter', 'Polycomb repressed1') 3.517712177853748\n",
      "('Poised promoter', 'Polycomb repressed2') 9.193114322798431\n",
      "('Poised promoter', 'Heterochromatin') 4.973977920256964\n",
      "('Poised promoter', 'Quiescence') 9.995741068611144\n",
      "('Strong enhancer1', 'Strong enhancer2') 9.999999999990953\n",
      "('Strong enhancer1', 'Weak enhancer1') 0.2846899066123697\n",
      "('Strong enhancer1', 'Weak enhancer2') 4.351125908568176\n",
      "('Strong enhancer1', 'Tx elongation') 10.0\n",
      "('Strong enhancer1', 'Weak Tx') 10.0\n",
      "('Strong enhancer1', 'Polycomb repressed1') 10.0\n",
      "('Strong enhancer1', 'Polycomb repressed2') 10.0\n",
      "('Strong enhancer1', 'Heterochromatin') 10.0\n",
      "('Strong enhancer1', 'Quiescence') 10.0\n",
      "('Strong enhancer2', 'Weak enhancer1') 9.999999999994735\n",
      "('Strong enhancer2', 'Weak enhancer2') 9.92008119678059\n",
      "('Strong enhancer2', 'Tx elongation') 10.0\n",
      "('Strong enhancer2', 'Weak Tx') 10.0\n",
      "('Strong enhancer2', 'Polycomb repressed1') 10.0\n",
      "('Strong enhancer2', 'Polycomb repressed2') 10.0\n",
      "('Strong enhancer2', 'Heterochromatin') 10.0\n",
      "('Strong enhancer2', 'Quiescence') 10.0\n",
      "('Weak enhancer1', 'Weak enhancer2') 4.254830597284219\n",
      "('Weak enhancer1', 'Tx elongation') 10.0\n",
      "('Weak enhancer1', 'Weak Tx') 10.0\n",
      "('Weak enhancer1', 'Polycomb repressed1') 10.0\n",
      "('Weak enhancer1', 'Polycomb repressed2') 10.0\n",
      "('Weak enhancer1', 'Heterochromatin') 10.0\n",
      "('Weak enhancer1', 'Quiescence') 10.0\n",
      "('Weak enhancer2', 'Tx elongation') 10.0\n",
      "('Weak enhancer2', 'Weak Tx') 10.0\n",
      "('Weak enhancer2', 'Polycomb repressed1') 10.0\n",
      "('Weak enhancer2', 'Polycomb repressed2') 10.0\n",
      "('Weak enhancer2', 'Heterochromatin') 10.0\n",
      "('Weak enhancer2', 'Quiescence') 10.0\n",
      "('Tx elongation', 'Weak Tx') 3.6239712205466637\n",
      "('Tx elongation', 'Polycomb repressed1') 9.999934905196964\n",
      "('Tx elongation', 'Polycomb repressed2') 10.0\n",
      "('Tx elongation', 'Heterochromatin') 8.365984382618723\n",
      "('Tx elongation', 'Quiescence') 10.0\n",
      "('Weak Tx', 'Polycomb repressed1') 10.0\n",
      "('Weak Tx', 'Polycomb repressed2') 10.0\n",
      "('Weak Tx', 'Heterochromatin') 9.9980548626547\n",
      "('Weak Tx', 'Quiescence') 10.0\n",
      "('Polycomb repressed1', 'Polycomb repressed2') 10.0\n",
      "('Polycomb repressed1', 'Heterochromatin') 1.6791988869082417\n",
      "('Polycomb repressed1', 'Quiescence') 10.0\n",
      "('Polycomb repressed2', 'Heterochromatin') 1.9957399000522371\n",
      "('Polycomb repressed2', 'Quiescence') 10.0\n",
      "('Heterochromatin', 'Quiescence') 5.133491262182259\n"
     ]
    },
    {
     "data": {
      "image/png": "[encoded data removed]",
      "text/plain": [
       "<Figure size 432x288 with 2 Axes>"
      ]
     },
     "metadata": {},
     "output_type": "display_data"
    },
    {
     "name": "stdout",
     "output_type": "stream",
     "text": [
      "\n",
      "mannwhitneyu\n",
      "('Active promoter', 'Poised promoter') 10.0\n",
      "('Active promoter', 'Strong enhancer1') 10.0\n",
      "('Active promoter', 'Strong enhancer2') 10.0\n",
      "('Active promoter', 'Weak enhancer1') 10.0\n",
      "('Active promoter', 'Weak enhancer2') 10.0\n",
      "('Active promoter', 'Tx elongation') 10.0\n",
      "('Active promoter', 'Weak Tx') 10.0\n",
      "('Active promoter', 'Polycomb repressed1') 10.0\n",
      "('Active promoter', 'Polycomb repressed2') 10.0\n",
      "('Active promoter', 'Heterochromatin') 10.0\n",
      "('Active promoter', 'Quiescence') 10.0\n",
      "('Poised promoter', 'Strong enhancer1') 3.0874171469473026\n",
      "('Poised promoter', 'Strong enhancer2') 9.999999901841512\n",
      "('Poised promoter', 'Weak enhancer1') 3.2351529845845834\n",
      "('Poised promoter', 'Weak enhancer2') 5.277673805710719\n",
      "('Poised promoter', 'Tx elongation') 2.3204971079165553\n",
      "('Poised promoter', 'Weak Tx') 1.4533411837084704\n",
      "('Poised promoter', 'Polycomb repressed1') 5.281786774370428\n",
      "('Poised promoter', 'Polycomb repressed2') 9.999699575162424\n",
      "('Poised promoter', 'Heterochromatin') 6.942538611613194\n",
      "('Poised promoter', 'Quiescence') 9.999998056768819\n",
      "('Strong enhancer1', 'Strong enhancer2') 9.999998675124802\n",
      "('Strong enhancer1', 'Weak enhancer1') 0.4686457380429243\n",
      "('Strong enhancer1', 'Weak enhancer2') 1.632158432066188\n",
      "('Strong enhancer1', 'Tx elongation') 10.0\n",
      "('Strong enhancer1', 'Weak Tx') 10.0\n",
      "('Strong enhancer1', 'Polycomb repressed1') 10.0\n",
      "('Strong enhancer1', 'Polycomb repressed2') 10.0\n",
      "('Strong enhancer1', 'Heterochromatin') 10.0\n",
      "('Strong enhancer1', 'Quiescence') 10.0\n",
      "('Strong enhancer2', 'Weak enhancer1') 9.999999998878595\n",
      "('Strong enhancer2', 'Weak enhancer2') 9.98699399292852\n",
      "('Strong enhancer2', 'Tx elongation') 10.0\n",
      "('Strong enhancer2', 'Weak Tx') 10.0\n",
      "('Strong enhancer2', 'Polycomb repressed1') 10.0\n",
      "('Strong enhancer2', 'Polycomb repressed2') 10.0\n",
      "('Strong enhancer2', 'Heterochromatin') 10.0\n",
      "('Strong enhancer2', 'Quiescence') 10.0\n",
      "('Weak enhancer1', 'Weak enhancer2') 2.266403039920502\n",
      "('Weak enhancer1', 'Tx elongation') 10.0\n",
      "('Weak enhancer1', 'Weak Tx') 10.0\n",
      "('Weak enhancer1', 'Polycomb repressed1') 10.0\n",
      "('Weak enhancer1', 'Polycomb repressed2') 10.0\n",
      "('Weak enhancer1', 'Heterochromatin') 10.0\n",
      "('Weak enhancer1', 'Quiescence') 10.0\n",
      "('Weak enhancer2', 'Tx elongation') 10.0\n",
      "('Weak enhancer2', 'Weak Tx') 10.0\n",
      "('Weak enhancer2', 'Polycomb repressed1') 10.0\n",
      "('Weak enhancer2', 'Polycomb repressed2') 10.0\n",
      "('Weak enhancer2', 'Heterochromatin') 10.0\n",
      "('Weak enhancer2', 'Quiescence') 10.0\n",
      "('Tx elongation', 'Weak Tx') 3.3546810437941343\n",
      "('Tx elongation', 'Polycomb repressed1') 9.996698188220812\n",
      "('Tx elongation', 'Polycomb repressed2') 10.0\n",
      "('Tx elongation', 'Heterochromatin') 9.95966538257404\n",
      "('Tx elongation', 'Quiescence') 10.0\n",
      "('Weak Tx', 'Polycomb repressed1') 10.0\n",
      "('Weak Tx', 'Polycomb repressed2') 10.0\n",
      "('Weak Tx', 'Heterochromatin') 9.999994716558042\n",
      "('Weak Tx', 'Quiescence') 10.0\n",
      "('Polycomb repressed1', 'Polycomb repressed2') 10.0\n",
      "('Polycomb repressed1', 'Heterochromatin') 2.847774642891193\n",
      "('Polycomb repressed1', 'Quiescence') 10.0\n",
      "('Polycomb repressed2', 'Heterochromatin') 1.9769186418282994\n",
      "('Polycomb repressed2', 'Quiescence') 10.0\n",
      "('Heterochromatin', 'Quiescence') 5.240326168765924\n"
     ]
    },
    {
     "data": {
      "image/png": "[encoded data removed]",
      "text/plain": [
       "<Figure size 432x288 with 2 Axes>"
      ]
     },
     "metadata": {},
     "output_type": "display_data"
    },
    {
     "name": "stdout",
     "output_type": "stream",
     "text": [
      "\n",
      "kruskal\n",
      "('Active promoter', 'Poised promoter') 10.0\n",
      "('Active promoter', 'Strong enhancer1') 10.0\n",
      "('Active promoter', 'Strong enhancer2') 10.0\n",
      "('Active promoter', 'Weak enhancer1') 10.0\n",
      "('Active promoter', 'Weak enhancer2') 10.0\n",
      "('Active promoter', 'Tx elongation') 10.0\n",
      "('Active promoter', 'Weak Tx') 10.0\n",
      "('Active promoter', 'Polycomb repressed1') 10.0\n",
      "('Active promoter', 'Polycomb repressed2') 10.0\n",
      "('Active promoter', 'Heterochromatin') 10.0\n",
      "('Active promoter', 'Quiescence') 10.0\n",
      "('Poised promoter', 'Strong enhancer1') 2.7864328791144857\n",
      "('Poised promoter', 'Strong enhancer2') 9.999999803971765\n",
      "('Poised promoter', 'Weak enhancer1') 2.934150646708403\n",
      "('Poised promoter', 'Weak enhancer2') 4.976792285110474\n",
      "('Poised promoter', 'Tx elongation') 2.019482275548236\n",
      "('Poised promoter', 'Weak Tx') 1.1523156845278524\n",
      "('Poised promoter', 'Polycomb repressed1') 4.980796499139346\n",
      "('Poised promoter', 'Polycomb repressed2') 9.999399369123129\n",
      "('Poised promoter', 'Heterochromatin') 6.641905464270874\n",
      "('Poised promoter', 'Quiescence') 9.99999611357608\n",
      "('Strong enhancer1', 'Strong enhancer2') 9.999997350804515\n",
      "('Strong enhancer1', 'Weak enhancer1') 0.16761794442449823\n",
      "('Strong enhancer1', 'Weak enhancer2') 1.3311424772462914\n",
      "('Strong enhancer1', 'Tx elongation') 10.0\n",
      "('Strong enhancer1', 'Weak Tx') 10.0\n",
      "('Strong enhancer1', 'Polycomb repressed1') 10.0\n",
      "('Strong enhancer1', 'Polycomb repressed2') 10.0\n",
      "('Strong enhancer1', 'Heterochromatin') 10.0\n",
      "('Strong enhancer1', 'Quiescence') 10.0\n",
      "('Strong enhancer2', 'Weak enhancer1') 9.999999997757492\n",
      "('Strong enhancer2', 'Weak enhancer2') 9.974376329445331\n",
      "('Strong enhancer2', 'Tx elongation') 10.0\n",
      "('Strong enhancer2', 'Weak Tx') 10.0\n",
      "('Strong enhancer2', 'Polycomb repressed1') 10.0\n",
      "('Strong enhancer2', 'Polycomb repressed2') 10.0\n",
      "('Strong enhancer2', 'Heterochromatin') 10.0\n",
      "('Strong enhancer2', 'Quiescence') 10.0\n",
      "('Weak enhancer1', 'Weak enhancer2') 1.9653835274367735\n",
      "('Weak enhancer1', 'Tx elongation') 10.0\n",
      "('Weak enhancer1', 'Weak Tx') 10.0\n",
      "('Weak enhancer1', 'Polycomb repressed1') 10.0\n",
      "('Weak enhancer1', 'Polycomb repressed2') 10.0\n",
      "('Weak enhancer1', 'Heterochromatin') 10.0\n",
      "('Weak enhancer1', 'Quiescence') 10.0\n",
      "('Weak enhancer2', 'Tx elongation') 10.0\n",
      "('Weak enhancer2', 'Weak Tx') 10.0\n",
      "('Weak enhancer2', 'Polycomb repressed1') 10.0\n",
      "('Weak enhancer2', 'Polycomb repressed2') 10.0\n",
      "('Weak enhancer2', 'Heterochromatin') 10.0\n",
      "('Weak enhancer2', 'Quiescence') 10.0\n",
      "('Tx elongation', 'Weak Tx') 3.053652319890474\n",
      "('Tx elongation', 'Polycomb repressed1') 9.993421396162839\n",
      "('Tx elongation', 'Polycomb repressed2') 10.0\n",
      "('Tx elongation', 'Heterochromatin') 9.922763682995237\n",
      "('Tx elongation', 'Quiescence') 10.0\n",
      "('Weak Tx', 'Polycomb repressed1') 10.0\n",
      "('Weak Tx', 'Polycomb repressed2') 10.0\n",
      "('Weak Tx', 'Heterochromatin') 9.99998943340199\n",
      "('Weak Tx', 'Quiescence') 10.0\n",
      "('Polycomb repressed1', 'Polycomb repressed2') 10.0\n",
      "('Polycomb repressed1', 'Heterochromatin') 2.546758123511931\n",
      "('Polycomb repressed1', 'Quiescence') 10.0\n",
      "('Polycomb repressed2', 'Heterochromatin') 1.6758902322378704\n",
      "('Polycomb repressed2', 'Quiescence') 10.0\n",
      "('Heterochromatin', 'Quiescence') 4.939301002616767\n"
     ]
    },
    {
     "data": {
      "image/png": "[encoded data removed]",
      "text/plain": [
       "<Figure size 432x288 with 2 Axes>"
      ]
     },
     "metadata": {},
     "output_type": "display_data"
    },
    {
     "name": "stdout",
     "output_type": "stream",
     "text": [
      "\n"
     ]
    }
   ],
   "source": [
    "for dkey in dkey_testing_pair_pvalue:\n",
    "    for testing in testings:\n",
    "        print testing\n",
    "        \n",
    "        pair_pvalue = dkey_testing_pair_pvalue[dkey][testing]\n",
    "\n",
    "        img = []\n",
    "        for i in range(len(states)):\n",
    "            row = []\n",
    "            for j in range(len(states)):\n",
    "                try:\n",
    "                    pair = (states[i], states[j])\n",
    "                    pvalue = pair_pvalue[pair] + 10**-10\n",
    "                    logpvalue = -np.log10(pvalue)\n",
    "                    print pair, logpvalue\n",
    "                except:\n",
    "                    logpvalue = np.nan\n",
    "                row.append(logpvalue)\n",
    "            img.append(row)\n",
    "\n",
    "        fig = plt.figure()\n",
    "        plt.imshow(img)\n",
    "        plt.colorbar()\n",
    "        plt.show()\n",
    "        plt.close()\n",
    "\n",
    "        print\n",
    "        "
   ]
  }
 ],
 "metadata": {
  "kernelspec": {
   "argv": [
    "python",
    "-m",
    "ipykernel_launcher",
    "-f",
    "{connection_file}"
   ],
   "display_name": "Python 2",
   "env": null,
   "interrupt_mode": "signal",
   "language": "python",
   "metadata": null,
   "name": "python2"
  },
  "name": "mCD8T_NCP_sp_ChromHMM_zscore_plot.ipynb"
 },
 "nbformat": 4,
 "nbformat_minor": 2
}
