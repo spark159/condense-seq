{
 "cells": [
  {
   "cell_type": "markdown",
   "id": "027ab086-726f-4a5d-b232-5aa96d978f35",
   "metadata": {
    "collapsed": false
   },
   "source": [
    "plot read length distribution"
   ]
  },
  {
   "cell_type": "code",
   "execution_count": 10,
   "id": "4048c6ae-9956-448a-b68d-bbf66979decf",
   "metadata": {
    "collapsed": false
   },
   "outputs": [],
   "source": [
    "# python modules\n",
    "import sys\n",
    "import copy\n",
    "import random\n",
    "import numpy as np\n",
    "import matplotlib as mpl\n",
    "import matplotlib.pyplot as plt\n",
    "import scipy\n",
    "from scipy import stats\n"
   ]
  },
  {
   "cell_type": "code",
   "execution_count": 11,
   "id": "b29f24b4-8f56-4602-bbf3-834409779ac1",
   "metadata": {
    "collapsed": false
   },
   "outputs": [],
   "source": [
    "# custom modules\n",
    "sys.path.append('/Users/sangwoopark/Projects/condense-seq/postpro_scripts')\n",
    "import graphics_edit as graphics\n",
    "import load_file_edit as load_file\n",
    "import Interval_dict\n",
    "import statis_edit as statis\n"
   ]
  },
  {
   "cell_type": "code",
   "execution_count": 12,
   "id": "dc1b4874-d649-4209-8092-337698a6db63",
   "metadata": {
    "collapsed": false
   },
   "outputs": [],
   "source": [
    "# matplotlib setting\n",
    "%matplotlib inline\n",
    "mpl.rcParams[\"figure.facecolor\"] = \"white\"\n",
    "mpl.rcParams[\"axes.facecolor\"] = \"white\"\n",
    "mpl.rcParams[\"savefig.facecolor\"] = \"white\"\n"
   ]
  },
  {
   "cell_type": "code",
   "execution_count": 13,
   "id": "cd772696-e849-4505-b9ae-16cf63b17e4d",
   "metadata": {
    "collapsed": false
   },
   "outputs": [],
   "source": [
    "### parameters\n",
    "cell_org = {'H1':'human',\n",
    "            'GM':'human',\n",
    "            'E14':'mouse',\n",
    "            'mCD8T:WT':'mouse',\n",
    "            'mCD8T:DFMO':'mouse',\n",
    "            'mCD8T:ODCKO':'mouse'}\n",
    "\n",
    "cell_chrnames = {'H1':['chr%s' % (i) for i in range(1, 23)] + ['chrX', 'chrY'],\n",
    "                 'GM':['chr%s' % (i) for i in range(1, 23)] + ['chrX'],\n",
    "                 'E14':['chr%s' % (i) for i in range(1, 20)] + ['chrX', 'chrY'],\n",
    "                 'mCD8T:WT':['chr%s' % (i) for i in range(1, 20)] + ['chrX'],\n",
    "                 'mCD8T:DFMO':['chr%s' % (i) for i in range(1, 20)] + ['chrX'],\n",
    "                 'mCD8T:ODCKO':['chr%s' % (i) for i in range(1, 20)] + ['chrX']}\n"
   ]
  },
  {
   "cell_type": "code",
   "execution_count": 14,
   "id": "283f889f-26a9-41f7-b33c-4ad13bff2483",
   "metadata": {
    "collapsed": false
   },
   "outputs": [],
   "source": [
    "agent_fullname = {'sp':'Spermine(4+)',\n",
    "                  'spd':'Spermidine(3+)',\n",
    "                  'CoH':'Cobalt Hexammine(3+)',\n",
    "                  'PEG':'PEG 8000',\n",
    "                  'HP1a':'HP1$\\\\alpha$',\n",
    "                  'HP1bSUV':'HP1$\\\\beta$+tSUV',\n",
    "                  'LKH':'Linker histone1',\n",
    "                  'Ki67':'Ki67',\n",
    "                  'FUS':'FUS',\n",
    "                  'Mg':'Magnesium',\n",
    "                  'Ca':'Calcium'}\n"
   ]
  },
  {
   "cell_type": "code",
   "execution_count": 15,
   "id": "dbc6ad90-34b5-4759-a1b9-dae208c363c2",
   "metadata": {
    "collapsed": false
   },
   "outputs": [],
   "source": [
    "### read rlen file\n",
    "rlen_path = '/Users/sangwoopark/jhu_rockfish/2024_01_05_GEO/processed_files/'\n",
    "rlen_fnames = ['H1_NCP_sp_%d_1rep_rlen.txt.gz' % (i) for i in range(10)]\n",
    "rlen_counts = [load_file.read_rlen_file (rlen_path + fname) for fname in rlen_fnames]"
   ]
  },
  {
   "cell_type": "code",
   "execution_count": 16,
   "id": "c19b73a9-6d90-4b1d-8986-421a1485554f",
   "metadata": {
    "collapsed": false
   },
   "outputs": [],
   "source": [
    "### read titration file\n",
    "titr_path = '/Users/sangwoopark/jhu_rockfish/2024_01_05_GEO/titration_files/'\n",
    "titr_fname = 'H1_NCP_sp_titration.csv'\n",
    "tnum_conc, tnum_frac = load_file.read_titration (titr_path + titr_fname)"
   ]
  },
  {
   "cell_type": "code",
   "execution_count": 19,
   "id": "3abf4db8-30e6-4ab1-a78a-32bf77b2f907",
   "metadata": {
    "collapsed": false
   },
   "outputs": [
    {
     "data": {
      "image/png": "[encoded data removed]",
      "text/plain": [
       "<Figure size 360x288 with 1 Axes>"
      ]
     },
     "metadata": {},
     "output_type": "display_data"
    },
    {
     "data": {
      "text/plain": [
       "<matplotlib.axes._subplots.AxesSubplot at 0x7fce2970efd0>"
      ]
     },
     "execution_count": 19,
     "metadata": {},
     "output_type": "execute_result"
    }
   ],
   "source": [
    "### plot rlen distribution [Extended Data Fig.2c]\n",
    "labels = ['[sp]=%.2fmM' % (tnum_conc[i]) for i in range(10)]\n",
    "colors = np.linspace(0.01, 0.7, num=len(rlen_counts))\n",
    "alphas = np.linspace(0.3, 1, num=len(rlen_counts))[::-1]\n",
    "cmap = mpl.cm.get_cmap(\"copper\")\n",
    "\n",
    "graphics.plot_rlen_dist (rlen_counts,\n",
    "                         colors=[cmap(color) for color in colors],\n",
    "                         alphas=alphas,\n",
    "                         labels=labels,\n",
    "                         fig_width=5,\n",
    "                         fig_height=4,\n",
    "                         save_path='./data/',\n",
    "                         save=True,\n",
    "                         note='H1_NCP_sp')\n"
   ]
  }
 ],
 "metadata": {
  "kernelspec": {
   "argv": [
    "/Library/Frameworks/Python.framework/Versions/2.7/Resources/Python.app/Contents/MacOS/Python",
    "-m",
    "ipykernel_launcher",
    "-f",
    "{connection_file}"
   ],
   "display_name": "Python 2",
   "env": null,
   "interrupt_mode": "signal",
   "language": "python",
   "metadata": null,
   "name": "python2"
  },
  "name": "[Extended Data Fig.2c]H1_NCP_sp_rlen_plot.ipynb"
 },
 "nbformat": 4,
 "nbformat_minor": 2
}
