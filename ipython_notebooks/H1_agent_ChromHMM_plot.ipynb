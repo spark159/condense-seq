{
 "cells": [
  {
   "cell_type": "markdown",
   "id": "07b7d8bb-3d4c-47a3-bd00-d3f3ebc00247",
   "metadata": {
    "collapsed": false
   },
   "source": [
    "Get pair-wise correlations between binned condensability scores"
   ]
  },
  {
   "cell_type": "code",
   "execution_count": 1,
   "id": "228df2db-1805-4797-af7f-424f3dba8b2d",
   "metadata": {
    "collapsed": false
   },
   "outputs": [],
   "source": [
    "# python modules\n",
    "import sys\n",
    "import copy\n",
    "import re\n",
    "import random\n",
    "import glob\n",
    "import numpy as np\n",
    "import matplotlib as mpl\n",
    "import matplotlib.pyplot as plt\n",
    "import scipy\n",
    "from scipy import stats\n"
   ]
  },
  {
   "cell_type": "code",
   "execution_count": 2,
   "id": "ef14c6d6-6b26-4161-9eec-bc549d110c39",
   "metadata": {
    "collapsed": false
   },
   "outputs": [],
   "source": [
    "# custom modules\n",
    "sys.path.append('/Users/sangwoopark/Projects/condense-seq/postpro_scripts')\n",
    "import graphics_edit as graphics\n",
    "import load_file_edit as load_file\n",
    "import Interval_dict\n",
    "import statis_edit as statis"
   ]
  },
  {
   "cell_type": "code",
   "execution_count": 3,
   "id": "6757d7c5-23ef-4318-b49c-1ad6b296e548",
   "metadata": {
    "collapsed": false
   },
   "outputs": [],
   "source": [
    "# matplotlib setting\n",
    "%matplotlib inline\n",
    "mpl.rcParams[\"figure.facecolor\"] = \"white\"\n",
    "mpl.rcParams[\"axes.facecolor\"] = \"white\"\n",
    "mpl.rcParams[\"savefig.facecolor\"] = \"white\""
   ]
  },
  {
   "cell_type": "code",
   "execution_count": 4,
   "id": "b6858773-00a0-40e4-ac0c-96a4a5ba5fa5",
   "metadata": {
    "collapsed": false
   },
   "outputs": [],
   "source": [
    "### parameters\n",
    "cell_org = {'H1':'human',\n",
    "            'GM':'human',\n",
    "            'mCD8T:WT':'mouse',\n",
    "            'mCD8T:DFMO':'mouse',\n",
    "            'mCD8T:ODCKO':'mouse'}\n",
    "\n",
    "cell_chrnames = {'H1':['chr%s' % (i) for i in range(1, 23)] + ['chrX', 'chrY'],\n",
    "                 'GM':['chr%s' % (i) for i in range(1, 23)] + ['chrX'],\n",
    "                 'mCD8T:WT':['chr%s' % (i) for i in range(1, 20)] + ['chrX'],\n",
    "                 'mCD8T:DFMO':['chr%s' % (i) for i in range(1, 20)] + ['chrX'],\n",
    "                 'mCD8T:ODCKO':['chr%s' % (i) for i in range(1, 20)] + ['chrX']}\n",
    "\n",
    "agent_fullname = {'sp':'Spermine(4+)',\n",
    "                  'spd':'Spermidine(3+)',\n",
    "                  'CoH':'Cobalt Hexammine(3+)',\n",
    "                  'PEG':'PEG 8000',\n",
    "                  'HP1a':'HP1$\\\\alpha$',\n",
    "                  'HP1bSUV':'HP1$\\\\beta$+tSUV',\n",
    "                  'LKH':'Linker histone1',\n",
    "                  'Ki67':'Ki67',\n",
    "                  'FUS':'FUS',\n",
    "                  'Mg':'Magnesium',\n",
    "                  'Ca':'Calcium'}\n",
    "\n",
    "agent_charge = {'sp':'4+',\n",
    "                'spd':'3+',\n",
    "                'CoH':'3+',\n",
    "                'PEG':'',\n",
    "                'Ca':'2+',\n",
    "                'Mg':'2+',\n",
    "                'HP1a':'',\n",
    "                'HP1bSUV':'',\n",
    "                'LKH':'',\n",
    "                'Ki67':'',\n",
    "                'FUS':''}\n",
    "\n",
    "agent_symbol = {'sp':'sp',\n",
    "                'spd':'spd',\n",
    "                'CoH':'CoH',\n",
    "                'PEG':'PEG',\n",
    "                'Ca':'Ca',\n",
    "                'Mg':'Mg',\n",
    "                'HP1a':'HP1$\\\\alpha$',\n",
    "                'HP1bSUV':'HP1$\\\\beta$/SUV'}"
   ]
  },
  {
   "cell_type": "code",
   "execution_count": 5,
   "id": "da662826-6925-4141-b027-4ee2c0cddd57",
   "metadata": {
    "collapsed": false
   },
   "outputs": [],
   "source": [
    "## ChromHMM information for H1\n",
    "H1_name_dict = {\"E1\":\"Polycomb repressed\",\n",
    "                \"E2\":\"Poised promoter\",\n",
    "                \"E3\":\"Weak promoter\",\n",
    "                \"E4\":\"Strong enhancer\",\n",
    "                \"E5\":\"Active promoter\",\n",
    "                \"E6\":\"Weak enhancer\",\n",
    "                \"E7\":\"Quiescence1\",\n",
    "                \"E8\":\"Quiescence2\",\n",
    "                \"E9\":\"Heterochromatin\",\n",
    "                \"E10\":\"Tx elongation\",\n",
    "                \"E11\":\"Weak Tx\",\n",
    "                \"E12\":\"Insulator\"}\n",
    "\n",
    "# state for H1\n",
    "H1_states = [\"Active promoter\", \"Weak promoter\", \"Poised promoter\", \"Strong enhancer\", \"Weak enhancer\", \"Tx elongation\", \"Weak Tx\", \"Insulator\", \"Polycomb repressed\", \"Heterochromatin\", \"Quiescence1\", \"Quiescence2\"]\n",
    "\n",
    "H1_HMM_fname = \"H1_12_segments.bed\""
   ]
  },
  {
   "cell_type": "code",
   "execution_count": 6,
   "id": "e145af0a-c619-446f-bfbc-500f908c7e51",
   "metadata": {
    "collapsed": false
   },
   "outputs": [],
   "source": [
    "### set target cell\n",
    "cell = 'H1'"
   ]
  },
  {
   "cell_type": "code",
   "execution_count": 7,
   "id": "e62ea81e-014d-4e04-9f44-3f889382b666",
   "metadata": {
    "collapsed": false
   },
   "outputs": [],
   "source": [
    "### set target chromosomesx\n",
    "chr_choices = cell_chrnames['H1']"
   ]
  },
  {
   "cell_type": "code",
   "execution_count": 8,
   "id": "823e3d02-01ac-4a04-a8d2-730d24551cb3",
   "metadata": {
    "collapsed": false
   },
   "outputs": [
    {
     "name": "stdout",
     "output_type": "stream",
     "text": [
      "loading H1_NCP_HP1a_1rep_5kb_zscore.gtab.gz\n"
     ]
    },
    {
     "name": "stdout",
     "output_type": "stream",
     "text": [
      "loading H1_NCP_Ca_1rep_5kb_zscore.gtab.gz\n"
     ]
    },
    {
     "name": "stdout",
     "output_type": "stream",
     "text": [
      "loading H1_NCP_sp_1rep_5kb_zscore.gtab.gz\n"
     ]
    },
    {
     "name": "stdout",
     "output_type": "stream",
     "text": [
      "loading H1_NCP_HP1bSUV_1rep_5kb_zscore.gtab.gz\n"
     ]
    },
    {
     "name": "stdout",
     "output_type": "stream",
     "text": [
      "loading H1_NCP_spd_1rep_5kb_zscore.gtab.gz\n"
     ]
    },
    {
     "name": "stdout",
     "output_type": "stream",
     "text": [
      "loading H1_NCP_CoH_1rep_5kb_zscore.gtab.gz\n"
     ]
    },
    {
     "name": "stdout",
     "output_type": "stream",
     "text": [
      "loading H1_NCP_PEG_1rep_5kb_zscore.gtab.gz\n"
     ]
    },
    {
     "name": "stdout",
     "output_type": "stream",
     "text": [
      "Done\n"
     ]
    }
   ],
   "source": [
    "### load gtab files\n",
    "gtab_path = \"/Users/sangwoopark/jhu_rockfish/2024_01_05_GEO/processed_files/\"\n",
    "dinfo_dkey = {'H1_NCP_sp_1rep_5kb_zscore.gtab.gz':\n",
    "              {'H1_NCP_sp_8_1rep':(1, 'H1', 'NCP', 'sp', 8)},\n",
    "              'H1_NCP_spd_1rep_5kb_zscore.gtab.gz':\n",
    "              {'H1_NCP_spd_6_1rep':(1, 'H1', 'NCP', 'spd', 6)},\n",
    "              'H1_NCP_CoH_1rep_5kb_zscore.gtab.gz':\n",
    "              {'H1_NCP_CoH_5_1rep':(1, 'H1', 'NCP', 'CoH', 5)},\n",
    "              'H1_NCP_PEG_1rep_5kb_zscore.gtab.gz':\n",
    "              {'H1_NCP_PEG_6_1rep':(1, 'H1', 'NCP', 'PEG', 6)},\n",
    "              'H1_NCP_Ca_1rep_5kb_zscore.gtab.gz':\n",
    "              {'H1_NCP_Ca_5_1rep':(1, 'H1', 'NCP', 'Ca', 5)},\n",
    "              'H1_NCP_HP1a_1rep_5kb_zscore.gtab.gz':\n",
    "              {'H1_NCP_HP1a_3_1rep':(1, 'H1', 'NCP', 'HP1a', 3)},\n",
    "              'H1_NCP_HP1bSUV_1rep_5kb_zscore.gtab.gz':\n",
    "              {'H1_NCP_HP1bSUV_4_1rep':(1, 'H1', 'NCP', 'HP1bSUV', 4)}}\n",
    "\n",
    "dkey_chr_ID_value = load_file.read_gtab_batch(dinfo_dkey,\n",
    "                                              data_path=gtab_path,\n",
    "                                              chr_choices=chr_choices,\n",
    "                                              by_chr=True)\n",
    "\n",
    "dkey_list = [(1, 'H1', 'NCP', 'sp', 8),\n",
    "             (1, 'H1', 'NCP', 'spd', 6),\n",
    "             (1, 'H1', 'NCP', 'CoH', 5),\n",
    "             (1, 'H1', 'NCP', 'PEG', 6),\n",
    "             (1, 'H1', 'NCP', 'Ca', 5),\n",
    "             (1, 'H1', 'NCP', 'HP1a', 3),\n",
    "             (1, 'H1', 'NCP', 'HP1bSUV', 4)]\n"
   ]
  },
  {
   "cell_type": "code",
   "execution_count": 9,
   "id": "15502b8f-6a75-4f3e-85d6-dfd72b6db3d2",
   "metadata": {
    "collapsed": false
   },
   "outputs": [],
   "source": [
    "### loading the chromHMM data\n",
    "chromHMM_path = '/Users/sangwoopark/jhu_rockfish/chromHMM_data/'\n",
    "HMM_fname = H1_HMM_fname\n",
    "name_dict = H1_name_dict\n",
    "states = H1_states\n",
    "chr_state_intervals = load_file.read_chromHMM(chromHMM_path + HMM_fname,\n",
    "                                              state_name=name_dict,\n",
    "                                              chr_choices=chr_choices)"
   ]
  },
  {
   "cell_type": "code",
   "execution_count": 10,
   "id": "292dabba-e7bc-426d-80e8-d44ce124d545",
   "metadata": {
    "collapsed": false
   },
   "outputs": [],
   "source": [
    "### find common target IDs\n",
    "chr_target_IDs = {}\n",
    "for chr in chr_choices:\n",
    "    target_IDs = set([])\n",
    "    for i in range(len(dkey_list)):\n",
    "        dkey = dkey_list[i]\n",
    "        IDs = set(dkey_chr_ID_value[dkey][chr].keys())\n",
    "        if i == 0:\n",
    "            target_IDs |= IDs\n",
    "        else:\n",
    "            target_IDs &= IDs\n",
    "    chr_target_IDs[chr] = sorted(list(target_IDs))"
   ]
  },
  {
   "cell_type": "code",
   "execution_count": 16,
   "id": "fcb0b2ea-6fc2-4917-8c64-1f1eb5ed4ed8",
   "metadata": {
    "collapsed": false
   },
   "outputs": [],
   "source": [
    "### categorize by chromHMM\n",
    "state_IDs = {}\n",
    "for chr in chr_choices:\n",
    "    ID_interval = {ID:(ID[1], ID[2]) for ID in chr_target_IDs[chr]}\n",
    "    state_IDs_temp = statis.categorize_rbin (chr_state_intervals[chr],\n",
    "                                             bin_size=5000,\n",
    "                                             bin_step=5000,\n",
    "                                             binID_interval=ID_interval,\n",
    "                                             silent=True)\n",
    "    for state in state_IDs_temp:\n",
    "        if state not in state_IDs:\n",
    "            state_IDs[state] = []\n",
    "        state_IDs[state] +=state_IDs_temp[state]"
   ]
  },
  {
   "cell_type": "code",
   "execution_count": 17,
   "id": "fe5ac785-a03d-4bb9-899e-d8706b535d86",
   "metadata": {
    "collapsed": false
   },
   "outputs": [],
   "source": [
    "### get values for each state\n",
    "dkey_state_values = {}\n",
    "for dkey in dkey_list:    \n",
    "    chr_ID_value = dkey_chr_ID_value[dkey]\n",
    "    state_values = {}\n",
    "    for state, IDs in state_IDs.items():\n",
    "        values = [chr_ID_value[ID[0]][ID] for ID in IDs]\n",
    "        if state not in state_values:\n",
    "            state_values[state] = []\n",
    "        state_values[state] += values\n",
    "\n",
    "    dkey_state_values[dkey] = state_values"
   ]
  },
  {
   "cell_type": "code",
   "execution_count": 18,
   "id": "bd62a39b-d2aa-4f47-bf10-bb9166749b67",
   "metadata": {
    "collapsed": false
   },
   "outputs": [],
   "source": [
    "### get mean value for each state\n",
    "dkey_state_mvalue = {}\n",
    "for dkey in dkey_state_values:    \n",
    "    state_values = dkey_state_values[dkey]\n",
    "    state_mvalue = {}\n",
    "    for state, values in state_values.items():\n",
    "        mvalue = np.mean(values)\n",
    "        state_mvalue[state] = mvalue\n",
    "    dkey_state_mvalue[dkey] = state_mvalue"
   ]
  },
  {
   "cell_type": "code",
   "execution_count": 19,
   "id": "b5ddaa61-ef36-4372-b9fd-4e8a9399d5a2",
   "metadata": {
    "collapsed": false
   },
   "outputs": [
    {
     "ename": "ValueError",
     "evalue": "list.remove(x): x not in list",
     "output_type": "error",
     "traceback": [
      "\u001b[0;31m\u001b[0m",
      "\u001b[0;31mValueError\u001b[0mTraceback (most recent call last)",
      "\u001b[0;32m<ipython-input-19-ee9374da30dd>\u001b[0m in \u001b[0;36m<module>\u001b[0;34m()\u001b[0m\n\u001b[1;32m      1\u001b[0m \u001b[0;31m### remove state without enough samples\u001b[0m\u001b[0;34m\u001b[0m\u001b[0;34m\u001b[0m\u001b[0m\n\u001b[0;32m----> 2\u001b[0;31m \u001b[0mstates\u001b[0m\u001b[0;34m.\u001b[0m\u001b[0mremove\u001b[0m\u001b[0;34m(\u001b[0m\u001b[0;34m'Insulator'\u001b[0m\u001b[0;34m)\u001b[0m\u001b[0;34m\u001b[0m\u001b[0m\n\u001b[0m",
      "\u001b[0;31mValueError\u001b[0m: list.remove(x): x not in list"
     ]
    }
   ],
   "source": [
    "### remove state without enough samples\n",
    "states.remove('Insulator')"
   ]
  },
  {
   "cell_type": "code",
   "execution_count": 21,
   "id": "71778605-1cf1-4a89-8978-3c722c0adbac",
   "metadata": {
    "collapsed": false
   },
   "outputs": [
    {
     "name": "stdout",
     "output_type": "stream",
     "text": [
      "(1, 'H1', 'NCP', 'sp', 8)\n",
      "(1, 'H1', 'NCP', 'spd', 6)\n",
      "(1, 'H1', 'NCP', 'CoH', 5)\n",
      "(1, 'H1', 'NCP', 'PEG', 6)\n",
      "(1, 'H1', 'NCP', 'Ca', 5)\n",
      "(1, 'H1', 'NCP', 'HP1a', 3)\n",
      "(1, 'H1', 'NCP', 'HP1bSUV', 4)\n"
     ]
    },
    {
     "data": {
      "image/png": "[encoded data removed]",
      "text/plain": [
       "<Figure size 316.8x201.6 with 1 Axes>"
      ]
     },
     "metadata": {},
     "output_type": "display_data"
    },
    {
     "data": {
      "image/png": "[encoded data removed]",
      "text/plain": [
       "<Figure size 86.4x72 with 1 Axes>"
      ]
     },
     "metadata": {},
     "output_type": "display_data"
    }
   ],
   "source": [
    "### plot heatmap for mean z-scores by chromHMM and condensing agents\n",
    "img = []\n",
    "for dkey in dkey_list:\n",
    "    print dkey\n",
    "    row = []\n",
    "    for state in states:\n",
    "        mvalue = dkey_state_mvalue[dkey][state]\n",
    "        row.append(mvalue)\n",
    "    img.append(row)\n",
    "\n",
    "# plot condensability heatmap\n",
    "vmin = -2.5\n",
    "vmax = 2.5\n",
    "cmap = 'jet_r'\n",
    "\n",
    "fig_width = 0.4*len(states)\n",
    "fig_height = 0.4*len(dkey_list)\n",
    "\n",
    "fig = plt.figure(figsize=(fig_width, fig_height))\n",
    "im = plt.imshow(img,\n",
    "                cmap=cmap,\n",
    "                vmin=vmin,\n",
    "                vmax=vmax)\n",
    "\n",
    "plt.xticks(range(len(states)),\n",
    "           states,\n",
    "           ha='right',\n",
    "           va='center',\n",
    "           rotation_mode='anchor',\n",
    "           rotation=45)\n",
    "plt.yticks(range(len(dkey_list)),\n",
    "           [agent_symbol[dkey[3]]  for dkey in dkey_list],\n",
    "           fontsize=12)\n",
    "plt.savefig(\"./data/\" + \"H1_agent_ChromHMM_zscore.svg\",\n",
    "            format='svg',\n",
    "            bbox_inches='tight')\n",
    "plt.show()\n",
    "plt.close()\n",
    "\n",
    "# plot colorbar only\n",
    "fig = plt.figure(figsize=(1.2,1))\n",
    "plt.subplot(1,2,1)\n",
    "cbar = plt.colorbar(im,\n",
    "                    cax=plt.gca(),\n",
    "                    ticks=[vmin, vmax])\n",
    "cbar.ax.set_yticklabels([vmin, vmax], fontsize=8)\n",
    "cbar.ax.set_ylabel('z-score',\n",
    "                   rotation=-90,\n",
    "                   va=\"bottom\",\n",
    "                   fontsize=10)\n",
    "plt.tight_layout()\n",
    "plt.savefig(\"./data/\" + \"H1_agent_ChroHMM_cbar.svg\",\n",
    "            format='svg',\n",
    "            bbox_inches='tight')\n",
    "plt.show()\n",
    "plt.close()"
   ]
  }
 ],
 "metadata": {
  "kernelspec": {
   "argv": [
    "/Library/Frameworks/Python.framework/Versions/2.7/Resources/Python.app/Contents/MacOS/Python",
    "-m",
    "ipykernel_launcher",
    "-f",
    "{connection_file}"
   ],
   "display_name": "Python 2",
   "env": null,
   "interrupt_mode": "signal",
   "language": "python",
   "metadata": null,
   "name": "python2"
  },
  "language_info": {
   "codemirror_mode": {
    "name": "ipython",
    "version": 2
   },
   "file_extension": ".py",
   "mimetype": "text/x-python",
   "name": "python",
   "nbconvert_exporter": "python",
   "pygments_lexer": "ipython2",
   "version": "2.7.18"
  },
  "name": "H1_agent_ChromHMM_plot.ipynb"
 },
 "nbformat": 4,
 "nbformat_minor": 2
}
