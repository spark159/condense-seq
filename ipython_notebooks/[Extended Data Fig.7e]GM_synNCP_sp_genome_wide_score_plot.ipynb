{
 "cells": [
  {
   "cell_type": "markdown",
   "id": "bcad26c3-d735-44ee-a197-b6b50239ae50",
   "metadata": {
    "collapsed": false
   },
   "source": [
    "plot data in genome-wide"
   ]
  },
  {
   "cell_type": "code",
   "execution_count": 61,
   "id": "249e3dd5-682b-4a96-8928-fd95bb7208a7",
   "metadata": {
    "collapsed": false
   },
   "outputs": [],
   "source": [
    "# python modules\n",
    "import sys\n",
    "import copy\n",
    "import random\n",
    "import numpy as np\n",
    "import matplotlib as mpl\n",
    "import matplotlib.pyplot as plt\n",
    "import scipy\n",
    "from scipy import stats"
   ]
  },
  {
   "cell_type": "code",
   "execution_count": 62,
   "id": "141a42c9-f831-40da-b817-4101baece0d2",
   "metadata": {
    "collapsed": false
   },
   "outputs": [],
   "source": [
    "# custom modules\n",
    "sys.path.append('/Users/sangwoopark/Projects/condense-seq/postpro_scripts')\n",
    "import graphics_edit as graphics\n",
    "import load_file_edit as load_file\n",
    "import Interval_dict\n",
    "import statis_edit as statis"
   ]
  },
  {
   "cell_type": "code",
   "execution_count": 63,
   "id": "d879ca79-3ed8-4180-9398-ed9ab5154106",
   "metadata": {
    "collapsed": false
   },
   "outputs": [],
   "source": [
    "# matplotlib setting\n",
    "%matplotlib inline\n",
    "mpl.rcParams[\"figure.facecolor\"] = \"white\"\n",
    "mpl.rcParams[\"axes.facecolor\"] = \"white\"\n",
    "mpl.rcParams[\"savefig.facecolor\"] = \"white\"\n"
   ]
  },
  {
   "cell_type": "code",
   "execution_count": 64,
   "id": "88122fab-88da-4f9b-a49f-2eb082e4688c",
   "metadata": {
    "collapsed": false
   },
   "outputs": [],
   "source": [
    "### parameters\n",
    "cell_org = {'H1':'human',\n",
    "            'GM':'human',\n",
    "            'mCD8T:WT':'mouse',\n",
    "            'mCD8T:DFMO':'mouse',\n",
    "            'mCD8T:ODCKO':'mouse'}\n",
    "\n",
    "cell_chrnames = {'H1':['chr%s' % (i) for i in range(1, 23)] + ['chrX', 'chrY'],\n",
    "                 'GM':['chr%s' % (i) for i in range(1, 23)] + ['chrX'],\n",
    "                 'mCD8T:WT':['chr%s' % (i) for i in range(1, 20)] + ['chrX'],\n",
    "                 'mCD8T:DFMO':['chr%s' % (i) for i in range(1, 20)] + ['chrX'],\n",
    "                 'mCD8T:ODCKO':['chr%s' % (i) for i in range(1, 20)] + ['chrX']}\n"
   ]
  },
  {
   "cell_type": "code",
   "execution_count": 65,
   "id": "c2d10804-351c-429d-aa06-b285267dfdb6",
   "metadata": {
    "collapsed": false
   },
   "outputs": [],
   "source": [
    "agent_fullname = {'sp':'Spermine(4+)',\n",
    "                  'spd':'Spermidine(3+)',\n",
    "                  'CoH':'Cobalt Hexammine(3+)',\n",
    "                  'PEG':'PEG 8000',\n",
    "                  'HP1a':'HP1$\\\\alpha$',\n",
    "                  'HP1bSUV':'HP1$\\\\beta$+tSUV',\n",
    "                  'LKH':'Linker histone1',\n",
    "                  'Ki67':'Ki67',\n",
    "                  'FUS':'FUS',\n",
    "                  'Mg':'Magnesium',\n",
    "                  'Ca':'Calcium'}\n"
   ]
  },
  {
   "cell_type": "code",
   "execution_count": 66,
   "id": "33ecdd5e-b730-4098-b68e-7dd4fee358b8",
   "metadata": {
    "collapsed": false
   },
   "outputs": [],
   "source": [
    "### chromosome choices\n",
    "#chr_choices = cell_chrnames['H1']\n",
    "chr_choices = ['chr1']"
   ]
  },
  {
   "cell_type": "code",
   "execution_count": 67,
   "id": "ae8bf7c0-18f9-432c-babb-8ad0965f0f56",
   "metadata": {
    "collapsed": false
   },
   "outputs": [
    {
     "name": "stdout",
     "output_type": "stream",
     "text": [
      "loading GM_synNCP_sp_1rep_10kb_score.gtab.gz\n"
     ]
    },
    {
     "name": "stdout",
     "output_type": "stream",
     "text": [
      "Done\n"
     ]
    }
   ],
   "source": [
    "### load gtab file\n",
    "gtab_path = \"/Users/sangwoopark/jhu_rockfish/2024_01_05_GEO/processed_files/\"\n",
    "\n",
    "dinfo_dkey = {'GM_synNCP_sp_1rep_10kb_score.gtab.gz':\n",
    "              {'GM_synNCP_sp_%d_1rep' % (i) :(1, 'GM', 'score', i) for i in range(1, 10)}}\n",
    "\n",
    "chr_dkey_ID_value = load_file.read_gtab_batch (dinfo_dkey,\n",
    "                                               data_path=gtab_path,\n",
    "                                               chr_choices=chr_choices,\n",
    "                                               by_chr_first=True)"
   ]
  },
  {
   "cell_type": "code",
   "execution_count": 68,
   "id": "606b56d0-3201-4c88-8a26-e562b18b6631",
   "metadata": {
    "collapsed": false
   },
   "outputs": [],
   "source": [
    "### read G_banding file\n",
    "gband_path = '/Users/sangwoopark/jhu_rockfish/HumanEpigeneticData/Gband/'\n",
    "gband_fname = gband_path + 'Gband_human.txt'\n",
    "chr_GID_Gband = load_file.read_Gband(gband_fname)"
   ]
  },
  {
   "cell_type": "code",
   "execution_count": 69,
   "id": "18a6659a-0534-4f97-8699-6e29e5d90035",
   "metadata": {
    "collapsed": false
   },
   "outputs": [],
   "source": [
    "### read genome size\n",
    "ref_path = '/Users/sangwoopark/jhu_rockfish/2024_01_05_GEO/ref_files/'\n",
    "ref_fname = ref_path + '4D_hg38.fa'\n",
    "genome_size = load_file.read_genome_size(ref_fname,\n",
    "                                         chr_choices=chr_choices)"
   ]
  },
  {
   "cell_type": "code",
   "execution_count": 70,
   "id": "8d6c6206-5586-4039-84a9-020db106bf7c",
   "metadata": {
    "collapsed": false
   },
   "outputs": [],
   "source": [
    "### read RNA-seq data\n",
    "RNAseq_path = '/Users/sangwoopark/jhu_rockfish/HumanEpigeneticData/RNAseq/'\n",
    "RNAseq_fname = 'ENCFF345SHY.tsv'\n",
    "geneID_FPKM = load_file.read_ENCODE_RNA_seq(RNAseq_path + RNAseq_fname)"
   ]
  },
  {
   "cell_type": "code",
   "execution_count": 71,
   "id": "7387df97-6260-4473-b8a5-8ce290a7d5af",
   "metadata": {
    "collapsed": false
   },
   "outputs": [],
   "source": [
    "### read GTF file\n",
    "GTF_path = '/Users/sangwoopark/jhu_rockfish/HumanEpigeneticData/GTF/'\n",
    "GTF_fname = 'ENCFF159KBI.gtf'\n",
    "geneID_field_value = load_file.read_GTF (GTF_path + GTF_fname,\n",
    "                                         chr_list=chr_choices)"
   ]
  },
  {
   "cell_type": "code",
   "execution_count": 72,
   "id": "afe53ba2-17c1-46ca-901e-02097efbf65d",
   "metadata": {
    "collapsed": false
   },
   "outputs": [],
   "source": [
    "### read HiC eigenvector file\n",
    "eigen_path = '/Users/sangwoopark/jhu_rockfish/HumanEpigeneticData/HiC/'\n",
    "eigen_fname = 'eigen_GM_100kb.bedgraph'\n",
    "chr_eID_value = load_file.read_bedgraph (eigen_path + eigen_fname,\n",
    "                                         chr_choices=chr_choices,\n",
    "                                         by_chr=True)"
   ]
  },
  {
   "cell_type": "code",
   "execution_count": 73,
   "id": "2dfb479e-010c-4eac-8f78-9cbb74527a6c",
   "metadata": {
    "collapsed": false
   },
   "outputs": [],
   "source": [
    "### read titration file\n",
    "titr_path = '/Users/sangwoopark/jhu_rockfish/2024_01_05_GEO/titration_files/'\n",
    "titr_fname = 'GM_synNCP_sp_titration.csv'\n",
    "tnum_conc, tnum_frac = load_file.read_titration (titr_path + titr_fname)"
   ]
  },
  {
   "cell_type": "code",
   "execution_count": 74,
   "id": "84c16a13-e689-4130-aaab-a7fdade6d380",
   "metadata": {
    "collapsed": false
   },
   "outputs": [],
   "source": [
    "### figure parameters\n",
    "# set figure binning parameters\n",
    "i = 20\n",
    "bin_size = int(0.5*(10**6) / i) # binsize (unit of bp)\n",
    "bin_step = bin_size # no overlap\n",
    "blur_win = int(4*i + 1) # sliding window (unit of bin)"
   ]
  },
  {
   "cell_type": "code",
   "execution_count": 75,
   "id": "f4b321b3-bd1d-49b1-9b64-e4cb25d83dbc",
   "metadata": {
    "collapsed": false
   },
   "outputs": [],
   "source": [
    "### binning/smooting the condense-seq data\n",
    "chr_dkey_sig = {}\n",
    "for chr in chr_dkey_ID_value:\n",
    "    for dkey in chr_dkey_ID_value[chr]:\n",
    "        ID_value = chr_dkey_ID_value[chr][dkey]\n",
    "        ID_loc = {ID:ID[1:] for ID in ID_value}\n",
    "        max_pos = genome_size[chr]\n",
    "\n",
    "        binID_mean = statis.rbin_data_mean(bin_size,\n",
    "                                           bin_step,\n",
    "                                           ID_loc,\n",
    "                                           ID_value,\n",
    "                                           max_pos=max_pos,\n",
    "                                           silent=True)\n",
    "\n",
    "        sig = [binID_mean[binID] for binID in sorted(binID_mean.keys())]\n",
    "        sig = statis.slow_moving_average2(sig, blur_win)\n",
    "\n",
    "        if chr not in chr_dkey_sig:\n",
    "            chr_dkey_sig[chr] = {}\n",
    "        chr_dkey_sig[chr][dkey] = sig\n"
   ]
  },
  {
   "cell_type": "code",
   "execution_count": 76,
   "id": "a650d186-dc3b-46a7-9c0d-1e7048c722bb",
   "metadata": {
    "collapsed": false
   },
   "outputs": [],
   "source": [
    "### rescale/reorganize the RNA-seq data\n",
    "chr_geneID_pos = {}\n",
    "chr_geneID_logFPKM = {}\n",
    "min_FPKM = min(geneID_FPKM.values())\n",
    "for geneID in geneID_FPKM:\n",
    "    try:\n",
    "        chr = geneID_field_value[geneID]['chr']\n",
    "        pos = geneID_field_value[geneID]['TSS']\n",
    "    except:\n",
    "        continue\n",
    "\n",
    "    if chr not in chr_geneID_pos:\n",
    "        chr_geneID_pos[chr] = {}\n",
    "    chr_geneID_pos[chr][geneID] = pos\n",
    "\n",
    "    logFPKM = np.log2(geneID_FPKM[geneID] - min_FPKM + 1)\n",
    "    if chr not in chr_geneID_logFPKM:\n",
    "        chr_geneID_logFPKM[chr] = {}\n",
    "    chr_geneID_logFPKM[chr][geneID] = logFPKM\n",
    "    "
   ]
  },
  {
   "cell_type": "code",
   "execution_count": 77,
   "id": "d093adfe-8c06-4656-bb2c-58b26e8d9363",
   "metadata": {
    "collapsed": false
   },
   "outputs": [],
   "source": [
    "### binning/smoothing the RNA-seq data\n",
    "chr_RNA_sig = {}\n",
    "for chr in chr_choices:\n",
    "    geneID_pos = chr_geneID_pos[chr]\n",
    "    geneID_logFPKM = chr_geneID_logFPKM[chr]\n",
    "    max_pos = genome_size[chr]\n",
    "    binID_mean = statis.rbin_data_mean(bin_size,\n",
    "                                       bin_step,\n",
    "                                       geneID_pos,\n",
    "                                       geneID_logFPKM,\n",
    "                                       max_pos=max_pos,\n",
    "                                       silent=True)\n",
    "\n",
    "    sig = []\n",
    "    for binID in sorted(binID_mean.keys()):\n",
    "        mean = binID_mean[binID]\n",
    "        if np.isnan(mean):\n",
    "            mean = 0.0 # put zero expression when no gene found\n",
    "        sig.append(mean)\n",
    "\n",
    "    sig = statis.slow_moving_average2(sig, blur_win)\n",
    "    chr_RNA_sig[chr] = sig\n"
   ]
  },
  {
   "cell_type": "code",
   "execution_count": 78,
   "id": "bfbdab16-e009-4165-a911-99ab61909399",
   "metadata": {
    "collapsed": false
   },
   "outputs": [],
   "source": [
    "### binning/smoothing the eigenvector data\n",
    "chr_eigen_sig = {}\n",
    "for chr in chr_choices:\n",
    "    eID_value = chr_eID_value[chr]\n",
    "    eID_loc = {eID:eID[1:] for eID in eID_value}\n",
    "    max_pos = genome_size[chr]\n",
    "\n",
    "    binID_mean = statis.rbin_data_mean(bin_size,\n",
    "                                       bin_step,\n",
    "                                       eID_loc,\n",
    "                                       eID_value,\n",
    "                                       max_pos=max_pos,\n",
    "                                       silent=True)\n",
    "\n",
    "    sig = [binID_mean[binID] for binID in sorted(binID_mean.keys())]\n",
    "    sig = statis.slow_moving_average2(sig, int(4*i/5.0 + 1))\n",
    "\n",
    "    if chr not in chr_eigen_sig:\n",
    "        chr_eigen_sig[chr] = {}\n",
    "    chr_eigen_sig[chr] = sig\n",
    "    "
   ]
  },
  {
   "cell_type": "code",
   "execution_count": 79,
   "id": "d9d2601c-d1ce-4608-aa02-3894f07e0560",
   "metadata": {
    "collapsed": false
   },
   "outputs": [],
   "source": [
    "### binning the G-banding data\n",
    "chr_binID_GID = {}\n",
    "chr_GID_binwin = {}\n",
    "for chr in chr_choices:\n",
    "    GID_Gband = chr_GID_Gband[chr]\n",
    "\n",
    "    Int_dict_Gband = Interval_dict.bin_hash(bin_size,\n",
    "                                            bin_step,\n",
    "                                            genome_size[chr],\n",
    "                                            silent=True)\n",
    "    \n",
    "    binID_GIDs = {}\n",
    "    for GID in GID_Gband:\n",
    "        st, ed = GID_Gband[GID]['interval']\n",
    "        find_binIDs = Int_dict_Gband.insert_range(st, ed, 1)\n",
    "        binID_value = Int_dict_Gband.get()\n",
    "        for binID in find_binIDs:\n",
    "            if binID not in binID_GIDs:\n",
    "                binID_GIDs[binID] = []\n",
    "            binID_GIDs[binID].append((binID_value[binID], GID))\n",
    "        Int_dict_Gband.clear()\n",
    "\n",
    "    binID_GID = {}\n",
    "    GID_binIDs = {}\n",
    "    for binID, GIDs in binID_GIDs.items():\n",
    "        GID = sorted(GIDs, reverse=True)[0][1]\n",
    "        binID_GID[binID] = GID\n",
    "        if GID not in GID_binIDs:\n",
    "            GID_binIDs[GID] = []\n",
    "        GID_binIDs[GID].append(binID)\n",
    "\n",
    "    GID_binwin = {}\n",
    "    for GID, binIDs in GID_binIDs.items():\n",
    "        GID_binwin[GID] = (min(binIDs), max(binIDs))\n",
    "            \n",
    "    chr_binID_GID[chr] = binID_GID\n",
    "    chr_GID_binwin[chr] = GID_binwin\n",
    "\n",
    "    del Int_dict_Gband, binID_GIDs, GID_binIDs\n"
   ]
  },
  {
   "cell_type": "code",
   "execution_count": 80,
   "id": "44231273-8680-4124-87af-c8a59b36c4e5",
   "metadata": {
    "collapsed": false
   },
   "outputs": [],
   "source": [
    "### make ideogram\n",
    "chr_Gtype_ideogram = {}\n",
    "for chr in chr_choices:\n",
    "    GID_Gband = chr_GID_Gband[chr]\n",
    "    Gtype_ideogram = {'num':[], 'var':[], 'acen':[]}\n",
    "    binID_st, binID_ed = 0, genome_size[chr] / bin_step\n",
    "    for binID in range(binID_st, binID_ed + 1):\n",
    "        try:\n",
    "            GID = chr_binID_GID[chr][binID]\n",
    "            Gtype = GID_Gband[GID]['type']\n",
    "            Gvalue = GID_Gband[GID]['value']\n",
    "        except:\n",
    "            for key in Gtype_ideogram:\n",
    "                Gtype_ideogram[key].append([np.nan])\n",
    "            continue\n",
    "\n",
    "        if Gtype in ['neg', 'pos']:\n",
    "            Gtype = 'num'\n",
    "            assert not np.isnan(Gvalue)\n",
    "        elif Gtype in ['var', 'acen']:\n",
    "            Gvalue = 10\n",
    "        else:\n",
    "            pass\n",
    "            \n",
    "        for key in Gtype_ideogram:\n",
    "            if key == Gtype:\n",
    "                Gtype_ideogram[key].append([Gvalue])\n",
    "            else:\n",
    "                Gtype_ideogram[key].append([np.nan])\n",
    "\n",
    "    chr_Gtype_ideogram[chr] = Gtype_ideogram"
   ]
  },
  {
   "cell_type": "code",
   "execution_count": 81,
   "id": "6688f763-7d10-46a0-adc8-63a35b4b240c",
   "metadata": {
    "collapsed": false
   },
   "outputs": [],
   "source": [
    "### set xtick labels along chromosome\n",
    "chr_xtick_locs = {}\n",
    "chr_xtick_labels = {}\n",
    "for chr in chr_choices:\n",
    "    xtick_locs, xtick_labels = [], []\n",
    "\n",
    "    binID_st = 0\n",
    "    binID_ed = genome_size[chr] / bin_step\n",
    "    for binID in range(binID_st, binID_ed+1):\n",
    "        pos = bin_step*binID + bin_size/2\n",
    "        Mb_pos = int(round(float(pos)/(10**6)))\n",
    "\n",
    "        if Mb_pos % 10 !=0: # 10Mbp steps\n",
    "            continue\n",
    "\n",
    "        label = str(Mb_pos)\n",
    "        if label not in xtick_labels:\n",
    "            xtick_locs.append(binID)\n",
    "            xtick_labels.append(label)\n",
    "\n",
    "    chr_xtick_locs[chr] = xtick_locs\n",
    "    chr_xtick_labels[chr] = xtick_labels"
   ]
  },
  {
   "cell_type": "code",
   "execution_count": 82,
   "id": "11ada157-e629-4a35-8157-2889f83c4b18",
   "metadata": {
    "collapsed": false
   },
   "outputs": [],
   "source": [
    "### set xtick labels for ideogram\n",
    "chr_Gtick_locs = {}\n",
    "chr_Gtick_labels = {}\n",
    "for chr in chr_GID_binwin:\n",
    "    GID_binwin = chr_GID_binwin[chr]\n",
    "    Gtick_locs, Gtick_labels = [], []\n",
    "    for GID in sorted(GID_binwin.keys()):\n",
    "        binID_st, binID_ed = GID_binwin[GID]\n",
    "        pos = (binID_st + binID_ed)/2\n",
    "        Gname = chr_GID_Gband[chr][GID]['name']\n",
    "        Gtick_locs.append(pos)\n",
    "        Gtick_labels.append(Gname)\n",
    "    chr_Gtick_locs[chr] = Gtick_locs\n",
    "    chr_Gtick_labels[chr] = Gtick_labels"
   ]
  },
  {
   "cell_type": "code",
   "execution_count": 83,
   "id": "b1bba912-76aa-4420-82d5-c8cda2f62bc5",
   "metadata": {
    "collapsed": false
   },
   "outputs": [],
   "source": [
    "### set heterochromatin regions of ideogram\n",
    "chr_shade_wins = {}\n",
    "for chr in chr_GID_binwin:\n",
    "    GID_binwin = chr_GID_binwin[chr]\n",
    "    shade_wins = []\n",
    "    for GID in sorted(GID_binwin.keys()):\n",
    "        Gtype = chr_GID_Gband[chr][GID]['type']\n",
    "        if Gtype =='pos':\n",
    "            shade_wins.append(GID_binwin[GID])\n",
    "    chr_shade_wins[chr] = shade_wins"
   ]
  },
  {
   "cell_type": "code",
   "execution_count": 84,
   "id": "18cd5a95-f5c5-48e4-828e-1321503578b8",
   "metadata": {
    "collapsed": false
   },
   "outputs": [],
   "source": [
    "### set mask region near centromere\n",
    "chr_mask_wins = {}\n",
    "for chr in chr_GID_binwin:\n",
    "    GID_binwin = chr_GID_binwin[chr]\n",
    "    mask_wins = []\n",
    "    for GID in sorted(GID_binwin.keys()):\n",
    "        Gtype = chr_GID_Gband[chr][GID]['type']\n",
    "        if Gtype in ['var', 'acen']:\n",
    "            mask_wins.append(GID_binwin[GID])\n",
    "\n",
    "    # merge windows near next each others\n",
    "    mask_wins = sorted(mask_wins)\n",
    "    new_mask_wins = []\n",
    "    for win in mask_wins:\n",
    "        st, ed = win\n",
    "        if not new_mask_wins:\n",
    "            new_mask_wins.append((st, ed))\n",
    "            continue\n",
    "        prev_st, prev_ed = new_mask_wins.pop()\n",
    "        if st - prev_ed <= 10:\n",
    "            new_mask_wins.append((prev_st, max(prev_ed, ed)))\n",
    "        else:\n",
    "            new_mask_wins.append((prev_st, prev_ed))\n",
    "            new_mask_wins.append((st, ed))\n",
    "\n",
    "    # trim the first part of mask to match the reference genome\n",
    "    for i in range(len(new_mask_wins)):\n",
    "        st, ed = new_mask_wins[i]\n",
    "        new_mask_wins[i] = (st+50, ed)\n",
    "    \n",
    "    chr_mask_wins[chr] = new_mask_wins"
   ]
  },
  {
   "cell_type": "code",
   "execution_count": 85,
   "id": "14db236e-f858-4273-b6da-78403c94be58",
   "metadata": {
    "collapsed": false
   },
   "outputs": [
    {
     "data": {
      "image/png": "[encoded data removed]",
      "text/plain": [
       "<Figure size 1080x288 with 3 Axes>"
      ]
     },
     "metadata": {},
     "output_type": "display_data"
    }
   ],
   "source": [
    "### plot genome-wide data along with ideogram\n",
    "## figure parameters\n",
    "side_names = {'left':[(1, 'GM', 'score', i) for i in range(1,10)],\n",
    "              'right':['RNA']}\n",
    "color_list = np.linspace(0.01, 0.99, num=10)\n",
    "cmap = mpl.cm.get_cmap(\"jet\")\n",
    "name_color = {(1, 'GM', 'score', i):cmap(color_list[i]) for i in range(1, 10)}\n",
    "name_color['RNA'] = 'black'\n",
    "name_alpha = {'RNA':0.5}\n",
    "name_label = {(1, 'GM', 'score', i):'[sp]=%.2fmM' % (tnum_conc[i]) for i in range(1, 10)}\n",
    "name_linestyle = {'RNA':'--'}\n",
    "side_ylabel={'left':'Condensability fluctuation',\n",
    "             'right':'Gene expression'}\n",
    "side_ycolor={'left':'blue',\n",
    "             'right':'black'}\n",
    "side_ylim={'left':[-1.3, 1.7],\n",
    "           'right':None}\n",
    "#side_ylim={'left':None,\n",
    "#           'right':None}\n",
    "#side_ylim={'left':[-10**6, 10**6],\n",
    "#           'right':None}\n",
    "#side_yscale={'left':None,\n",
    "#             'right':None}\n",
    "\n",
    "## plot data in genome-wide (condensability vs gene expression) [Extended Data Fig.7e]\n",
    "for chr in chr_choices:\n",
    "    #name_sig = chr_dkey_sig[chr]\n",
    "    name_sig = {}\n",
    "    for dkey, sig in chr_dkey_sig[chr].items():\n",
    "        name_sig[dkey] = statis.standardize (sig, by_std=False)\n",
    "    name_sig['RNA'] = chr_RNA_sig[chr]\n",
    "    shade_wins = chr_shade_wins[chr]\n",
    "    mask_wins = chr_mask_wins[chr]\n",
    "    graphics.plot_genome_wide(side_names=side_names,\n",
    "                              name_sig=name_sig,\n",
    "                              name_color=name_color,\n",
    "                              name_alpha=name_alpha,\n",
    "                              name_label=name_label,\n",
    "                              name_linestyle=name_linestyle,\n",
    "                              side_ylabel=side_ylabel,\n",
    "                              side_ycolor=side_ycolor,\n",
    "                              side_ylim=side_ylim,\n",
    "                              xtick_locs=chr_xtick_locs[chr],\n",
    "                              xtick_labels=chr_xtick_labels[chr],\n",
    "                              Gtype_ideogram=chr_Gtype_ideogram[chr],\n",
    "                              Gtick_locs=chr_Gtick_locs[chr],\n",
    "                              Gtick_labels=chr_Gtick_labels[chr],\n",
    "                              shade_wins=shade_wins,\n",
    "                              mask_wins=mask_wins,\n",
    "                              legend_loc='upper left',\n",
    "                              fig_width=15,\n",
    "                              fig_height=4,\n",
    "                              height_ratios=[8, 1],\n",
    "                              hspace=0.65,\n",
    "                              save_path='./data/',\n",
    "                              save=True,\n",
    "                              note='GM_synNCP')"
   ]
  }
 ],
 "metadata": {
  "kernelspec": {
   "argv": [
    "/Library/Frameworks/Python.framework/Versions/2.7/Resources/Python.app/Contents/MacOS/Python",
    "-m",
    "ipykernel_launcher",
    "-f",
    "{connection_file}"
   ],
   "display_name": "Python 2",
   "env": null,
   "interrupt_mode": "signal",
   "language": "python",
   "metadata": null,
   "name": "python2"
  },
  "name": "GM_synNCP_sp_genome_wide_score_plot.ipynb"
 },
 "nbformat": 4,
 "nbformat_minor": 2
}
