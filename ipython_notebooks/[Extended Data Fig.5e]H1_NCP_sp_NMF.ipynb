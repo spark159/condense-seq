{
 "cells": [
  {
   "cell_type": "markdown",
   "id": "5a1d15e8-dbd4-4cdc-923c-ff9a74205d61",
   "metadata": {
    "collapsed": false
   },
   "source": [
    "Non-negative matrix factorization analysis"
   ]
  },
  {
   "cell_type": "code",
   "execution_count": 1,
   "id": "5cade31f-3fca-495b-b0c2-2c33a57c4139",
   "metadata": {
    "collapsed": false
   },
   "outputs": [],
   "source": [
    "# python modules\n",
    "import sys\n",
    "import copy\n",
    "import re\n",
    "import pickle\n",
    "import random\n",
    "import glob\n",
    "import numpy as np\n",
    "import matplotlib as mpl\n",
    "import matplotlib.pyplot as plt\n",
    "import scipy\n",
    "from scipy import stats\n",
    "from sklearn.decomposition import NMF"
   ]
  },
  {
   "cell_type": "code",
   "execution_count": 2,
   "id": "6188cd4d-9e08-4e96-9745-6e48ca19602f",
   "metadata": {
    "collapsed": false
   },
   "outputs": [],
   "source": [
    "# custom modules\n",
    "sys.path.append('/Users/sangwoopark/Projects/condense-seq/postpro_scripts')\n",
    "import graphics_edit as graphics\n",
    "import load_file_edit as load_file\n",
    "import Interval_dict\n",
    "import statis_edit as statis"
   ]
  },
  {
   "cell_type": "code",
   "execution_count": 3,
   "id": "3f861176-fde5-4909-9666-be50242fc744",
   "metadata": {
    "collapsed": false
   },
   "outputs": [],
   "source": [
    "# matplotlib setting\n",
    "%matplotlib inline\n",
    "mpl.rcParams[\"figure.facecolor\"] = \"white\"\n",
    "mpl.rcParams[\"axes.facecolor\"] = \"white\"\n",
    "mpl.rcParams[\"savefig.facecolor\"] = \"white\""
   ]
  },
  {
   "cell_type": "code",
   "execution_count": 4,
   "id": "1fee66c1-ba6d-4659-b206-d8543a3a63a4",
   "metadata": {
    "collapsed": false
   },
   "outputs": [],
   "source": [
    "### parameters\n",
    "cell_org = {'H1':'human',\n",
    "            'GM':'human',\n",
    "            'mCD8T:WT':'mouse',\n",
    "            'mCD8T:DFMO':'mouse',\n",
    "            'mCD8T:ODCKO':'mouse'}\n",
    "\n",
    "cell_chrnames = {'H1':['chr%s' % (i) for i in range(1, 23)] + ['chrX', 'chrY'],\n",
    "                 'GM':['chr%s' % (i) for i in range(1, 23)] + ['chrX'],\n",
    "                 'mCD8T:WT':['chr%s' % (i) for i in range(1, 20)] + ['chrX'],\n",
    "                 'mCD8T:DFMO':['chr%s' % (i) for i in range(1, 20)] + ['chrX'],\n",
    "                 'mCD8T:ODCKO':['chr%s' % (i) for i in range(1, 20)] + ['chrX']}"
   ]
  },
  {
   "cell_type": "code",
   "execution_count": 5,
   "id": "ea27be33-61f8-4584-ad2f-83c31d1bc987",
   "metadata": {
    "collapsed": false
   },
   "outputs": [
    {
     "name": "stdout",
     "output_type": "stream",
     "text": [
      "loading H1_NCP_sp_1rep_deep_chr1_score_table.gtab.gz\n"
     ]
    },
    {
     "name": "stdout",
     "output_type": "stream",
     "text": [
      "Done\n"
     ]
    }
   ],
   "source": [
    "### load gtab files\n",
    "gtab_path = '/Users/sangwoopark/jhu_rockfish/2024_01_05_GEO/processed_files/'\n",
    "\n",
    "dinfo_dkey = {'H1_NCP_sp_1rep_deep_chr1_score_table.gtab.gz':None}\n",
    "\n",
    "dkey_ID_value = load_file.read_gtab_batch (dinfo_dkey,\n",
    "                                           data_path=gtab_path)"
   ]
  },
  {
   "cell_type": "code",
   "execution_count": 6,
   "id": "1ecceb13-fbac-473f-8675-5edcc4b44bd9",
   "metadata": {
    "collapsed": false
   },
   "outputs": [],
   "source": [
    "### set output fname\n",
    "out_path = './data/'\n",
    "out_fname = out_path + 'H1_NCP_sp'"
   ]
  },
  {
   "cell_type": "code",
   "execution_count": 7,
   "id": "8f448c45-a1cf-47f0-b5ce-82784579305c",
   "metadata": {
    "collapsed": false
   },
   "outputs": [],
   "source": [
    "# change dkey name\n",
    "dkey_ID_value['AT content'] = copy.deepcopy(dkey_ID_value['ATcontent'])\n",
    "del dkey_ID_value['ATcontent']"
   ]
  },
  {
   "cell_type": "code",
   "execution_count": 8,
   "id": "9ee37bee-013e-4629-9fae-32cd89d77e19",
   "metadata": {
    "collapsed": false
   },
   "outputs": [],
   "source": [
    "### compute sequence features\n",
    "# methylation density\n",
    "dkey_ID_value['meCpG density'] = statis.get_fract_dict(dkey_ID_value['meCNumber(CpG)'],\n",
    "                                                       dkey_ID_value['CNumber(CpG)'],\n",
    "                                                       div_error=0.0)\n",
    "dkey_ID_value['meCHG density'] = statis.get_fract_dict(dkey_ID_value['meCNumber(CHG)'],\n",
    "                                                       dkey_ID_value['CNumber(CHG)'],\n",
    "                                                       div_error=0.0)\n",
    "dkey_ID_value['meCHH density'] = statis.get_fract_dict(dkey_ID_value['meCNumber(CHH)'], \n",
    "                                                       dkey_ID_value['CNumber(CHH)'],\n",
    "                                                       div_error=0.0)\n"
   ]
  },
  {
   "cell_type": "code",
   "execution_count": 9,
   "id": "c41f1d65-4144-4c4f-a119-759232ef63c3",
   "metadata": {
    "collapsed": false
   },
   "outputs": [],
   "source": [
    "### compute sequence features\n",
    "# mean poly GC length\n",
    "ID_polyGC = {}\n",
    "for ID, seq in dkey_ID_value['Sequence'].items():\n",
    "    num_pos = statis.polynt_count(seq.upper(), nts='GC', pos=True)\n",
    "    mean_len, count = 0.0, 0.0\n",
    "    for num, pos in num_pos.items():\n",
    "        mean_len += len(pos)*num\n",
    "        count += len(pos)\n",
    "    ID_polyGC[ID] = mean_len/count\n",
    "\n",
    "dkey_ID_value['poly-G/C length'] = ID_polyGC\n",
    "\n",
    "del dkey_ID_value['Sequence']\n",
    "del ID_polyGC\n"
   ]
  },
  {
   "cell_type": "code",
   "execution_count": 10,
   "id": "b52f5032-457c-4358-b63c-6ab55b92d8c1",
   "metadata": {
    "collapsed": false
   },
   "outputs": [],
   "source": [
    "### select feature set and target for analysis\n",
    "seq_features = ['AT content', 'poly-G/C length']\n",
    "epigenetic_features = ['meCpG density', 'meCHG density', 'meCHH density', 'H2AFZ', 'H2AK5ac', 'H2BK120ac', 'H2BK12ac', 'H2BK15ac', 'H2BK20ac', 'H2BK5ac', 'H3K14ac', 'H3K18ac', 'H3K23ac', 'H3K23me2', 'H3K27ac', 'H3K27me3', 'H3K36me3', 'H3K4ac', 'H3K4me1', 'H3K4me2', 'H3K4me3', 'H3K56ac', 'H3K79me1', 'H3K79me2', 'H3K9ac', 'H3K9me3', 'H4K20me1', 'H4K5ac', 'H4K8ac', 'H4K91ac']\n",
    "\n",
    "features = seq_features + epigenetic_features"
   ]
  },
  {
   "cell_type": "code",
   "execution_count": 11,
   "id": "f987892d-d889-4e05-91bf-1565aaa9d9bd",
   "metadata": {
    "collapsed": false
   },
   "outputs": [],
   "source": [
    "### set target for analysis\n",
    "target = 'H1_NCP_sp_8_1rep_deep'"
   ]
  },
  {
   "cell_type": "code",
   "execution_count": 12,
   "id": "bf535829-0ee9-4836-9500-65c8f720ade0",
   "metadata": {
    "collapsed": false
   },
   "outputs": [],
   "source": [
    "### rescale the feature variables\n",
    "ID_score = dkey_ID_value[target]\n",
    "IDs = ID_score.keys()\n",
    "\n",
    "X = [[] for i in range(len(IDs))]\n",
    "for feature in features:\n",
    "    values = [dkey_ID_value[feature][ID] for ID in IDs]\n",
    "    min_value = min(values)\n",
    "    max_value = max(values)\n",
    "    for i in range(len(IDs)):\n",
    "        value = values[i]\n",
    "        re_value = float(value-min_value)/max_value\n",
    "        X[i].append(re_value)\n",
    "X = scipy.sparse.csr_matrix(X)\n",
    "del dkey_ID_value"
   ]
  },
  {
   "cell_type": "code",
   "execution_count": 13,
   "id": "af83d9c8-ac66-4658-9d39-2d44a6725f0b",
   "metadata": {
    "collapsed": false
   },
   "outputs": [
    {
     "name": "stdout",
     "output_type": "stream",
     "text": [
      "NMF start\n"
     ]
    },
    {
     "name": "stdout",
     "output_type": "stream",
     "text": [
      "violation: 1.0\n",
      "violation: 0.268470829063\n"
     ]
    },
    {
     "name": "stdout",
     "output_type": "stream",
     "text": [
      "violation: 0.0899969156532\n",
      "violation: 0.0445022543162\n"
     ]
    },
    {
     "name": "stdout",
     "output_type": "stream",
     "text": [
      "violation: 0.0259116783527\n",
      "violation: 0.0185785292007\n"
     ]
    },
    {
     "name": "stdout",
     "output_type": "stream",
     "text": [
      "violation: 0.0143413596021\n",
      "violation: 0.011714083865\n"
     ]
    },
    {
     "name": "stdout",
     "output_type": "stream",
     "text": [
      "violation: 0.00983611933791\n",
      "violation: 0.00895138657698\n"
     ]
    },
    {
     "name": "stdout",
     "output_type": "stream",
     "text": [
      "violation: 0.00858211526572\n",
      "violation: 0.00851006571029\n"
     ]
    },
    {
     "name": "stdout",
     "output_type": "stream",
     "text": [
      "violation: 0.00875356440738\n",
      "violation: 0.00931926609234\n"
     ]
    },
    {
     "name": "stdout",
     "output_type": "stream",
     "text": [
      "violation: 0.00939259969257\n",
      "violation: 0.0096121018247\n"
     ]
    },
    {
     "name": "stdout",
     "output_type": "stream",
     "text": [
      "violation: 0.00926921069888\n",
      "violation: 0.00868046615577\n"
     ]
    },
    {
     "name": "stdout",
     "output_type": "stream",
     "text": [
      "violation: 0.00804965090647\n",
      "violation: 0.00786881066751\n"
     ]
    },
    {
     "name": "stdout",
     "output_type": "stream",
     "text": [
      "violation: 0.008233766375\n",
      "violation: 0.00887921783429\n"
     ]
    },
    {
     "name": "stdout",
     "output_type": "stream",
     "text": [
      "violation: 0.00992013740106\n",
      "violation: 0.0107143156476\n"
     ]
    },
    {
     "name": "stdout",
     "output_type": "stream",
     "text": [
      "violation: 0.00996922451721\n",
      "violation: 0.00738536761819\n"
     ]
    },
    {
     "name": "stdout",
     "output_type": "stream",
     "text": [
      "violation: 0.00534750155375\n",
      "violation: 0.00455313316448\n"
     ]
    },
    {
     "name": "stdout",
     "output_type": "stream",
     "text": [
      "violation: 0.0039651307934\n",
      "violation: 0.00353292325\n"
     ]
    },
    {
     "name": "stdout",
     "output_type": "stream",
     "text": [
      "violation: 0.00321090109597\n",
      "violation: 0.00296542689265\n"
     ]
    },
    {
     "name": "stdout",
     "output_type": "stream",
     "text": [
      "violation: 0.00276521296123\n",
      "violation: 0.0025492304935\n"
     ]
    },
    {
     "name": "stdout",
     "output_type": "stream",
     "text": [
      "violation: 0.00239787890346\n",
      "violation: 0.00225682732092\n"
     ]
    },
    {
     "name": "stdout",
     "output_type": "stream",
     "text": [
      "violation: 0.0021346123702\n",
      "violation: 0.00202556357939\n"
     ]
    },
    {
     "name": "stdout",
     "output_type": "stream",
     "text": [
      "violation: 0.00192634465432\n"
     ]
    },
    {
     "name": "stdout",
     "output_type": "stream",
     "text": [
      "violation: 0.00183631713313\n",
      "violation: 0.0017533480911\n"
     ]
    },
    {
     "name": "stdout",
     "output_type": "stream",
     "text": [
      "violation: 0.00167652505143\n",
      "violation: 0.00160528720536\n"
     ]
    },
    {
     "name": "stdout",
     "output_type": "stream",
     "text": [
      "violation: 0.00153934126158\n",
      "violation: 0.00147845244138\n"
     ]
    },
    {
     "name": "stdout",
     "output_type": "stream",
     "text": [
      "violation: 0.00142264048777\n",
      "violation: 0.00136490524356\n"
     ]
    },
    {
     "name": "stdout",
     "output_type": "stream",
     "text": [
      "violation: 0.00131015329129\n",
      "violation: 0.00126420648329\n"
     ]
    },
    {
     "name": "stdout",
     "output_type": "stream",
     "text": [
      "violation: 0.00122259448642\n",
      "violation: 0.00118458937575\n"
     ]
    },
    {
     "name": "stdout",
     "output_type": "stream",
     "text": [
      "violation: 0.00114978905218\n",
      "violation: 0.00111783508802\n"
     ]
    },
    {
     "name": "stdout",
     "output_type": "stream",
     "text": [
      "violation: 0.00108851603052\n",
      "violation: 0.00106323248012\n"
     ]
    },
    {
     "name": "stdout",
     "output_type": "stream",
     "text": [
      "violation: 0.00103973407984\n",
      "violation: 0.00101760533438\n"
     ]
    },
    {
     "name": "stdout",
     "output_type": "stream",
     "text": [
      "violation: 0.000997229020966\n",
      "violation: 0.000978324248046\n"
     ]
    },
    {
     "name": "stdout",
     "output_type": "stream",
     "text": [
      "violation: 0.00096079484593\n",
      "violation: 0.000944423927222\n"
     ]
    },
    {
     "name": "stdout",
     "output_type": "stream",
     "text": [
      "violation: 0.000929128029558\n",
      "violation: 0.000914947923371\n"
     ]
    },
    {
     "name": "stdout",
     "output_type": "stream",
     "text": [
      "violation: 0.000901863537805\n",
      "violation: 0.000889757831908\n"
     ]
    },
    {
     "name": "stdout",
     "output_type": "stream",
     "text": [
      "violation: 0.000878551444826\n",
      "violation: 0.000868124710871\n"
     ]
    },
    {
     "name": "stdout",
     "output_type": "stream",
     "text": [
      "violation: 0.000858442609474\n",
      "violation: 0.000847508135037\n"
     ]
    },
    {
     "name": "stdout",
     "output_type": "stream",
     "text": [
      "violation: 0.000812339392131\n",
      "violation: 0.000796718151237\n"
     ]
    },
    {
     "name": "stdout",
     "output_type": "stream",
     "text": [
      "violation: 0.000786473656047\n",
      "violation: 0.000778244212913\n"
     ]
    },
    {
     "name": "stdout",
     "output_type": "stream",
     "text": [
      "violation: 0.000770739221823\n",
      "violation: 0.000763715584125\n"
     ]
    },
    {
     "name": "stdout",
     "output_type": "stream",
     "text": [
      "violation: 0.000756995210646\n",
      "violation: 0.000750550125215\n"
     ]
    },
    {
     "name": "stdout",
     "output_type": "stream",
     "text": [
      "violation: 0.000744404081795\n",
      "violation: 0.000738529405717\n"
     ]
    },
    {
     "name": "stdout",
     "output_type": "stream",
     "text": [
      "violation: 0.000732921343887\n",
      "violation: 0.000727560185409\n"
     ]
    },
    {
     "name": "stdout",
     "output_type": "stream",
     "text": [
      "violation: 0.000722431326401\n",
      "violation: 0.00071755649389\n"
     ]
    },
    {
     "name": "stdout",
     "output_type": "stream",
     "text": [
      "violation: 0.000712907065368\n",
      "violation: 0.000708494119362\n"
     ]
    },
    {
     "name": "stdout",
     "output_type": "stream",
     "text": [
      "violation: 0.000704262206093\n",
      "violation: 0.000700233320151\n"
     ]
    },
    {
     "name": "stdout",
     "output_type": "stream",
     "text": [
      "violation: 0.000696404035493\n",
      "violation: 0.000692742397436\n"
     ]
    },
    {
     "name": "stdout",
     "output_type": "stream",
     "text": [
      "violation: 0.000689240377763\n",
      "violation: 0.000686052415688\n"
     ]
    },
    {
     "name": "stdout",
     "output_type": "stream",
     "text": [
      "violation: 0.000682944317839\n",
      "violation: 0.000679924558766\n"
     ]
    },
    {
     "name": "stdout",
     "output_type": "stream",
     "text": [
      "violation: 0.000677045687724\n",
      "violation: 0.000674304162243\n"
     ]
    },
    {
     "name": "stdout",
     "output_type": "stream",
     "text": [
      "violation: 0.000671696621346\n",
      "violation: 0.000669035253111\n"
     ]
    },
    {
     "name": "stdout",
     "output_type": "stream",
     "text": [
      "violation: 0.000666708601735\n",
      "violation: 0.000664507464501\n"
     ]
    },
    {
     "name": "stdout",
     "output_type": "stream",
     "text": [
      "violation: 0.000662433869165\n",
      "violation: 0.000660474670921\n"
     ]
    },
    {
     "name": "stdout",
     "output_type": "stream",
     "text": [
      "violation: 0.000658630071309\n",
      "violation: 0.000656913121639\n"
     ]
    },
    {
     "name": "stdout",
     "output_type": "stream",
     "text": [
      "violation: 0.000655314093565\n",
      "violation: 0.000653815058831\n"
     ]
    },
    {
     "name": "stdout",
     "output_type": "stream",
     "text": [
      "violation: 0.000652395241091\n",
      "violation: 0.000651106741639\n"
     ]
    },
    {
     "name": "stdout",
     "output_type": "stream",
     "text": [
      "violation: 0.000649922940412\n",
      "violation: 0.00064883788691\n"
     ]
    },
    {
     "name": "stdout",
     "output_type": "stream",
     "text": [
      "violation: 0.000647851733164\n",
      "violation: 0.000646972447187\n"
     ]
    },
    {
     "name": "stdout",
     "output_type": "stream",
     "text": [
      "violation: 0.000646182837096\n",
      "violation: 0.000645949434355\n"
     ]
    },
    {
     "name": "stdout",
     "output_type": "stream",
     "text": [
      "violation: 0.000635038730408\n",
      "violation: 0.000565057868906\n"
     ]
    },
    {
     "name": "stdout",
     "output_type": "stream",
     "text": [
      "violation: 0.000547856250977\n"
     ]
    },
    {
     "name": "stdout",
     "output_type": "stream",
     "text": [
      "violation: 0.000523029595687\n",
      "violation: 0.000502615647711\n"
     ]
    },
    {
     "name": "stdout",
     "output_type": "stream",
     "text": [
      "violation: 0.000485502981281\n",
      "violation: 0.000471316051877\n"
     ]
    },
    {
     "name": "stdout",
     "output_type": "stream",
     "text": [
      "violation: 0.000459730641447\n",
      "violation: 0.000450393067435\n"
     ]
    },
    {
     "name": "stdout",
     "output_type": "stream",
     "text": [
      "violation: 0.000443057017984\n",
      "violation: 0.000437432436408\n"
     ]
    },
    {
     "name": "stdout",
     "output_type": "stream",
     "text": [
      "violation: 0.00043326513619\n",
      "violation: 0.000430191739252\n"
     ]
    },
    {
     "name": "stdout",
     "output_type": "stream",
     "text": [
      "violation: 0.000427899756251\n",
      "violation: 0.000426085887858\n"
     ]
    },
    {
     "name": "stdout",
     "output_type": "stream",
     "text": [
      "violation: 0.000424633354616\n",
      "violation: 0.000423514676954\n"
     ]
    },
    {
     "name": "stdout",
     "output_type": "stream",
     "text": [
      "violation: 0.000422618886112\n",
      "violation: 0.000421949283906\n"
     ]
    },
    {
     "name": "stdout",
     "output_type": "stream",
     "text": [
      "violation: 0.000421468096633\n",
      "violation: 0.000421148598887\n"
     ]
    },
    {
     "name": "stdout",
     "output_type": "stream",
     "text": [
      "violation: 0.000420968636764\n",
      "violation: 0.000420914030532\n"
     ]
    },
    {
     "name": "stdout",
     "output_type": "stream",
     "text": [
      "violation: 0.000420955433881\n",
      "violation: 0.000421086962286\n"
     ]
    },
    {
     "name": "stdout",
     "output_type": "stream",
     "text": [
      "violation: 0.000421302047826\n",
      "violation: 0.000421599709282\n"
     ]
    },
    {
     "name": "stdout",
     "output_type": "stream",
     "text": [
      "violation: 0.000421970684496\n",
      "violation: 0.000422401142392\n"
     ]
    },
    {
     "name": "stdout",
     "output_type": "stream",
     "text": [
      "violation: 0.000422890522408\n",
      "violation: 0.000423441290184\n"
     ]
    },
    {
     "name": "stdout",
     "output_type": "stream",
     "text": [
      "violation: 0.000424063825885\n",
      "violation: 0.000424735119847\n"
     ]
    },
    {
     "name": "stdout",
     "output_type": "stream",
     "text": [
      "violation: 0.000425456525422\n",
      "violation: 0.000426221371705\n"
     ]
    },
    {
     "name": "stdout",
     "output_type": "stream",
     "text": [
      "violation: 0.000427027375251\n",
      "violation: 0.000427874002753\n"
     ]
    },
    {
     "name": "stdout",
     "output_type": "stream",
     "text": [
      "violation: 0.000428762693799\n",
      "violation: 0.000429691805424\n"
     ]
    },
    {
     "name": "stdout",
     "output_type": "stream",
     "text": [
      "violation: 0.000430659376279\n",
      "violation: 0.000431667973094\n"
     ]
    },
    {
     "name": "stdout",
     "output_type": "stream",
     "text": [
      "violation: 0.000432715987309\n",
      "violation: 0.000433802508644\n"
     ]
    },
    {
     "name": "stdout",
     "output_type": "stream",
     "text": [
      "violation: 0.00043492657354\n",
      "violation: 0.000436089451735\n"
     ]
    },
    {
     "name": "stdout",
     "output_type": "stream",
     "text": [
      "violation: 0.000437288608633\n",
      "violation: 0.000438523710296\n"
     ]
    },
    {
     "name": "stdout",
     "output_type": "stream",
     "text": [
      "violation: 0.000439796877906\n",
      "violation: 0.000441108225143\n"
     ]
    },
    {
     "name": "stdout",
     "output_type": "stream",
     "text": [
      "violation: 0.000442459442057\n",
      "violation: 0.000443845680632\n"
     ]
    },
    {
     "name": "stdout",
     "output_type": "stream",
     "text": [
      "violation: 0.000445271956757\n",
      "violation: 0.000446734397243\n"
     ]
    },
    {
     "name": "stdout",
     "output_type": "stream",
     "text": [
      "violation: 0.000448238033072\n",
      "violation: 0.000449778498107\n"
     ]
    },
    {
     "name": "stdout",
     "output_type": "stream",
     "text": [
      "violation: 0.000451357637332\n",
      "violation: 0.000452975989078\n"
     ]
    },
    {
     "name": "stdout",
     "output_type": "stream",
     "text": [
      "violation: 0.000454631812577\n",
      "violation: 0.000456325889329\n"
     ]
    },
    {
     "name": "stdout",
     "output_type": "stream",
     "text": [
      "violation: 0.000458065303383\n",
      "violation: 0.000459844351331\n"
     ]
    },
    {
     "name": "stdout",
     "output_type": "stream",
     "text": [
      "violation: 0.000461665109771\n",
      "violation: 0.000463530031209\n"
     ]
    },
    {
     "name": "stdout",
     "output_type": "stream",
     "text": [
      "violation: 0.000465437517845\n",
      "violation: 0.000467390716714\n"
     ]
    },
    {
     "name": "stdout",
     "output_type": "stream",
     "text": [
      "violation: 0.000469388666103\n",
      "violation: 0.000471435114711\n"
     ]
    },
    {
     "name": "stdout",
     "output_type": "stream",
     "text": [
      "violation: 0.000473528284894\n",
      "violation: 0.00047566834788\n"
     ]
    },
    {
     "name": "stdout",
     "output_type": "stream",
     "text": [
      "violation: 0.000477855939832\n",
      "violation: 0.000480095316292\n"
     ]
    },
    {
     "name": "stdout",
     "output_type": "stream",
     "text": [
      "violation: 0.000482387307153\n",
      "violation: 0.0004847305863\n"
     ]
    },
    {
     "name": "stdout",
     "output_type": "stream",
     "text": [
      "violation: 0.00048712413532\n",
      "violation: 0.000489572763582\n"
     ]
    },
    {
     "name": "stdout",
     "output_type": "stream",
     "text": [
      "violation: 0.000492078341611\n",
      "violation: 0.000494636501991\n"
     ]
    },
    {
     "name": "stdout",
     "output_type": "stream",
     "text": [
      "violation: 0.000497251011238\n",
      "violation: 0.000499921925308\n"
     ]
    },
    {
     "name": "stdout",
     "output_type": "stream",
     "text": [
      "violation: 0.000502652089395\n",
      "violation: 0.000505443894466\n"
     ]
    },
    {
     "name": "stdout",
     "output_type": "stream",
     "text": [
      "violation: 0.000508293560149\n",
      "violation: 0.000511203153567\n"
     ]
    },
    {
     "name": "stdout",
     "output_type": "stream",
     "text": [
      "violation: 0.000514173529244\n",
      "violation: 0.000517205219601\n"
     ]
    },
    {
     "name": "stdout",
     "output_type": "stream",
     "text": [
      "violation: 0.000520299783418\n",
      "violation: 0.000523460436809\n"
     ]
    },
    {
     "name": "stdout",
     "output_type": "stream",
     "text": [
      "NMF is done\n"
     ]
    }
   ],
   "source": [
    "# None-negative matrix factorization\n",
    "class_num = 10\n",
    "\n",
    "try:\n",
    "    with open(out_fname + \"_W.pickle\", \"rb\") as f:\n",
    "        W = pickle.load(f)\n",
    "    with open(out_fname + \"_H.pickle\", \"rb\") as f:\n",
    "        H = pickle.load(f)\n",
    "\n",
    "except:\n",
    "    print \"NMF start\"\n",
    "    model = NMF(n_components=class_num, init='random', random_state=0, verbose=True)\n",
    "    W = model.fit_transform(X)\n",
    "    H = model.components_\n",
    "    print \"NMF is done\"\n",
    "\n",
    "    with open(out_fname + \"_W.pickle\", \"wb\") as f:\n",
    "        pickle.dump(W, f)\n",
    "    with open(out_fname + \"_H.pickle\", \"wb\") as f:\n",
    "        pickle.dump(H, f)"
   ]
  },
  {
   "cell_type": "code",
   "execution_count": 14,
   "id": "ebfcdc2d-17ca-4295-89c6-26a6354f7c0f",
   "metadata": {
    "collapsed": false
   },
   "outputs": [],
   "source": [
    "# post-analysis of NMF\n",
    "cID_prog = []\n",
    "for i in range(class_num):\n",
    "    cID_prog.append(H[i])\n",
    "\n",
    "ID_cID = {}\n",
    "cID_IDs = [[] for i in range(class_num)]\n",
    "for i in range(len(IDs)):\n",
    "    ID = IDs[i]\n",
    "    cID = np.argmax(W[i])\n",
    "    ID_cID[ID] = cID\n",
    "    cID_IDs[cID].append(ID)\n",
    "\n",
    "cID_scores = [[] for i in range(class_num)]\n",
    "for i in range(len(cID_IDs)):\n",
    "    for ID in cID_IDs[i]:\n",
    "        score = ID_score[ID]\n",
    "        cID_scores[i].append(score)"
   ]
  },
  {
   "cell_type": "code",
   "execution_count": 15,
   "id": "35097098-2778-4c00-bd7b-125208c4157b",
   "metadata": {
    "collapsed": false
   },
   "outputs": [],
   "source": [
    "# sort according to condensability\n",
    "score_cID = sorted([(np.median(cID_scores[cID]), cID) for cID in range(len(cID_scores))])\n",
    "cID_list = [cID for score, cID in score_cID]\n",
    "cID_newcID = {cID_list[i]:i for i in range(len(cID_list))}\n",
    "ID_newcID = {}\n",
    "for ID in IDs:\n",
    "    cID = ID_cID[ID]\n",
    "    newcID = cID_newcID[cID]\n",
    "    ID_newcID[ID] = newcID\n",
    "    \n",
    "with open(out_fname + \"_NMF_sorted_cID.pickle\", \"wb\") as f:\n",
    "    pickle.dump(ID_newcID, f)"
   ]
  },
  {
   "cell_type": "code",
   "execution_count": 16,
   "id": "8becba52-8b5f-4cbf-82af-39c34b1238c2",
   "metadata": {
    "collapsed": false
   },
   "outputs": [
    {
     "data": {
      "image/png": "[encoded data removed]",
      "text/plain": [
       "<Figure size 360x432 with 1 Axes>"
      ]
     },
     "metadata": {},
     "output_type": "display_data"
    },
    {
     "data": {
      "text/plain": [
       "<matplotlib.axes._subplots.AxesSubplot at 0x7ff2c6ba0850>"
      ]
     },
     "execution_count": 16,
     "metadata": {},
     "output_type": "execute_result"
    }
   ],
   "source": [
    "# plot property matrix [Extended Data Fig. 5e]\n",
    "cmaps = ['Reds', 'Blues', 'Greens', 'Purples', 'Oranges',  'Greys']\n",
    "graphics.plot_NMF_basis_matrix (H,\n",
    "                                cID_list,\n",
    "                                features,\n",
    "                                feature_cmaps=cmaps,\n",
    "                                xlabel='Property class',\n",
    "                                title=None,\n",
    "                                fig_width=5,\n",
    "                                fig_height=6,\n",
    "                                ax=None,\n",
    "                                save_path='./data',\n",
    "                                save=True,\n",
    "                                note='H1_NCP')"
   ]
  },
  {
   "cell_type": "code",
   "execution_count": 17,
   "id": "d6c6b1e5-2080-4d1c-a775-1ac79cf686e9",
   "metadata": {
    "collapsed": false
   },
   "outputs": [
    {
     "data": {
      "image/png": "[encoded data removed]",
      "text/plain": [
       "<Figure size 360x216 with 1 Axes>"
      ]
     },
     "metadata": {},
     "output_type": "display_data"
    }
   ],
   "source": [
    "# plot condensability of each property class [Extended Data Fig.5e]\n",
    "fig = plt.figure(figsize=(5,3))\n",
    "plt.boxplot([cID_scores[cID] for cID in cID_list], 0, \"\")\n",
    "plt.title(\"Condensability by property class\", fontsize=12)\n",
    "#plt.xlabel('Property class', fontsize=10)\n",
    "plt.ylabel('Condensability (A.U.)', fontsize=10)\n",
    "plt.gca().tick_params(axis='both', which='major', labelsize=8)\n",
    "plt.gca().tick_params(axis='both', which='minor', labelsize=8)\n",
    "plt.savefig(\"./data/condensability_by_class.svg\", format='svg', bbox_inches='tight')\n",
    "#plt.xticks(range(1, len(cID_scores)+1), range(1, len(cID_scores)+1))\n",
    "#plt.tight_layout()\n",
    "#plt.savefig(\"anatomy_pbox.png\")\n",
    "plt.show()\n",
    "plt.close()"
   ]
  },
  {
   "cell_type": "code",
   "execution_count": 18,
   "id": "ab1084e7-0506-48b4-be45-a0d13e88db0b",
   "metadata": {
    "collapsed": false
   },
   "outputs": [],
   "source": [
    "# print NMF result\n",
    "f = open(out_fname + \"_NMF_property_class.txt\", 'w')\n",
    "print >> f, \"Class#\" + \"\\t\" + \"\\t\".join(features)\n",
    "for i in range(len(cID_prog)):\n",
    "    print >> f, str(i+1) + \"\\t\" + \"\\t\".join([str(value) for value in cID_prog[i]])\n",
    "f.close()\n",
    "\n",
    "f = open(out_fname + \"_NMF_NCPClass.txt\", 'w')\n",
    "print >> f, \"ID\" + \"\\t\" + \"Class#\"\n",
    "for ID in ID_cID:\n",
    "    print >> f, str(ID) + \"\\t\" + str(ID_cID[ID]+1)\n",
    "f.close()"
   ]
  },
  {
   "cell_type": "code",
   "execution_count": 19,
   "id": "b13fc71a-9cd1-4276-b4db-afc300cb3ca6",
   "metadata": {
    "collapsed": false
   },
   "outputs": [],
   "source": [
    "### statistical testing for comparing two NMF classes\n",
    "pair_pvalue = statis.get_pvalue_pair (cID_scores, keys=cID_list)\n",
    "pair_CohenD = statis.get_CohenD_pair (cID_scores, keys=cID_list)\n"
   ]
  },
  {
   "cell_type": "code",
   "execution_count": 20,
   "id": "6312f921-6502-404b-9370-c84c8a4f2534",
   "metadata": {
    "collapsed": false
   },
   "outputs": [
    {
     "data": {
      "image/png": "[encoded data removed]",
      "text/plain": [
       "<Figure size 432x432 with 3 Axes>"
      ]
     },
     "metadata": {},
     "output_type": "display_data"
    },
    {
     "data": {
      "text/plain": [
       "<matplotlib.axes._subplots.AxesSubplot at 0x7ff31ab26050>"
      ]
     },
     "execution_count": 20,
     "metadata": {},
     "output_type": "execute_result"
    }
   ],
   "source": [
    "### plot Cohen'sd and p-value for comparing two states\n",
    "graphics.plot_matrix_dual (pair_CohenD,\n",
    "                           pair_pvalue,\n",
    "                           keys=cID_list,\n",
    "                           key_label={cID_list[i]:i+1 for i in range(len(cID_list))},\n",
    "                           log_scale2='-log10',\n",
    "                           dummy2=10**-10,\n",
    "                           rotation=45,\n",
    "                           cmap1='Reds',\n",
    "                           cmap2='Blues',\n",
    "                           vmin2=0,\n",
    "                           vmax2=5,\n",
    "                           fig_width=6,\n",
    "                           fig_height=6,\n",
    "                           cbar1=True,\n",
    "                           cbar_label1=\"Cohen's d\",\n",
    "                           cbar2=True,\n",
    "                           cbar_label2='p-value',\n",
    "                           text1=True,\n",
    "                           text_color1='tab:blue',\n",
    "                           text_fontsize1=7,\n",
    "                           decimal_pt1=1,\n",
    "                           text2=True,\n",
    "                           text_color2='tab:red',\n",
    "                           text_fontsize2=6,\n",
    "                           decimal_pt2=1,\n",
    "                           save_path='./data/',\n",
    "                           save=True,\n",
    "                           note='H1_NCP_sp_CohenD_pavlue_NMF')"
   ]
  }
 ],
 "metadata": {
  "kernelspec": {
   "argv": [
    "/Library/Frameworks/Python.framework/Versions/2.7/Resources/Python.app/Contents/MacOS/Python",
    "-m",
    "ipykernel_launcher",
    "-f",
    "{connection_file}"
   ],
   "display_name": "Python 2",
   "env": null,
   "interrupt_mode": "signal",
   "language": "python",
   "metadata": null,
   "name": "python2"
  },
  "name": "[Extended Data Fig.5e]H1_NCP_sp_NMF.ipynb"
 },
 "nbformat": 4,
 "nbformat_minor": 2
}
