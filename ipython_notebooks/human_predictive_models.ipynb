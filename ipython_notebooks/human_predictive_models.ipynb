{
 "cells": [
  {
   "cell_type": "markdown",
   "id": "5a1d15e8-dbd4-4cdc-923c-ff9a74205d61",
   "metadata": {
    "collapsed": false
   },
   "source": [
    "Machine learning analysis for condense-seq scores"
   ]
  },
  {
   "cell_type": "code",
   "execution_count": 1,
   "id": "5cade31f-3fca-495b-b0c2-2c33a57c4139",
   "metadata": {
    "collapsed": false
   },
   "outputs": [],
   "source": [
    "# python modules\n",
    "import copy\n",
    "import random\n",
    "import re\n",
    "import glob\n",
    "import pickle\n",
    "import numpy as np\n",
    "import matplotlib as mpl\n",
    "import matplotlib.pyplot as plt\n",
    "from scipy import stats\n",
    "import scipy.sparse as sparse\n",
    "from scipy.stats import pearsonr\n",
    "from sklearn import linear_model\n",
    "from sklearn.svm import SVR\n",
    "from sklearn.ensemble import GradientBoostingRegressor\n",
    "from sklearn.ensemble import RandomForestRegressor\n",
    "from sklearn.neural_network import MLPRegressor"
   ]
  },
  {
   "cell_type": "code",
   "execution_count": 2,
   "id": "6188cd4d-9e08-4e96-9745-6e48ca19602f",
   "metadata": {
    "collapsed": false
   },
   "outputs": [],
   "source": [
    "# custom modules\n",
    "import graphics_edit as graphics\n",
    "import load_file_edit as load_file\n",
    "import Interval_dict\n",
    "import statis_edit as statis"
   ]
  },
  {
   "cell_type": "code",
   "execution_count": 3,
   "id": "3f861176-fde5-4909-9666-be50242fc744",
   "metadata": {
    "collapsed": false
   },
   "outputs": [],
   "source": [
    "# matplotlib setting\n",
    "%matplotlib inline\n",
    "mpl.rcParams[\"figure.facecolor\"] = \"white\"\n",
    "mpl.rcParams[\"axes.facecolor\"] = \"white\"\n",
    "mpl.rcParams[\"savefig.facecolor\"] = \"white\""
   ]
  },
  {
   "cell_type": "code",
   "execution_count": 4,
   "id": "1fee66c1-ba6d-4659-b206-d8543a3a63a4",
   "metadata": {
    "collapsed": false
   },
   "outputs": [],
   "source": [
    "### parameters\n",
    "cell_org = {'H1':'human',\n",
    "            'GM':'human',\n",
    "            'mCD8T:WT':'mouse',\n",
    "            'mCD8T:DFMO':'mouse',\n",
    "            'mCD8T:ODCKO':'mouse'}\n",
    "\n",
    "cell_chrnames = {'H1':['chr%s' % (i) for i in range(1, 23)] + ['chrX', 'chrY'],\n",
    "                 'GM':['chr%s' % (i) for i in range(1, 23)] + ['chrX'],\n",
    "                 'mCD8T:WT':['chr%s' % (i) for i in range(1, 20)] + ['chrX'],\n",
    "                 'mCD8T:DFMO':['chr%s' % (i) for i in range(1, 20)] + ['chrX'],\n",
    "                 'mCD8T:ODCKO':['chr%s' % (i) for i in range(1, 20)] + ['chrX']}"
   ]
  },
  {
   "cell_type": "code",
   "execution_count": 5,
   "id": "ea27be33-61f8-4584-ad2f-83c31d1bc987",
   "metadata": {
    "collapsed": false
   },
   "outputs": [],
   "source": [
    "### set data information (fname/field) and key\n",
    "path = '/Users/sangwoopark/jhu_rockfish/2024_01_05_GEO/processed_files/'\n",
    "dinfo_dkey = {'H1_NCP_sp_1rep_deep_chr1_score_table.gtab.gz':None}"
   ]
  },
  {
   "cell_type": "code",
   "execution_count": 6,
   "id": "d49cf920-9348-41fb-99a0-4a547c5be777",
   "metadata": {
    "collapsed": false
   },
   "outputs": [
    {
     "name": "stdout",
     "output_type": "stream",
     "text": [
      "loading H1_NCP_sp_1rep_deep_chr1_score_table.gtab.gz\n"
     ]
    }
   ],
   "source": [
    "### load gtab file\n",
    "dkey_ID_value = {}\n",
    "for fkey in dinfo_dkey:\n",
    "    field_dkey = dinfo_dkey[fkey]\n",
    "\n",
    "    if field_dkey == None:\n",
    "        field_choices = None\n",
    "    else:\n",
    "        field_choices = field_dkey.keys()\n",
    "    \n",
    "    for fname in glob.glob(path + '*'):\n",
    "        if not re.match(fkey, fname.rsplit('/')[-1]):\n",
    "            continue\n",
    "        print \"loading %s\" % (fname.rsplit('/')[-1])\n",
    "\n",
    "        field_ID_value = load_file.read_gtab(fname,\n",
    "                                             mode='col',\n",
    "                                             field_choices=field_choices)\n",
    "\n",
    "        if field_dkey == None:\n",
    "            field_dkey = {field:field for field in field_ID_value.keys()}\n",
    "\n",
    "        for field, dkey in field_dkey.items():\n",
    "            ID_value = field_ID_value[field]\n",
    "            if dkey not in dkey_ID_value:\n",
    "                dkey_ID_value[dkey] = {}\n",
    "            dkey_ID_value[dkey].update(ID_value)\n",
    "            "
   ]
  },
  {
   "cell_type": "code",
   "execution_count": 7,
   "id": "8f448c45-a1cf-47f0-b5ce-82784579305c",
   "metadata": {
    "collapsed": false
   },
   "outputs": [],
   "source": [
    "# change dkey name\n",
    "dkey_ID_value['AT content'] = copy.deepcopy(dkey_ID_value['ATcontent'])\n",
    "del dkey_ID_value['ATcontent']"
   ]
  },
  {
   "cell_type": "code",
   "execution_count": 8,
   "id": "9ee37bee-013e-4629-9fae-32cd89d77e19",
   "metadata": {
    "collapsed": false
   },
   "outputs": [],
   "source": [
    "### compute sequence features\n",
    "# methylation density\n",
    "dkey_ID_value['meCpG density'] = statis.get_fract_dict(dkey_ID_value['CNumber(CpG)'],\n",
    "                                                       dkey_ID_value['meCNumber(CpG)'],\n",
    "                                                       div_error=0.0)\n",
    "dkey_ID_value['meCHG density'] = statis.get_fract_dict(dkey_ID_value['CNumber(CHG)'],\n",
    "                                                       dkey_ID_value['meCNumber(CHG)'],\n",
    "                                                       div_error=0.0)\n",
    "dkey_ID_value['meCHH density'] = statis.get_fract_dict(dkey_ID_value['CNumber(CHH)'],\n",
    "                                                       dkey_ID_value['meCNumber(CHH)'],\n",
    "                                                       div_error=0.0)\n"
   ]
  },
  {
   "cell_type": "code",
   "execution_count": 9,
   "id": "c41f1d65-4144-4c4f-a119-759232ef63c3",
   "metadata": {
    "collapsed": false
   },
   "outputs": [],
   "source": [
    "### compute sequence features\n",
    "# mean poly GC length\n",
    "ID_polyGC = {}\n",
    "for ID, seq in dkey_ID_value['Sequence'].items():\n",
    "    num_pos = statis.polynt_count(seq.upper(), nts='GC', pos=True)\n",
    "    mean_len, count = 0.0, 0.0\n",
    "    for num, pos in num_pos.items():\n",
    "        mean_len += len(pos)*num\n",
    "        count += len(pos)\n",
    "    ID_polyGC[ID] = mean_len/count\n",
    "\n",
    "dkey_ID_value['poly-G/C length'] = ID_polyGC\n",
    "\n",
    "del dkey_ID_value['Sequence']\n",
    "del ID_polyGC\n"
   ]
  },
  {
   "cell_type": "code",
   "execution_count": 10,
   "id": "b52f5032-457c-4358-b63c-6ab55b92d8c1",
   "metadata": {
    "collapsed": false
   },
   "outputs": [],
   "source": [
    "### select feature set and target for analysis\n",
    "feature_names = ['AT content', 'poly-G/C length', 'meCpG density', 'meCHG density', 'meCHH density', 'H2AFZ', 'H2AK5ac', 'H2BK120ac', 'H2BK12ac', 'H2BK15ac', 'H2BK20ac', 'H2BK5ac', 'H3K14ac', 'H3K18ac', 'H3K23ac', 'H3K23me2', 'H3K27ac', 'H3K27me3', 'H3K36me3', 'H3K4ac', 'H3K4me1', 'H3K4me2', 'H3K4me3', 'H3K56ac', 'H3K79me1', 'H3K79me2', 'H3K9ac', 'H3K9me3', 'H4K20me1', 'H4K5ac', 'H4K8ac', 'H4K91ac']\n",
    "\n",
    "target_name = 'H1_NCP_sp_8_1rep_deep'"
   ]
  },
  {
   "cell_type": "code",
   "execution_count": 27,
   "id": "8803edaf-d93d-4fda-8697-6820ea023f3d",
   "metadata": {
    "collapsed": false
   },
   "outputs": [],
   "source": [
    "### select machine learning methods\n",
    "models = [\"Linear reg\", \"SVR\", \"Boosting\", \"Random Forest\", \"Neural Network\"]"
   ]
  },
  {
   "cell_type": "code",
   "execution_count": 12,
   "id": "d0153620-5d19-4485-8a8b-831793dd51cd",
   "metadata": {
    "collapsed": false
   },
   "outputs": [],
   "source": [
    "### random sampling the data for analysis\n",
    "ID_score = dkey_ID_value[target_name]\n",
    "\n",
    "sample_size = 10**5\n",
    "random.seed(123)\n",
    "IDs = random.sample(ID_score.keys(),\n",
    "                    sample_size)"
   ]
  },
  {
   "cell_type": "code",
   "execution_count": 13,
   "id": "f993f496-0a37-4291-824a-ac04986e9908",
   "metadata": {
    "collapsed": false
   },
   "outputs": [],
   "source": [
    "### get features and targets\n",
    "features = [[] for i in range(len(IDs))]\n",
    "for feature_name in feature_names:\n",
    "    values = [dkey_ID_value[feature_name][ID] for ID in IDs]\n",
    "    min_value = min(values)\n",
    "    max_value = max(values)\n",
    "    for i in range(len(IDs)):\n",
    "        value = values[i]\n",
    "        if np.isnan(value):\n",
    "            print ID\n",
    "        re_value = float(value-min_value)/max_value\n",
    "        features[i].append(re_value)\n",
    "        if np.isnan(re_value):\n",
    "            print ID\n",
    "    del values\n",
    "    del min_value\n",
    "    del max_value\n",
    "    del re_value\n",
    "\n",
    "targets = [ID_score[ID] for ID in IDs]\n",
    "\n",
    "del ID_score\n",
    "del dkey_ID_value"
   ]
  },
  {
   "cell_type": "code",
   "execution_count": 14,
   "id": "2a32b377-1d7a-4f3e-ad14-39317d6abd00",
   "metadata": {
    "collapsed": false
   },
   "outputs": [
    {
     "name": "stdout",
     "output_type": "stream",
     "text": [
      "iteration 1/10\n",
      "Linear reg 0.5810176587602567\n"
     ]
    },
    {
     "name": "stdout",
     "output_type": "stream",
     "text": [
      "SVM reg 0.6112608708621281\n"
     ]
    },
    {
     "name": "stdout",
     "output_type": "stream",
     "text": [
      "Boosting reg 0.6203556004684266\n"
     ]
    },
    {
     "name": "stdout",
     "output_type": "stream",
     "text": [
      "Random Forest reg 0.6165228120713552\n"
     ]
    },
    {
     "name": "stdout",
     "output_type": "stream",
     "text": [
      "Neural Network(MLP) reg 0.6151680256330117\n",
      "\n",
      "iteration 2/10\n",
      "Linear reg 0.5903203261552328\n"
     ]
    },
    {
     "name": "stdout",
     "output_type": "stream",
     "text": [
      "SVM reg 0.6141514818202196\n"
     ]
    },
    {
     "name": "stdout",
     "output_type": "stream",
     "text": [
      "Boosting reg 0.6286899213697016\n"
     ]
    },
    {
     "name": "stdout",
     "output_type": "stream",
     "text": [
      "Random Forest reg 0.6179941679895893\n"
     ]
    },
    {
     "name": "stdout",
     "output_type": "stream",
     "text": [
      "Neural Network(MLP) reg 0.6236903375987554\n",
      "\n",
      "iteration 3/10\n",
      "Linear reg 0.5716312613133829\n"
     ]
    },
    {
     "name": "stdout",
     "output_type": "stream",
     "text": [
      "SVM reg 0.599825886371873\n"
     ]
    },
    {
     "name": "stdout",
     "output_type": "stream",
     "text": [
      "Boosting reg 0.6099248978593207\n"
     ]
    },
    {
     "name": "stdout",
     "output_type": "stream",
     "text": [
      "Random Forest reg 0.6067692112765494\n"
     ]
    },
    {
     "name": "stdout",
     "output_type": "stream",
     "text": [
      "Neural Network(MLP) reg 0.6069432994742177\n",
      "\n",
      "iteration 4/10\n",
      "Linear reg 0.5727261328814347\n"
     ]
    },
    {
     "name": "stdout",
     "output_type": "stream",
     "text": [
      "SVM reg 0.6017945108459873\n"
     ]
    },
    {
     "name": "stdout",
     "output_type": "stream",
     "text": [
      "Boosting reg 0.6123502484018026\n"
     ]
    },
    {
     "name": "stdout",
     "output_type": "stream",
     "text": [
      "Random Forest reg 0.6061842934709546\n"
     ]
    },
    {
     "name": "stdout",
     "output_type": "stream",
     "text": [
      "Neural Network(MLP) reg 0.6083834218964689\n",
      "\n",
      "iteration 5/10\n",
      "Linear reg 0.5753353676012047\n"
     ]
    },
    {
     "name": "stdout",
     "output_type": "stream",
     "text": [
      "SVM reg 0.6024209118681103\n"
     ]
    },
    {
     "name": "stdout",
     "output_type": "stream",
     "text": [
      "Boosting reg 0.6144468758819209\n"
     ]
    },
    {
     "name": "stdout",
     "output_type": "stream",
     "text": [
      "Random Forest reg 0.605634626501465\n"
     ]
    },
    {
     "name": "stdout",
     "output_type": "stream",
     "text": [
      "Neural Network(MLP) reg 0.6109612048989316\n",
      "\n",
      "iteration 6/10\n",
      "Linear reg 0.5816396668920842\n"
     ]
    },
    {
     "name": "stdout",
     "output_type": "stream",
     "text": [
      "SVM reg 0.608615970696515\n"
     ]
    },
    {
     "name": "stdout",
     "output_type": "stream",
     "text": [
      "Boosting reg 0.6196236197907674\n"
     ]
    },
    {
     "name": "stdout",
     "output_type": "stream",
     "text": [
      "Random Forest reg 0.6136922219451756\n"
     ]
    },
    {
     "name": "stdout",
     "output_type": "stream",
     "text": [
      "Neural Network(MLP) reg 0.6158033923930918\n",
      "\n",
      "iteration 7/10\n",
      "Linear reg 0.5639830593874483\n"
     ]
    },
    {
     "name": "stdout",
     "output_type": "stream",
     "text": [
      "SVM reg 0.5872578235206031\n"
     ]
    },
    {
     "name": "stdout",
     "output_type": "stream",
     "text": [
      "Boosting reg 0.5995236108986298\n"
     ]
    },
    {
     "name": "stdout",
     "output_type": "stream",
     "text": [
      "Random Forest reg 0.5930602636252037\n"
     ]
    },
    {
     "name": "stdout",
     "output_type": "stream",
     "text": [
      "Neural Network(MLP) reg 0.5949658914510002\n",
      "\n",
      "iteration 8/10\n",
      "Linear reg 0.5767541668754456\n"
     ]
    },
    {
     "name": "stdout",
     "output_type": "stream",
     "text": [
      "SVM reg 0.6035703917884351\n"
     ]
    },
    {
     "name": "stdout",
     "output_type": "stream",
     "text": [
      "Boosting reg 0.6124480709479526\n"
     ]
    },
    {
     "name": "stdout",
     "output_type": "stream",
     "text": [
      "Random Forest reg 0.6089893584663763\n"
     ]
    },
    {
     "name": "stdout",
     "output_type": "stream",
     "text": [
      "Neural Network(MLP) reg 0.6100634841772236\n",
      "\n",
      "iteration 9/10\n",
      "Linear reg 0.581957922438997\n"
     ]
    },
    {
     "name": "stdout",
     "output_type": "stream",
     "text": [
      "SVM reg 0.6078379765606308\n"
     ]
    },
    {
     "name": "stdout",
     "output_type": "stream",
     "text": [
      "Boosting reg 0.6156130747601357\n"
     ]
    },
    {
     "name": "stdout",
     "output_type": "stream",
     "text": [
      "Random Forest reg 0.6125928493296253\n"
     ]
    },
    {
     "name": "stdout",
     "output_type": "stream",
     "text": [
      "Neural Network(MLP) reg 0.6131260589265614\n",
      "\n",
      "iteration 10/10\n",
      "Linear reg 0.5661637577961042\n"
     ]
    },
    {
     "name": "stdout",
     "output_type": "stream",
     "text": [
      "SVM reg 0.592156770730747\n"
     ]
    },
    {
     "name": "stdout",
     "output_type": "stream",
     "text": [
      "Boosting reg 0.6027432946868314\n"
     ]
    },
    {
     "name": "stdout",
     "output_type": "stream",
     "text": [
      "Random Forest reg 0.5994180748087834\n"
     ]
    },
    {
     "name": "stdout",
     "output_type": "stream",
     "text": [
      "Neural Network(MLP) reg 0.6012200106707517\n",
      "\n"
     ]
    }
   ],
   "source": [
    "### k-fold cross validation for machine learning models\n",
    "k = 10\n",
    "test_num = int(len(IDs)/10)\n",
    "\n",
    "model_corrs = {}\n",
    "model_importances = {}\n",
    "for i in range(k):\n",
    "    #print (\"iteration %d/%d\" % (i+1, k), file=sys.stderr)\n",
    "    print \"iteration %d/%d\" % (i+1, k)\n",
    "    st, ed = test_num*i, test_num*(i+1)\n",
    "    test_features, test_targets = features[st:ed], targets[st:ed]\n",
    "    train_features = features[:st] + features[ed:] \n",
    "    train_targets = targets[:st] + targets[ed:]\n",
    "\n",
    "    \n",
    "    # Linear regression\n",
    "    alpha = 0.5\n",
    "    reg = linear_model.Ridge(alpha=alpha)\n",
    "    reg.fit(train_features, train_targets)\n",
    "    corr, _ = pearsonr(test_targets, reg.predict(test_features))\n",
    "    if \"Linear reg\" not in model_corrs:\n",
    "        model_corrs[\"Linear reg\"] = []\n",
    "    model_corrs[\"Linear reg\"].append(corr)\n",
    "    #print (\"Linear reg\", corr, file=sys.stderr)\n",
    "    print \"Linear reg\", corr\n",
    "\n",
    "\n",
    "    # Supported Vector machine\n",
    "    svm = SVR(gamma='scale')\n",
    "    svm.fit(train_features, train_targets)\n",
    "    corr, _ = pearsonr(test_targets, svm.predict(test_features))\n",
    "    if \"SVR\" not in model_corrs:\n",
    "        model_corrs[\"SVR\"] = []\n",
    "    model_corrs[\"SVR\"].append(corr)\n",
    "    #print (\"SVM reg\", corr, file=sys.stderr)\n",
    "    print \"SVM reg\", corr\n",
    "\n",
    "\n",
    "    # Boosting\n",
    "    gb = GradientBoostingRegressor(min_samples_leaf=3,\n",
    "                                   n_estimators=198,\n",
    "                                   max_depth=20,\n",
    "                                   max_features=2,\n",
    "                                   min_samples_split=1000)\n",
    "    gb.fit(train_features, train_targets)\n",
    "    corr, _ = pearsonr(test_targets, gb.predict(test_features))\n",
    "    if \"Boosting\" not in model_corrs:\n",
    "        model_corrs[\"Boosting\"] = []\n",
    "    model_corrs[\"Boosting\"].append(corr)\n",
    "    #print (\"Boosting reg\", corr, file=sys.stderr)\n",
    "    print \"Boosting reg\", corr\n",
    "    if \"Boosting\" not in model_importances:\n",
    "        model_importances[\"Boosting\"] = []\n",
    "    model_importances[\"Boosting\"].append(gb.feature_importances_)\n",
    "\n",
    "    \n",
    "    # Random Forest\n",
    "    rf = RandomForestRegressor(min_samples_leaf=3,\n",
    "                               n_estimators=100,\n",
    "                               max_depth=20,\n",
    "                               max_features=3)\n",
    "    rf.fit(train_features, train_targets)\n",
    "    corr, _ = pearsonr(test_targets, rf.predict(test_features))\n",
    "    if \"Random Forest\" not in model_corrs:\n",
    "        model_corrs[\"Random Forest\"] = []\n",
    "    model_corrs[\"Random Forest\"].append(corr)\n",
    "    #print (\"Random Forest reg\", corr, file=sys.stderr)\n",
    "    print \"Random Forest reg\", corr\n",
    "    if \"Random Forest\" not in model_importances:\n",
    "        model_importances[\"Random Forest\"] = []\n",
    "    model_importances[\"Random Forest\"].append(rf.feature_importances_)\n",
    "\n",
    "\n",
    "    # Neural Network (MLP)\n",
    "    mlp = MLPRegressor(hidden_layer_sizes=(32,64,16),\n",
    "                       max_iter=1000,\n",
    "                       activation='tanh')\n",
    "    mlp.fit(train_features, train_targets)\n",
    "    corr, _ = pearsonr(test_targets, mlp.predict(test_features))\n",
    "    if \"Neural Network\" not in model_corrs:\n",
    "        model_corrs[\"Neural Network\"] = []\n",
    "    model_corrs[\"Neural Network\"].append(corr)\n",
    "    #print (\"Neural Network(MLP) reg\", corr, file=sys.stderr)\n",
    "    print \"Neural Network(MLP) reg\", corr\n",
    "\n",
    "    #print ('', file=sys.stderr)\n",
    "    print ''"
   ]
  },
  {
   "cell_type": "code",
   "execution_count": 15,
   "id": "dfc11eaf-98c0-47b2-99fa-806f90bf2076",
   "metadata": {
    "collapsed": false
   },
   "outputs": [],
   "source": [
    "# save the result\n",
    "pickle.dump(model_corrs, open(\"model_corrs.pickle\", \"wb\"))\n",
    "pickle.dump(model_importances, open(\"model_importances.pickle\", \"wb\"))"
   ]
  },
  {
   "cell_type": "code",
   "execution_count": 20,
   "id": "b45330a4-2141-4e39-8451-5e7eb4f23629",
   "metadata": {
    "collapsed": false
   },
   "outputs": [
    {
     "name": "stdout",
     "output_type": "stream",
     "text": [
      "Linear reg 0.576152932010159\n",
      "SVR 0.6028892595065249\n",
      "Boosting 0.6135719215065489\n",
      "Random Forest 0.6080857879485078\n",
      "Neural Network 0.6100325127120014\n"
     ]
    }
   ],
   "source": [
    "# print average correlation \n",
    "models = [\"Linear reg\", \"SVR\", \"Boosting\", \"Random Forest\", \"Neural Network\"]\n",
    "for model in models:\n",
    "    #print (model, np.mean(model_corrs[model]), file=sys.stderr)\n",
    "    print model, np.mean(model_corrs[model])"
   ]
  },
  {
   "cell_type": "code",
   "execution_count": 28,
   "id": "f85f2b8e-64b7-42bf-8c12-2155e212b4bf",
   "metadata": {
    "collapsed": false
   },
   "outputs": [
    {
     "data": {
      "image/png": "[encoded data removed]",
      "text/plain": [
       "<Figure size 201.6x144 with 1 Axes>"
      ]
     },
     "metadata": {},
     "output_type": "display_data"
    },
    {
     "data": {
      "image/png": "[encoded data removed]",
      "text/plain": [
       "<Figure size 201.6x144 with 1 Axes>"
      ]
     },
     "metadata": {},
     "output_type": "display_data"
    },
    {
     "data": {
      "image/png": "[encoded data removed]",
      "text/plain": [
       "<Figure size 201.6x144 with 1 Axes>"
      ]
     },
     "metadata": {},
     "output_type": "display_data"
    },
    {
     "data": {
      "image/png": "[encoded data removed]",
      "text/plain": [
       "<Figure size 201.6x144 with 1 Axes>"
      ]
     },
     "metadata": {},
     "output_type": "display_data"
    },
    {
     "data": {
      "image/png": "[encoded data removed]",
      "text/plain": [
       "<Figure size 201.6x144 with 1 Axes>"
      ]
     },
     "metadata": {},
     "output_type": "display_data"
    }
   ],
   "source": [
    "# plot scatter plot for prediction vs experiment\n",
    "for model, m in zip(models, [reg, svm, gb, rf, mlp]):\n",
    "    X = list(test_targets)\n",
    "    Y = list(m.predict(test_features))\n",
    "    pickle.dump([X, Y], open(\"ExpVSPred_%s.pickle\" % (model), \"wb\"))\n",
    "    fig = plt.figure(figsize=(2.8, 2))\n",
    "    plt.plot(X, Y, 'k.', ms=1)\n",
    "    plt.xlabel(\"Experiment\", fontsize=8)\n",
    "    plt.ylabel(\"Prediction\", fontsize=8)\n",
    "    plt.gca().tick_params(axis='both', which='major', labelsize=6)\n",
    "    plt.gca().tick_params(axis='both', which='minor', labelsize=6)\n",
    "    #minvalue, maxvalue = min(X+Y), max(X+Y)\n",
    "    #plt.xlim([minvalue, maxvalue])\n",
    "    #plt.ylim([minvalue, maxvalue])\n",
    "    plt.title(\"Model prediction (%s)\" % (model), fontsize=10)\n",
    "    plt.savefig('ExpVSPre_%s.svg' % (model), format='svg', bbox_inches='tight')\n",
    "    plt.show()\n",
    "    plt.close()"
   ]
  },
  {
   "cell_type": "code",
   "execution_count": 30,
   "id": "3b4047ae-5fcd-4f03-9576-7de7ac71f032",
   "metadata": {
    "collapsed": false
   },
   "outputs": [
    {
     "data": {
      "image/png": "[encoded data removed]",
      "text/plain": [
       "<Figure size 201.6x144 with 1 Axes>"
      ]
     },
     "metadata": {},
     "output_type": "display_data"
    }
   ],
   "source": [
    "# plot bar plots for correlations\n",
    "color_list = ['tab:red', 'tab:blue', 'tab:orange', 'tab:green', 'tab:purple']\n",
    "fig = plt.figure(figsize=(2.8, 2))\n",
    "for i in range(len(models)):\n",
    "    model = models[i]\n",
    "    corrs = model_corrs[model]\n",
    "    bp = plt.boxplot(corrs,\n",
    "                     positions=[i],\n",
    "                     patch_artist=True,\n",
    "                     showfliers=False,\n",
    "                     widths=[0.4])\n",
    "    for patch in bp['boxes']:\n",
    "        patch.set_facecolor(color_list[i])\n",
    "    for element in ['whiskers', 'fliers', 'means', 'medians', 'caps']:\n",
    "        plt.setp(bp[element], color='black')\n",
    "plt.xticks(range(len(models)),\n",
    "           models,\n",
    "           rotation=45,\n",
    "           fontsize=8,\n",
    "           ha=\"right\",\n",
    "           rotation_mode=\"anchor\")\n",
    "plt.gca().tick_params('y', labelsize=6)\n",
    "plt.ylabel(\"Pearson correlation\", fontsize=8)\n",
    "plt.title(\"10-fold cross validation\", fontsize=10)\n",
    "plt.xlim([-0.5, len(models)-0.5])\n",
    "#plt.ylim([0.3, 0.8])\n",
    "plt.savefig('Pearson_model.svg', format='svg', bbox_inches='tight')\n",
    "plt.show()\n",
    "plt.close()"
   ]
  },
  {
   "cell_type": "code",
   "execution_count": 26,
   "id": "bfba45a7-466d-4b12-af1b-4efe9e3d7608",
   "metadata": {
    "collapsed": false
   },
   "outputs": [
    {
     "data": {
      "image/png": "[encoded data removed]",
      "text/plain": [
       "<Figure size 162x460.8 with 1 Axes>"
      ]
     },
     "metadata": {},
     "output_type": "display_data"
    },
    {
     "data": {
      "image/png": "[encoded data removed]",
      "text/plain": [
       "<Figure size 162x460.8 with 1 Axes>"
      ]
     },
     "metadata": {},
     "output_type": "display_data"
    }
   ],
   "source": [
    "# plot bar plot for importances\n",
    "models = [\"Boosting\", \"Random Forest\"]\n",
    "for model in models:\n",
    "    importances = np.asarray(model_importances[model])*100\n",
    "    means = np.mean(importances, axis=0)\n",
    "    stds = np.std(importances, axis=0)\n",
    "    fig = plt.figure(figsize=(2.25, 6.4))\n",
    "    ypos = [-i for i in range(len(feature_names))]\n",
    "    plt.barh(ypos,\n",
    "             means,\n",
    "             xerr=stds,\n",
    "             align='center',\n",
    "             color='tab:green',\n",
    "             height=0.5,\n",
    "             edgecolor='k')\n",
    "    plt.xlabel(\"% of importance\", fontsize=8)\n",
    "    plt.yticks(ypos, feature_names, fontsize=8)\n",
    "    plt.title(\"Importance of variables (%s)\" % (model) , fontsize=8)\n",
    "    plt.gca().tick_params(axis='both', which='major', labelsize=8)\n",
    "    plt.gca().tick_params(axis='both', which='minor', labelsize=8)\n",
    "    #plt.savefig(\"Conditional_corr.png\", bbox_inches='tight')\n",
    "    plt.savefig(model+\"_importance.svg\", format='svg', bbox_inches='tight')\n",
    "    plt.show()\n",
    "    plt.close()"
   ]
  }
 ],
 "metadata": {
  "kernelspec": {
   "argv": [
    "python",
    "-m",
    "ipykernel_launcher",
    "-f",
    "{connection_file}"
   ],
   "display_name": "Python 2",
   "env": null,
   "interrupt_mode": "signal",
   "language": "python",
   "metadata": null,
   "name": "python2"
  },
  "name": "human_predictive_models.ipynb"
 },
 "nbformat": 4,
 "nbformat_minor": 2
}
