{
 "cells": [
  {
   "cell_type": "markdown",
   "id": "027ab086-726f-4a5d-b232-5aa96d978f35",
   "metadata": {
    "collapsed": false
   },
   "source": [
    "plot flow cytometry data"
   ]
  },
  {
   "cell_type": "code",
   "execution_count": 1,
   "id": "4048c6ae-9956-448a-b68d-bbf66979decf",
   "metadata": {
    "collapsed": false
   },
   "outputs": [],
   "source": [
    "# python modules\n",
    "import sys\n",
    "import copy\n",
    "import re\n",
    "import random\n",
    "import glob\n",
    "import numpy as np\n",
    "import matplotlib as mpl\n",
    "import matplotlib.pyplot as plt\n",
    "import scipy\n",
    "from scipy import stats\n"
   ]
  },
  {
   "cell_type": "code",
   "execution_count": 2,
   "id": "b29f24b4-8f56-4602-bbf3-834409779ac1",
   "metadata": {
    "collapsed": false
   },
   "outputs": [],
   "source": [
    "# custom modules\n",
    "sys.path.append('/Users/sangwoopark/Projects/condense-seq/postpro_scripts')\n",
    "import graphics_edit as graphics\n",
    "import load_file_edit as load_file\n",
    "import Interval_dict\n",
    "import statis_edit as statis\n"
   ]
  },
  {
   "cell_type": "code",
   "execution_count": 3,
   "id": "dc1b4874-d649-4209-8092-337698a6db63",
   "metadata": {
    "collapsed": false
   },
   "outputs": [],
   "source": [
    "# matplotlib setting\n",
    "%matplotlib inline\n",
    "mpl.rcParams[\"figure.facecolor\"] = \"white\"\n",
    "mpl.rcParams[\"axes.facecolor\"] = \"white\"\n",
    "mpl.rcParams[\"savefig.facecolor\"] = \"white\"\n"
   ]
  },
  {
   "cell_type": "code",
   "execution_count": 25,
   "id": "8ad7eb14-7243-4849-8131-afabdbe9d001",
   "metadata": {
    "collapsed": false
   },
   "outputs": [],
   "source": [
    "### flow cytometry result\n",
    "cell_mark_values = {'mCD8T:WT':\n",
    "                    {'H3K4me3':[10540, 9683, 9833],\n",
    "                     'H3K9ac':[24443, 24014, 23463],\n",
    "                     'H3K27ac':[5883, 5797, 5981],\n",
    "                     'H3K27me3':[58063, 64953, 60157],\n",
    "                     'H3K36me3':[18497, 18953, 18584]},\n",
    "                    'mCD8T:ODCKO':\n",
    "                    {'H3K4me3':[10696, 9514, 9813],\n",
    "                     'H3K9ac':[22685, 23703, 23714],\n",
    "                     'H3K27ac':[5614, 5167, 5207],\n",
    "                     'H3K27me3':[73400, 88365, 88295],\n",
    "                     'H3K36me3':[23668, 29837, 30724]}\n",
    "                    }\n",
    "                    "
   ]
  },
  {
   "cell_type": "code",
   "execution_count": 26,
   "id": "3f62c981-5afb-4e6e-8c7e-88d847357417",
   "metadata": {
    "collapsed": false
   },
   "outputs": [
    {
     "data": {
      "image/png": "[encoded data removed]",
      "text/plain": [
       "<Figure size 432x288 with 1 Axes>"
      ]
     },
     "metadata": {},
     "output_type": "display_data"
    }
   ],
   "source": [
    "### plot bar plot\n",
    "marks = ['H3K4me3', 'H3K9ac', 'H3K27ac', 'H3K27me3', 'H3K36me3']\n",
    "cell1, cell2 = 'mCD8T:WT', 'mCD8T:ODCKO'\n",
    "\n",
    "fig = plt.figure()\n",
    "data1 = [np.mean(cell_mark_values[cell1][mark]) for mark in marks]\n",
    "data2 = [np.mean(cell_mark_values[cell2][mark]) for mark in marks]\n",
    "pos_list1 = range(len(data1))\n",
    "pos_list2 = [pos+0.3 for pos in pos_list1]\n",
    "xticks = [0.5*(pos1+pos2) for pos1, pos2 in zip(pos_list1, pos_list2)]\n",
    "plt.bar(pos_list1,\n",
    "        data1,\n",
    "        width=0.25,\n",
    "        color='tab:blue',\n",
    "        label='WT')\n",
    "plt.bar(pos_list2,\n",
    "        data2,\n",
    "        width=0.25,\n",
    "        color='tab:green',\n",
    "        label='ODC KO')\n",
    "plt.xticks(xticks,\n",
    "           marks)\n",
    "plt.legend(loc='upper left')\n",
    "plt.show()\n",
    "plt.close()\n"
   ]
  },
  {
   "cell_type": "code",
   "execution_count": 27,
   "id": "38664a49-c107-4235-92a3-ad461fd72650",
   "metadata": {
    "collapsed": false
   },
   "outputs": [
    {
     "name": "stdout",
     "output_type": "stream",
     "text": [
      "H3K4me3\n",
      "Cohen's d:0.024864, p-value:0.981447\n",
      "\n",
      "H3K9ac\n",
      "Cohen's d:1.365851, p-value:0.245960\n",
      "\n",
      "H3K27ac\n",
      "Cohen's d:3.659885, p-value:0.046187\n",
      "\n",
      "H3K27me3\n",
      "Cohen's d:4.145463, p-value:0.032237\n",
      "\n",
      "H3K36me3\n",
      "Cohen's d:4.227034, p-value:0.050959\n",
      "\n"
     ]
    }
   ],
   "source": [
    "### statistical testing for comparing two states\n",
    "marks = ['H3K4me3', 'H3K9ac', 'H3K27ac', 'H3K27me3', 'H3K36me3']\n",
    "cell1, cell2 = 'mCD8T:WT', 'mCD8T:ODCKO'\n",
    "for mark in marks:\n",
    "    values1 = cell_mark_values[cell1][mark]\n",
    "    values2 = cell_mark_values[cell2][mark]\n",
    "    \n",
    "    CohenD = statis.get_CohenD (values1, values2)\n",
    "    pvalue = stats.ttest_ind(values1,\n",
    "                             values2,\n",
    "                             equal_var=False)[1]\n",
    "\n",
    "    print mark\n",
    "    print \"Cohen's d:%f, p-value:%f\" % (CohenD, pvalue)\n",
    "    print"
   ]
  }
 ],
 "metadata": {
  "kernelspec": {
   "argv": [
    "/Library/Frameworks/Python.framework/Versions/2.7/Resources/Python.app/Contents/MacOS/Python",
    "-m",
    "ipykernel_launcher",
    "-f",
    "{connection_file}"
   ],
   "display_name": "Python 2",
   "env": null,
   "interrupt_mode": "signal",
   "language": "python",
   "metadata": null,
   "name": "python2"
  },
  "name": "mCD8T_flow_cytometry_plot.ipynb"
 },
 "nbformat": 4,
 "nbformat_minor": 2
}
