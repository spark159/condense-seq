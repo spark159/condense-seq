{
 "cells": [
  {
   "cell_type": "markdown",
   "id": "43e36598-0a36-40f0-8f53-a592d6099890",
   "metadata": {
    "collapsed": false
   },
   "source": [
    "Compare Condensability score and C-half"
   ]
  },
  {
   "cell_type": "code",
   "execution_count": 1,
   "id": "8248dd85-2b15-4c97-bb10-02a3da0850ee",
   "metadata": {
    "collapsed": false
   },
   "outputs": [],
   "source": [
    "# python modules\n",
    "import sys\n",
    "import copy\n",
    "import random\n",
    "import numpy as np\n",
    "import matplotlib as mpl\n",
    "import matplotlib.pyplot as plt\n",
    "import scipy\n",
    "from scipy import stats"
   ]
  },
  {
   "cell_type": "code",
   "execution_count": 2,
   "id": "c242f748-5b33-4774-992b-3601de220273",
   "metadata": {
    "collapsed": false
   },
   "outputs": [],
   "source": [
    "# custom modules\n",
    "sys.path.append('/Users/sangwoopark/Projects/condense-seq/postpro_scripts')\n",
    "import graphics_edit as graphics\n",
    "import load_file_edit as load_file\n",
    "import Interval_dict\n",
    "import statis_edit as statis"
   ]
  },
  {
   "cell_type": "code",
   "execution_count": 3,
   "id": "d6d6e8f3-e37f-40ba-af54-8a7b59e57412",
   "metadata": {
    "collapsed": false
   },
   "outputs": [],
   "source": [
    "# matplotlib setting\n",
    "%matplotlib inline\n",
    "mpl.rcParams[\"figure.facecolor\"] = \"white\"\n",
    "mpl.rcParams[\"axes.facecolor\"] = \"white\"\n",
    "mpl.rcParams[\"savefig.facecolor\"] = \"white\""
   ]
  },
  {
   "cell_type": "code",
   "execution_count": 4,
   "id": "d7c7933b-9aba-42bb-a7ad-7a389561b646",
   "metadata": {
    "collapsed": false
   },
   "outputs": [],
   "source": [
    "# 4-parameter logistic function (sigmoid type)\n",
    "def sigmoid_func (x, top, rate, chalf, bottom):\n",
    "    y = bottom + float(top-bottom)/(1+np.exp(rate*(x-chalf)))\n",
    "    return y\n",
    "\n",
    "# 4-parameter logistic function (Hill type)\n",
    "def hill_func (x, top, rate, chalf, bottom):\n",
    "    y = bottom + float(top-bottom)/(1.0 + (x/float(chalf))**rate)\n",
    "    return y\n",
    "\n",
    "# compute the CP value of logistic function\n",
    "def get_CP (rate, chalf, percent, model='sigmoid'):\n",
    "    surv_frac = 1 - percent/100.0\n",
    "    ratio = float(1.0 - surv_frac)/surv_frac\n",
    "    if model == 'sigmoid':\n",
    "        CP = np.log(ratio)/float(rate) + chalf\n",
    "    elif model == 'hill':\n",
    "        CP = ((ratio)**(1.0/rate)) * chalf\n",
    "    return CP"
   ]
  },
  {
   "cell_type": "code",
   "execution_count": 5,
   "id": "6ba170e5-66fb-4379-af51-7ab0b8b1209b",
   "metadata": {
    "collapsed": false
   },
   "outputs": [],
   "source": [
    "### parameters\n",
    "cell_org = {'H1':'human',\n",
    "            'GM':'human',\n",
    "            'mCD8T:WT':'mouse',\n",
    "            'mCD8T:DFMO':'mouse',\n",
    "            'mCD8T:ODCKO':'mouse'}\n",
    "\n",
    "cell_chrnames = {'H1':['chr%s' % (i) for i in range(1, 23)] + ['chrX', 'chrY'],\n",
    "                 'GM':['chr%s' % (i) for i in range(1, 23)] + ['chrX'],\n",
    "                 'mCD8T:WT':['chr%s' % (i) for i in range(1, 20)] + ['chrX'],\n",
    "                 'mCD8T:DFMO':['chr%s' % (i) for i in range(1, 20)] + ['chrX'],\n",
    "                 'mCD8T:ODCKO':['chr%s' % (i) for i in range(1, 20)] + ['chrX']}"
   ]
  },
  {
   "cell_type": "code",
   "execution_count": 6,
   "id": "f5c31220-63db-4561-a382-758a51f6c14d",
   "metadata": {
    "collapsed": false
   },
   "outputs": [],
   "source": [
    "agent_fullname = {'sp':'Spermine(4+)',\n",
    "                  'spd':'Spermidine(3+)',\n",
    "                  'CoH':'Cobalt Hexammine(3+)',\n",
    "                  'PEG':'PEG 8000',\n",
    "                  'HP1a':'HP1$\\\\alpha$',\n",
    "                  'HP1bSUV':'HP1$\\\\beta$+tSUV',\n",
    "                  'LKH':'Linker histone1',\n",
    "                  'Ki67':'Ki67',\n",
    "                  'FUS':'FUS',\n",
    "                  'Mg':'Magnesium',\n",
    "                  'Ca':'Calcium'}"
   ]
  },
  {
   "cell_type": "code",
   "execution_count": 7,
   "id": "2376feae-d18b-4a83-8ffa-5ced32c9987b",
   "metadata": {
    "collapsed": false
   },
   "outputs": [],
   "source": [
    "### load gtab file\n",
    "gtab_path = \"/Users/sangwoopark/jhu_rockfish/2024_01_05_GEO/processed_files/\"\n",
    "\n",
    "gtab_fname1 = 'mCD8T:WT_NCP_sp_1rep_10kb_sigmoid_4PL.gtab.gz'\n",
    "gtab_fname2 = 'mCD8T:DFMO_NCP_sp_1rep_10kb_sigmoid_4PL.gtab.gz'\n",
    "gtab_fname3 = 'mCD8T:ODCKO_NCP_sp_1rep_10kb_sigmoid_4PL.gtab.gz'\n",
    "\n",
    "field_choices = ['Top', 'Rate', 'C-half', 'Bottom', 'R-squared']\n",
    "chr_choices = ['chr1']\n",
    "\n",
    "ID_field_value1 = load_file.read_gtab (gtab_path + gtab_fname1,\n",
    "                                       field_choices=field_choices,\n",
    "                                       chr_choices=chr_choices,\n",
    "                                       skip_nan=True)\n",
    "ID_field_value2 = load_file.read_gtab (gtab_path + gtab_fname2,\n",
    "                                       field_choices=field_choices,\n",
    "                                       chr_choices=chr_choices,\n",
    "                                       skip_nan=True)\n",
    "ID_field_value3 = load_file.read_gtab (gtab_path + gtab_fname3,\n",
    "                                       field_choices=field_choices,\n",
    "                                       chr_choices=chr_choices,\n",
    "                                       skip_nan=True)\n"
   ]
  },
  {
   "cell_type": "code",
   "execution_count": 8,
   "id": "5dbed4cb-35ee-4c0e-8347-01bc969a51e3",
   "metadata": {
    "collapsed": false
   },
   "outputs": [],
   "source": [
    "### read titration file\n",
    "titr_path = '/Users/sangwoopark/jhu_rockfish/2024_01_05_GEO/titration_files/'\n",
    "titr_fname = 'mCD8T:WT_NCP_sp_titration.csv'\n",
    "tnum_conc, tnum_frac = load_file.read_titration (titr_path + titr_fname)"
   ]
  },
  {
   "cell_type": "code",
   "execution_count": 12,
   "id": "d91a257d-3745-437a-885e-e2ce0e12bbe4",
   "metadata": {
    "collapsed": false
   },
   "outputs": [
    {
     "data": {
      "image/png": "[encoded data removed]",
      "text/plain": [
       "<Figure size 172.8x129.6 with 1 Axes>"
      ]
     },
     "metadata": {},
     "output_type": "display_data"
    }
   ],
   "source": [
    "X_min, X_max = min(tnum_conc.values()), max(tnum_conc.values())\n",
    "X = np.linspace(X_min, X_max, num=1000)\n",
    "fig = plt.figure(figsize=(2.4, 1.8))\n",
    "for ID in ID_field_value1.keys()[:100]:\n",
    "    top = ID_field_value1[ID]['Top']\n",
    "    rate = ID_field_value1[ID]['Rate']\n",
    "    Chalf = ID_field_value1[ID]['C-half']\n",
    "    bottom = ID_field_value1[ID]['Bottom']\n",
    "    r_squared = ID_field_value1[ID]['R-squared']\n",
    "    Y = sigmoid_func (X, top, rate, Chalf, bottom)\n",
    "    plt.plot(X, Y, 'k-', alpha=0.1)\n",
    "plt.xscale('log', basex=10)\n",
    "plt.ylim([0, 1])\n",
    "plt.xlabel(\"Spermine concentration (mM)\", fontsize=8)\n",
    "plt.ylabel(\"Soluble fraction\", fontsize=8)\n",
    "plt.tick_params(axis='both', which='major', labelsize=5)\n",
    "plt.tick_params(axis='both', which='minor', labelsize=5)\n",
    "#plt.savefig(\"smoothed_10kb_curve.png\", dpi=500, bbox_inches='tight')\n",
    "plt.show()\n",
    "plt.close()    "
   ]
  }
 ],
 "metadata": {
  "kernelspec": {
   "argv": [
    "python",
    "-m",
    "ipykernel_launcher",
    "-f",
    "{connection_file}"
   ],
   "display_name": "Python 2",
   "env": null,
   "interrupt_mode": "signal",
   "language": "python",
   "metadata": null,
   "name": "python2"
  },
  "language_info": {
   "codemirror_mode": {
    "name": "ipython",
    "version": 2
   },
   "file_extension": ".py",
   "mimetype": "text/x-python",
   "name": "python",
   "nbconvert_exporter": "python",
   "pygments_lexer": "ipython2",
   "version": "2.7.18"
  },
  "name": "logistic_plot.ipynb"
 },
 "nbformat": 4,
 "nbformat_minor": 2
}
