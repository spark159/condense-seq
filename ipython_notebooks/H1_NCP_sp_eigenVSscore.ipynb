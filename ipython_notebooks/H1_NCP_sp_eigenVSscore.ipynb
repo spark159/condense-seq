{
 "cells": [
  {
   "cell_type": "markdown",
   "id": "bcad26c3-d735-44ee-a197-b6b50239ae50",
   "metadata": {
    "collapsed": false
   },
   "source": [
    "plot data in genome-wide"
   ]
  },
  {
   "cell_type": "code",
   "execution_count": 175,
   "id": "249e3dd5-682b-4a96-8928-fd95bb7208a7",
   "metadata": {
    "collapsed": false
   },
   "outputs": [],
   "source": [
    "# python modules\n",
    "import sys\n",
    "import copy\n",
    "import random\n",
    "import numpy as np\n",
    "import matplotlib as mpl\n",
    "import matplotlib.pyplot as plt\n",
    "import scipy\n",
    "from scipy import stats\n",
    "from scipy.optimize import curve_fit\n",
    "from scipy.optimize import differential_evolution\n",
    "import warnings"
   ]
  },
  {
   "cell_type": "code",
   "execution_count": 176,
   "id": "141a42c9-f831-40da-b817-4101baece0d2",
   "metadata": {
    "collapsed": false
   },
   "outputs": [],
   "source": [
    "# custom modules\n",
    "sys.path.append('/Users/sangwoopark/Projects/condense-seq/postpro_scripts')\n",
    "import graphics_edit as graphics\n",
    "import load_file_edit as load_file\n",
    "import Interval_dict\n",
    "import statis_edit as statis"
   ]
  },
  {
   "cell_type": "code",
   "execution_count": 177,
   "id": "d879ca79-3ed8-4180-9398-ed9ab5154106",
   "metadata": {
    "collapsed": false
   },
   "outputs": [],
   "source": [
    "# matplotlib setting\n",
    "%matplotlib inline\n",
    "mpl.rcParams[\"figure.facecolor\"] = \"white\"\n",
    "mpl.rcParams[\"axes.facecolor\"] = \"white\"\n",
    "mpl.rcParams[\"savefig.facecolor\"] = \"white\"\n"
   ]
  },
  {
   "cell_type": "code",
   "execution_count": 178,
   "id": "30afa5f0-2321-4f75-87ce-02a193d21435",
   "metadata": {
    "collapsed": false
   },
   "outputs": [],
   "source": [
    "# 4-parameter logistic function (sigmoid type)\n",
    "def sigmoid_func (x, top, rate, chalf, bottom):\n",
    "    y = bottom + float(top-bottom)/(1+np.exp(rate*(x-chalf)))\n",
    "    return y"
   ]
  },
  {
   "cell_type": "code",
   "execution_count": 179,
   "id": "e29da3a2-fc3e-4bb7-afa8-1469c8736629",
   "metadata": {
    "collapsed": false
   },
   "outputs": [],
   "source": [
    "# objective function to optimize parameters\n",
    "def obj_func (parms, func, X, Y):\n",
    "    warnings.filterwarnings(\"ignore\")\n",
    "    Y_pred = func(X, *parms)\n",
    "    return np.sum((Y_pred - Y)**2)"
   ]
  },
  {
   "cell_type": "code",
   "execution_count": 180,
   "id": "88122fab-88da-4f9b-a49f-2eb082e4688c",
   "metadata": {
    "collapsed": false
   },
   "outputs": [],
   "source": [
    "### parameters\n",
    "cell_org = {'H1':'human',\n",
    "            'GM':'human',\n",
    "            'mCD8T:WT':'mouse',\n",
    "            'mCD8T:DFMO':'mouse',\n",
    "            'mCD8T:ODCKO':'mouse'}\n",
    "\n",
    "cell_chrnames = {'H1':['chr%s' % (i) for i in range(1, 23)] + ['chrX', 'chrY'],\n",
    "                 'GM':['chr%s' % (i) for i in range(1, 23)] + ['chrX'],\n",
    "                 'mCD8T:WT':['chr%s' % (i) for i in range(1, 20)] + ['chrX'],\n",
    "                 'mCD8T:DFMO':['chr%s' % (i) for i in range(1, 20)] + ['chrX'],\n",
    "                 'mCD8T:ODCKO':['chr%s' % (i) for i in range(1, 20)] + ['chrX']}\n"
   ]
  },
  {
   "cell_type": "code",
   "execution_count": 181,
   "id": "c2d10804-351c-429d-aa06-b285267dfdb6",
   "metadata": {
    "collapsed": false
   },
   "outputs": [],
   "source": [
    "agent_fullname = {'sp':'Spermine(4+)',\n",
    "                  'spd':'Spermidine(3+)',\n",
    "                  'CoH':'Cobalt Hexammine(3+)',\n",
    "                  'PEG':'PEG 8000',\n",
    "                  'HP1a':'HP1$\\\\alpha$',\n",
    "                  'HP1bSUV':'HP1$\\\\beta$+tSUV',\n",
    "                  'LKH':'Linker histone1',\n",
    "                  'Ki67':'Ki67',\n",
    "                  'FUS':'FUS',\n",
    "                  'Mg':'Magnesium',\n",
    "                  'Ca':'Calcium'}\n"
   ]
  },
  {
   "cell_type": "code",
   "execution_count": 182,
   "id": "33ecdd5e-b730-4098-b68e-7dd4fee358b8",
   "metadata": {
    "collapsed": false
   },
   "outputs": [],
   "source": [
    "### chromosome choices\n",
    "#chr_choices = cell_chrnames['H1']\n",
    "chr_choices = ['chr1']\n",
    "bin_size = 100000"
   ]
  },
  {
   "cell_type": "code",
   "execution_count": 183,
   "id": "ae8bf7c0-18f9-432c-babb-8ad0965f0f56",
   "metadata": {
    "collapsed": false
   },
   "outputs": [
    {
     "name": "stdout",
     "output_type": "stream",
     "text": [
      "loading H1_NCP_sp_1rep_10kb_score.gtab.gz\n"
     ]
    },
    {
     "name": "stdout",
     "output_type": "stream",
     "text": [
      "Done\n"
     ]
    }
   ],
   "source": [
    "### load gtab file\n",
    "gtab_path = \"/Users/sangwoopark/jhu_rockfish/2024_01_05_GEO/processed_files/\"\n",
    "\n",
    "dinfo_dkey = {'H1_NCP_sp_1rep_10kb_score.gtab.gz':\n",
    "              {'H1_NCP_sp_8_1rep' :(1, 'H1', 'score', 8)}}\n",
    "\n",
    "chr_dkey_ID_value = load_file.read_gtab_batch (dinfo_dkey,\n",
    "                                               data_path=gtab_path,\n",
    "                                               chr_choices=chr_choices,\n",
    "                                               by_chr_first=True)"
   ]
  },
  {
   "cell_type": "code",
   "execution_count": 184,
   "id": "860b3987-aae0-440f-bc79-7229cae4af9e",
   "metadata": {
    "collapsed": false
   },
   "outputs": [],
   "source": [
    "### read genome size\n",
    "ref_path = '/Users/sangwoopark/jhu_rockfish/2024_01_05_GEO/ref_files/'\n",
    "ref_fname = ref_path + '4D_hg38.fa'\n",
    "genome_size = load_file.read_genome_size(ref_fname,\n",
    "                                         chr_choices=chr_choices)"
   ]
  },
  {
   "cell_type": "code",
   "execution_count": 185,
   "id": "afe53ba2-17c1-46ca-901e-02097efbf65d",
   "metadata": {
    "collapsed": false
   },
   "outputs": [],
   "source": [
    "### read HiC eigenvector file\n",
    "eigen_path = '/Users/sangwoopark/jhu_rockfish/HumanEpigeneticData/HiC/'\n",
    "eigen_fname = 'eigen_H1_100kb.bedgraph'\n",
    "chr_eID_eigen = load_file.read_bedgraph (eigen_path + eigen_fname,\n",
    "                                         chr_choices=chr_choices,\n",
    "                                         by_chr=True)"
   ]
  },
  {
   "cell_type": "code",
   "execution_count": 191,
   "id": "9eed5531-056e-4dc1-9e37-160e8b02a5bd",
   "metadata": {
    "collapsed": false
   },
   "outputs": [
    {
     "name": "stderr",
     "output_type": "stream",
     "text": [
      "hash function is built\n"
     ]
    }
   ],
   "source": [
    "### average condensability over 100kb bins\n",
    "dkey_binID_mvalue = {}\n",
    "for chr in chr_choices:\n",
    "    dkey_ID_value = chr_dkey_ID_value[chr]\n",
    "    for dkey in dkey_ID_value:\n",
    "        ID_value = dkey_ID_value[dkey]\n",
    "        ID_loc = {ID:ID[1:] for ID in ID_value}\n",
    "        binID_mvalue = statis.rbin_data_mean(bin_size,\n",
    "                                             bin_size,\n",
    "                                             ID_loc,\n",
    "                                             ID_value,\n",
    "                                             max_pos=genome_size[chr],\n",
    "                                             skip_nan=True)\n",
    "        \n",
    "        binID_mvalue = {(chr, binID*bin_size, (binID+1)*bin_size):mvalue \\\n",
    "                        for binID, mvalue in binID_mvalue.items()}\n",
    "\n",
    "        if dkey not in dkey_binID_mvalue:\n",
    "            dkey_binID_mvalue[dkey] = {}\n",
    "        dkey_binID_mvalue[dkey].update(binID_mvalue)"
   ]
  },
  {
   "cell_type": "code",
   "execution_count": 192,
   "id": "f2805df3-6dca-4498-8e1d-a0fb4266ca9f",
   "metadata": {
    "collapsed": false
   },
   "outputs": [
    {
     "name": "stderr",
     "output_type": "stream",
     "text": [
      "hash function is built\n"
     ]
    }
   ],
   "source": [
    "### average eigenvector over 100kb bins\n",
    "binID_meigen = {}\n",
    "for chr in chr_choices:\n",
    "    ID_value = chr_eID_eigen[chr]\n",
    "    ID_loc = {ID:ID[1:] for ID in ID_value}\n",
    "    binID_mvalue = statis.rbin_data_mean(bin_size,\n",
    "                                         bin_size,\n",
    "                                         ID_loc,\n",
    "                                         ID_value,\n",
    "                                         max_pos=genome_size[chr],\n",
    "                                         skip_nan=True)\n",
    "\n",
    "    binID_meigen.update({(chr, binID*bin_size, (binID+1)*bin_size):mvalue \\\n",
    "                         for binID, mvalue in binID_mvalue.items()})"
   ]
  },
  {
   "cell_type": "code",
   "execution_count": 193,
   "id": "374734a6-6ac2-498f-9955-b8ccee67d89b",
   "metadata": {
    "collapsed": false
   },
   "outputs": [],
   "source": [
    "### reorganize HiC eigenvector data and define target IDs\n",
    "dkey_targetIDs = {}\n",
    "for dkey in dkey_binID_mvalue:\n",
    "    binIDs = dkey_binID_mvalue[dkey].keys()\n",
    "    targetIDs = set(binID_meigen.keys()) & set(binIDs)\n",
    "    dkey_targetIDs[dkey] = sorted(list(targetIDs))\n"
   ]
  },
  {
   "cell_type": "code",
   "execution_count": 232,
   "id": "99a2b14a-c4d7-424f-8120-80d46928d86c",
   "metadata": {
    "collapsed": false
   },
   "outputs": [
    {
     "data": {
      "image/png": "[encoded data removed]",
      "text/plain": [
       "<Figure size 252x216 with 1 Axes>"
      ]
     },
     "metadata": {},
     "output_type": "display_data"
    }
   ],
   "source": [
    "### scatter plot condensability vs HiC eigenvector\n",
    "for dkey in dkey_binID_mvalue:\n",
    "    binID_mvalue = dkey_binID_mvalue[dkey]\n",
    "    X, Y = [], []\n",
    "    for ID in dkey_targetIDs[dkey]:\n",
    "        X.append(binID_mvalue[ID])\n",
    "        Y.append(binID_meigen[ID])\n",
    "\n",
    "    X = np.asarray(X)\n",
    "    Y = np.asarray(Y)\n",
    "\n",
    "    # sigmoid curve fitting\n",
    "    p_opt, p_cov = curve_fit(sigmoid_func, X, Y)\n",
    "    X_pred = np.linspace(min(X)-10, max(X)+10, 1000)\n",
    "    Y_pred = sigmoid_func(X_pred, *p_opt)\n",
    "\n",
    "    # plot figure\n",
    "    fig = plt.figure(figsize=(3.5 ,3))\n",
    "    plt.plot(X, Y, '.', markersize=6, alpha=0.25)\n",
    "    plt.plot(X_pred, Y_pred, 'k-', linewidth=2.5)\n",
    "    plt.xlim([1, 3.3])\n",
    "    plt.ylim([-0.032, 0.038])\n",
    "    plt.xlabel(\"Condensability (A.U.)\", fontsize=10)\n",
    "    plt.ylabel(\"A/B score\", fontsize=10)\n",
    "    plt.title(\"100kb bins\", fontsize=10)\n",
    "    plt.savefig(\"./data/\" + \"eigen_vs_score_100kb.svg\",\n",
    "                format=\"svg\",\n",
    "                bbox_inches='tight')\n",
    "    plt.show()\n",
    "    plt.close()    "
   ]
  }
 ],
 "metadata": {
  "kernelspec": {
   "argv": [
    "/Library/Frameworks/Python.framework/Versions/2.7/Resources/Python.app/Contents/MacOS/Python",
    "-m",
    "ipykernel_launcher",
    "-f",
    "{connection_file}"
   ],
   "display_name": "Python 2",
   "env": null,
   "interrupt_mode": "signal",
   "language": "python",
   "metadata": null,
   "name": "python2"
  },
  "name": "H1_NCP_sp_eigenVSscore.ipynb"
 },
 "nbformat": 4,
 "nbformat_minor": 2
}
