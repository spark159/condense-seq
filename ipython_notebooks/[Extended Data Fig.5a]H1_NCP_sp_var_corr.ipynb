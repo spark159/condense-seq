{
 "cells": [
  {
   "cell_type": "markdown",
   "id": "5a1d15e8-dbd4-4cdc-923c-ff9a74205d61",
   "metadata": {
    "collapsed": false
   },
   "source": [
    "Conditional correlation analysis"
   ]
  },
  {
   "cell_type": "code",
   "execution_count": 1,
   "id": "5cade31f-3fca-495b-b0c2-2c33a57c4139",
   "metadata": {
    "collapsed": false
   },
   "outputs": [],
   "source": [
    "# python modules\n",
    "import sys\n",
    "import copy\n",
    "import random\n",
    "import numpy as np\n",
    "import matplotlib as mpl\n",
    "import matplotlib.pyplot as plt\n",
    "import scipy\n",
    "from scipy import stats"
   ]
  },
  {
   "cell_type": "code",
   "execution_count": 2,
   "id": "6188cd4d-9e08-4e96-9745-6e48ca19602f",
   "metadata": {
    "collapsed": false
   },
   "outputs": [],
   "source": [
    "# custom modules\n",
    "sys.path.append('/Users/sangwoopark/Projects/condense-seq/postpro_scripts')\n",
    "import graphics_edit as graphics\n",
    "import load_file_edit as load_file\n",
    "import Interval_dict\n",
    "import statis_edit as statis"
   ]
  },
  {
   "cell_type": "code",
   "execution_count": 3,
   "id": "3f861176-fde5-4909-9666-be50242fc744",
   "metadata": {
    "collapsed": false
   },
   "outputs": [],
   "source": [
    "# matplotlib setting\n",
    "%matplotlib inline\n",
    "mpl.rcParams[\"figure.facecolor\"] = \"white\"\n",
    "mpl.rcParams[\"axes.facecolor\"] = \"white\"\n",
    "mpl.rcParams[\"savefig.facecolor\"] = \"white\""
   ]
  },
  {
   "cell_type": "code",
   "execution_count": 4,
   "id": "1fee66c1-ba6d-4659-b206-d8543a3a63a4",
   "metadata": {
    "collapsed": false
   },
   "outputs": [],
   "source": [
    "### parameters\n",
    "cell_org = {'H1':'human',\n",
    "            'GM':'human',\n",
    "            'mCD8T:WT':'mouse',\n",
    "            'mCD8T:DFMO':'mouse',\n",
    "            'mCD8T:ODCKO':'mouse'}\n",
    "\n",
    "cell_chrnames = {'H1':['chr%s' % (i) for i in range(1, 23)] + ['chrX', 'chrY'],\n",
    "                 'GM':['chr%s' % (i) for i in range(1, 23)] + ['chrX'],\n",
    "                 'mCD8T:WT':['chr%s' % (i) for i in range(1, 20)] + ['chrX'],\n",
    "                 'mCD8T:DFMO':['chr%s' % (i) for i in range(1, 20)] + ['chrX'],\n",
    "                 'mCD8T:ODCKO':['chr%s' % (i) for i in range(1, 20)] + ['chrX']}"
   ]
  },
  {
   "cell_type": "code",
   "execution_count": 5,
   "id": "ea27be33-61f8-4584-ad2f-83c31d1bc987",
   "metadata": {
    "collapsed": false
   },
   "outputs": [
    {
     "name": "stdout",
     "output_type": "stream",
     "text": [
      "loading H1_NCP_sp_1rep_deep_chr1_score_table.gtab.gz\n"
     ]
    },
    {
     "name": "stdout",
     "output_type": "stream",
     "text": [
      "Done\n"
     ]
    }
   ],
   "source": [
    "### load gtab file\n",
    "gtab_path = \"/Users/sangwoopark/jhu_rockfish/2024_01_05_GEO/processed_files/\"\n",
    "dinfo_dkey = {'H1_NCP_sp_1rep_deep_chr1_score_table.gtab.gz':{}}\n",
    "\n",
    "dkey_ID_value = load_file.read_gtab_batch (dinfo_dkey,\n",
    "                                           data_path=gtab_path)"
   ]
  },
  {
   "cell_type": "code",
   "execution_count": 6,
   "id": "60f8ea12-d194-4033-bfa9-d92fd58dda4d",
   "metadata": {
    "collapsed": false
   },
   "outputs": [],
   "source": [
    "# change dkey name\n",
    "dkey_ID_value['AT content'] = copy.deepcopy(dkey_ID_value['ATcontent'])\n",
    "del dkey_ID_value['ATcontent']"
   ]
  },
  {
   "cell_type": "code",
   "execution_count": 7,
   "id": "93a5179a-5247-433f-a6f1-303e98226d0a",
   "metadata": {
    "collapsed": false
   },
   "outputs": [],
   "source": [
    "### compute sequence features\n",
    "# methylation density\n",
    "dkey_ID_value['meCpG density'] = statis.get_fract_dict(dkey_ID_value['meCNumber(CpG)'],\n",
    "                                                       dkey_ID_value['CNumber(CpG)'],\n",
    "                                                       div_error=0.0)\n",
    "dkey_ID_value['meCHG density'] = statis.get_fract_dict(dkey_ID_value['meCNumber(CHG)'],\n",
    "                                                       dkey_ID_value['CNumber(CHG)'],\n",
    "                                                       div_error=0.0)\n",
    "dkey_ID_value['meCHH density'] = statis.get_fract_dict(dkey_ID_value['meCNumber(CHH)'],\n",
    "                                                       dkey_ID_value['CNumber(CHH)'],\n",
    "                                                       div_error=0.0)\n"
   ]
  },
  {
   "cell_type": "code",
   "execution_count": 8,
   "id": "57786f24-0065-4634-9a4f-909b62a5b6ab",
   "metadata": {
    "collapsed": false
   },
   "outputs": [],
   "source": [
    "### compute sequence features\n",
    "# mean poly GC length\n",
    "ID_polyGC = {}\n",
    "for ID, seq in dkey_ID_value['Sequence'].items():\n",
    "    num_pos = statis.polynt_count(seq.upper(), nts='GC', pos=True)\n",
    "    mean_len, count = 0.0, 0.0\n",
    "    for num, pos in num_pos.items():\n",
    "        mean_len += len(pos)*num\n",
    "        count += len(pos)\n",
    "    ID_polyGC[ID] = mean_len/count\n",
    "\n",
    "dkey_ID_value['poly-G/C length'] = ID_polyGC\n",
    "\n",
    "del dkey_ID_value['Sequence']\n",
    "del ID_polyGC\n"
   ]
  },
  {
   "cell_type": "code",
   "execution_count": 9,
   "id": "dd6ba86f-3f67-46fc-bb3c-cff0f969d674",
   "metadata": {
    "collapsed": false
   },
   "outputs": [],
   "source": [
    "### select feature set and target for analysis\n",
    "#features = ['AT content', 'poly-G/C length', 'meCpG density', 'meCHG density', 'meCHH density', 'H2AFZ', 'H2AK5ac', 'H2BK120ac', 'H2BK12ac', 'H2BK15ac', 'H2BK20ac', 'H2BK5ac', 'H3K14ac', 'H3K18ac', 'H3K23ac', 'H3K23me2', 'H3K27ac', 'H3K27me3', 'H3K36me3', 'H3K4ac', 'H3K4me1', 'H3K4me2', 'H3K4me3', 'H3K56ac', 'H3K79me1', 'H3K79me2', 'H3K9ac', 'H3K9me3', 'H4K20me1', 'H4K5ac', 'H4K8ac', 'H4K91ac']\n",
    "features = ['AT content']\n",
    "target = 'H1_NCP_sp_8_1rep_deep'"
   ]
  },
  {
   "cell_type": "code",
   "execution_count": 24,
   "id": "f52ef69c-3ebb-4efb-b0ec-1f8a8722aea8",
   "metadata": {
    "collapsed": false
   },
   "outputs": [
    {
     "name": "stdout",
     "output_type": "stream",
     "text": [
      "Spearman corr: 0.386435\n"
     ]
    },
    {
     "data": {
      "image/png": "[encoded data removed]",
      "text/plain": [
       "<Figure size 288x216 with 2 Axes>"
      ]
     },
     "metadata": {},
     "output_type": "display_data"
    }
   ],
   "source": [
    "### [Extended Data Fig.5a]\n",
    "ID_score = dkey_ID_value[target]\n",
    "for feature in features:\n",
    "    ID_var = dkey_ID_value[feature]\n",
    "\n",
    "    X, Y = [], []\n",
    "    var_scores = {}\n",
    "    for ID, var in ID_var.items():\n",
    "        var = var*100\n",
    "        score = ID_score[ID]\n",
    "        X.append(var)\n",
    "        Y.append(score)\n",
    "\n",
    "        if var not in var_scores:\n",
    "            var_scores[var] = []\n",
    "        var_scores[var].append(score)\n",
    "\n",
    "    X_dot, Y_dot, Z_dot = [], [], []\n",
    "    for var, scores in var_scores.items():\n",
    "        X_dot.append(var)\n",
    "        Y_dot.append(np.mean(scores))\n",
    "        Z_dot.append(np.std(scores)/np.sqrt(len(scores)))\n",
    "\n",
    "    print 'Spearman corr: %f' % (scipy.stats.spearmanr(X, Y)[0]) \n",
    "\n",
    "    fig, ax = plt.subplots(nrows=1,\n",
    "                           ncols=1,\n",
    "                           figsize=(4,3))\n",
    "\n",
    "    graphics.density_scatter(X, Y,\n",
    "                             ax=ax)\n",
    "    #ax.plot(X, Y, 'k.', alpha=0.01)\n",
    "    ax.plot(X_dot, Y_dot, 'k.', markersize=1)\n",
    "    ax.errorbar(X_dot, Y_dot, yerr=Z_dot, fmt='.', color='k', markersize=1)\n",
    "    ax.set_xlim([0, 100])\n",
    "    ax.set_ylim([-0.5, 5.5])\n",
    "    ax.set_ylabel('Condensability (A.U.)', fontsize=12)\n",
    "    ax.set_xlabel('AT content (%)', fontsize=12)\n",
    "    ax.set_title('Chromosome1', fontsize=12)\n",
    "    plt.savefig('./data/' + 'var_corr_%s.png' % (feature),\n",
    "                dpi=500,\n",
    "                bbox_inches='tight')\n",
    "    plt.show()\n",
    "    plt.close()\n",
    "    \n",
    "        \n",
    "    "
   ]
  }
 ],
 "metadata": {
  "kernelspec": {
   "argv": [
    "/Library/Frameworks/Python.framework/Versions/2.7/Resources/Python.app/Contents/MacOS/Python",
    "-m",
    "ipykernel_launcher",
    "-f",
    "{connection_file}"
   ],
   "display_name": "Python 2",
   "env": null,
   "interrupt_mode": "signal",
   "language": "python",
   "metadata": null,
   "name": "python2"
  },
  "name": "[Extended Data Fig.5a]H1_NCP_sp_var_corr.ipynb"
 },
 "nbformat": 4,
 "nbformat_minor": 2
}
