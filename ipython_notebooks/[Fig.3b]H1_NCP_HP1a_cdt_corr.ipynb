{
 "cells": [
  {
   "cell_type": "markdown",
   "id": "5a1d15e8-dbd4-4cdc-923c-ff9a74205d61",
   "metadata": {
    "collapsed": false
   },
   "source": [
    "Conditional correlation analysis"
   ]
  },
  {
   "cell_type": "code",
   "execution_count": 1,
   "id": "5cade31f-3fca-495b-b0c2-2c33a57c4139",
   "metadata": {
    "collapsed": false
   },
   "outputs": [],
   "source": [
    "# python modules\n",
    "import sys\n",
    "import copy\n",
    "import random\n",
    "import numpy as np\n",
    "import matplotlib as mpl\n",
    "import matplotlib.pyplot as plt\n",
    "import scipy\n",
    "from scipy import stats"
   ]
  },
  {
   "cell_type": "code",
   "execution_count": 2,
   "id": "6188cd4d-9e08-4e96-9745-6e48ca19602f",
   "metadata": {
    "collapsed": false
   },
   "outputs": [],
   "source": [
    "# custom modules\n",
    "sys.path.append('/Users/sangwoopark/Projects/condense-seq/postpro_scripts')\n",
    "import graphics_edit as graphics\n",
    "import load_file_edit as load_file\n",
    "import Interval_dict\n",
    "import statis_edit as statis"
   ]
  },
  {
   "cell_type": "code",
   "execution_count": 3,
   "id": "3f861176-fde5-4909-9666-be50242fc744",
   "metadata": {
    "collapsed": false
   },
   "outputs": [],
   "source": [
    "# matplotlib setting\n",
    "%matplotlib inline\n",
    "mpl.rcParams[\"figure.facecolor\"] = \"white\"\n",
    "mpl.rcParams[\"axes.facecolor\"] = \"white\"\n",
    "mpl.rcParams[\"savefig.facecolor\"] = \"white\""
   ]
  },
  {
   "cell_type": "code",
   "execution_count": 4,
   "id": "1fee66c1-ba6d-4659-b206-d8543a3a63a4",
   "metadata": {
    "collapsed": false
   },
   "outputs": [],
   "source": [
    "### parameters\n",
    "cell_org = {'H1':'human',\n",
    "            'GM':'human',\n",
    "            'mCD8T:WT':'mouse',\n",
    "            'mCD8T:DFMO':'mouse',\n",
    "            'mCD8T:ODCKO':'mouse'}\n",
    "\n",
    "cell_chrnames = {'H1':['chr%s' % (i) for i in range(1, 23)] + ['chrX', 'chrY'],\n",
    "                 'GM':['chr%s' % (i) for i in range(1, 23)] + ['chrX'],\n",
    "                 'mCD8T:WT':['chr%s' % (i) for i in range(1, 20)] + ['chrX'],\n",
    "                 'mCD8T:DFMO':['chr%s' % (i) for i in range(1, 20)] + ['chrX'],\n",
    "                 'mCD8T:ODCKO':['chr%s' % (i) for i in range(1, 20)] + ['chrX']}"
   ]
  },
  {
   "cell_type": "code",
   "execution_count": 5,
   "id": "63f8cec4-ce3e-4671-ae22-4a76f541c4c8",
   "metadata": {
    "collapsed": false
   },
   "outputs": [],
   "source": [
    "# plot the correlations between feature vs score for each stratified group\n",
    "def plot_strat_corrs (names,\n",
    "                      corrs_list,\n",
    "                      weights_list,\n",
    "                      cdcorrs,\n",
    "                      size_scale=5000,\n",
    "                      alpha_scale=0.15,\n",
    "                      fig_width=2.25,\n",
    "                      fig_height=6.4,\n",
    "                      xlim=[-0.25, 0.25],\n",
    "                      title=\"Data Stratification\",\n",
    "                      xlabel=\"Spearman correlation\",\n",
    "                      ytick_rotation=0,\n",
    "                      xlabel_rotation=0,\n",
    "                      colors=None,\n",
    "                      save_path='./',\n",
    "                      save=False,\n",
    "                      ax=None,\n",
    "                      note=''):\n",
    "\n",
    "    if ax == None:\n",
    "        #fig = plt.figure(figsize=(3,4))\n",
    "        fig, ax = plt.subplots(figsize=(fig_width,\n",
    "                                        fig_height))\n",
    "        make_fig = True\n",
    "    else:\n",
    "        make_fig = False\n",
    "\n",
    "    if colors == None:\n",
    "        colors = ['tab:blue',\n",
    "                  'tab:orange',\n",
    "                  'tab:green',\n",
    "                  'tab:red',\n",
    "                  'tab:purple',\n",
    "                  'tab:brown',\n",
    "                  'tab:pink',\n",
    "                  'tab:gray',\n",
    "                  'tab:olive',\n",
    "                  'tab:cyan',\n",
    "                  'lime',\n",
    "                  'salmon']\n",
    "    \n",
    "    for i in range(len(names)):\n",
    "        corrs = np.asarray(corrs_list[i])\n",
    "        weights = np.asarray(weights_list[i])\n",
    "        frac_weights = weights / float(sum(weights))\n",
    "        sizes = size_scale * frac_weights\n",
    "        color = colors[i % len(colors)] \n",
    "        rgb_colors = np.zeros((len(corrs),4))\n",
    "        rgb_colors[:,:3] = mpl.colors.to_rgba(color)[:3]\n",
    "        rgb_colors[:,3] = alpha_scale * weights / float(max(weights))\n",
    "        order = np.argsort(weights)\n",
    "\n",
    "        ax.scatter(corrs[order],\n",
    "                   [-i]*len(corrs),\n",
    "                   s=sizes[order],\n",
    "                   color=rgb_colors[order])\n",
    "\n",
    "        ax.annotate('x',\n",
    "                    (cdcorrs[i], -i),\n",
    "                    ha='center',\n",
    "                    va='center')\n",
    "\n",
    "    ax.axvline(x=0,\n",
    "               linestyle='--',\n",
    "               color='k')\n",
    "    \n",
    "    ax.set_xlim(xlim)\n",
    "\n",
    "    #ax.set_xticklabels(rotation=-90) # for flip version\n",
    "\n",
    "    ax.set_yticks([-i for i in range(len(names))])\n",
    "    #ax.set_yticklabels(names, fontsize=8)\n",
    "    ax.set_yticklabels(names,\n",
    "                       rotation=ytick_rotation,\n",
    "                       ha=\"right\",\n",
    "                       va='center',\n",
    "                       rotation_mode=\"anchor\") # for flip version\n",
    "    \n",
    "    #ax.set_xlabel(xlabel, fontsize=8)\n",
    "    ax.set_xlabel(xlabel,\n",
    "                  fontsize=8,\n",
    "                  rotation=xlabel_rotation) # for flip version\n",
    "\n",
    "    ax.set_title(title,\n",
    "                 fontsize=8)\n",
    "\n",
    "    ax.tick_params(axis='both', which='major', labelsize=8)\n",
    "    ax.tick_params(axis='both', which='minor', labelsize=8)\n",
    "\n",
    "    if make_fig:\n",
    "        if save:\n",
    "            plt.savefig(save_path + 'strat_corrs_%s.png' % (note),\n",
    "                        bbox_inches='tight',\n",
    "                        dpi=500)\n",
    "        else:\n",
    "            plt.tight_layout()\n",
    "            plt.show()    \n",
    "        plt.close()\n",
    "\n",
    "    return ax"
   ]
  },
  {
   "cell_type": "code",
   "execution_count": 16,
   "id": "25e4da42-ab02-4ba2-a76d-a8c7d611b808",
   "metadata": {
    "collapsed": false
   },
   "outputs": [],
   "source": [
    "# plot conditional correlation as bar plot\n",
    "def plot_cdcorrs (names,\n",
    "                  cdcorrs,\n",
    "                  fig_width=2.25,\n",
    "                  fig_height=6.4,\n",
    "                  title=\"Conditional Correlation\",\n",
    "                  xlabel=\"Averaged correlation\",\n",
    "                  ytick_rotation=0,\n",
    "                  xlabel_rotation=0,\n",
    "                  save_path='./',\n",
    "                  save=False,\n",
    "                  show=True,\n",
    "                  ax=None,\n",
    "                  note=''):\n",
    "\n",
    "    if ax == None:\n",
    "        #fig = plt.figure(figsize=(3,4))\n",
    "        fig, ax = plt.subplots(figsize=(fig_width,\n",
    "                                        fig_height))\n",
    "\n",
    "        make_fig = True\n",
    "    else:\n",
    "        make_fig = False\n",
    "\n",
    "    yset1, dataset1 = [], []\n",
    "    yset2, dataset2 = [], []\n",
    "    for i in range(len(names)):\n",
    "        cdcorr = cdcorrs[i]\n",
    "        if cdcorr < 0:\n",
    "            yset1.append(-i)\n",
    "            dataset1.append(cdcorr)\n",
    "        else:\n",
    "            yset2.append(-i)\n",
    "            dataset2.append(cdcorr)\n",
    "\n",
    "    ax.barh(yset1,\n",
    "            dataset1,\n",
    "            align='center',\n",
    "            color='tab:red',\n",
    "            height=0.5,\n",
    "            edgecolor='k')\n",
    "\n",
    "    ax.barh(yset2,\n",
    "            dataset2,\n",
    "            align='center',\n",
    "            color='tab:blue',\n",
    "            height=0.5,\n",
    "            edgecolor='k')\n",
    "\n",
    "    ax.axvline(x=0,\n",
    "               linestyle='--',\n",
    "               color='k',\n",
    "               linewidth=1)\n",
    "\n",
    "    #ax.set_xticklabels(rotation=-90) # for flip version\n",
    "\n",
    "    ax.set_yticks([-i for i in range(len(names))])\n",
    "\n",
    "    #ax.set_yticklabels(names, fontsize=8)\n",
    "    ax.set_yticklabels(names,\n",
    "                       fontsize=8,\n",
    "                       rotation=ytick_rotation,\n",
    "                       ha=\"right\",\n",
    "                       va='center',\n",
    "                       rotation_mode=\"anchor\") # for flip version\n",
    "    \n",
    "    #ax.set_xlabel(xlabel, fontsize=8)\n",
    "    ax.set_xlabel(xlabel,\n",
    "                  fontsize=8,\n",
    "                  rotation=xlabel_rotation) # for flip version\n",
    "\n",
    "    ax.set_title(title,\n",
    "                 fontsize=8)\n",
    "\n",
    "    ax.tick_params(axis='both', which='major', labelsize=8)\n",
    "    ax.tick_params(axis='both', which='minor', labelsize=8)\n",
    "\n",
    "    if make_fig:\n",
    "        if save:\n",
    "            plt.savefig(save_path + 'cdcorrs_%s.svg' % (note),\n",
    "                        format='svg',\n",
    "                        bbox_inches='tight')\n",
    "        if show:\n",
    "            plt.tight_layout()\n",
    "            plt.show()    \n",
    "        plt.close()\n",
    "\n",
    "    return ax\n",
    "\n",
    "    "
   ]
  },
  {
   "cell_type": "code",
   "execution_count": 7,
   "id": "ea27be33-61f8-4584-ad2f-83c31d1bc987",
   "metadata": {
    "collapsed": false
   },
   "outputs": [
    {
     "name": "stdout",
     "output_type": "stream",
     "text": [
      "loading H1_NCP_HP1a_1rep_deep_chr1_score_table.gtab.gz\n"
     ]
    },
    {
     "name": "stdout",
     "output_type": "stream",
     "text": [
      "Done\n"
     ]
    }
   ],
   "source": [
    "### load gtab file\n",
    "gtab_path = \"/Users/sangwoopark/jhu_rockfish/2024_01_05_GEO/processed_files/\"\n",
    "dinfo_dkey = {'H1_NCP_HP1a_1rep_deep_chr1_score_table.gtab.gz':{}}\n",
    "\n",
    "dkey_ID_value = load_file.read_gtab_batch (dinfo_dkey,\n",
    "                                           data_path=gtab_path)"
   ]
  },
  {
   "cell_type": "code",
   "execution_count": 8,
   "id": "60f8ea12-d194-4033-bfa9-d92fd58dda4d",
   "metadata": {
    "collapsed": false
   },
   "outputs": [],
   "source": [
    "# change dkey name\n",
    "dkey_ID_value['AT content'] = copy.deepcopy(dkey_ID_value['ATcontent'])\n",
    "del dkey_ID_value['ATcontent']"
   ]
  },
  {
   "cell_type": "code",
   "execution_count": 9,
   "id": "93a5179a-5247-433f-a6f1-303e98226d0a",
   "metadata": {
    "collapsed": false
   },
   "outputs": [],
   "source": [
    "### compute sequence features\n",
    "# methylation density\n",
    "dkey_ID_value['meCpG density'] = statis.get_fract_dict(dkey_ID_value['meCNumber(CpG)'],\n",
    "                                                       dkey_ID_value['CNumber(CpG)'],\n",
    "                                                       div_error=0.0)\n",
    "dkey_ID_value['meCHG density'] = statis.get_fract_dict(dkey_ID_value['meCNumber(CHG)'],\n",
    "                                                       dkey_ID_value['CNumber(CHG)'],\n",
    "                                                       div_error=0.0)\n",
    "dkey_ID_value['meCHH density'] = statis.get_fract_dict(dkey_ID_value['meCNumber(CHH)'],\n",
    "                                                       dkey_ID_value['CNumber(CHH)'],\n",
    "                                                       div_error=0.0)\n"
   ]
  },
  {
   "cell_type": "code",
   "execution_count": 10,
   "id": "57786f24-0065-4634-9a4f-909b62a5b6ab",
   "metadata": {
    "collapsed": false
   },
   "outputs": [],
   "source": [
    "### compute sequence features\n",
    "# mean poly GC length\n",
    "ID_polyGC = {}\n",
    "for ID, seq in dkey_ID_value['Sequence'].items():\n",
    "    num_pos = statis.polynt_count(seq.upper(), nts='GC', pos=True)\n",
    "    mean_len, count = 0.0, 0.0\n",
    "    for num, pos in num_pos.items():\n",
    "        mean_len += len(pos)*num\n",
    "        count += len(pos)\n",
    "    ID_polyGC[ID] = mean_len/count\n",
    "\n",
    "dkey_ID_value['poly-G/C length'] = ID_polyGC\n",
    "\n",
    "del dkey_ID_value['Sequence']\n",
    "del ID_polyGC\n"
   ]
  },
  {
   "cell_type": "code",
   "execution_count": 11,
   "id": "dd6ba86f-3f67-46fc-bb3c-cff0f969d674",
   "metadata": {
    "collapsed": false
   },
   "outputs": [],
   "source": [
    "### select feature set and target for analysis\n",
    "features = ['AT content', 'poly-G/C length', 'meCpG density', 'meCHG density', 'meCHH density', 'H2AFZ', 'H2AK5ac', 'H2BK120ac', 'H2BK12ac', 'H2BK15ac', 'H2BK20ac', 'H2BK5ac', 'H3K14ac', 'H3K18ac', 'H3K23ac', 'H3K23me2', 'H3K27ac', 'H3K27me3', 'H3K36me3', 'H3K4ac', 'H3K4me1', 'H3K4me2', 'H3K4me3', 'H3K56ac', 'H3K79me1', 'H3K79me2', 'H3K9ac', 'H3K9me3', 'H4K20me1', 'H4K5ac', 'H4K8ac', 'H4K91ac']\n",
    "\n",
    "target = 'H1_NCP_HP1a_3_1rep_deep'"
   ]
  },
  {
   "cell_type": "code",
   "execution_count": 12,
   "id": "f8555db6-7f44-4b55-9362-903ae92378be",
   "metadata": {
    "collapsed": false
   },
   "outputs": [],
   "source": [
    "### binning the features and get state\n",
    "ID_score = dkey_ID_value[target]\n",
    "IDs = ID_score.keys()\n",
    "\n",
    "ID_state = {}\n",
    "for feature in features:\n",
    "    values = [dkey_ID_value[feature][ID] for ID in IDs]\n",
    "    min_value = min(values)\n",
    "    max_value = max(values)\n",
    "    for ID, value in zip(IDs, values):\n",
    "        if feature.startswith('H'):\n",
    "            re_value = round(float(value-min_value)/max_value,1)\n",
    "        else:\n",
    "            re_value = round(float(value-min_value)/max_value,2)\n",
    "        if ID not in ID_state:\n",
    "            ID_state[ID] = []\n",
    "        ID_state[ID].append(re_value)\n",
    "\n",
    "del dkey_ID_value"
   ]
  },
  {
   "cell_type": "code",
   "execution_count": 13,
   "id": "a891401c-ba97-4512-972e-5f2d9f081e9c",
   "metadata": {
    "collapsed": false
   },
   "outputs": [
    {
     "name": "stdout",
     "output_type": "stream",
     "text": [
      "Conditional correlation\n"
     ]
    },
    {
     "name": "stdout",
     "output_type": "stream",
     "text": [
      "AT content -0.0893759997038182\n"
     ]
    },
    {
     "name": "stderr",
     "output_type": "stream",
     "text": [
      "/Library/Frameworks/Python.framework/Versions/2.7/lib/python2.7/site-packages/numpy/lib/function_base.py:2530: RuntimeWarning: invalid value encountered in true_divide\n",
      "  c /= stddev[:, None]\n",
      "/Library/Frameworks/Python.framework/Versions/2.7/lib/python2.7/site-packages/numpy/lib/function_base.py:2531: RuntimeWarning: invalid value encountered in true_divide\n",
      "  c /= stddev[None, :]\n",
      "/Library/Frameworks/Python.framework/Versions/2.7/lib/python2.7/site-packages/scipy/stats/_distn_infrastructure.py:877: RuntimeWarning: invalid value encountered in greater\n",
      "  return (self.a < x) & (x < self.b)\n",
      "/Library/Frameworks/Python.framework/Versions/2.7/lib/python2.7/site-packages/scipy/stats/_distn_infrastructure.py:877: RuntimeWarning: invalid value encountered in less\n",
      "  return (self.a < x) & (x < self.b)\n",
      "/Library/Frameworks/Python.framework/Versions/2.7/lib/python2.7/site-packages/scipy/stats/_distn_infrastructure.py:1831: RuntimeWarning: invalid value encountered in less_equal\n",
      "  cond2 = cond0 & (x <= self.a)\n"
     ]
    },
    {
     "name": "stdout",
     "output_type": "stream",
     "text": [
      "poly-G/C length 0.04711397761267732\n"
     ]
    },
    {
     "name": "stdout",
     "output_type": "stream",
     "text": [
      "meCpG density -0.00260116264799072\n"
     ]
    },
    {
     "name": "stdout",
     "output_type": "stream",
     "text": [
      "meCHG density -0.041904287789639394\n"
     ]
    },
    {
     "name": "stdout",
     "output_type": "stream",
     "text": [
      "meCHH density -0.02406105472368399\n"
     ]
    },
    {
     "name": "stdout",
     "output_type": "stream",
     "text": [
      "H2AFZ -0.04044354076080291\n"
     ]
    },
    {
     "name": "stdout",
     "output_type": "stream",
     "text": [
      "H2AK5ac 0.007650786888166989\n"
     ]
    },
    {
     "name": "stdout",
     "output_type": "stream",
     "text": [
      "H2BK120ac 0.025225372276022937\n"
     ]
    },
    {
     "name": "stdout",
     "output_type": "stream",
     "text": [
      "H2BK12ac 0.0008034602074574068\n"
     ]
    },
    {
     "name": "stdout",
     "output_type": "stream",
     "text": [
      "H2BK15ac -0.006000684883982874\n"
     ]
    },
    {
     "name": "stdout",
     "output_type": "stream",
     "text": [
      "H2BK20ac 0.04512321069238238\n"
     ]
    },
    {
     "name": "stdout",
     "output_type": "stream",
     "text": [
      "H2BK5ac -0.0244978965890633\n"
     ]
    },
    {
     "name": "stdout",
     "output_type": "stream",
     "text": [
      "H3K14ac -0.021199438681933996\n"
     ]
    },
    {
     "name": "stdout",
     "output_type": "stream",
     "text": [
      "H3K18ac -0.002008953759150886\n"
     ]
    },
    {
     "name": "stdout",
     "output_type": "stream",
     "text": [
      "H3K23ac -0.007078101043776128\n"
     ]
    },
    {
     "name": "stdout",
     "output_type": "stream",
     "text": [
      "H3K23me2 0.019352348142505412\n"
     ]
    },
    {
     "name": "stdout",
     "output_type": "stream",
     "text": [
      "H3K27ac -0.06607660907242563\n"
     ]
    },
    {
     "name": "stdout",
     "output_type": "stream",
     "text": [
      "H3K27me3 -0.041561107807969226\n"
     ]
    },
    {
     "name": "stdout",
     "output_type": "stream",
     "text": [
      "H3K36me3 -0.2076644813435162\n"
     ]
    },
    {
     "name": "stdout",
     "output_type": "stream",
     "text": [
      "H3K4ac 0.020035027124569456\n"
     ]
    },
    {
     "name": "stdout",
     "output_type": "stream",
     "text": [
      "H3K4me1 -0.055087496531451716\n"
     ]
    },
    {
     "name": "stdout",
     "output_type": "stream",
     "text": [
      "H3K4me2 -0.07624575026651838\n"
     ]
    },
    {
     "name": "stdout",
     "output_type": "stream",
     "text": [
      "H3K4me3 -0.09200014379432743\n"
     ]
    },
    {
     "name": "stdout",
     "output_type": "stream",
     "text": [
      "H3K56ac 0.008655853725683487\n"
     ]
    },
    {
     "name": "stdout",
     "output_type": "stream",
     "text": [
      "H3K79me1 -0.0694681188741827\n"
     ]
    },
    {
     "name": "stdout",
     "output_type": "stream",
     "text": [
      "H3K79me2 -0.11840919160064867\n"
     ]
    },
    {
     "name": "stdout",
     "output_type": "stream",
     "text": [
      "H3K9ac -0.10145215382605663\n"
     ]
    },
    {
     "name": "stdout",
     "output_type": "stream",
     "text": [
      "H3K9me3 0.20026530559285782\n"
     ]
    },
    {
     "name": "stdout",
     "output_type": "stream",
     "text": [
      "H4K20me1 -0.08852028058476052\n"
     ]
    },
    {
     "name": "stdout",
     "output_type": "stream",
     "text": [
      "H4K5ac -0.04352033294041127\n"
     ]
    },
    {
     "name": "stdout",
     "output_type": "stream",
     "text": [
      "H4K8ac -0.04057597303490781\n"
     ]
    },
    {
     "name": "stdout",
     "output_type": "stream",
     "text": [
      "H4K91ac 0.010813435045948026\n"
     ]
    }
   ],
   "source": [
    "### conditinoal correlation\n",
    "print \"Conditional correlation\"\n",
    "cdcorrs = []\n",
    "weights_list, corrs_list = [], []\n",
    "for i in range(len(features)):\n",
    "    \n",
    "    rstate_IDs = {}\n",
    "    for ID in ID_state:\n",
    "        state = ID_state[ID]\n",
    "        rstate = tuple(state[:i] + state[i+1:])\n",
    "        if rstate not in rstate_IDs:\n",
    "            rstate_IDs[rstate] = []\n",
    "        rstate_IDs[rstate].append(ID)\n",
    "\n",
    "    total = 0\n",
    "    cdcorr = 0.0\n",
    "    weights, corrs = [], []\n",
    "    for IDs in rstate_IDs.values():\n",
    "        if len(IDs) < 5:\n",
    "            continue\n",
    "        X = [ID_state[ID][i] for ID in IDs]\n",
    "        Y = [ID_score[ID] for ID in IDs]    \n",
    "        #corr = statis.get_corr(X, Y)\n",
    "        #corr = scipy.stats.spearmanr(X, Y)[0]\n",
    "        corr = statis.get_spearman_corr(X, Y)\n",
    "        if np.isnan(corr):\n",
    "            continue\n",
    "        weights.append(len(IDs))\n",
    "        corrs.append(corr)\n",
    "        total += len(IDs)\n",
    "        cdcorr += len(IDs)*corr\n",
    "    cdcorr = cdcorr/float(total)\n",
    "        \n",
    "    feature = features[i]\n",
    "    cdcorrs.append(cdcorr)\n",
    "    weights_list.append(weights)\n",
    "    corrs_list.append(corrs)\n",
    "    print feature, cdcorr"
   ]
  },
  {
   "cell_type": "code",
   "execution_count": 14,
   "id": "201f71e4-6942-4528-bcec-30063f3d591b",
   "metadata": {
    "collapsed": false
   },
   "outputs": [
    {
     "data": {
      "image/png": "[encoded data removed]",
      "text/plain": [
       "<Figure size 162x460.8 with 1 Axes>"
      ]
     },
     "metadata": {},
     "output_type": "display_data"
    },
    {
     "data": {
      "text/plain": [
       "<matplotlib.axes._subplots.AxesSubplot at 0x7f8259cc3b50>"
      ]
     },
     "execution_count": 14,
     "metadata": {},
     "output_type": "execute_result"
    }
   ],
   "source": [
    "### plot correlations for each stratified data\n",
    "plot_strat_corrs (features,\n",
    "                  corrs_list,\n",
    "                  weights_list,\n",
    "                  cdcorrs,\n",
    "                  ytick_rotation=-20,\n",
    "                  xlabel_rotation=180)                  "
   ]
  },
  {
   "cell_type": "code",
   "execution_count": 17,
   "id": "e2844822-3dbc-408e-b5ac-56945a8fa21f",
   "metadata": {
    "collapsed": false
   },
   "outputs": [
    {
     "data": {
      "image/png": "[encoded data removed]",
      "text/plain": [
       "<Figure size 162x460.8 with 1 Axes>"
      ]
     },
     "metadata": {},
     "output_type": "display_data"
    },
    {
     "data": {
      "text/plain": [
       "<matplotlib.axes._subplots.AxesSubplot at 0x7f8091358590>"
      ]
     },
     "execution_count": 17,
     "metadata": {},
     "output_type": "execute_result"
    }
   ],
   "source": [
    "### plot bar plot for conditional correlation [Fig.3b]\n",
    "plot_cdcorrs (features,\n",
    "              cdcorrs,\n",
    "              ytick_rotation=-20,\n",
    "              xlabel_rotation=180,\n",
    "              save_path='./data/',\n",
    "              save=True,\n",
    "              note='H1_NCP_HP1a')"
   ]
  }
 ],
 "metadata": {
  "kernelspec": {
   "argv": [
    "/Library/Frameworks/Python.framework/Versions/2.7/Resources/Python.app/Contents/MacOS/Python",
    "-m",
    "ipykernel_launcher",
    "-f",
    "{connection_file}"
   ],
   "display_name": "Python 2",
   "env": null,
   "interrupt_mode": "signal",
   "language": "python",
   "metadata": null,
   "name": "python2"
  },
  "name": "[Fig.3b]H1_NCP_HP1a_cdt_corr.ipynb"
 },
 "nbformat": 4,
 "nbformat_minor": 2
}
