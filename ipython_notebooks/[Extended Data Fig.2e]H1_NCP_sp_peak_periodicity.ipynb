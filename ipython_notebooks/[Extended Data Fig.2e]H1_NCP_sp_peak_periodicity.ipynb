{
 "cells": [
  {
   "cell_type": "markdown",
   "id": "5a1d15e8-dbd4-4cdc-923c-ff9a74205d61",
   "metadata": {
    "collapsed": false
   },
   "source": [
    "Check din-nucleotide periodicity for each partitions"
   ]
  },
  {
   "cell_type": "code",
   "execution_count": 1,
   "id": "5cade31f-3fca-495b-b0c2-2c33a57c4139",
   "metadata": {
    "collapsed": false
   },
   "outputs": [],
   "source": [
    "# python modules\n",
    "import sys\n",
    "import copy\n",
    "import re\n",
    "import random\n",
    "import glob\n",
    "import numpy as np\n",
    "import matplotlib as mpl\n",
    "import matplotlib.pyplot as plt\n",
    "import scipy\n",
    "from scipy import stats"
   ]
  },
  {
   "cell_type": "code",
   "execution_count": 2,
   "id": "6188cd4d-9e08-4e96-9745-6e48ca19602f",
   "metadata": {
    "collapsed": false
   },
   "outputs": [],
   "source": [
    "# custom modules\n",
    "sys.path.append('/Users/sangwoopark/Projects/condense-seq/postpro_scripts')\n",
    "import graphics_edit as graphics\n",
    "import load_file_edit as load_file\n",
    "import Interval_dict\n",
    "import statis_edit as statis"
   ]
  },
  {
   "cell_type": "code",
   "execution_count": 3,
   "id": "3f861176-fde5-4909-9666-be50242fc744",
   "metadata": {
    "collapsed": false
   },
   "outputs": [],
   "source": [
    "# matplotlib setting\n",
    "%matplotlib inline\n",
    "mpl.rcParams[\"figure.facecolor\"] = \"white\"\n",
    "mpl.rcParams[\"axes.facecolor\"] = \"white\"\n",
    "mpl.rcParams[\"savefig.facecolor\"] = \"white\""
   ]
  },
  {
   "cell_type": "code",
   "execution_count": 4,
   "id": "1fee66c1-ba6d-4659-b206-d8543a3a63a4",
   "metadata": {
    "collapsed": false
   },
   "outputs": [],
   "source": [
    "### parameters\n",
    "cell_org = {'H1':'human',\n",
    "            'GM':'human',\n",
    "            'mCD8T:WT':'mouse',\n",
    "            'mCD8T:DFMO':'mouse',\n",
    "            'mCD8T:ODCKO':'mouse'}\n",
    "\n",
    "cell_chrnames = {'H1':['chr%s' % (i) for i in range(1, 23)] + ['chrX', 'chrY'],\n",
    "                 'GM':['chr%s' % (i) for i in range(1, 23)] + ['chrX'],\n",
    "                 'mCD8T:WT':['chr%s' % (i) for i in range(1, 20)] + ['chrX'],\n",
    "                 'mCD8T:DFMO':['chr%s' % (i) for i in range(1, 20)] + ['chrX'],\n",
    "                 'mCD8T:ODCKO':['chr%s' % (i) for i in range(1, 20)] + ['chrX']}"
   ]
  },
  {
   "cell_type": "code",
   "execution_count": 5,
   "id": "d0e51bae-b7eb-4686-bdaa-3578aa8b6d01",
   "metadata": {
    "collapsed": false
   },
   "outputs": [],
   "source": [
    "def select_best (periods, amplts, min_period, max_period):\n",
    "    amplt_idx = []\n",
    "    for i in range(len(periods)):\n",
    "        period = periods[i]\n",
    "        amplt = amplts[i]\n",
    "        if period < min_period:\n",
    "            continue\n",
    "        elif period > max_period:\n",
    "            continue\n",
    "        amplt_idx.append((amplt, i))\n",
    "    return sorted(amplt_idx, reverse=True)[0][1]"
   ]
  },
  {
   "cell_type": "code",
   "execution_count": 6,
   "id": "ea27be33-61f8-4584-ad2f-83c31d1bc987",
   "metadata": {
    "collapsed": false
   },
   "outputs": [
    {
     "name": "stdout",
     "output_type": "stream",
     "text": [
      "loading H1_NCP_sp_1rep_deep_chr1_score_table.gtab.gz\n"
     ]
    },
    {
     "name": "stdout",
     "output_type": "stream",
     "text": [
      "Done\n"
     ]
    }
   ],
   "source": [
    "### load gtab files\n",
    "gtab_path = '/Users/sangwoopark/jhu_rockfish/2024_01_05_GEO/processed_files/'\n",
    "\n",
    "dinfo_dkey = {'H1_NCP_sp_1rep_deep_chr1_score_table.gtab.gz':\n",
    "              {'Sequence': 'seq'}\n",
    "              }\n",
    "\n",
    "dkey_ID_value = load_file.read_gtab_batch (dinfo_dkey,\n",
    "                                           data_path=gtab_path)"
   ]
  },
  {
   "cell_type": "code",
   "execution_count": 7,
   "id": "f987892d-d889-4e05-91bf-1565aaa9d9bd",
   "metadata": {
    "collapsed": false
   },
   "outputs": [],
   "source": [
    "### set target for analysis\n",
    "ID_seq = dkey_ID_value['seq']\n",
    "del dkey_ID_value"
   ]
  },
  {
   "cell_type": "code",
   "execution_count": 8,
   "id": "528f985a-47b2-4321-aceb-188b3308a8f3",
   "metadata": {
    "collapsed": false
   },
   "outputs": [],
   "source": [
    "### compute dinucleotide frequencies over positions (1st order Markov model)\n",
    "NCPlen = 147\n",
    "seq_list = []\n",
    "for ID in ID_seq:\n",
    "    seq = ID_seq[ID].upper()\n",
    "    if 'N' in seq:\n",
    "        continue\n",
    "    if 'M' in seq:\n",
    "        continue\n",
    "    dyad = len(seq)/2\n",
    "    for i in range(-1,2):\n",
    "        NCPseq = seq[dyad+i-NCPlen/2:dyad+i+NCPlen/2+1]\n",
    "        seq_list.append(NCPseq)\n",
    "        seq_list.append(statis.rev_comp(NCPseq))\n",
    "\n",
    "freq, sample_num, mean, std, stdz_freq = statis.stat_Markov(seq_list,\n",
    "                                                            NCPlen,\n",
    "                                                            1)"
   ]
  },
  {
   "cell_type": "code",
   "execution_count": 9,
   "id": "ebda2ad3-2d18-4cde-a39a-2600006198ce",
   "metadata": {
    "collapsed": false
   },
   "outputs": [],
   "source": [
    "### compute AT/GC-rich dinucleotide periodicity [Extended Data Fig.2e]\n",
    "AT_sig, GC_sig = statis.get_ATGC_sig(freq)"
   ]
  },
  {
   "cell_type": "code",
   "execution_count": 10,
   "id": "c9145990-65ae-4e87-8f24-cd25365e002c",
   "metadata": {
    "collapsed": false
   },
   "outputs": [
    {
     "data": {
      "image/png": "[encoded data removed]",
      "text/plain": [
       "<Figure size 187.2x144 with 2 Axes>"
      ]
     },
     "metadata": {},
     "output_type": "display_data"
    },
    {
     "data": {
      "text/plain": [
       "[<matplotlib.axes._subplots.AxesSubplot at 0x7f78bf5e3a50>,\n",
       " <matplotlib.axes._subplots.AxesSubplot at 0x7f7929d5fd50>]"
      ]
     },
     "execution_count": 10,
     "metadata": {},
     "output_type": "execute_result"
    }
   ],
   "source": [
    "### plot AT/GC-rich dinucleotide periodicity\n",
    "#color_list = np.linspace(0.2, 1, num=p_num)\n",
    "#cmap1 = mpl.cm.get_cmap(\"OrRd\")\n",
    "#cmap2 = mpl.cm.get_cmap(\"GnBu\")\n",
    "\n",
    "graphics.plot_ATGC_periodicity (AT_sig,\n",
    "                                GC_sig,\n",
    "                                save_path='./data/',\n",
    "                                save=True,\n",
    "                                note='H1_NCP_sp')\n"
   ]
  }
 ],
 "metadata": {
  "kernelspec": {
   "argv": [
    "/Library/Frameworks/Python.framework/Versions/2.7/Resources/Python.app/Contents/MacOS/Python",
    "-m",
    "ipykernel_launcher",
    "-f",
    "{connection_file}"
   ],
   "display_name": "Python 2",
   "env": null,
   "interrupt_mode": "signal",
   "language": "python",
   "metadata": null,
   "name": "python2"
  },
  "name": "[Extended Data Fig.2e]H1_NCP_sp_peak_periodicity.ipynb"
 },
 "nbformat": 4,
 "nbformat_minor": 2
}
