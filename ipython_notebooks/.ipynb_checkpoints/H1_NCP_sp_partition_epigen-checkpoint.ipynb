{
 "cells": [
  {
   "cell_type": "markdown",
   "id": "5a1d15e8-dbd4-4cdc-923c-ff9a74205d61",
   "metadata": {
    "collapsed": false
   },
   "source": [
    "Conditional correlation analysis"
   ]
  },
  {
   "cell_type": "code",
   "execution_count": 22,
   "id": "5cade31f-3fca-495b-b0c2-2c33a57c4139",
   "metadata": {
    "collapsed": false
   },
   "outputs": [],
   "source": [
    "# python modules\n",
    "import copy\n",
    "import random\n",
    "import re\n",
    "import glob\n",
    "import numpy as np\n",
    "import matplotlib as mpl\n",
    "import matplotlib.pyplot as plt\n",
    "import scipy\n",
    "from scipy import stats"
   ]
  },
  {
   "cell_type": "code",
   "execution_count": 23,
   "id": "6188cd4d-9e08-4e96-9745-6e48ca19602f",
   "metadata": {
    "collapsed": false
   },
   "outputs": [],
   "source": [
    "# custom modules\n",
    "import graphics_edit as graphics\n",
    "import load_file_edit as load_file\n",
    "import Interval_dict\n",
    "import statis_edit as statis"
   ]
  },
  {
   "cell_type": "code",
   "execution_count": 24,
   "id": "3f861176-fde5-4909-9666-be50242fc744",
   "metadata": {
    "collapsed": false
   },
   "outputs": [],
   "source": [
    "# matplotlib setting\n",
    "%matplotlib inline\n",
    "mpl.rcParams[\"figure.facecolor\"] = \"white\"\n",
    "mpl.rcParams[\"axes.facecolor\"] = \"white\"\n",
    "mpl.rcParams[\"savefig.facecolor\"] = \"white\""
   ]
  },
  {
   "cell_type": "code",
   "execution_count": 25,
   "id": "1fee66c1-ba6d-4659-b206-d8543a3a63a4",
   "metadata": {
    "collapsed": false
   },
   "outputs": [],
   "source": [
    "### parameters\n",
    "cell_org = {'H1':'human',\n",
    "            'GM':'human',\n",
    "            'mCD8T:WT':'mouse',\n",
    "            'mCD8T:DFMO':'mouse',\n",
    "            'mCD8T:ODCKO':'mouse'}\n",
    "\n",
    "cell_chrnames = {'H1':['chr%s' % (i) for i in range(1, 23)] + ['chrX', 'chrY'],\n",
    "                 'GM':['chr%s' % (i) for i in range(1, 23)] + ['chrX'],\n",
    "                 'mCD8T:WT':['chr%s' % (i) for i in range(1, 20)] + ['chrX'],\n",
    "                 'mCD8T:DFMO':['chr%s' % (i) for i in range(1, 20)] + ['chrX'],\n",
    "                 'mCD8T:ODCKO':['chr%s' % (i) for i in range(1, 20)] + ['chrX']}"
   ]
  },
  {
   "cell_type": "code",
   "execution_count": 26,
   "id": "8007c5b6-8c50-4f67-9dd7-2c16d82f1904",
   "metadata": {
    "collapsed": false
   },
   "outputs": [],
   "source": [
    "def plot_partition_heatmap (img,\n",
    "                            xtick_labels=None,\n",
    "                            ytick_labels=None,\n",
    "                            fig_width=2.5,\n",
    "                            fig_height=8,\n",
    "                            vmin=None,\n",
    "                            vmax=None,\n",
    "                            cmap='coolwarm',\n",
    "                            ax=None,\n",
    "                            save=False,\n",
    "                            note=''):\n",
    "\n",
    "    if not ax:\n",
    "        fig, ax = plt.subplots(nrows=1,\n",
    "                               ncols=1,\n",
    "                               figsize=(fig_width, fig_height))\n",
    "        make_fig = True\n",
    "    else:\n",
    "        make_fig = False\n",
    "\n",
    "    im = ax.imshow(img,\n",
    "                   vmin=vmin,\n",
    "                   vmax=vmax,\n",
    "                   cmap=cmap,\n",
    "                   aspect='auto')\n",
    "\n",
    "    if xtick_labels == None:\n",
    "        xtick_labels = range(1, len(img[0])+1)\n",
    "    if ytick_labels == None:\n",
    "        ytick_labels = range(1, len(img)+1)\n",
    "    \n",
    "    ax.set_xticks(range(len(xtick_labels)))\n",
    "    ax.set_xticklabels(xtick_labels,\n",
    "                       fontsize=8)\n",
    "    ax.xaxis.tick_top()\n",
    "    ax.set_yticks(range(len(ytick_labels)))    \n",
    "    ax.set_yticklabels(ytick_labels,\n",
    "                       horizontalalignment='right',\n",
    "                       fontname='monospace',\n",
    "                       fontsize=9)\n",
    "\n",
    "    if make_fig:\n",
    "        if save:\n",
    "            plt.savefig(\"partition_heatmap_%s.svg\" % (note),\n",
    "                        format='svg',\n",
    "                        bbox_inches='tight')\n",
    "        else:\n",
    "            plt.tight_layout()\n",
    "            plt.show()    \n",
    "        plt.close()\n",
    "\n",
    "    return ax\n",
    "\n",
    "def plot_partition_heatmap_multiple (img_list,\n",
    "                                     xtick_labels_list=None,\n",
    "                                     ytick_labels_list=None,\n",
    "                                     fig_width=2.5,\n",
    "                                     fig_height=8,\n",
    "                                     vmin=None,\n",
    "                                     vmax=None,\n",
    "                                     cmap='coolwarm',\n",
    "                                     axes=None,\n",
    "                                     save=False,\n",
    "                                     note=''):\n",
    "\n",
    "    if not axes:\n",
    "        fig, axes = plt.subplots(nrows=1,\n",
    "                                 ncols=len(img_list),\n",
    "                                 figsize=(fig_width, fig_height))\n",
    "        make_fig = True\n",
    "    else:\n",
    "        make_fig = False\n",
    "\n",
    "    for i in range(len(img_list)):\n",
    "        img = img_list[i]\n",
    "        \n",
    "        try:\n",
    "            xtick_labels = xtick_labels_list[i]\n",
    "        except:\n",
    "            xtick_labels = None\n",
    "        try:\n",
    "            ytick_labels = ytick_labels_list[i]\n",
    "        except:\n",
    "            ytick_labels = None\n",
    "        \n",
    "        plot_partition_heatmap (img,\n",
    "                                xtick_labels=xtick_labels,\n",
    "                                ytick_labels=ytick_labels,\n",
    "                                vmin=vmin,\n",
    "                                vmax=vmax,\n",
    "                                cmap=cmap,\n",
    "                                ax=axes[i])\n",
    "\n",
    "    return axes\n"
   ]
  },
  {
   "cell_type": "code",
   "execution_count": 27,
   "id": "ea27be33-61f8-4584-ad2f-83c31d1bc987",
   "metadata": {
    "collapsed": false
   },
   "outputs": [],
   "source": [
    "### load gtab file\n",
    "path = '/Users/sangwoopark/jhu_rockfish/2024_01_05_GEO/processed_files/'\n",
    "\n",
    "dinfo_dkey = {'H1_NCP_sp_1rep_deep_chr1_score_table.gtab.gz':None}"
   ]
  },
  {
   "cell_type": "code",
   "execution_count": 28,
   "id": "d49cf920-9348-41fb-99a0-4a547c5be777",
   "metadata": {
    "collapsed": false
   },
   "outputs": [
    {
     "name": "stdout",
     "output_type": "stream",
     "text": [
      "loading H1_NCP_sp_1rep_deep_chr1_score_table.gtab.gz\n"
     ]
    }
   ],
   "source": [
    "### load gtab file\n",
    "dkey_ID_value = {}\n",
    "for fkey in dinfo_dkey:\n",
    "    field_dkey = dinfo_dkey[fkey]\n",
    "\n",
    "    if field_dkey == None:\n",
    "        field_choices = None\n",
    "    else:\n",
    "        field_choices = field_dkey.keys()\n",
    "    \n",
    "    for fname in glob.glob(path + '*'):\n",
    "        if not re.match(fkey, fname.rsplit('/')[-1]):\n",
    "            continue\n",
    "        print \"loading %s\" % (fname.rsplit('/')[-1])\n",
    "\n",
    "        field_ID_value = load_file.read_gtab(fname,\n",
    "                                             mode='col',\n",
    "                                             field_choices=field_choices)\n",
    "\n",
    "        if field_dkey == None:\n",
    "            field_dkey = {field:field for field in field_ID_value.keys()}\n",
    "\n",
    "        for field, dkey in field_dkey.items():\n",
    "            ID_value = field_ID_value[field]\n",
    "            if dkey not in dkey_ID_value:\n",
    "                dkey_ID_value[dkey] = {}\n",
    "            dkey_ID_value[dkey].update(ID_value)\n",
    "            "
   ]
  },
  {
   "cell_type": "code",
   "execution_count": 29,
   "id": "8f448c45-a1cf-47f0-b5ce-82784579305c",
   "metadata": {
    "collapsed": false
   },
   "outputs": [],
   "source": [
    "# change dkey name\n",
    "dkey_ID_value['AT content'] = copy.deepcopy(dkey_ID_value['ATcontent'])\n",
    "del dkey_ID_value['ATcontent']"
   ]
  },
  {
   "cell_type": "code",
   "execution_count": 30,
   "id": "9ee37bee-013e-4629-9fae-32cd89d77e19",
   "metadata": {
    "collapsed": false
   },
   "outputs": [],
   "source": [
    "### compute sequence features\n",
    "# methylation density\n",
    "dkey_ID_value['meCpG density'] = statis.get_fract_dict(dkey_ID_value['CNumber(CpG)'],\n",
    "                                                       dkey_ID_value['meCNumber(CpG)'])\n",
    "dkey_ID_value['meCHG density'] = statis.get_fract_dict(dkey_ID_value['CNumber(CHG)'],\n",
    "                                                       dkey_ID_value['meCNumber(CHG)'])\n",
    "dkey_ID_value['meCHH density'] = statis.get_fract_dict(dkey_ID_value['CNumber(CHH)'],\n",
    "                                                       dkey_ID_value['meCNumber(CHH)'])\n"
   ]
  },
  {
   "cell_type": "code",
   "execution_count": 31,
   "id": "c41f1d65-4144-4c4f-a119-759232ef63c3",
   "metadata": {
    "collapsed": false
   },
   "outputs": [],
   "source": [
    "### compute sequence features\n",
    "# mean poly GC length\n",
    "ID_polyGC = {}\n",
    "for ID, seq in dkey_ID_value['Sequence'].items():\n",
    "    num_pos = statis.polynt_count(seq.upper(), nts='GC', pos=True)\n",
    "    mean_len, count = 0.0, 0.0\n",
    "    for num, pos in num_pos.items():\n",
    "        mean_len += len(pos)*num\n",
    "        count += len(pos)\n",
    "    ID_polyGC[ID] = mean_len/count\n",
    "\n",
    "dkey_ID_value['poly-G/C length'] = ID_polyGC\n",
    "\n",
    "del dkey_ID_value['Sequence']\n",
    "del ID_polyGC\n"
   ]
  },
  {
   "cell_type": "code",
   "execution_count": 32,
   "id": "b52f5032-457c-4358-b63c-6ab55b92d8c1",
   "metadata": {
    "collapsed": false
   },
   "outputs": [],
   "source": [
    "### select feature set and target for analysis\n",
    "seq_features = ['AT content', 'poly-G/C length']\n",
    "seq_features = []\n",
    "\n",
    "epigenetic_features = ['meCpG density', 'meCHG density', 'meCHH density', 'H2AFZ', 'H2AK5ac', 'H2BK120ac', 'H2BK12ac', 'H2BK15ac', 'H2BK20ac', 'H2BK5ac', 'H3K14ac', 'H3K18ac', 'H3K23ac', 'H3K23me2', 'H3K27ac', 'H3K27me3', 'H3K36me3', 'H3K4ac', 'H3K4me1', 'H3K4me2', 'H3K4me3', 'H3K56ac', 'H3K79me1', 'H3K79me2', 'H3K9ac', 'H3K9me3', 'H4K20me1', 'H4K5ac', 'H4K8ac', 'H4K91ac']\n",
    "\n",
    "features = seq_features + epigenetic_features\n",
    "\n",
    "features = ['meCpG density', 'meCHG density', 'meCHH density', 'H2AFZ', 'H2AK5ac', 'H2BK120ac', 'H2BK12ac', 'H2BK15ac', 'H2BK20ac', 'H2BK5ac', 'H3K14ac', 'H3K18ac', 'H3K23ac', 'H3K23me2', 'H3K27ac', 'H3K27me3', 'H3K36me3', 'H3K4ac', 'H3K4me1', 'H3K4me2', 'H3K4me3', 'H3K56ac', 'H3K79me1', 'H3K79me2', 'H3K9ac', 'H3K9me3', 'H4K20me1', 'H4K5ac', 'H4K8ac', 'H4K91ac']"
   ]
  },
  {
   "cell_type": "code",
   "execution_count": 33,
   "id": "f987892d-d889-4e05-91bf-1565aaa9d9bd",
   "metadata": {
    "collapsed": false
   },
   "outputs": [],
   "source": [
    "### set target for analysis\n",
    "target = 'H1_NCP_sp_8_1rep_deep'"
   ]
  },
  {
   "cell_type": "code",
   "execution_count": 34,
   "id": "d0153620-5d19-4485-8a8b-831793dd51cd",
   "metadata": {
    "collapsed": false
   },
   "outputs": [],
   "source": [
    "### Partition data by score\n",
    "ID_score = dkey_ID_value[target]\n",
    "\n",
    "# set partition lines and windows\n",
    "med = np.median(ID_score.values())\n",
    "std = np.std(ID_score.values())\n",
    "p_lines = [med-0.5*std-i*std for i in range(3)]\n",
    "p_lines += [med+0.5*std+i*std for i in range(3)]\n",
    "p_lines = sorted(p_lines)\n",
    "p_num = len(p_lines)+1\n",
    "p_wins = []\n",
    "for i in range(p_num):\n",
    "    if i == 0:\n",
    "        st = -np.inf\n",
    "        ed = p_lines[i]\n",
    "    elif i == p_num-1:\n",
    "        st = ed\n",
    "        ed = np.inf\n",
    "    else:\n",
    "        st = ed\n",
    "        ed = p_lines[i]\n",
    "    p_wins.append((st, ed))"
   ]
  },
  {
   "cell_type": "code",
   "execution_count": 35,
   "id": "431bed4c-d7b7-4798-bb37-3cece2d8e0fb",
   "metadata": {
    "collapsed": false
   },
   "outputs": [],
   "source": [
    "# get partitions\n",
    "p_IDs = statis.partition(ID_score, p_wins)"
   ]
  },
  {
   "cell_type": "code",
   "execution_count": 36,
   "id": "bedfd322-2e03-4c17-8c41-f4f6fc254d21",
   "metadata": {
    "collapsed": false
   },
   "outputs": [
    {
     "data": {
      "image/png": "[encoded data removed]",
      "text/plain": [
       "<Figure size 172.8x144 with 1 Axes>"
      ]
     },
     "metadata": {},
     "output_type": "display_data"
    },
    {
     "data": {
      "text/plain": [
       "<matplotlib.axes._subplots.AxesSubplot at 0x7f8b6d3b67d0>"
      ]
     },
     "execution_count": 36,
     "metadata": {},
     "output_type": "execute_result"
    }
   ],
   "source": [
    "# plot partition\n",
    "graphics.plot_partition (ID_score,\n",
    "                         p_wins,\n",
    "                         hist_bins=10000,\n",
    "                         xlabel=\"Condensability (A.U.)\",\n",
    "                         ylabel=\"Nucleosome Counts\",\n",
    "                         title=\"Chromosome1\",\n",
    "                         xlim=[med-3, med+3],\n",
    "                         ylim=None,\n",
    "                         fig_width=2.4,\n",
    "                         fig_height=2,\n",
    "                         ax=None,\n",
    "                         save=False,\n",
    "                         note='')"
   ]
  },
  {
   "cell_type": "code",
   "execution_count": 37,
   "id": "d408f1ac-69b0-4c3e-9373-1c9106070320",
   "metadata": {
    "collapsed": false
   },
   "outputs": [
    {
     "name": "stdout",
     "output_type": "stream",
     "text": [
      "meCpG density\n"
     ]
    },
    {
     "name": "stdout",
     "output_type": "stream",
     "text": [
      "meCHG density\n"
     ]
    },
    {
     "name": "stdout",
     "output_type": "stream",
     "text": [
      "meCHH density\n"
     ]
    },
    {
     "name": "stdout",
     "output_type": "stream",
     "text": [
      "H2AFZ\n"
     ]
    },
    {
     "name": "stdout",
     "output_type": "stream",
     "text": [
      "H2AK5ac\n"
     ]
    },
    {
     "name": "stdout",
     "output_type": "stream",
     "text": [
      "H2BK120ac\n"
     ]
    },
    {
     "name": "stdout",
     "output_type": "stream",
     "text": [
      "H2BK12ac\n"
     ]
    },
    {
     "name": "stdout",
     "output_type": "stream",
     "text": [
      "H2BK15ac\n"
     ]
    },
    {
     "name": "stdout",
     "output_type": "stream",
     "text": [
      "H2BK20ac\n"
     ]
    },
    {
     "name": "stdout",
     "output_type": "stream",
     "text": [
      "H2BK5ac\n"
     ]
    },
    {
     "name": "stdout",
     "output_type": "stream",
     "text": [
      "H3K14ac\n"
     ]
    },
    {
     "name": "stdout",
     "output_type": "stream",
     "text": [
      "H3K18ac\n"
     ]
    },
    {
     "name": "stdout",
     "output_type": "stream",
     "text": [
      "H3K23ac\n"
     ]
    },
    {
     "name": "stdout",
     "output_type": "stream",
     "text": [
      "H3K23me2\n"
     ]
    },
    {
     "name": "stdout",
     "output_type": "stream",
     "text": [
      "H3K27ac\n"
     ]
    },
    {
     "name": "stdout",
     "output_type": "stream",
     "text": [
      "H3K27me3\n"
     ]
    },
    {
     "name": "stdout",
     "output_type": "stream",
     "text": [
      "H3K36me3\n"
     ]
    },
    {
     "name": "stdout",
     "output_type": "stream",
     "text": [
      "H3K4ac\n"
     ]
    },
    {
     "name": "stdout",
     "output_type": "stream",
     "text": [
      "H3K4me1\n"
     ]
    },
    {
     "name": "stdout",
     "output_type": "stream",
     "text": [
      "H3K4me2\n"
     ]
    },
    {
     "name": "stdout",
     "output_type": "stream",
     "text": [
      "H3K4me3\n"
     ]
    },
    {
     "name": "stdout",
     "output_type": "stream",
     "text": [
      "H3K56ac\n"
     ]
    },
    {
     "name": "stdout",
     "output_type": "stream",
     "text": [
      "H3K79me1\n"
     ]
    },
    {
     "name": "stdout",
     "output_type": "stream",
     "text": [
      "H3K79me2\n"
     ]
    },
    {
     "name": "stdout",
     "output_type": "stream",
     "text": [
      "H3K9ac\n"
     ]
    },
    {
     "name": "stdout",
     "output_type": "stream",
     "text": [
      "H3K9me3\n"
     ]
    },
    {
     "name": "stdout",
     "output_type": "stream",
     "text": [
      "H4K20me1\n"
     ]
    },
    {
     "name": "stdout",
     "output_type": "stream",
     "text": [
      "H4K5ac\n"
     ]
    },
    {
     "name": "stdout",
     "output_type": "stream",
     "text": [
      "H4K8ac\n"
     ]
    },
    {
     "name": "stdout",
     "output_type": "stream",
     "text": [
      "H4K91ac\n"
     ]
    }
   ],
   "source": [
    "### get feature values/z-scores for each partitions\n",
    "feature_p_values = {}\n",
    "feature_p_zscores = {}\n",
    "for feature in features:\n",
    "    print feature\n",
    "    ID_value = dkey_ID_value[feature]\n",
    "    p_values = []\n",
    "    for i in range(p_num):\n",
    "        values = [ID_value[ID] for ID in p_IDs[i]]\n",
    "        p_values.append(values)\n",
    "    feature_p_values[feature] = p_values\n",
    "\n",
    "    ID_zscore = statis.standardize_dict(ID_value)\n",
    "    p_zscores = []\n",
    "    for i in range(p_num):\n",
    "        zscores = [ID_zscore[ID] for ID in p_IDs[i]]\n",
    "        p_zscores.append(zscores)\n",
    "    feature_p_zscores[feature] = p_zscores"
   ]
  },
  {
   "cell_type": "code",
   "execution_count": 38,
   "id": "25d0a1c0-fe6e-48f0-882e-47edccb0ccfa",
   "metadata": {
    "collapsed": false
   },
   "outputs": [],
   "source": [
    "### plot box plot for feature values of each partitions\n",
    "for feature in features:\n",
    "    p_values = feature_p_values[feature]\n",
    "    fig = plt.figure()\n",
    "    plt.xlabel('Partitions')\n",
    "    plt.title(feature)\n",
    "    plt.boxplot(p_values, 0, \"\")\n",
    "    #plt.savefig('pbox_%s.png' % (feature))\n",
    "    #plt.show()\n",
    "    plt.close()\n",
    "    "
   ]
  },
  {
   "cell_type": "code",
   "execution_count": 39,
   "id": "fcb029bc-fcf9-4b36-9f5f-30eb4e141d00",
   "metadata": {
    "collapsed": false
   },
   "outputs": [],
   "source": [
    "### make heatmap for mean z-scores of each partitions\n",
    "group_num = 1\n",
    "group_size = len(features)/group_num\n",
    "\n",
    "img_list = [[] for i in range(group_num)]\n",
    "ytick_labels_list = [[] for i in range(group_num)]\n",
    "\n",
    "for i in range(len(features)):\n",
    "    feature = features[i]\n",
    "    g_idx = i / group_size\n",
    "    p_zscores = feature_p_zscores[feature]\n",
    "    p_mzscore = [np.mean(p_zscores[i]) for i in range(p_num)]\n",
    "    img_list[g_idx].append(p_mzscore)\n",
    "    ytick_labels_list[g_idx].append(feature)"
   ]
  },
  {
   "cell_type": "code",
   "execution_count": 40,
   "id": "6b5b806f-cacb-45ab-a329-049614853d00",
   "metadata": {
    "collapsed": false
   },
   "outputs": [
    {
     "data": {
      "image/png": "[encoded data removed]",
      "text/plain": [
       "<Figure size 180x576 with 1 Axes>"
      ]
     },
     "metadata": {},
     "output_type": "display_data"
    },
    {
     "data": {
      "text/plain": [
       "<matplotlib.axes._subplots.AxesSubplot at 0x7f8ee0506590>"
      ]
     },
     "execution_count": 40,
     "metadata": {},
     "output_type": "execute_result"
    }
   ],
   "source": [
    "### make heatmap for z-scores of each partitions\n",
    "plot_partition_heatmap (img_list[0],\n",
    "                        ytick_labels=ytick_labels_list[0],\n",
    "                        fig_width=2.5,\n",
    "                        fig_height=8,\n",
    "                        vmin=-1.5,\n",
    "                        vmax=1.5,\n",
    "                        cmap='coolwarm',\n",
    "                        save=False,\n",
    "                        note='')"
   ]
  }
 ],
 "metadata": {
  "kernelspec": {
   "argv": [
    "python",
    "-m",
    "ipykernel_launcher",
    "-f",
    "{connection_file}"
   ],
   "display_name": "Python 2",
   "env": null,
   "interrupt_mode": "signal",
   "language": "python",
   "metadata": null,
   "name": "python2"
  },
  "name": "H1_NCP_sp_partition_epigen.ipynb"
 },
 "nbformat": 4,
 "nbformat_minor": 2
}
