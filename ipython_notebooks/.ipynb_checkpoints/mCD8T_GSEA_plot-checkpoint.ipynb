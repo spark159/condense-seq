{
 "cells": [
  {
   "cell_type": "markdown",
   "id": "7cbd92b7-c30b-432d-b54e-ea5037cb96dc",
   "metadata": {
    "collapsed": false
   },
   "source": [
    "Plot GSEA analysis"
   ]
  },
  {
   "cell_type": "code",
   "execution_count": null,
   "id": "3ec12d01-da86-4d28-a5a9-c360fcd9eb1b",
   "metadata": {
    "collapsed": false
   },
   "outputs": [],
   "source": [
    "# python modules\n",
    "import sys\n",
    "import copy\n",
    "import random\n",
    "import numpy as np\n",
    "import matplotlib as mpl\n",
    "import matplotlib.pyplot as plt\n",
    "from matplotlib.colors import LinearSegmentedColormap\n",
    "import scipy\n",
    "from scipy import stats"
   ]
  },
  {
   "cell_type": "code",
   "execution_count": null,
   "id": "68cce140-98d6-4251-a85e-0b3f76fbdca1",
   "metadata": {
    "collapsed": false
   },
   "outputs": [],
   "source": [
    "# custom modules\n",
    "import graphics_edit as graphics\n",
    "import load_file_edit as load_file\n",
    "import Interval_dict\n",
    "import statis_edit as statis"
   ]
  },
  {
   "cell_type": "code",
   "execution_count": null,
   "id": "b33c012d-d79c-445b-8257-5443c8e687de",
   "metadata": {
    "collapsed": false
   },
   "outputs": [],
   "source": [
    "# matplotlib setting\n",
    "%matplotlib inline\n",
    "mpl.rcParams[\"figure.facecolor\"] = \"white\"\n",
    "mpl.rcParams[\"axes.facecolor\"] = \"white\"\n",
    "mpl.rcParams[\"savefig.facecolor\"] = \"white\""
   ]
  },
  {
   "cell_type": "code",
   "execution_count": null,
   "id": "cdbfa3da-a014-43aa-8195-340d0e6c88f4",
   "metadata": {
    "collapsed": false
   },
   "outputs": [],
   "source": [
    "def select_best (gs_list, num):\n",
    "    nes_gs = []\n",
    "    for gs in gs_list:\n",
    "        nes = gs['nes']\n",
    "        nes_gs.append((abs(nes), gs))\n",
    "    nes_gs = sorted(nes_gs, reverse=True)\n",
    "    return [gs for _, gs in nes_gs[:num]]\n"
   ]
  },
  {
   "cell_type": "code",
   "execution_count": null,
   "id": "2b578ea2-a5da-4dae-942d-319df0f0033e",
   "metadata": {
    "collapsed": false
   },
   "outputs": [],
   "source": [
    "### compute the Cohen's kappa of all gene-set pairs\n",
    "def get_kappa_matrix (gs_list,\n",
    "                      gene_list=None):\n",
    "    # make union gene_list to be considered\n",
    "    if gene_list == None:\n",
    "        gene_list = set([])\n",
    "        for gs in gs_list:\n",
    "            gene_list |= set(gs['genes'].keys())\n",
    "        gene_list = list(gene_list)\n",
    "\n",
    "    # make binary vector for each gene-set\n",
    "    idx_bvec = []\n",
    "    for i in range(len(gs_list)):\n",
    "        gs = gs_list[i]\n",
    "        bvec = []\n",
    "        for gene in gene_list:\n",
    "            try:\n",
    "                gs['genes'][gene]\n",
    "                bvec.append(1)\n",
    "            except:\n",
    "                bvec.append(0)\n",
    "        idx_bvec.append(bvec)\n",
    "\n",
    "    # make kappa matrix\n",
    "    kappa_matrix = np.zeros((len(gs_list), len(gs_list)))\n",
    "    kappa_matrix[:] = np.nan\n",
    "    for i in range(len(gs_list)):\n",
    "        for j in range(i, len(gs_list)):\n",
    "            bvec1, bvec2 = idx_bvec[i], idx_bvec[j]\n",
    "            kappa = statis.get_kappa(bvec1, bvec2)\n",
    "            kappa_matrix[i][j] = kappa\n",
    "            kappa_matrix[j][i] = kappa\n",
    "\n",
    "    return gene_list, kappa_matrix"
   ]
  },
  {
   "cell_type": "code",
   "execution_count": null,
   "id": "02ed5fa7-1894-4257-93b9-d4fc23102938",
   "metadata": {
    "collapsed": false
   },
   "outputs": [],
   "source": [
    "# convert kappa matrix to distance matrix\n",
    "def kappa_to_dist (kappa_matrix, scale=1.0):\n",
    "    nrow, ncol = kappa_matrix.shape\n",
    "    dist_matrix = np.zeros((nrow, ncol))\n",
    "    for i in range(nrow):\n",
    "        for j in range(ncol):\n",
    "            if i == j:\n",
    "                dist_matrix[i][j] = 0\n",
    "                continue\n",
    "            kappa = kappa_matrix[i][j]\n",
    "            dist = scale*(1.0 - kappa)\n",
    "            #dist_matrix[i][j] = np.exp(dist)\n",
    "            dist_matrix[i][j] = dist\n",
    "    return dist_matrix"
   ]
  },
  {
   "cell_type": "code",
   "execution_count": null,
   "id": "830f6900-393d-4b2e-97ab-c0913f5e3987",
   "metadata": {
    "collapsed": false
   },
   "outputs": [],
   "source": [
    "# clean gene-set name\n",
    "def clean_gsname(gsname):\n",
    "    capital_words = ['B', 'STAT', 'H3K4ME2', 'H3K4ME3', 'H3K27ME3',\n",
    "                     'IPS', 'NPC', 'HCP', 'HDAC', 'ICP']\n",
    "    words = gsname.split('_')[1:]\n",
    "    for k in range(len(words)):\n",
    "        if words[k] in capital_words:\n",
    "            continue\n",
    "        words[k] = words[k].lower()\n",
    "    words[0] = words[0][0].upper() + words[0][1:]\n",
    "    new_name = ' '.join(words)\n",
    "    return new_name \n"
   ]
  },
  {
   "cell_type": "code",
   "execution_count": null,
   "id": "59e0d7f4-1067-4b48-8aeb-79c18764bd0b",
   "metadata": {
    "collapsed": false
   },
   "outputs": [],
   "source": [
    "### load GSEA rank file\n",
    "rnk_fname1 = 'KO-WT.rnk'\n",
    "rnk_fname2 = 'DFMO-WT.rnk'\n",
    "gene_value1 = load_file.read_rank(rnk_fname1)\n",
    "gene_value2 = load_file.read_rank(rnk_fname2)\n"
   ]
  },
  {
   "cell_type": "code",
   "execution_count": null,
   "id": "0ff7256e-30c7-4070-87ff-9a10c5855f37",
   "metadata": {
    "collapsed": false
   },
   "outputs": [],
   "source": [
    "### load GSEA data \n",
    "GSEA_path1 = \"NEW_GSEA_inht_GOBP\"\n",
    "GSEA_path2 = \"NEW_GSEA_KO_GOBP\"\n",
    "pos_gs_list1, neg_gs_list1 = load_file.read_GSEA(GSEA_path1)\n",
    "pos_gs_list2, neg_gs_list2 = load_file.read_GSEA(GSEA_path2)"
   ]
  },
  {
   "cell_type": "code",
   "execution_count": null,
   "id": "51425833-b38c-426c-98c6-fd0d9252c4e4",
   "metadata": {
    "collapsed": false
   },
   "outputs": [],
   "source": [
    "### select gene-sets with the biggest |nes|\n",
    "num = 20\n",
    "gs_list1 = select_best(pos_gs_list1 + neg_gs_list1, num)\n",
    "gs_list2 = select_best(pos_gs_list2 + neg_gs_list2, num)"
   ]
  },
  {
   "cell_type": "code",
   "execution_count": null,
   "id": "d68dc3c6-f346-436d-897f-cd342c4ed08a",
   "metadata": {
    "collapsed": false
   },
   "outputs": [],
   "source": [
    "### hierarchial clustering gene-sets based on the degree of sharing genes using Kappa-metric\n",
    "gs_list = []\n",
    "for gs in gs_list1 + gs_list2:\n",
    "    if gs not in gs_list:\n",
    "        gs_list.append(gs)\n",
    "        \n",
    "gene_list, kappa_matrix = get_kappa_matrix (gs_list)\n",
    "dist_matrix = kappa_to_dist (kappa_matrix)\n",
    "Z, idx_cID, cID_idxs = statis.Hierarchial_clustering (dist_matrix)"
   ]
  },
  {
   "cell_type": "code",
   "execution_count": null,
   "id": "fc64ff19-80d5-4252-8d19-189b849e1030",
   "metadata": {
    "collapsed": false
   },
   "outputs": [],
   "source": [
    "### color gene-set names based on the cluster groups\n",
    "cID_color = ['tab:orange', 'tab:green', 'tab:red']\n",
    "gsname_label, gsname_color = {}, {}\n",
    "gsnames, gslabels = [], []\n",
    "for gs, cID in zip(gs_list, idx_cID):\n",
    "    gsname = gs['name']\n",
    "    label = clean_gsname(gsname)\n",
    "    color = cID_color[cID]\n",
    "    gsname_label[gsname] = label\n",
    "    gsname_color[gsname] = color\n",
    "    gsnames.append(gsname)\n",
    "    gslabels.append(label)"
   ]
  },
  {
   "cell_type": "code",
   "execution_count": null,
   "id": "e8154b6d-ccfa-4b2a-8025-7e13af3b2b2b",
   "metadata": {
    "collapsed": false
   },
   "outputs": [],
   "source": [
    "# set node color of dendrogram\n",
    "node_children, node_dist, node_names = decode_Z(Z, gsnames)\n",
    "\n",
    "node_color = {}\n",
    "for node in node_names:\n",
    "    names = list(node_names[node])\n",
    "    \n",
    "    colors = set([])\n",
    "    for name in names:\n",
    "        color = gsname_color[name]\n",
    "        colors.add(color)\n",
    "    colors = list(colors)\n",
    "\n",
    "    if len(colors) == 1:\n",
    "        node_color[k] = colors[0]\n",
    "    else:\n",
    "        node_color[k] = 'blue'\n"
   ]
  },
  {
   "cell_type": "code",
   "execution_count": null,
   "id": "6e18fa43-9eff-4ad4-95d9-ee198224b04d",
   "metadata": {
    "collapsed": false
   },
   "outputs": [],
   "source": [
    "### plot dendrogram\n",
    "graphics.plot_dendrogram(Z,\n",
    "                         gslabels,\n",
    "                         node_color=node_color,\n",
    "                         name_color={})"
   ]
  },
  {
   "cell_type": "code",
   "execution_count": null,
   "id": "9b63c3ac-8151-4766-953a-7f2d8cd4ede6",
   "metadata": {
    "collapsed": false
   },
   "outputs": [],
   "source": [
    "### plot GSEA\n",
    "# DFMO vs WT\n",
    "plot_GSEA (gene_value1,\n",
    "           gs_list1,\n",
    "           gsname_label=gsname_label,\n",
    "           gsname_color=gsname_color)\n",
    "\n",
    "# KO vs WT\n",
    "plot_GSEA (gene_value2,\n",
    "           gs_list2,\n",
    "           gsname_label=gsname_label,\n",
    "           gsname_color=gsname_color)\n",
    "\n"
   ]
  }
 ],
 "metadata": {
  "kernelspec": {
   "argv": [
    "python",
    "-m",
    "ipykernel_launcher",
    "-f",
    "{connection_file}"
   ],
   "display_name": "Python 2",
   "env": null,
   "interrupt_mode": "signal",
   "language": "python",
   "metadata": null,
   "name": "python2"
  },
  "name": "mCD8T_GSEA_plot.ipynb"
 },
 "nbformat": 4,
 "nbformat_minor": 2
}
