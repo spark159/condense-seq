{
 "cells": [
  {
   "cell_type": "markdown",
   "id": "c167b858-8291-45f5-815f-897b72b24afe",
   "metadata": {
    "collapsed": false
   },
   "source": [
    "Get pair-wise correlations between all deeply sequenced condensability scores in 1kb resolution"
   ]
  },
  {
   "cell_type": "code",
   "execution_count": 1,
   "id": "633f94a4-87e4-420b-a69c-b6523af62ea3",
   "metadata": {
    "collapsed": false
   },
   "outputs": [],
   "source": [
    "# python modules\n",
    "import sys\n",
    "import copy\n",
    "import re\n",
    "import random\n",
    "import glob\n",
    "import numpy as np\n",
    "import matplotlib as mpl\n",
    "import matplotlib.pyplot as plt\n",
    "import scipy\n",
    "from scipy import stats\n"
   ]
  },
  {
   "cell_type": "code",
   "execution_count": 2,
   "id": "7504b9d8-8570-48c4-8915-a4a6d78d9c55",
   "metadata": {
    "collapsed": false
   },
   "outputs": [],
   "source": [
    "# custom modules\n",
    "import graphics_edit as graphics"
   ]
  },
  {
   "cell_type": "code",
   "execution_count": 3,
   "id": "b4de5e10-2016-469f-9c8a-535cb8d3949b",
   "metadata": {
    "collapsed": false
   },
   "outputs": [],
   "source": [
    "# matplotlib setting\n",
    "%matplotlib inline\n",
    "mpl.rcParams[\"figure.facecolor\"] = \"white\"\n",
    "mpl.rcParams[\"axes.facecolor\"] = \"white\"\n",
    "mpl.rcParams[\"savefig.facecolor\"] = \"white\""
   ]
  },
  {
   "cell_type": "code",
   "execution_count": 4,
   "id": "d55f160d-41f7-4947-beb4-52c092aa027c",
   "metadata": {
    "collapsed": false
   },
   "outputs": [],
   "source": [
    "# custom modules\n",
    "import load_file_edit as load_file"
   ]
  },
  {
   "cell_type": "code",
   "execution_count": 5,
   "id": "05d53a1e-43c6-40c1-a6ab-32bdf6e989bb",
   "metadata": {
    "collapsed": false
   },
   "outputs": [],
   "source": [
    "path = \"./data/\""
   ]
  },
  {
   "cell_type": "code",
   "execution_count": 6,
   "id": "16071eef-27d6-46d5-bf3b-9baa78dcf36e",
   "metadata": {
    "collapsed": false
   },
   "outputs": [],
   "source": [
    "### parameters\n",
    "cell_org = {'H1':'human',\n",
    "            'GM':'human',\n",
    "            'mCD8T:WT':'mouse',\n",
    "            'mCD8T:DFMO':'mouse',\n",
    "            'mCD8T:ODCKO':'mouse'}\n",
    "\n",
    "cell_chrnames = {'H1':['chr%s' % (i) for i in range(1, 23)] + ['chrX', 'chrY'],\n",
    "                 'GM':['chr%s' % (i) for i in range(1, 23)] + ['chrX'],\n",
    "                 'mCD8T:WT':['chr%s' % (i) for i in range(1, 20)] + ['chrX'],\n",
    "                 'mCD8T:DFMO':['chr%s' % (i) for i in range(1, 20)] + ['chrX'],\n",
    "                 'mCD8T:ODCKO':['chr%s' % (i) for i in range(1, 20)] + ['chrX']}"
   ]
  },
  {
   "cell_type": "code",
   "execution_count": 7,
   "id": "7b9e4f05-af79-41c7-9568-f58039834c8a",
   "metadata": {
    "collapsed": false
   },
   "outputs": [],
   "source": [
    "### exp list\n",
    "### exp = (rep, cell, sample, agent, tnum)\n",
    "exp_list = [(1, 'H1', 'NCP', 'sp', 8),\n",
    "            (2, 'H1', 'NCP', 'sp', 8),\n",
    "            (1, 'H1', 'NCP', 'HP1a', 3),\n",
    "            (2, 'H1', 'NCP', 'HP1a', 3),\n",
    "            (1, 'H1', 'DNA', 'HP1a', 3),\n",
    "            (2, 'H1', 'DNA', 'HP1a', 3),\n",
    "            (1, 'GM', 'NCP', 'sp', 8),\n",
    "            (2, 'GM', 'NCP', 'sp', 8)]\n",
    "\n",
    "depth = 'deep'\n",
    "bin_size = 1000\n",
    "dtype = 'score'\n"
   ]
  },
  {
   "cell_type": "code",
   "execution_count": 13,
   "id": "7622c2cf-582c-427a-8f68-bb5f5538fc70",
   "metadata": {
    "collapsed": false
   },
   "outputs": [],
   "source": [
    "### read data\n",
    "exp_ID_score = {}\n",
    "for exp in exp_list:\n",
    "    rep, cell, sample, agent, tnum = exp\n",
    "    \n",
    "    fname = '_'.join(['GSE252941',\n",
    "                      cell,\n",
    "                      sample,\n",
    "                      agent,\n",
    "                      str(rep) + 'rep',\n",
    "                      depth,\n",
    "                      str(int(bin_size/1000.0)) + 'kb',\n",
    "                      dtype]) + '.cn'\n",
    "\n",
    "    field_name = '_'.join([cell,\n",
    "                           sample,\n",
    "                           agent,\n",
    "                           str(tnum),\n",
    "                           str(rep) + 'rep',\n",
    "                           depth])\n",
    "\n",
    "    chr_choices = cell_chrnames[cell]\n",
    "        \n",
    "    ID_score = load_file.read_cn_file(path + fname,\n",
    "                                      mode='col',\n",
    "                                      field_choices=[field_name],\n",
    "                                      chr_choices=chr_choices)[field_name]\n",
    "    exp_ID_score[exp] = ID_score\n"
   ]
  },
  {
   "cell_type": "code",
   "execution_count": 15,
   "id": "f48f95f9-4571-4ac2-8035-28628357bffb",
   "metadata": {
    "collapsed": false
   },
   "outputs": [],
   "source": [
    "### get common IDs\n",
    "ID_list = set([])\n",
    "for i in range(len(exp_list)):\n",
    "    exp = exp_list[i]\n",
    "    if i == 0:\n",
    "        ID_list |= set(exp_ID_score[exp].keys())\n",
    "        continue\n",
    "    ID_list &= set(exp_ID_score[exp].keys())\n",
    "ID_list = sorted(list(ID_list))\n",
    "    "
   ]
  },
  {
   "cell_type": "code",
   "execution_count": 16,
   "id": "2fb926c0-3216-40e3-943d-2f939535df64",
   "metadata": {
    "collapsed": false
   },
   "outputs": [
    {
     "name": "stdout",
     "output_type": "stream",
     "text": [
      "1-H1-NCP-sp-8\n",
      "2-H1-NCP-sp-8\n",
      "0.79\n",
      "\n",
      "1-H1-NCP-sp-8\n",
      "1-H1-NCP-HP1a-3\n",
      "0.25\n",
      "\n",
      "1-H1-NCP-sp-8\n",
      "2-H1-NCP-HP1a-3\n",
      "0.18\n",
      "\n",
      "1-H1-NCP-sp-8\n",
      "1-H1-DNA-HP1a-3\n",
      "0.35\n",
      "\n",
      "1-H1-NCP-sp-8\n",
      "2-H1-DNA-HP1a-3\n",
      "0.37\n",
      "\n",
      "1-H1-NCP-sp-8\n",
      "1-GM-NCP-sp-8\n",
      "0.38\n",
      "\n",
      "1-H1-NCP-sp-8\n",
      "2-GM-NCP-sp-8\n",
      "0.37\n",
      "\n",
      "2-H1-NCP-sp-8\n",
      "1-H1-NCP-HP1a-3\n",
      "0.28\n",
      "\n",
      "2-H1-NCP-sp-8\n",
      "2-H1-NCP-HP1a-3\n",
      "0.24\n",
      "\n",
      "2-H1-NCP-sp-8\n",
      "1-H1-DNA-HP1a-3\n",
      "0.30\n",
      "\n",
      "2-H1-NCP-sp-8\n",
      "2-H1-DNA-HP1a-3\n",
      "0.29\n",
      "\n",
      "2-H1-NCP-sp-8\n",
      "1-GM-NCP-sp-8\n",
      "0.39\n",
      "\n",
      "2-H1-NCP-sp-8\n",
      "2-GM-NCP-sp-8\n",
      "0.40\n",
      "\n",
      "1-H1-NCP-HP1a-3\n",
      "2-H1-NCP-HP1a-3\n",
      "0.88\n",
      "\n",
      "1-H1-NCP-HP1a-3\n",
      "1-H1-DNA-HP1a-3\n",
      "0.01\n",
      "\n",
      "1-H1-NCP-HP1a-3\n",
      "2-H1-DNA-HP1a-3\n",
      "-0.03\n",
      "\n",
      "1-H1-NCP-HP1a-3\n",
      "1-GM-NCP-sp-8\n",
      "0.32\n",
      "\n",
      "1-H1-NCP-HP1a-3\n",
      "2-GM-NCP-sp-8\n",
      "0.31\n",
      "\n",
      "2-H1-NCP-HP1a-3\n",
      "1-H1-DNA-HP1a-3\n",
      "-0.07\n",
      "\n",
      "2-H1-NCP-HP1a-3\n",
      "2-H1-DNA-HP1a-3\n",
      "-0.16\n",
      "\n",
      "2-H1-NCP-HP1a-3\n",
      "1-GM-NCP-sp-8\n",
      "0.29\n",
      "\n",
      "2-H1-NCP-HP1a-3\n",
      "2-GM-NCP-sp-8\n",
      "0.28\n",
      "\n",
      "1-H1-DNA-HP1a-3\n",
      "2-H1-DNA-HP1a-3\n",
      "0.72\n",
      "\n",
      "1-H1-DNA-HP1a-3\n",
      "1-GM-NCP-sp-8\n",
      "0.26\n",
      "\n",
      "1-H1-DNA-HP1a-3\n",
      "2-GM-NCP-sp-8\n",
      "0.27\n",
      "\n",
      "2-H1-DNA-HP1a-3\n",
      "1-GM-NCP-sp-8\n",
      "0.25\n",
      "\n",
      "2-H1-DNA-HP1a-3\n",
      "2-GM-NCP-sp-8\n",
      "0.24\n",
      "\n",
      "1-GM-NCP-sp-8\n",
      "2-GM-NCP-sp-8\n",
      "0.87\n",
      "\n"
     ]
    }
   ],
   "source": [
    "### get correlation between experiments\n",
    "pair_corr = {}\n",
    "for i in range(len(exp_list)-1):\n",
    "    for j in range(i+1, len(exp_list)):\n",
    "        exp1 = exp_list[i]\n",
    "        exp2 = exp_list[j]\n",
    "\n",
    "        X, Y = [], []\n",
    "        for ID in ID_list:\n",
    "            X.append(exp_ID_score[exp1][ID])\n",
    "            Y.append(exp_ID_score[exp2][ID])\n",
    "\n",
    "        corr = scipy.stats.spearmanr(X, Y)[0]\n",
    "        #corr = scipy.stats.pearsonr(X, Y)[0]\n",
    "        print \"%d-%s-%s-%s-%d\" % exp1\n",
    "        print \"%d-%s-%s-%s-%d\" % exp2\n",
    "        print \"%1.2f\" % (corr)\n",
    "        print \n",
    "        #print (\"%s VS %s: %1.2f\" % (agent1, agent2, corr))\n",
    "            \n",
    "        fig = plt.figure()\n",
    "        plt.plot(X, Y, '.')\n",
    "        plt.annotate(\"Spearman %1.2f\" % (corr),\n",
    "                     xy=(0.2, 0.75),\n",
    "                     fontsize=12,\n",
    "                     xycoords='axes fraction')\n",
    "        #plt.title(\"%s VS %s\" % (agent, agent2))\n",
    "        plt.xlabel(\"fold change (%d-%s-%s-%s-%d)\" % exp1)\n",
    "        plt.ylabel(\"fold change (%d-%s-%s-%s-%d)\" % exp2)\n",
    "        #plt.xscale('log', base=2)\n",
    "        #plt.yscale('log', base=2)\n",
    "        #plt.show()\n",
    "        plt.close()\n",
    "\n",
    "        pair_corr[(exp1, exp2)] = corr"
   ]
  },
  {
   "cell_type": "code",
   "execution_count": 17,
   "id": "5dbdd0c1-748e-45a8-bb80-ddcfc0b440d8",
   "metadata": {
    "collapsed": false
   },
   "outputs": [],
   "source": [
    "### reorganize data and make labels\n",
    "exp_label = {}\n",
    "exp_data = {}\n",
    "for exp in exp_list:\n",
    "    rep, cell, sample, agent, tnum = exp\n",
    "    label = '%s %s %s\\nid:%d %d-rep' % (cell, sample, agent, tnum, rep)\n",
    "    exp_label[exp] = label\n",
    "    data = [exp_ID_score[exp][ID] for ID in ID_list]\n",
    "    exp_data[exp] = data\n",
    "    \n"
   ]
  },
  {
   "cell_type": "code",
   "execution_count": null,
   "id": "ccb1a03d-3669-411c-8041-7462f621f9af",
   "metadata": {
    "collapsed": false
   },
   "outputs": [],
   "source": [
    "# plot correlation matrix between experiment\n",
    "graphics.plot_corr_matrix(exp_data,\n",
    "                          exp_label,\n",
    "                          ids = exp_list,\n",
    "                          scatter_style='density',\n",
    "                          bins=100,\n",
    "                          cbar=True,\n",
    "                          save=True,\n",
    "                          title = \"Correlation betwen experiments (1 kb bin)\",\n",
    "                          note='1kb')\n"
   ]
  }
 ],
 "metadata": {
  "kernelspec": {
   "argv": [
    "python",
    "-m",
    "ipykernel_launcher",
    "-f",
    "{connection_file}"
   ],
   "display_name": "Python 2",
   "env": null,
   "interrupt_mode": "signal",
   "language": "python",
   "metadata": null,
   "name": "python2"
  },
  "language_info": {
   "codemirror_mode": {
    "name": "ipython",
    "version": 2
   },
   "file_extension": ".py",
   "mimetype": "text/x-python",
   "name": "python",
   "nbconvert_exporter": "python",
   "pygments_lexer": "ipython2",
   "version": "2.7.18"
  },
  "name": "human_deep_score_corr.ipynb"
 },
 "nbformat": 4,
 "nbformat_minor": 2
}
