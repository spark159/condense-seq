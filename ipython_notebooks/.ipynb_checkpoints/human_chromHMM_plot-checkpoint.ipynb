{
 "cells": [
  {
   "cell_type": "markdown",
   "id": "027ab086-726f-4a5d-b232-5aa96d978f35",
   "metadata": {
    "collapsed": false
   },
   "source": [
    "plot chromHMM"
   ]
  },
  {
   "cell_type": "code",
   "execution_count": 1,
   "id": "4048c6ae-9956-448a-b68d-bbf66979decf",
   "metadata": {
    "collapsed": false
   },
   "outputs": [],
   "source": [
    "# python modules\n",
    "import sys\n",
    "import copy\n",
    "import re\n",
    "import random\n",
    "import glob\n",
    "import numpy as np\n",
    "import matplotlib as mpl\n",
    "import matplotlib.pyplot as plt\n",
    "import scipy\n",
    "from scipy import stats\n"
   ]
  },
  {
   "cell_type": "code",
   "execution_count": 2,
   "id": "b29f24b4-8f56-4602-bbf3-834409779ac1",
   "metadata": {
    "collapsed": false
   },
   "outputs": [],
   "source": [
    "# custom modules\n",
    "import graphics_edit as graphics\n",
    "import load_file_edit as load_file\n",
    "import Interval_dict\n",
    "import statis_edit as statis\n"
   ]
  },
  {
   "cell_type": "code",
   "execution_count": 3,
   "id": "dc1b4874-d649-4209-8092-337698a6db63",
   "metadata": {
    "collapsed": false
   },
   "outputs": [],
   "source": [
    "# matplotlib setting\n",
    "%matplotlib inline\n",
    "mpl.rcParams[\"figure.facecolor\"] = \"white\"\n",
    "mpl.rcParams[\"axes.facecolor\"] = \"white\"\n",
    "mpl.rcParams[\"savefig.facecolor\"] = \"white\"\n"
   ]
  },
  {
   "cell_type": "code",
   "execution_count": 4,
   "id": "cd772696-e849-4505-b9ae-16cf63b17e4d",
   "metadata": {
    "collapsed": false
   },
   "outputs": [],
   "source": [
    "### parameters\n",
    "cell_org = {'H1':'human',\n",
    "            'GM':'human',\n",
    "            'mCD8T:WT':'mouse',\n",
    "            'mCD8T:DFMO':'mouse',\n",
    "            'mCD8T:ODCKO':'mouse'}\n",
    "\n",
    "cell_chrnames = {'H1':['chr%s' % (i) for i in range(1, 23)] + ['chrX', 'chrY'],\n",
    "                 'GM':['chr%s' % (i) for i in range(1, 23)] + ['chrX'],\n",
    "                 'mCD8T:WT':['chr%s' % (i) for i in range(1, 20)] + ['chrX'],\n",
    "                 'mCD8T:DFMO':['chr%s' % (i) for i in range(1, 20)] + ['chrX'],\n",
    "                 'mCD8T:ODCKO':['chr%s' % (i) for i in range(1, 20)] + ['chrX']}\n"
   ]
  },
  {
   "cell_type": "code",
   "execution_count": 5,
   "id": "283f889f-26a9-41f7-b33c-4ad13bff2483",
   "metadata": {
    "collapsed": false
   },
   "outputs": [],
   "source": [
    "agent_fullname = {'sp':'Spermine(4+)',\n",
    "                  'spd':'Spermidine(3+)',\n",
    "                  'CoH':'Cobalt Hexammine(3+)',\n",
    "                  'PEG':'PEG 8000',\n",
    "                  'HP1a':'HP1$\\\\alpha$',\n",
    "                  'HP1bSUV':'HP1$\\\\beta$+tSUV',\n",
    "                  'LKH':'Linker histone1',\n",
    "                  'Ki67':'Ki67',\n",
    "                  'FUS':'FUS',\n",
    "                  'Mg':'Magnesium',\n",
    "                  'Ca':'Calcium'}\n"
   ]
  },
  {
   "cell_type": "code",
   "execution_count": 6,
   "id": "f4cccea3-81c9-4c92-a89d-58710f7b2f01",
   "metadata": {
    "collapsed": false
   },
   "outputs": [],
   "source": [
    "## for H1\n",
    "H1_name_dict = {\"E1\":\"Polycomb repressed\",\n",
    "                \"E2\":\"Poised promoter\",\n",
    "                \"E3\":\"Weak promoter\",\n",
    "                \"E4\":\"Strong enhancer\",\n",
    "                \"E5\":\"Active promoter\",\n",
    "                \"E6\":\"Weak enhancer\",\n",
    "                \"E7\":\"Quiescence1\",\n",
    "                \"E8\":\"Quiescence2\",\n",
    "                \"E9\":\"Heterochromatin\",\n",
    "                \"E10\":\"Tx elongation\",\n",
    "                \"E11\":\"Weak Tx\",\n",
    "                \"E12\":\"Insulator\"}\n",
    "\n",
    "# state for H1\n",
    "H1_states = [\"Active promoter\", \"Weak promoter\", \"Poised promoter\", \"Strong enhancer\", \"Weak enhancer\", \"Tx elongation\", \"Weak Tx\", \"Insulator\", \"Polycomb repressed\", \"Heterochromatin\", \"Quiescence1\", \"Quiescence2\"]\n",
    "\n",
    "H1_HMM_fname = \"H1_12_segments.bed\"\n"
   ]
  },
  {
   "cell_type": "code",
   "execution_count": 7,
   "id": "c8135cec-1ec3-49f2-9c5e-8040a628e4e0",
   "metadata": {
    "collapsed": false
   },
   "outputs": [],
   "source": [
    "# for GM12878\n",
    "GM_name_dict = {\"E1\":\"Polycomb repressed\",\n",
    "                \"E2\":\"Quiescence\",\n",
    "                \"E3\":\"Heterochromatin\",\n",
    "                \"E4\":\"Weak Tx\",\n",
    "                \"E5\":\"Tx elongation\",\n",
    "                \"E6\":\"Weak enhancer\",\n",
    "                \"E7\":\"Active enhancer\",\n",
    "                \"E8\":\"Strong enhancer\",\n",
    "                \"E9\":\"Active promoter\",\n",
    "                \"E10\":\"Weak promoter\",\n",
    "                \"E11\":\"Poised promoter\",\n",
    "                \"E12\":\"Insulator\"}\n",
    "\n",
    "# state for GM\n",
    "GM_states = [\"Active promoter\", \"Weak promoter\", \"Poised promoter\", \"Strong enhancer\", \"Active enhancer\", \"Weak enhancer\", \"Tx elongation\", \"Weak Tx\", \"Insulator\", \"Polycomb repressed\", \"Heterochromatin\", \"Quiescence\"]\n",
    "\n",
    "GM_HMM_fname = \"GM12878_12_segments.bed\"\n"
   ]
  },
  {
   "cell_type": "code",
   "execution_count": 8,
   "id": "4e48968d-4f79-439f-b3d3-e8a530d9fdf6",
   "metadata": {
    "collapsed": false
   },
   "outputs": [],
   "source": [
    "# for mouse CD8 T cell\n",
    "mCD8T_name_dict = {\"E1\":\"Weak Tx\",\n",
    "                   \"E2\":\"Tx elongation\",\n",
    "                   \"E3\":\"Weak enhancer2\",\n",
    "                   \"E4\":\"Strong enhancer2\",\n",
    "                   \"E5\":\"Strong enhancer1\",\n",
    "                   \"E6\":\"Weak enhancer1\",\n",
    "                   \"E7\":\"Active promoter\",\n",
    "                   \"E8\":\"Poised promoter\",\n",
    "                   \"E9\":\"Polycomb repressed1\",\n",
    "                   \"E10\":\"Polycomb repressed2\",\n",
    "                   \"E11\":\"Quiescence\",\n",
    "                   \"E12\":\"Heterochromatin\"}\n",
    "\n",
    "# state for mouse CD8 T cell\n",
    "mCD8T_states = [\"Active promoter\", \"Poised promoter\", \"Strong enhancer1\", \"Strong enhancer2\", \"Weak enhancer1\", \"Weak enhancer2\", \"Tx elongation\", \"Weak Tx\", \"Polycomb repressed1\", \"Polycomb repressed2\", \"Heterochromatin\", \"Quiescence\"]\n",
    "\n",
    "mCD8T_HMM_fname = \"Mouse CD8 T cell (invitro activated)_12_segments.bed\"\n"
   ]
  },
  {
   "cell_type": "code",
   "execution_count": 9,
   "id": "0d0b11e6-9e89-4b84-974e-338db98eeaed",
   "metadata": {
    "collapsed": false
   },
   "outputs": [],
   "source": [
    "# data path\n",
    "#path = './data/'\n",
    "path = '/Users/sangwoopark/jhu_rockfish/2024_01_05_GEO/processed_files/'\n",
    "chromHMM_path = '/Users/sangwoopark/jhu_rockfish/chromHMM_data/'"
   ]
  },
  {
   "cell_type": "code",
   "execution_count": 10,
   "id": "cb67fe58-ba8d-425b-8802-2f1e99b28135",
   "metadata": {
    "collapsed": false
   },
   "outputs": [],
   "source": [
    "# chromHMM data set\n",
    "cell_chromHMM = {'H1':[H1_HMM_fname, H1_name_dict, H1_states],\n",
    "                 'GM':[GM_HMM_fname, GM_name_dict, GM_states],\n",
    "                 'mCD8T':[mCD8T_HMM_fname, mCD8T_name_dict, mCD8T_states]}\n"
   ]
  },
  {
   "cell_type": "code",
   "execution_count": 11,
   "id": "d20e6528-a604-4d45-aa1a-87018ee9488c",
   "metadata": {
    "collapsed": false
   },
   "outputs": [],
   "source": [
    "### set data information (fname/field) and key\n",
    "path = '/Users/sangwoopark/jhu_rockfish/2024_01_05_GEO/processed_files/'\n",
    "\n",
    "dinfo_dkey = {'H1_NCP_sp_1rep_deep_chr1_score.gtab.gz':\n",
    "              {'H1_NCP_sp_8_1rep_deep': ('H1', 'score', 8)},\n",
    "              'H1_NCP_sp_0_1rep_deep_chr1_Ncov.gtab.gz':\n",
    "              {'H1_NCP_sp_0_1rep_deep': ('H1', 'Ncov', 0)},\n",
    "              'H1_NCP_sp_8_1rep_deep_chr1_Ncov.gtab.gz':\n",
    "              {'H1_NCP_sp_8_1rep_deep': ('H1', 'Ncov', 8)},\n",
    "              }"
   ]
  },
  {
   "cell_type": "code",
   "execution_count": 12,
   "id": "6bf09328-78e6-4f61-8426-5f9692a9450d",
   "metadata": {
    "collapsed": false
   },
   "outputs": [
    {
     "name": "stdout",
     "output_type": "stream",
     "text": [
      "loading H1_NCP_sp_0_1rep_deep_chr1_Ncov.gtab.gz\n"
     ]
    },
    {
     "name": "stdout",
     "output_type": "stream",
     "text": [
      "loading H1_NCP_sp_1rep_deep_chr1_score.gtab.gz\n"
     ]
    },
    {
     "name": "stdout",
     "output_type": "stream",
     "text": [
      "loading H1_NCP_sp_1rep_deep_chr1_score.gtab.gz.gtab.gz\n"
     ]
    },
    {
     "name": "stdout",
     "output_type": "stream",
     "text": [
      "loading H1_NCP_sp_8_1rep_deep_chr1_Ncov.gtab.gz\n"
     ]
    }
   ],
   "source": [
    "### load gtab file\n",
    "dkey_chr_ID_value = {}\n",
    "for fkey in dinfo_dkey:\n",
    "    field_dkey = dinfo_dkey[fkey]\n",
    "    for fname in glob.glob(path + '*'):\n",
    "        if not re.match(fkey, fname.rsplit('/')[-1]):\n",
    "            continue\n",
    "        print \"loading %s\" % (fname.rsplit('/')[-1])\n",
    "        field_chr_ID_value = load_file.read_gtab(fname,\n",
    "                                                 mode='col',\n",
    "                                                 field_choices=field_dkey.keys(),\n",
    "                                                 by_chr=True)\n",
    "\n",
    "        for field, dkey in field_dkey.items():\n",
    "            chr_ID_value = field_chr_ID_value[field]\n",
    "\n",
    "            if dkey not in dkey_chr_ID_value:\n",
    "                dkey_chr_ID_value[dkey] = {}\n",
    "            dkey_chr_ID_value[dkey].update(chr_ID_value)"
   ]
  },
  {
   "cell_type": "code",
   "execution_count": 13,
   "id": "4ec8c2ac-5536-41e2-a52b-5c20533f4d48",
   "metadata": {
    "collapsed": false
   },
   "outputs": [],
   "source": [
    "### loading the chromHMM data\n",
    "cell_chr_state_intervals = {}\n",
    "for cell in ['H1']:\n",
    "    HMM_fname, name_dict, states = cell_chromHMM[cell]\n",
    "    chr_state_intervals = load_file.read_chromHMM(chromHMM_path + HMM_fname,\n",
    "                                                  state_name=name_dict,\n",
    "                                                  chr_choices=cell_chrnames[cell])\n",
    "    cell_chr_state_intervals[cell] = chr_state_intervals"
   ]
  },
  {
   "cell_type": "code",
   "execution_count": null,
   "id": "9288b17f-8e53-4536-bae0-3369e4dac8fd",
   "metadata": {
    "collapsed": false
   },
   "outputs": [],
   "source": [
    "### make chromHMM interval dictionary\n",
    "cell_chr_state_dict = {}\n",
    "for cell in cell_chr_state_intervals:\n",
    "    for chr in cell_chr_state_intervals[cell]:\n",
    "        state_intervals = cell_chr_state_intervals[cell][chr]\n",
    "        dID_interval = {}\n",
    "        for state in state_intervals:        \n",
    "            intervals = state_intervals[state]\n",
    "            for i in range(len(intervals)):\n",
    "                dID = state + ':' + str(i)\n",
    "                assert dID not in dID_interval\n",
    "                dID_interval[dID] = intervals[i]\n",
    "        \n",
    "        state_dict = Interval_dict.double_hash(dID_interval)\n",
    "\n",
    "        if cell not in cell_chr_state_dict:\n",
    "            cell_chr_state_dict[cell] = {}\n",
    "        cell_chr_state_dict[cell][chr] = state_dict"
   ]
  },
  {
   "cell_type": "code",
   "execution_count": null,
   "id": "59286d92-29c6-4e98-a32f-e52e964d8721",
   "metadata": {
    "collapsed": false
   },
   "outputs": [
    {
     "name": "stdout",
     "output_type": "stream",
     "text": [
      "start\n"
     ]
    },
    {
     "name": "stdout",
     "output_type": "stream",
     "text": [
      "hash fucntion is built\n"
     ]
    },
    {
     "name": "stdout",
     "output_type": "stream",
     "text": [
      "start\n"
     ]
    }
   ],
   "source": [
    "### categorize by chromHMM\n",
    "dkey_state_IDs = {}\n",
    "for dkey in dkey_chr_ID_value:\n",
    "    cell = 'H1'\n",
    "    chr_state_dict = cell_chr_state_dict[cell]\n",
    "    chr_ID_value = dkey_chr_ID_value[dkey]\n",
    "    state_IDs = {}\n",
    "    for chr in chr_ID_value:\n",
    "        ID_pos = {ID:ID[1] for ID in chr_ID_value[chr]}\n",
    "        state_IDs_temp = statis.categorize(ID_pos,\n",
    "                                           state_dict=chr_state_dict[chr])\n",
    "        for state in state_IDs_temp:\n",
    "            if state not in state_IDs:\n",
    "                state_IDs[state] = []\n",
    "            state_IDs[state] +=state_IDs_temp[state]\n",
    "    dkey_state_IDs[dkey] = state_IDs\n",
    "    "
   ]
  },
  {
   "cell_type": "code",
   "execution_count": null,
   "id": "1670938c-b197-4255-89b1-008460d1ffa5",
   "metadata": {
    "collapsed": false
   },
   "outputs": [],
   "source": [
    "### plot the chromHMM\n",
    "for dkey in dkey_state_IDs:\n",
    "    state_IDs = dkey_state_IDs[dkey]\n",
    "    chr_ID_value = dkey_chr_ID_value[dkey]\n",
    "    \n",
    "    state_values = {}\n",
    "    for state, IDs in state_IDs.items():\n",
    "        values = [chr_ID_value[ID[0]][ID] for ID in IDs]\n",
    "        if state not in state_values:\n",
    "            state_values[state] = []\n",
    "        state_values[state] += values\n",
    "\n",
    "    graphics.plot_boxplot (state_values,\n",
    "                           keys = H1_states,\n",
    "                           ylabel='Condensability (A.U.)',\n",
    "                           title='H1-hESC Chromosome1',\n",
    "                           rotation=75)\n",
    "    "
   ]
  },
  {
   "cell_type": "code",
   "execution_count": null,
   "id": "fc89301b-c662-4ac3-872a-0d8cf267b9d7",
   "metadata": {
    "collapsed": false
   },
   "outputs": [],
   "source": [
    "### statistical testing\n",
    "testings = ['ttest', 'mannwhitneyu', 'kruskal']\n",
    "dkey_testing_pair_pvalue = {}\n",
    "for dkey in dkey_state_IDs:\n",
    "    state_IDs = dkey_state_IDs[dkey]\n",
    "    chr_ID_value = dkey_chr_ID_value[dkey]\n",
    "    \n",
    "    state_values = {}\n",
    "    for state, IDs in state_IDs.items():\n",
    "        values = [chr_ID_value[ID[0]][ID] for ID in IDs]\n",
    "        if state not in state_values:\n",
    "            state_values[state] = []\n",
    "        state_values[state] += values\n",
    "\n",
    "    cell = dkey[4]\n",
    "\n",
    "    if cell == 'H1':\n",
    "        states = H1_states\n",
    "    elif cell == 'GM':\n",
    "        states = GM_states\n",
    "    elif cell == 'mCD8T':\n",
    "        states = mCD8T_states\n",
    "\n",
    "    testing_pair_pvalue = {}\n",
    "    for i in range(len(states)-1):\n",
    "        for j in range(i+1, len(states)):\n",
    "            \n",
    "            state1 = states[i]\n",
    "            state2 = states[j]\n",
    "            values1 = state_values[state1]\n",
    "            values2 = state_values[state2]\n",
    "            \n",
    "            pair = (state1, state2)\n",
    "            for testing in testings:\n",
    "                if testing == 'ttest':\n",
    "                    pvalue = stats.ttest_ind(values1, values2, equal_var=False)[1]\n",
    "                elif testing == 'mannwhitneyu':\n",
    "                    pvalue = stats.mannwhitneyu(values1, values2)[1]\n",
    "                elif testing == 'kruskal':\n",
    "                    pvalue = stats.kruskal(values1, values2)[1]\n",
    "\n",
    "                if testing not in testing_pair_pvalue:\n",
    "                    testing_pair_pvalue[testing] = {}\n",
    "                \n",
    "                assert pair not in testing_pair_pvalue[testing]\n",
    "                testing_pair_pvalue[testing][pair] = pvalue\n",
    "\n",
    "    dkey_testing_pair_pvalue[dkey] = testing_pair_pvalue"
   ]
  },
  {
   "cell_type": "code",
   "execution_count": null,
   "id": "a19e2026-8ae5-4b66-8b0c-935cf25cf22e",
   "metadata": {
    "collapsed": false
   },
   "outputs": [],
   "source": [
    "for dkey in dkey_state_IDs:\n",
    "    state_IDs = dkey_state_IDs[dkey]\n",
    "    cell = dkey[4]\n",
    "\n",
    "    if cell == 'H1':\n",
    "        states = H1_states\n",
    "    elif cell == 'GM':\n",
    "        states = GM_states\n",
    "    elif cell == 'mCD8T':\n",
    "        states = mCD8T_states\n",
    "\n",
    "    print dkey\n",
    "\n",
    "    for state in states:\n",
    "        print state, np.log10(len(state_IDs[state]))\n",
    "    "
   ]
  },
  {
   "cell_type": "code",
   "execution_count": null,
   "id": "25009e24-78de-4261-a290-5fb7574571b0",
   "metadata": {
    "collapsed": false
   },
   "outputs": [],
   "source": [
    "for dkey in dkey_list:\n",
    "    for testing in testings:\n",
    "        pair_pvalue = dkey_testing_pair_pvalue[dkey][testing]\n",
    "        cell = dkey[4]\n",
    "\n",
    "        if cell == 'H1':\n",
    "            states = H1_states\n",
    "        elif cell == 'GM':\n",
    "            states = GM_states\n",
    "        elif cell == 'mCD8T':\n",
    "            states = mCD8T_states\n",
    "\n",
    "        img = []\n",
    "        for i in range(len(states)):\n",
    "            row = []\n",
    "            for j in range(len(states)):\n",
    "                try:\n",
    "                    pair = (states[i], states[j])\n",
    "                    pvalue = pair_pvalue[pair] + 10**-10\n",
    "                    logpvalue = -np.log10(pvalue)\n",
    "                    print pair, logpvalue\n",
    "                except:\n",
    "                    logpvalue = np.nan\n",
    "                row.append(logpvalue)\n",
    "            img.append(row)\n",
    "\n",
    "        fig = plt.figure()\n",
    "        plt.imshow(img)\n",
    "        plt.colorbar()\n",
    "        plt.show()\n",
    "        plt.close()\n",
    "        "
   ]
  }
 ],
 "metadata": {
  "kernelspec": {
   "argv": [
    "python",
    "-m",
    "ipykernel_launcher",
    "-f",
    "{connection_file}"
   ],
   "display_name": "Python 2",
   "env": null,
   "interrupt_mode": "signal",
   "language": "python",
   "metadata": null,
   "name": "python2"
  },
  "name": "human_chromHMM_plot.ipynb"
 },
 "nbformat": 4,
 "nbformat_minor": 2
}
